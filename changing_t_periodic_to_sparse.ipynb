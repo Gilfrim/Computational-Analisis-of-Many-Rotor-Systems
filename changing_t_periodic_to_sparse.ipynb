{
 "cells": [
  {
   "cell_type": "code",
   "execution_count": 1,
   "id": "0fff833e",
   "metadata": {},
   "outputs": [],
   "source": [
    "import numpy as np\n",
    "import scipy.sparse as sp\n",
    "import opt_einsum as oe\n",
    "from quant_rotor.core.dense.t_amplitudes_periodic import t_periodic as tpreiodic_old\n",
    "from quant_rotor.core.dense.t_amplitudes_periodic_Test import t_periodic as tperiodic_Test\n",
    "from quant_rotor.core.dense.t_amplitudes_periodic_new import t_periodic as tpreiodic_dense_new"
   ]
  },
  {
   "cell_type": "markdown",
   "id": "f0277aea",
   "metadata": {},
   "source": [
    "# Testing the unique element step."
   ]
  },
  {
   "cell_type": "code",
   "execution_count": 2,
   "id": "1fa62d94",
   "metadata": {},
   "outputs": [],
   "source": [
    "site = 5\n",
    "state = 11\n",
    "g = 0.1"
   ]
  },
  {
   "cell_type": "code",
   "execution_count": 3,
   "id": "53553c97",
   "metadata": {},
   "outputs": [
    {
     "name": "stdout",
     "output_type": "stream",
     "text": [
      "Done.\n"
     ]
    }
   ],
   "source": [
    "one_max_s, two_max_s, energy_s, t_a_i_tensor_s, t_ab_ij_tensor_s = tpreiodic_dense_new(site, state, g, fast=True)"
   ]
  },
  {
   "cell_type": "code",
   "execution_count": 4,
   "id": "343e48cc",
   "metadata": {},
   "outputs": [],
   "source": [
    "one_max_d, two_max_d, energy_d, t_a_i_tensor_d, t_ab_ij_tensor_d = tpreiodic_old(site, state, g)"
   ]
  },
  {
   "cell_type": "code",
   "execution_count": 36,
   "id": "5fdf286e",
   "metadata": {},
   "outputs": [
    {
     "data": {
      "text/plain": [
       "array([ 0.            ,  0.            , -0.004009756177, -0.004009756177,  0.            ,  0.            ,  0.000000471072,  0.000000471072,  0.            ,  0.            ])"
      ]
     },
     "execution_count": 36,
     "metadata": {},
     "output_type": "execute_result"
    }
   ],
   "source": [
    "t_a_i_tensor_s"
   ]
  },
  {
   "cell_type": "code",
   "execution_count": 35,
   "id": "aeb731f7",
   "metadata": {},
   "outputs": [
    {
     "data": {
      "text/plain": [
       "array([[ 0.            +0.j],\n",
       "       [ 0.            +0.j],\n",
       "       [-0.004010522975+0.j],\n",
       "       [-0.004010522975+0.j],\n",
       "       [ 0.            +0.j],\n",
       "       [ 0.            +0.j],\n",
       "       [ 0.000000470726+0.j],\n",
       "       [ 0.000000470726+0.j],\n",
       "       [ 0.            +0.j],\n",
       "       [ 0.            +0.j]])"
      ]
     },
     "execution_count": 35,
     "metadata": {},
     "output_type": "execute_result"
    }
   ],
   "source": [
    "t_a_i_tensor_d[0]"
   ]
  },
  {
   "cell_type": "code",
   "execution_count": 5,
   "id": "f471aefb",
   "metadata": {},
   "outputs": [
    {
     "name": "stdout",
     "output_type": "stream",
     "text": [
      "Delta One Max: 3.1333428975060016e-10\n",
      "Delta Two Max: 1.9056113963133895e-08\n",
      "DeltaEnergy: 0.13066900501794015\n",
      "t_1: False\n",
      "Max absolute difference: 7.667985042012632e-07\n",
      "t_2: False\n",
      "Max absolute difference: 0.0002193857790231806\n"
     ]
    }
   ],
   "source": [
    "if np.array_equal(one_max_d, one_max_s):\n",
    "    print(f\"One Max: {np.array_equal(one_max_d, one_max_s)}\")\n",
    "else:\n",
    "    print(f\"Delta One Max: {np.abs(one_max_d - one_max_s)}\")\n",
    "\n",
    "if np.array_equal(two_max_d, two_max_s):\n",
    "    print(f\"Two Max: {np.array_equal(two_max_d, two_max_s)}\")\n",
    "else:\n",
    "    print(f\"Delta Two Max: {np.abs(two_max_d - two_max_s)}\")\n",
    "\n",
    "if np.array_equal(energy_d, energy_s):\n",
    "    print(f\"Energy: {np.array_equal(energy_d, energy_s)}\")\n",
    "else:\n",
    "    print(f\"DeltaEnergy: {np.abs(energy_d - energy_s)}\")\n",
    "\n",
    "print(f\"t_1: {np.allclose(t_a_i_tensor_d[0].reshape(state-1), t_a_i_tensor_s, 1e-10)}\") # \n",
    "diff = np.abs(t_a_i_tensor_s - t_a_i_tensor_d[0].reshape(state-1))\n",
    "max_diff = np.max(diff)\n",
    "print(\"Max absolute difference:\", max_diff)\n",
    "\n",
    "print(f\"t_2: {np.allclose(t_ab_ij_tensor_d[0].reshape(site, state-1, state-1), t_ab_ij_tensor_s, 1e-10)}\") #\n",
    "diff = np.abs(t_ab_ij_tensor_s - t_ab_ij_tensor_d[0].reshape(site, state-1, state-1))\n",
    "max_diff = np.max(diff)\n",
    "print(\"Max absolute difference:\", max_diff)"
   ]
  },
  {
   "cell_type": "markdown",
   "id": "083daff1",
   "metadata": {},
   "source": [
    "# Check einsums."
   ]
  },
  {
   "cell_type": "code",
   "execution_count": 6,
   "id": "580a151f",
   "metadata": {},
   "outputs": [],
   "source": [
    "p = state\n",
    "a = state - 1\n",
    "i = 1\n",
    "\n",
    "A_old = np.random.rand(a, p).astype(np.float64)\n",
    "B_old = np.random.rand(p, i).astype(np.float64)\n",
    "\n",
    "B_new = B_old.reshape(p).astype(np.float64)\n",
    "BB = (oe.contract(\"q,s->qs\", B_new, B_new).reshape(p**2)).astype(np.float64)\n",
    "AA =(oe.contract(\"ap,bq->abpq\", A_old, A_old).reshape(a**2, p**2)).astype(np.float64)"
   ]
  },
  {
   "cell_type": "code",
   "execution_count": 7,
   "id": "25a893a1",
   "metadata": {},
   "outputs": [],
   "source": [
    "A_old_sp = sp.csr_matrix(A_old)\n",
    "\n",
    "B_new_sp = sp.csr_matrix(B_new.astype(np.float64))\n",
    "BB_sp = sp.csr_matrix(BB)\n",
    "AA_sp = sp.csr_matrix(AA)"
   ]
  },
  {
   "cell_type": "markdown",
   "id": "7a6d5f46",
   "metadata": {},
   "source": [
    "## Residual single."
   ]
  },
  {
   "cell_type": "markdown",
   "id": "82964133",
   "metadata": {},
   "source": [
    "Term 1."
   ]
  },
  {
   "cell_type": "code",
   "execution_count": 8,
   "id": "950e3451",
   "metadata": {},
   "outputs": [],
   "source": [
    "R_new = np.zeros((a), dtype=np.float64)\n",
    "R_old = np.zeros((a, i), dtype=np.float64)\n",
    "R_new_dot = np.zeros((a), dtype=np.float64)\n",
    "R_new_dot_sp = sp.csr_matrix(np.zeros((a, i), dtype=np.float64))\n",
    "\n",
    "H_pq_old = H_pq_new = np.random.rand(p, p).astype(np.longdouble)\n",
    "H_pq_old_sp = sp.csr_matrix(H_pq_old)"
   ]
  },
  {
   "cell_type": "code",
   "execution_count": 9,
   "id": "e195f9a6",
   "metadata": {},
   "outputs": [
    {
     "name": "stdout",
     "output_type": "stream",
     "text": [
      "New Einsum:\n",
      "Equal: True\n",
      "Max absolute difference: 0.0 \n",
      "\n",
      "Dot:\n",
      "Equal: True\n",
      "Max absolute difference: 0.0 \n",
      "\n",
      "Dot Sparse:\n",
      "Equal: True\n",
      "Max absolute difference: 0.0\n"
     ]
    }
   ],
   "source": [
    "R_new += oe.contract(\"ap,pq,q->a\", A_old, H_pq_new, B_new)\n",
    "R_old += oe.contract(\"ap,pq,qi->ai\", A_old, H_pq_old, B_old)\n",
    "R_new_dot += A_old @ (H_pq_old @ B_new)\n",
    "R_new_dot_sp += (A_old_sp @ (H_pq_old_sp @ B_new_sp.T)).toarray()\n",
    "\n",
    "print(\"New Einsum:\")\n",
    "print(\"Equal:\", np.allclose(R_new, R_old.reshape(a)))\n",
    "\n",
    "diff = np.abs(R_new - R_old.reshape(a))\n",
    "max_diff = np.max(diff)\n",
    "print(\"Max absolute difference:\", max_diff, \"\\n\")\n",
    "\n",
    "print(\"Dot:\")\n",
    "print(\"Equal:\", np.allclose(R_new_dot, R_old.reshape(a)))\n",
    "\n",
    "diff = np.abs(R_new_dot - R_old.reshape(a))\n",
    "max_diff = np.max(diff)\n",
    "print(\"Max absolute difference:\", max_diff, \"\\n\")\n",
    "\n",
    "print(\"Dot Sparse:\")\n",
    "print(\"Equal:\", np.allclose(R_new_dot_sp, R_old))\n",
    "\n",
    "diff1 = np.abs(R_new_dot_sp - R_old)\n",
    "max_diff = np.max(diff1)\n",
    "print(\"Max absolute difference:\", max_diff)"
   ]
  },
  {
   "cell_type": "markdown",
   "id": "abb7118f",
   "metadata": {},
   "source": [
    "Term 2."
   ]
  },
  {
   "cell_type": "code",
   "execution_count": 10,
   "id": "14b44049",
   "metadata": {},
   "outputs": [],
   "source": [
    "R_new = np.zeros((a), dtype=np.float64)\n",
    "R_old = np.zeros((a, i), dtype=np.float64)\n",
    "R_new_dot = np.zeros((a), dtype=np.float64)\n",
    "R_new_dot_sp = sp.csr_matrix(np.zeros((a, i), dtype=np.float64))\n",
    "\n",
    "T_cd_old = np.random.rand(a, a, i, i).astype(np.longdouble)\n",
    "T_cd_new = T_cd_old.reshape(a**2)\n",
    "T_cd_new_sp = sp.csr_matrix(T_cd_new)\n",
    "\n",
    "V_cd_old = np.random.rand(p, i, a, a).astype(np.longdouble)\n",
    "V_cd_new = V_cd_old.reshape(p, a**2)\n",
    "V_cd_new_sp = sp.csr_matrix(V_cd_new)"
   ]
  },
  {
   "cell_type": "code",
   "execution_count": 11,
   "id": "42533c01",
   "metadata": {},
   "outputs": [
    {
     "name": "stdout",
     "output_type": "stream",
     "text": [
      "New Einsum:\n",
      "Equal: True\n",
      "Max absolute difference: 0.0 \n",
      "\n",
      "Dot:\n",
      "Equal: True\n",
      "Max absolute difference: 0.0 \n",
      "\n",
      "Dot Sparse:\n",
      "Equal: True\n",
      "Max absolute difference: 0.0\n"
     ]
    }
   ],
   "source": [
    "R_old += oe.contract(\"ap,plcd,cdil->ai\", A_old, V_cd_old, T_cd_old)\n",
    "R_new += oe.contract(\"ap,pC,C->a\", A_old, V_cd_new, T_cd_new)\n",
    "R_new_dot += A_old @ (V_cd_new @ T_cd_new)\n",
    "R_new_dot_sp += (A_old_sp @ (V_cd_new_sp @ T_cd_new_sp.T)).toarray()\n",
    "\n",
    "print(\"New Einsum:\")\n",
    "print(\"Equal:\", np.allclose(R_new, R_old.reshape(a)))\n",
    "\n",
    "diff = np.abs(R_new - R_old.reshape(a))\n",
    "max_diff = np.max(diff)\n",
    "print(\"Max absolute difference:\", max_diff, \"\\n\")\n",
    "\n",
    "print(\"Dot:\")\n",
    "print(\"Equal:\", np.allclose(R_new_dot, R_old.reshape(a)))\n",
    "\n",
    "diff = np.abs(R_new_dot - R_old.reshape(a))\n",
    "max_diff = np.max(diff)\n",
    "print(\"Max absolute difference:\", max_diff, \"\\n\")\n",
    "\n",
    "print(\"Dot Sparse:\")\n",
    "print(\"Equal:\", np.allclose(R_new_dot_sp, R_old))\n",
    "\n",
    "diff1 = np.abs(R_new_dot_sp - R_old)\n",
    "max_diff = np.max(diff1)\n",
    "print(\"Max absolute difference:\", max_diff)"
   ]
  },
  {
   "cell_type": "markdown",
   "id": "eeac9605",
   "metadata": {},
   "source": [
    "Term 3."
   ]
  },
  {
   "cell_type": "code",
   "execution_count": 12,
   "id": "148154ec",
   "metadata": {},
   "outputs": [],
   "source": [
    "R_new = np.zeros((a), dtype=np.float64)\n",
    "R_old = np.zeros((a, i), dtype=np.float64)\n",
    "R_new_dot = np.zeros((a), dtype=np.float64)\n",
    "R_new_dot_sp = sp.csr_matrix(np.zeros((a, i), dtype=np.float64))\n",
    "\n",
    "V_qq_old = np.random.rand(p, i, p, p)\n",
    "V_qq_new = V_qq_old.reshape(p, p**2)\n",
    "V_qq_new_sp = sp.csr_matrix(V_qq_new)"
   ]
  },
  {
   "cell_type": "code",
   "execution_count": 13,
   "id": "a6ac66d0",
   "metadata": {},
   "outputs": [
    {
     "name": "stdout",
     "output_type": "stream",
     "text": [
      "New Einsum:\n",
      "Equal: True\n",
      "Max absolute difference: 1.4210854715202004e-14 \n",
      "\n",
      "Dot:\n",
      "Equal: True\n",
      "Max absolute difference: 1.4210854715202004e-14 \n",
      "\n",
      "Dot Sparse:\n",
      "Equal: True\n",
      "Max absolute difference: 4.263256414560601e-14\n"
     ]
    }
   ],
   "source": [
    "R_old += oe.contract(\"ap,plqs,qi,sl->ai\", A_old, V_qq_old, B_old, B_old)\n",
    "R_new += oe.contract(\"ap,pQ,Q->a\", A_old, V_qq_new, BB)\n",
    "R_new_dot += A_old @ (V_qq_new @ BB)\n",
    "R_new_dot_sp += (A_old_sp @ (V_qq_new_sp @ BB_sp.T)).toarray()\n",
    "\n",
    "print(\"New Einsum:\")\n",
    "print(\"Equal:\", np.allclose(R_new, R_old.reshape(a)))\n",
    "\n",
    "diff = np.abs(R_new - R_old.reshape(a))\n",
    "max_diff = np.max(diff)\n",
    "print(\"Max absolute difference:\", max_diff, \"\\n\")\n",
    "\n",
    "print(\"Dot:\")\n",
    "print(\"Equal:\", np.allclose(R_new_dot, R_old.reshape(a)))\n",
    "\n",
    "diff = np.abs(R_new_dot - R_old.reshape(a))\n",
    "max_diff = np.max(diff)\n",
    "print(\"Max absolute difference:\", max_diff, \"\\n\")\n",
    "\n",
    "print(\"Dot Sparse:\")\n",
    "print(\"Equal:\", np.allclose(R_new_dot_sp, R_old))\n",
    "\n",
    "diff1 = np.abs(R_new_dot_sp - R_old)\n",
    "max_diff = np.max(diff1)\n",
    "print(\"Max absolute difference:\", max_diff)"
   ]
  },
  {
   "cell_type": "markdown",
   "id": "a6148679",
   "metadata": {},
   "source": [
    "## Residual doulbe sym."
   ]
  },
  {
   "cell_type": "markdown",
   "id": "77cfd159",
   "metadata": {},
   "source": [
    "Term 1."
   ]
  },
  {
   "cell_type": "code",
   "execution_count": 14,
   "id": "6dea54cc",
   "metadata": {},
   "outputs": [],
   "source": [
    "R_new = np.zeros((a, a), dtype=np.float64)\n",
    "R_old = np.zeros((a, a, i, i), dtype=np.float64)\n",
    "R_new_dot = np.zeros((a, a), dtype=np.float64)\n",
    "R_new_dot_sp = sp.csr_matrix(np.zeros((a, a), dtype=np.float64))\n",
    "\n",
    "V_pqrs_old = np.random.rand(p, p, p, p).astype(np.float64)\n",
    "V_pqrs_new = V_pqrs_old.reshape(p**2, p**2)\n",
    "V_pqrs_new_sp = sp.csr_matrix(V_pqrs_new)"
   ]
  },
  {
   "cell_type": "code",
   "execution_count": 15,
   "id": "f4953e86",
   "metadata": {},
   "outputs": [
    {
     "name": "stdout",
     "output_type": "stream",
     "text": [
      "New Einsum:\n",
      "Equal: True\n",
      "Max absolute difference: 1.7053025658242404e-13 \n",
      "\n",
      "Dot:\n",
      "Equal: True\n",
      "Max absolute difference: 1.7053025658242404e-13 \n",
      "\n",
      "Dot Sparse:\n",
      "Equal: True\n",
      "Max absolute difference: 3.410605131648481e-13\n"
     ]
    }
   ],
   "source": [
    "R_old += oe.contract(\"ap,bq,pqrs,ri,sj->abij\", A_old, A_old, V_pqrs_old, B_old, B_old)\n",
    "R_new += oe.contract(\"BQ,QR,R->B\", AA, V_pqrs_new, BB).reshape(a, a)\n",
    "R_new_dot += (AA @ (V_pqrs_new @ BB)).reshape(a, a)\n",
    "R_new_dot_sp += ((AA_sp @ (V_pqrs_new_sp @ BB_sp.T)).reshape(a, a)).toarray()\n",
    "\n",
    "print(\"New Einsum:\")\n",
    "print(\"Equal:\", np.allclose(R_new, R_old.reshape(a, a)))\n",
    "\n",
    "diff = np.abs(R_new - R_old.reshape(a ,a))\n",
    "max_diff = np.max(diff)\n",
    "print(\"Max absolute difference:\", max_diff, \"\\n\")\n",
    "\n",
    "print(\"Dot:\")\n",
    "print(\"Equal:\", np.allclose(R_new_dot, R_old.reshape(a, a)))\n",
    "\n",
    "diff = np.abs(R_new_dot - R_old.reshape(a, a))\n",
    "max_diff = np.max(diff)\n",
    "print(\"Max absolute difference:\", max_diff, \"\\n\")\n",
    "\n",
    "print(\"Dot Sparse:\")\n",
    "print(\"Equal:\", np.allclose(R_new_dot_sp, R_old.reshape(a, a)))\n",
    "\n",
    "diff1 = np.abs(R_new_dot_sp - R_old.reshape(a, a))\n",
    "max_diff = np.max(diff1)\n",
    "print(\"Max absolute difference:\", max_diff)"
   ]
  },
  {
   "cell_type": "markdown",
   "id": "39336b10",
   "metadata": {},
   "source": [
    "Term 2."
   ]
  },
  {
   "cell_type": "code",
   "execution_count": 16,
   "id": "a8317663",
   "metadata": {},
   "outputs": [],
   "source": [
    "R_new = np.zeros((a, a), dtype=np.float64)\n",
    "R_old = np.zeros((a, a, i, i), dtype=np.float64)\n",
    "R_new_dot = np.zeros((a, a), dtype=np.float64)\n",
    "R_new_dot_sp = sp.csr_matrix(np.zeros((a, a), dtype=np.float64))\n",
    "\n",
    "T_0y_old = np.random.rand(a, a, i, i).astype(np.float64)\n",
    "T_0y_new = T_0y_old.reshape(a**2)\n",
    "T_0y_new_sp = sp.csr_matrix(T_0y_new)\n",
    "\n",
    "V_pqcd_old = np.random.rand(p, p, a, a).astype(np.float64)\n",
    "V_pqcd_new = V_pqcd_old.reshape(p**2, a**2)\n",
    "V_pqcd_new_sp = sp.csr_matrix(V_pqcd_new)"
   ]
  },
  {
   "cell_type": "code",
   "execution_count": 17,
   "id": "0b663c79",
   "metadata": {},
   "outputs": [
    {
     "name": "stdout",
     "output_type": "stream",
     "text": [
      "New Einsum:\n",
      "Equal: True\n",
      "Max absolute difference: 3.410605131648481e-13 \n",
      "\n",
      "Dot:\n",
      "Equal: True\n",
      "Max absolute difference: 3.410605131648481e-13 \n",
      "\n",
      "Dot Sparse:\n",
      "Equal: True\n",
      "Max absolute difference: 1.0231815394945443e-12\n"
     ]
    }
   ],
   "source": [
    "R_old += oe.contract(\"ap,bq,pqcd,cdij->abij\", A_old, A_old, V_pqcd_old, T_0y_old)\n",
    "R_new += oe.contract(\"BQ,QC,C->B\", AA, V_pqcd_new, T_0y_new).reshape(a, a)\n",
    "R_new_dot += (AA @ (V_pqcd_new @ T_0y_new)).reshape(a, a)\n",
    "R_new_dot_sp += (AA_sp @ (V_pqcd_new_sp @ T_0y_new_sp.T)).reshape(a, a).toarray()\n",
    "\n",
    "print(\"New Einsum:\")\n",
    "print(\"Equal:\", np.allclose(R_new, R_old.reshape(a, a)))\n",
    "\n",
    "diff = np.abs(R_new - R_old.reshape(a ,a))\n",
    "max_diff = np.max(diff)\n",
    "print(\"Max absolute difference:\", max_diff, \"\\n\")\n",
    "\n",
    "print(\"Dot:\")\n",
    "print(\"Equal:\", np.allclose(R_new_dot, R_old.reshape(a, a)))\n",
    "\n",
    "diff = np.abs(R_new_dot - R_old.reshape(a, a))\n",
    "max_diff = np.max(diff)\n",
    "print(\"Max absolute difference:\", max_diff, \"\\n\")\n",
    "\n",
    "print(\"Dot Sparse:\")\n",
    "print(\"Equal:\", np.allclose(R_new_dot_sp, R_old.reshape(a, a)))\n",
    "\n",
    "diff1 = np.abs(R_new_dot_sp - R_old.reshape(a, a))\n",
    "max_diff = np.max(diff1)\n",
    "print(\"Max absolute difference:\", max_diff)"
   ]
  },
  {
   "cell_type": "markdown",
   "id": "8bf70834",
   "metadata": {},
   "source": [
    "Term 3."
   ]
  },
  {
   "cell_type": "code",
   "execution_count": 18,
   "id": "bcf90118",
   "metadata": {},
   "outputs": [],
   "source": [
    "R_new = np.zeros((a, a), dtype=np.float64)\n",
    "R_old = np.zeros((a, a, i, i), dtype=np.float64)\n",
    "R_new_dot = np.zeros((a, a), dtype=np.float64)\n",
    "R_new_dot_sp = sp.csr_matrix(np.zeros((a, a), dtype=np.float64))\n",
    "\n",
    "V_klpq_old = np.random.rand(i, i, p, p)\n",
    "V_klpq_new = V_klpq_old.reshape(p, p)\n",
    "V_klpq_new_sp = sp.csr_matrix(V_klpq_new)\n",
    "\n",
    "T_0y_new_3 = T_0y_old.reshape(a, a)\n",
    "T_0y_new_3_sp = sp.csr_matrix(T_0y_new_3)"
   ]
  },
  {
   "cell_type": "code",
   "execution_count": 19,
   "id": "f8b481f9",
   "metadata": {},
   "outputs": [
    {
     "name": "stdout",
     "output_type": "stream",
     "text": [
      "New Einsum:\n",
      "Equal: True\n",
      "Max absolute difference: 0.0 \n",
      "\n",
      "Dot:\n",
      "Equal: True\n",
      "Max absolute difference: 0.0 \n",
      "\n",
      "Dot Sparse:\n",
      "Equal: True\n",
      "Max absolute difference: 1.7763568394002505e-15\n"
     ]
    }
   ],
   "source": [
    "R_old -= oe.contract(\"abkl,klpq,pi,qj->abij\", T_0y_old, V_klpq_old, B_old, B_old)\n",
    "R_new -= oe.contract(\"ab,pq,p,q->ab\", T_0y_new_3, V_klpq_new, B_new, B_new)\n",
    "R_new_dot -= T_0y_new_3 * ((V_klpq_new @ B_new) @ B_new)\n",
    "R_new_dot_sp -= (T_0y_new_3_sp * ((V_klpq_new_sp @ B_new_sp.T).T @ B_new_sp.T)[0 ,0]).toarray()\n",
    "\n",
    "print(\"New Einsum:\")\n",
    "print(\"Equal:\", np.allclose(R_new, R_old.reshape(a, a)))\n",
    "\n",
    "diff = np.abs(R_new - R_old.reshape(a ,a))\n",
    "max_diff = np.max(diff)\n",
    "print(\"Max absolute difference:\", max_diff, \"\\n\")\n",
    "\n",
    "print(\"Dot:\")\n",
    "print(\"Equal:\", np.allclose(R_new_dot, R_old.reshape(a, a)))\n",
    "\n",
    "diff = np.abs(R_new_dot - R_old.reshape(a, a))\n",
    "max_diff = np.max(diff)\n",
    "print(\"Max absolute difference:\", max_diff, \"\\n\")\n",
    "\n",
    "print(\"Dot Sparse:\")\n",
    "print(\"Equal:\", np.allclose(R_new_dot_sp, R_old.reshape(a, a)))\n",
    "\n",
    "diff1 = np.abs(R_new_dot_sp - R_old.reshape(a, a))\n",
    "max_diff = np.max(diff1)\n",
    "print(\"Max absolute difference:\", max_diff)"
   ]
  },
  {
   "cell_type": "markdown",
   "id": "fad789ef",
   "metadata": {},
   "source": [
    "Term 4."
   ]
  },
  {
   "cell_type": "code",
   "execution_count": 20,
   "id": "6bdcbb92",
   "metadata": {},
   "outputs": [],
   "source": [
    "R_new = np.zeros((a, a), dtype=np.float64)\n",
    "R_old = np.zeros((a, a, i, i), dtype=np.float64)\n",
    "R_new_dot = np.zeros((a, a), dtype=np.float64)\n",
    "R_new_dot_sp = sp.csr_matrix(np.zeros((a, a), dtype=np.float64))\n",
    "\n",
    "T_0y_new_3 = T_0y_old.reshape(a, a)\n",
    "T_0y_new_3_sp = sp.csr_matrix(T_0y_new_3)\n",
    "\n",
    "V_klcd_old = np.random.rand(i, i, a, a)\n",
    "V_klcd_new = V_klcd_old.reshape(a, a)\n",
    "V_klcd_new_sp = sp.csr_matrix(V_klcd_new)"
   ]
  },
  {
   "cell_type": "code",
   "execution_count": 21,
   "id": "bc1da7fe",
   "metadata": {},
   "outputs": [
    {
     "name": "stdout",
     "output_type": "stream",
     "text": [
      "New Einsum:\n",
      "Equal: True\n",
      "Max absolute difference: 0.0 \n",
      "\n",
      "Dot:\n",
      "Equal: True\n",
      "Max absolute difference: 3.552713678800501e-15 \n",
      "\n",
      "Dot Sparse:\n",
      "Equal: True\n",
      "Max absolute difference: 0.0\n"
     ]
    }
   ],
   "source": [
    "R_old -= oe.contract(\"abkl,klcd,cdij->abij\", T_0y_old, V_klcd_old, T_0y_old)\n",
    "R_new -= oe.contract(\"ab,cd,cd->ab\", T_0y_new_3, V_klcd_new, T_0y_new_3)\n",
    "R_new_dot -= T_0y_new_3 * np.sum(V_klcd_new * T_0y_new_3)\n",
    "R_new_dot_sp -= (T_0y_new_3_sp * np.sum(V_klcd_new_sp.multiply(T_0y_new_3_sp))).toarray()\n",
    "\n",
    "print(\"New Einsum:\")\n",
    "print(\"Equal:\", np.allclose(R_new, R_old.reshape(a, a)))\n",
    "\n",
    "diff = np.abs(R_new - R_old.reshape(a ,a))\n",
    "max_diff = np.max(diff)\n",
    "print(\"Max absolute difference:\", max_diff, \"\\n\")\n",
    "\n",
    "print(\"Dot:\")\n",
    "print(\"Equal:\", np.allclose(R_new_dot, R_old.reshape(a, a)))\n",
    "\n",
    "diff = np.abs(R_new_dot - R_old.reshape(a, a))\n",
    "max_diff = np.max(diff)\n",
    "print(\"Max absolute difference:\", max_diff, \"\\n\")\n",
    "\n",
    "print(\"Dot Sparse:\")\n",
    "print(\"Equal:\", np.allclose(R_new_dot_sp, R_old.reshape(a, a)))\n",
    "\n",
    "diff1 = np.abs(R_new_dot_sp - R_old.reshape(a, a))\n",
    "max_diff = np.max(diff1)\n",
    "print(\"Max absolute difference:\", max_diff)"
   ]
  },
  {
   "cell_type": "markdown",
   "id": "84cea25a",
   "metadata": {},
   "source": [
    "Term 5."
   ]
  },
  {
   "cell_type": "code",
   "execution_count": 22,
   "id": "f4420e22",
   "metadata": {},
   "outputs": [],
   "source": [
    "R_new = np.zeros((a, a), dtype=np.float64)\n",
    "R_old = np.zeros((a, a, i, i), dtype=np.float64)\n",
    "R_new_dot = np.zeros((a, a), dtype=np.float64)\n",
    "R_new_dot_sp = sp.csr_matrix(np.zeros((a, a), dtype=np.float64))\n",
    "\n",
    "V_klcd_old = np.random.rand(i, i, a, a)\n",
    "V_klcd_new = V_klcd_old.reshape(a, a)\n",
    "V_klcd_new_sp = sp.csr_matrix(V_klcd_new)\n",
    "\n",
    "T_0z_old = np.random.rand(a, a, i, i)\n",
    "T_0z_new = T_0z_old.reshape(a, a)\n",
    "T_0z_new_sp = sp.csr_matrix(T_0z_new)\n",
    "\n",
    "T_yw_old = np.random.rand(a, a, i, i)\n",
    "T_yw_new = T_yw_old.reshape(a, a)\n",
    "T_yw_new_sp = sp.csr_matrix(T_yw_new)"
   ]
  },
  {
   "cell_type": "code",
   "execution_count": 23,
   "id": "62fcfc66",
   "metadata": {},
   "outputs": [
    {
     "name": "stdout",
     "output_type": "stream",
     "text": [
      "New Einsum:\n",
      "Equal: True\n",
      "Max absolute difference: 0.0 \n",
      "\n",
      "Dot:\n",
      "Equal: True\n",
      "Max absolute difference: 0.0 \n",
      "\n",
      "Dot Sparse:\n",
      "Equal: True\n",
      "Max absolute difference: 3.552713678800501e-15\n"
     ]
    }
   ],
   "source": [
    "R_old += oe.contract(\"klcd,acik,bdjl->abij\", V_klcd_old, T_0z_old, T_yw_old)\n",
    "R_new += oe.contract(\"cd,ac,bd->ab\", V_klcd_new, T_0z_new, T_yw_new)\n",
    "R_new_dot += T_0z_new @ V_klcd_new @ T_yw_new.T\n",
    "R_new_dot_sp += (T_0z_new_sp @ V_klcd_new_sp @ T_yw_new_sp.T).toarray()\n",
    "\n",
    "print(\"New Einsum:\")\n",
    "print(\"Equal:\", np.allclose(R_new, R_old.reshape(a, a)))\n",
    "\n",
    "diff = np.abs(R_new - R_old.reshape(a ,a))\n",
    "max_diff = np.max(diff)\n",
    "print(\"Max absolute difference:\", max_diff, \"\\n\")\n",
    "\n",
    "print(\"Dot:\")\n",
    "print(\"Equal:\", np.allclose(R_new_dot, R_old.reshape(a, a)))\n",
    "\n",
    "diff = np.abs(R_new_dot - R_old.reshape(a, a))\n",
    "max_diff = np.max(diff)\n",
    "print(\"Max absolute difference:\", max_diff, \"\\n\")\n",
    "\n",
    "print(\"Dot Sparse:\")\n",
    "print(\"Equal:\", np.allclose(R_new_dot_sp, R_old.reshape(a, a)))\n",
    "\n",
    "diff1 = np.abs(R_new_dot_sp - R_old.reshape(a, a))\n",
    "max_diff = np.max(diff1)\n",
    "print(\"Max absolute difference:\", max_diff)"
   ]
  },
  {
   "cell_type": "markdown",
   "id": "9c4de467",
   "metadata": {},
   "source": [
    "## Residual double sym 1."
   ]
  },
  {
   "cell_type": "markdown",
   "id": "7704d6a9",
   "metadata": {},
   "source": [
    "Term 1."
   ]
  },
  {
   "cell_type": "code",
   "execution_count": 24,
   "id": "474d2b66",
   "metadata": {},
   "outputs": [],
   "source": [
    "R_new = np.zeros((a, a), dtype=np.float64)\n",
    "R_old = np.zeros((a, a, i, i), dtype=np.float64)\n",
    "R_new_dot = np.zeros((a, a), dtype=np.float64)\n",
    "R_new_dot_sp = sp.csr_matrix(np.zeros((a, a), dtype=np.float64))\n",
    "\n",
    "h_pa = np.random.rand(p, a)\n",
    "h_pa_new = h_pa\n",
    "h_pa_new_sp = sp.csr_matrix(h_pa)\n",
    "\n",
    "T_xy_old = np.random.rand(a, a, i, i)\n",
    "T_xy_new = T_xy_old.reshape(a, a)\n",
    "T_xy_new_sp = sp.csr_matrix(T_xy_new)"
   ]
  },
  {
   "cell_type": "code",
   "execution_count": 25,
   "id": "0b91ba84",
   "metadata": {},
   "outputs": [
    {
     "name": "stdout",
     "output_type": "stream",
     "text": [
      "New Einsum:\n",
      "Equal: True\n",
      "Max absolute difference: 0.0 \n",
      "\n",
      "Dot:\n",
      "Equal: True\n",
      "Max absolute difference: 3.552713678800501e-15 \n",
      "\n",
      "Dot Sparse:\n",
      "Equal: True\n",
      "Max absolute difference: 3.552713678800501e-15\n"
     ]
    }
   ],
   "source": [
    "R_old += oe.contract(\"ap,pc,cbij->abij\", A_old, h_pa, T_xy_old)\n",
    "R_new += oe.contract(\"ap,pc,cb->ab\", A_old, h_pa, T_xy_new)\n",
    "R_new_dot += A_old @ h_pa_new @ T_xy_new\n",
    "R_new_dot_sp += (A_old_sp @ h_pa_new_sp @ T_xy_new_sp).toarray()\n",
    "\n",
    "print(\"New Einsum:\")\n",
    "print(\"Equal:\", np.allclose(R_new, R_old.reshape(a, a)))\n",
    "\n",
    "diff = np.abs(R_new - R_old.reshape(a ,a))\n",
    "max_diff = np.max(diff)\n",
    "print(\"Max absolute difference:\", max_diff, \"\\n\")\n",
    "\n",
    "print(\"Dot:\")\n",
    "print(\"Equal:\", np.allclose(R_new_dot, R_old.reshape(a, a)))\n",
    "\n",
    "diff = np.abs(R_new_dot - R_old.reshape(a, a))\n",
    "max_diff = np.max(diff)\n",
    "print(\"Max absolute difference:\", max_diff, \"\\n\")\n",
    "\n",
    "print(\"Dot Sparse:\")\n",
    "print(\"Equal:\", np.allclose(R_new_dot_sp, R_old.reshape(a, a)))\n",
    "\n",
    "diff1 = np.abs(R_new_dot_sp - R_old.reshape(a, a))\n",
    "max_diff = np.max(diff1)\n",
    "print(\"Max absolute difference:\", max_diff)"
   ]
  },
  {
   "cell_type": "markdown",
   "id": "64d7b5e9",
   "metadata": {},
   "source": [
    "Term 2."
   ]
  },
  {
   "cell_type": "code",
   "execution_count": 26,
   "id": "5cdefa34",
   "metadata": {},
   "outputs": [],
   "source": [
    "R_new = np.zeros((a, a), dtype=np.float64)\n",
    "R_old = np.zeros((a, a, i, i), dtype=np.float64)\n",
    "R_new_dot = np.zeros((a, a), dtype=np.float64)\n",
    "R_new_dot_sp = sp.csr_matrix(np.zeros((a, a), dtype=np.float64))\n",
    "\n",
    "h_ip_old = np.random.rand(i, p)\n",
    "h_ip_new = h_ip_old.reshape(p)\n",
    "h_ip_new_sp = sp.csr_matrix(h_ip_new)\n",
    "\n",
    "T_xy_old = np.random.rand(a, a, i, i)\n",
    "T_xy_new = T_xy_old.reshape(a, a)\n",
    "T_xy_new_sp = sp.csr_matrix(T_xy_new)"
   ]
  },
  {
   "cell_type": "code",
   "execution_count": 27,
   "id": "ff614b82",
   "metadata": {},
   "outputs": [
    {
     "name": "stdout",
     "output_type": "stream",
     "text": [
      "New Einsum:\n",
      "Equal: True\n",
      "Max absolute difference: 0.0 \n",
      "\n",
      "Dot:\n",
      "Equal: True\n",
      "Max absolute difference: 0.0 \n",
      "\n",
      "Dot Sparse:\n",
      "Equal: True\n",
      "Max absolute difference: 0.0\n"
     ]
    }
   ],
   "source": [
    "R_old -= oe.contract(\"abkj,kp,pi->abij\", T_xy_old, h_ip_old, B_old)\n",
    "R_new -= oe.contract(\"ab,p,p->ab\", T_xy_new, h_ip_new, B_new)\n",
    "R_new_dot -= T_xy_new * (h_ip_new @ B_new)\n",
    "R_new_dot_sp -= (T_xy_new_sp * (h_ip_new_sp @ B_new_sp.T)[0,0]).toarray()\n",
    "\n",
    "print(\"New Einsum:\")\n",
    "print(\"Equal:\", np.allclose(R_new, R_old.reshape(a, a)))\n",
    "\n",
    "diff = np.abs(R_new - R_old.reshape(a ,a))\n",
    "max_diff = np.max(diff)\n",
    "print(\"Max absolute difference:\", max_diff, \"\\n\")\n",
    "\n",
    "print(\"Dot:\")\n",
    "print(\"Equal:\", np.allclose(R_new_dot, R_old.reshape(a, a)))\n",
    "\n",
    "diff = np.abs(R_new_dot - R_old.reshape(a, a))\n",
    "max_diff = np.max(diff)\n",
    "print(\"Max absolute difference:\", max_diff, \"\\n\")\n",
    "\n",
    "print(\"Dot Sparse:\")\n",
    "print(\"Equal:\", np.allclose(R_new_dot_sp, R_old.reshape(a, a)))\n",
    "\n",
    "diff1 = np.abs(R_new_dot_sp - R_old.reshape(a, a))\n",
    "max_diff = np.max(diff1)\n",
    "print(\"Max absolute difference:\", max_diff)"
   ]
  },
  {
   "cell_type": "markdown",
   "id": "226737da",
   "metadata": {},
   "source": [
    "Term 3."
   ]
  },
  {
   "cell_type": "code",
   "execution_count": 28,
   "id": "90cc31ad",
   "metadata": {},
   "outputs": [],
   "source": [
    "R_new = np.zeros((a, a), dtype=np.float64)\n",
    "R_old = np.zeros((a, a, i, i), dtype=np.float64)\n",
    "R_new_dot = np.zeros((a, a), dtype=np.float64)\n",
    "R_new_dot_sp = sp.csr_matrix(np.zeros((a, a), dtype=np.float64))\n",
    "\n",
    "T_xz_old = np.random.rand(a, a, i, i).astype(np.float64)\n",
    "T_xz_new = T_xz_old.reshape(a, a)\n",
    "T_xz_new_sp = sp.csr_matrix(T_xz_new)\n",
    "\n",
    "V_ipap_old = np.random.rand(i, p, a, p).astype(np.float64)\n",
    "V_ipap_new = V_ipap_old.reshape(p, a, p)\n",
    "V_ipap_new_sp = sp.csr_matrix(V_ipap_new.reshape(p*a, p))"
   ]
  },
  {
   "cell_type": "code",
   "execution_count": 29,
   "id": "b82a944c",
   "metadata": {},
   "outputs": [
    {
     "name": "stdout",
     "output_type": "stream",
     "text": [
      "New Einsum:\n",
      "Equal: True\n",
      "Max absolute difference: 0.0 \n",
      "\n",
      "Dot:\n",
      "Equal: True\n",
      "Max absolute difference: 1.4210854715202004e-14 \n",
      "\n",
      "Dot Sparse:\n",
      "Equal: True\n",
      "Max absolute difference: 1.4210854715202004e-14\n"
     ]
    }
   ],
   "source": [
    "R_old += oe.contract(\"acik,krcs,br,sj->abij\", T_xz_old, V_ipap_old, A_old, B_old)\n",
    "R_new += oe.contract(\"ac,rcs,br,s->ab\", T_xz_new, V_ipap_new, A_old, B_new)\n",
    "R_new_dot += T_xz_new @ (A_old @ (V_ipap_new.reshape(p*a, p) @ B_new).reshape(p, a)).T\n",
    "R_new_dot_sp += (T_xz_new_sp @ (A_old_sp @ (V_ipap_new_sp @ B_new_sp.T).reshape(p, a)).T).toarray()\n",
    "\n",
    "print(\"New Einsum:\")\n",
    "print(\"Equal:\", np.allclose(R_new, R_old.reshape(a, a)))\n",
    "\n",
    "diff = np.abs(R_new - R_old.reshape(a ,a))\n",
    "max_diff = np.max(diff)\n",
    "print(\"Max absolute difference:\", max_diff, \"\\n\")\n",
    "\n",
    "print(\"Dot:\")\n",
    "print(\"Equal:\", np.allclose(R_new_dot, R_old.reshape(a, a)))\n",
    "\n",
    "diff = np.abs(R_new_dot - R_old.reshape(a, a))\n",
    "max_diff = np.max(diff)\n",
    "print(\"Max absolute difference:\", max_diff, \"\\n\")\n",
    "\n",
    "print(\"Dot Sparse:\")\n",
    "print(\"Equal:\", np.allclose(R_new_dot_sp, R_old.reshape(a, a)))\n",
    "\n",
    "diff1 = np.abs(R_new_dot_sp - R_old.reshape(a, a))\n",
    "max_diff = np.max(diff1)\n",
    "print(\"Max absolute difference:\", max_diff)"
   ]
  },
  {
   "cell_type": "markdown",
   "id": "fc29b533",
   "metadata": {},
   "source": [
    "Term 4."
   ]
  },
  {
   "cell_type": "code",
   "execution_count": 30,
   "id": "869ee321",
   "metadata": {},
   "outputs": [],
   "source": [
    "R_new = np.zeros((a, a), dtype=np.float64)\n",
    "R_old = np.zeros((a, a, i, i), dtype=np.float64)\n",
    "R_new_dot = np.zeros((a, a), dtype=np.float64)\n",
    "R_new_dot_sp = sp.csr_matrix(np.zeros((a, a), dtype=np.float64))\n",
    "\n",
    "T_cb_old = np.random.rand(a, a, i, i)\n",
    "T_cb_new = T_cb_old.reshape(a, a)\n",
    "T_cb_new_sp = sp.csr_matrix(T_cb_new)\n",
    "\n",
    "V_piap_old = np.random.rand(p, i, a, p)\n",
    "V_piap_new = V_piap_old.reshape(p, a, p)\n",
    "V_piap_new_sp = sp.csr_matrix(V_piap_new.reshape(p*a, p))"
   ]
  },
  {
   "cell_type": "code",
   "execution_count": 31,
   "id": "2561be0c",
   "metadata": {},
   "outputs": [
    {
     "name": "stdout",
     "output_type": "stream",
     "text": [
      "New Einsum:\n",
      "Equal: True\n",
      "Max absolute difference: 1.4210854715202004e-14 \n",
      "\n",
      "Dot:\n",
      "Equal: True\n",
      "Max absolute difference: 1.4210854715202004e-14 \n",
      "\n",
      "Dot Sparse:\n",
      "Equal: True\n",
      "Max absolute difference: 2.842170943040401e-14\n"
     ]
    }
   ],
   "source": [
    "R_old += oe.contract(\"bq,qlds,adij,sl->abij\", A_old, V_piap_old, T_cb_old, B_old)\n",
    "R_new += oe.contract(\"bq,qds,ad,s->ab\", A_old, V_piap_new, T_cb_new, B_new)\n",
    "R_new_dot += T_cb_new @ (A_old @ (V_piap_new.reshape(p*a, p) @ B_new).reshape(p, a)).T\n",
    "R_new_dot_sp += (T_cb_new_sp @ (A_old_sp @ (V_piap_new_sp @ B_new_sp.T).reshape(p, a)).T).toarray()\n",
    "\n",
    "print(\"New Einsum:\")\n",
    "print(\"Equal:\", np.allclose(R_new, R_old.reshape(a, a)))\n",
    "\n",
    "diff = np.abs(R_new - R_old.reshape(a ,a))\n",
    "max_diff = np.max(diff)\n",
    "print(\"Max absolute difference:\", max_diff, \"\\n\")\n",
    "\n",
    "print(\"Dot:\")\n",
    "print(\"Equal:\", np.allclose(R_new_dot, R_old.reshape(a, a)))\n",
    "\n",
    "diff = np.abs(R_new_dot - R_old.reshape(a, a))\n",
    "max_diff = np.max(diff)\n",
    "print(\"Max absolute difference:\", max_diff, \"\\n\")\n",
    "\n",
    "print(\"Dot Sparse:\")\n",
    "print(\"Equal:\", np.allclose(R_new_dot_sp, R_old.reshape(a, a)))\n",
    "\n",
    "diff1 = np.abs(R_new_dot_sp - R_old.reshape(a, a))\n",
    "max_diff = np.max(diff1)\n",
    "print(\"Max absolute difference:\", max_diff)"
   ]
  },
  {
   "cell_type": "markdown",
   "id": "3d053629",
   "metadata": {},
   "source": [
    "Term 5."
   ]
  },
  {
   "cell_type": "code",
   "execution_count": 32,
   "id": "84ec5ca8",
   "metadata": {},
   "outputs": [],
   "source": [
    "R_new = np.zeros((a, a), dtype=np.float64)\n",
    "R_old = np.zeros((a, a, i, i), dtype=np.float64)\n",
    "R_new_dot = np.zeros((a, a), dtype=np.float64)\n",
    "R_new_dot_sp = sp.csr_matrix(np.zeros((a, a), dtype=np.float64))\n",
    "\n",
    "T_cb_old = np.random.rand(a, a, i, i)\n",
    "T_cb_new = T_cb_old.reshape(a, a)\n",
    "T_cb_new_sp = sp.csr_matrix(T_cb_new)\n",
    "\n",
    "V_iipp_old = np.random.rand(i, i, p, p)\n",
    "V_iipp_new = V_iipp_old.reshape(p, p)\n",
    "V_iipp_new_sp = sp.csr_matrix(V_iipp_new)"
   ]
  },
  {
   "cell_type": "code",
   "execution_count": 33,
   "id": "412c6f3a",
   "metadata": {},
   "outputs": [
    {
     "name": "stdout",
     "output_type": "stream",
     "text": [
      "New Einsum:\n",
      "Equal: True\n",
      "Max absolute difference: 0.0 \n",
      "\n",
      "Dot:\n",
      "Equal: True\n",
      "Max absolute difference: 0.0 \n",
      "\n",
      "Dot Sparse:\n",
      "Equal: True\n",
      "Max absolute difference: 0.0\n"
     ]
    }
   ],
   "source": [
    "R_old -= oe.contract(\"abkj,lkrp,pi,rl->abij\", T_cb_old, V_iipp_old, B_old, B_old)\n",
    "R_new -= oe.contract(\"ab,rp,p,r->ab\", T_cb_new, V_iipp_new, B_new, B_new)\n",
    "R_new_dot -= T_cb_new *((V_iipp_new @ B_new) @ B_new)\n",
    "R_new_dot_sp -= (T_cb_new_sp *((V_iipp_new_sp @ B_new_sp.T).T @ B_new_sp.T)[0, 0]).toarray()\n",
    "\n",
    "print(\"New Einsum:\")\n",
    "print(\"Equal:\", np.allclose(R_new, R_old.reshape(a, a)))\n",
    "\n",
    "diff = np.abs(R_new - R_old.reshape(a ,a))\n",
    "max_diff = np.max(diff)\n",
    "print(\"Max absolute difference:\", max_diff, \"\\n\")\n",
    "\n",
    "print(\"Dot:\")\n",
    "print(\"Equal:\", np.allclose(R_new_dot, R_old.reshape(a, a)))\n",
    "\n",
    "diff = np.abs(R_new_dot - R_old.reshape(a, a))\n",
    "max_diff = np.max(diff)\n",
    "print(\"Max absolute difference:\", max_diff, \"\\n\")\n",
    "\n",
    "print(\"Dot Sparse:\")\n",
    "print(\"Equal:\", np.allclose(R_new_dot_sp, R_old.reshape(a, a)))\n",
    "\n",
    "diff1 = np.abs(R_new_dot_sp - R_old.reshape(a, a))\n",
    "max_diff = np.max(diff1)\n",
    "print(\"Max absolute difference:\", max_diff)"
   ]
  },
  {
   "cell_type": "markdown",
   "id": "dceecc68",
   "metadata": {},
   "source": []
  }
 ],
 "metadata": {
  "kernelspec": {
   "display_name": ".venv",
   "language": "python",
   "name": "python3"
  },
  "language_info": {
   "codemirror_mode": {
    "name": "ipython",
    "version": 3
   },
   "file_extension": ".py",
   "mimetype": "text/x-python",
   "name": "python",
   "nbconvert_exporter": "python",
   "pygments_lexer": "ipython3",
   "version": "3.13.4"
  }
 },
 "nbformat": 4,
 "nbformat_minor": 5
}
