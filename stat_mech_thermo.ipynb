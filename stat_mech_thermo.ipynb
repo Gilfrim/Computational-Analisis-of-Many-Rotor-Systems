{
 "cells": [
  {
   "cell_type": "code",
   "execution_count": 1,
   "id": "790f1110",
   "metadata": {},
   "outputs": [],
   "source": [
    "from quant_rotor.core.dense.hamiltonian_big import hamiltonian_general_dense, hamiltonian_big_dense\n",
    "from quant_rotor.core.sparse.hamiltonian_big import hamiltonian_general_sparse, hamiltonian_big_sparse\n",
    "from quant_rotor.core.dense.hamiltonian import hamiltonian_dense\n",
    "from quant_rotor.core.sparse.hamiltonian import hamiltonian_sparse\n",
    "from quant_rotor.models.sparse.support_ham import build_V, basis_m_to_p_matrix_conversion , vector_in_p\n",
    "import quant_rotor.models.dense.support_ham as dn\n",
    "import numpy as np\n",
    "import matplotlib.pyplot as plt\n",
    "import scipy.sparse as sp\n",
    "import traceback\n",
    "import time\n",
    "from datetime import datetime"
   ]
  },
  {
   "cell_type": "markdown",
   "id": "33c46a6a",
   "metadata": {},
   "source": [
    "# Prepeare Functions."
   ]
  },
  {
   "cell_type": "code",
   "execution_count": null,
   "id": "98e24ada",
   "metadata": {},
   "outputs": [],
   "source": [
    "k_B=1.380649e-23"
   ]
  },
  {
   "cell_type": "code",
   "execution_count": null,
   "id": "87ab600f",
   "metadata": {},
   "outputs": [],
   "source": [
    "def scatter_and_fit(g, y, label, color, degree=10):\n",
    "    g = np.asarray(g)\n",
    "    y = np.asarray(y)\n",
    "\n",
    "    # Fit to original g\n",
    "    coeffs = np.polyfit(g, y, degree)\n",
    "    poly_fn = np.poly1d(coeffs)\n",
    "\n",
    "    # Sample fit line\n",
    "    g_fit = np.linspace(g.min(), g.max(), 300)\n",
    "    y_fit = poly_fn(g_fit)\n",
    "    # Plot fit\n",
    "    plt.plot(g_fit, y_fit, linestyle='--', color=color)\n",
    "\n",
    "    plt.scatter(g, y, color=color, label=f\"{label} (visible)\", s=30)"
   ]
  },
  {
   "cell_type": "code",
   "execution_count": null,
   "id": "0da2ce85",
   "metadata": {},
   "outputs": [],
   "source": [
    "def beta_func(t: float)-> float:\n",
    "    return 1/(k_B*t)"
   ]
  },
  {
   "cell_type": "code",
   "execution_count": null,
   "id": "cd272bb1",
   "metadata": {},
   "outputs": [],
   "source": [
    "def Z(eig_val: np.ndarray, beta_val: float)->complex:\n",
    "    exp_vector = np.exp(-eig_val * beta_val)\n",
    "    return np.einsum('n->', exp_vector)"
   ]
  },
  {
   "cell_type": "code",
   "execution_count": null,
   "id": "cbeab3c9",
   "metadata": {},
   "outputs": [],
   "source": [
    "# beta_val = beta_func(1)\n",
    "# n = 0\n",
    "# P_n = 0\n",
    "\n",
    "# for i in range(eig_val.shape[0]):\n",
    "#     E_n = eig_val[i]\n",
    "#     P_n += (1/Z(eig_val, beta_val)) * np.exp(E_n*beta_val)"
   ]
  },
  {
   "cell_type": "code",
   "execution_count": null,
   "id": "c474905b",
   "metadata": {},
   "outputs": [],
   "source": [
    "def P_n(eig_val: np.ndarray, beta_val: float)-> np.ndarray:\n",
    "    return (1/Z(eig_val, beta_val)) * np.exp(-eig_val*beta_val)"
   ]
  },
  {
   "cell_type": "code",
   "execution_count": null,
   "id": "d25c2bd6",
   "metadata": {},
   "outputs": [],
   "source": [
    "def U(eig_val: np.ndarray, beta_val: float)-> complex:\n",
    "    P_n_val = P_n(eig_val, beta_val)\n",
    "    return (np.einsum('n->', P_n_val * eig_val))"
   ]
  },
  {
   "cell_type": "code",
   "execution_count": null,
   "id": "f7f311bf",
   "metadata": {},
   "outputs": [],
   "source": [
    "def S(eig_val: np.ndarray, beta_val: float)-> complex:\n",
    "    P_n_val = P_n(eig_val, beta_val)\n",
    "    val = P_n_val * np.log(P_n_val)\n",
    "    return  np.einsum('n->', -val)"
   ]
  },
  {
   "cell_type": "code",
   "execution_count": null,
   "id": "08c858dd",
   "metadata": {},
   "outputs": [],
   "source": [
    "def A(eig_val: np.ndarray, beta_val: float)-> complex:\n",
    "    return (-1/beta_val) * np.log(Z(eig_val, beta_val))"
   ]
  },
  {
   "cell_type": "code",
   "execution_count": null,
   "id": "1a5968e4",
   "metadata": {},
   "outputs": [],
   "source": [
    "states = 11\n",
    "sites = 3\n",
    "g = 0.1\n",
    "\n",
    "H_K_V_3 = hamiltonian_dence(states, sites, g)\n",
    "eig_val_3, eig_vec_3 = np.linalg.eig(H_K_V_3[0])"
   ]
  },
  {
   "cell_type": "code",
   "execution_count": null,
   "id": "4d97a3ac",
   "metadata": {},
   "outputs": [],
   "source": [
    "t = 1\n",
    "beta_val = beta_func(t)\n",
    "\n",
    "result = U(eig_val_3, beta_val) - (1/beta_val) * S(eig_val_3, beta_val)\n",
    "\n",
    "print(f\"Check: {result}\")\n",
    "print(f\"A: {A(eig_val_3, beta_val)}\")"
   ]
  },
  {
   "cell_type": "code",
   "execution_count": null,
   "id": "e1f98cba",
   "metadata": {},
   "outputs": [],
   "source": [
    "def heat_capacity(eig_val: np.ndarray, beta_val: float):\n",
    "\n",
    "    P_n_val = P_n(eig_val, beta_val)\n",
    "    U_val = U(eig_val, beta_val)\n",
    "    variance = np.sum(P_n_val * (eig_val - U_val)**2)\n",
    "\n",
    "    C = k_B * beta_val**2 * variance\n",
    "    return C"
   ]
  },
  {
   "cell_type": "markdown",
   "id": "ce0321f9",
   "metadata": {},
   "source": [
    "# Plot."
   ]
  },
  {
   "cell_type": "code",
   "execution_count": null,
   "id": "5d816089",
   "metadata": {},
   "outputs": [],
   "source": [
    "states = 11\n",
    "sites = 3\n",
    "g = 0.1\n",
    "\n",
    "H_K_V_3 = hamiltonian_dence(states, sites, g)\n",
    "eig_val_3, eig_vec_3 = np.linalg.eig(H_K_V_3[0])\n",
    "\n",
    "states = 5\n",
    "sites = 5\n",
    "\n",
    "H_K_V_5 = hamiltonian_general(states, sites, g)\n",
    "eig_val_5 = eigs(H_K_V_5[0], k=300, which='SM', return_eigenvectors=False)\n",
    "\n",
    "states = 5\n",
    "sites = 7\n",
    "\n",
    "H_K_V_7 = hamiltonian_general(states, sites, g)\n",
    "eig_val_7 =  eigs(H_K_V_7[0], k=300, which='SM', return_eigenvectors=False)"
   ]
  },
  {
   "cell_type": "code",
   "execution_count": null,
   "id": "d69f1fe4",
   "metadata": {},
   "outputs": [],
   "source": [
    "index = np.argsort(eig_val_7)\n",
    "eig_val_7 = eig_val_7[index]"
   ]
  },
  {
   "cell_type": "code",
   "execution_count": null,
   "id": "e985bee9",
   "metadata": {},
   "outputs": [],
   "source": [
    "beta_array = np.linspace(0, 5, 300)"
   ]
  },
  {
   "cell_type": "code",
   "execution_count": null,
   "id": "4440e2b7",
   "metadata": {},
   "outputs": [],
   "source": [
    "y_data_3 = np.array([np.log(Z(eig_val_3, x))/3 for x in beta_array])\n",
    "y_data_5 = np.array([np.log(Z(eig_val_5, x))/5 for x in beta_array])\n",
    "y_data_7 = np.array([np.log(Z(eig_val_7, x))/7 for x in beta_array])\n",
    "\n",
    "dim_fit = 20\n",
    "\n",
    "plt.figure(figsize=(12, 6))\n",
    "\n",
    "plt.plot(beta_array, y_data_3, label=f\"3 Sites\")\n",
    "plt.plot(beta_array, y_data_5, label=f\"5 Sites\")\n",
    "plt.plot(beta_array, y_data_7, label=f\"7 sites\")\n",
    "\n",
    "# scatter_and_fit(beta_array, y_data_3, \"3 sites\", \"blue\", degree=dim_fit)\n",
    "# scatter_and_fit(beta_array, y_data_5, \"5 sites\", \"red\", degree=dim_fit)\n",
    "# scatter_and_fit(beta_array, y_data_7, \"7 sites\", \"green\", degree=dim_fit)\n",
    "\n",
    "# Axis formatting\n",
    "plt.xticks(beta_array[::12], rotation=45) \n",
    "plt.xlabel(\"Beta-values\")\n",
    "plt.ylabel(\"ln(Z)\")\n",
    "plt.title(\"ln(Z) Evolution With Beta.\")\n",
    "plt.legend()\n",
    "plt.show()"
   ]
  },
  {
   "cell_type": "code",
   "execution_count": null,
   "id": "b674ac25",
   "metadata": {},
   "outputs": [],
   "source": [
    "beta_array = np.linspace(0, 3, 1000)"
   ]
  },
  {
   "cell_type": "code",
   "execution_count": null,
   "id": "ba862693",
   "metadata": {},
   "outputs": [],
   "source": [
    "y_data_3 = np.array([U(eig_val_3, x)/3 for x in beta_array])\n",
    "y_data_5 = np.array([U(eig_val_5, x)/5 for x in beta_array])\n",
    "y_data_7 = np.array([U(eig_val_7, x)/7 for x in beta_array])\n",
    "\n",
    "dim_fit = 20\n",
    "\n",
    "plt.figure(figsize=(12, 6))\n",
    "plt.plot(beta_array, y_data_3, label=f\"3 Sites\")\n",
    "plt.plot(beta_array, y_data_5, label=f\"5 Sites\")\n",
    "plt.plot(beta_array, y_data_7, label=f\"7 sites\")\n",
    "plt.xticks(beta_array[::40], rotation=45) \n",
    "plt.xlabel(\"beta-values\")\n",
    "plt.ylabel(\"Internal Thermal Energy\")\n",
    "plt.title(\"Internal Thermal Energy Evolution With B.\")\n",
    "plt.legend()\n",
    "plt.show()"
   ]
  },
  {
   "cell_type": "code",
   "execution_count": null,
   "id": "7e92dab5",
   "metadata": {},
   "outputs": [],
   "source": [
    "y_data_3 = np.array([A(eig_val_3, x)/3 for x in beta_array])\n",
    "y_data_5 = np.array([A(eig_val_5, x)/5 for x in beta_array])\n",
    "y_data_7 = np.array([A(eig_val_7, x)/7 for x in beta_array])\n",
    "\n",
    "dim_fit = 20\n",
    "\n",
    "plt.figure(figsize=(12, 6))\n",
    "plt.plot(beta_array, y_data_3, label=f\"3 Sites\")\n",
    "plt.plot(beta_array, y_data_5, label=f\"5 Sites\")\n",
    "plt.plot(beta_array, y_data_7, label=f\"7 sites\")\n",
    "plt.xticks(beta_array[::40], rotation=45) \n",
    "plt.xlabel(\"B-values\")\n",
    "plt.ylabel(\"Internal Thermal Energy\")\n",
    "plt.title(\"Internal Thermal Energy Evolution With B.\")\n",
    "plt.legend()\n",
    "plt.show()"
   ]
  },
  {
   "cell_type": "code",
   "execution_count": null,
   "id": "ca4ab208",
   "metadata": {},
   "outputs": [],
   "source": [
    "y_data_3 = np.array([S(eig_val_3, x)/3 for x in beta_array])\n",
    "y_data_5 = np.array([S(eig_val_5, x)/5 for x in beta_array])\n",
    "y_data_7 = np.array([S(eig_val_7, x)/7 for x in beta_array])\n",
    "\n",
    "dim_fit = 20\n",
    "\n",
    "plt.figure(figsize=(12, 6))\n",
    "plt.plot(beta_array, y_data_3, label=f\"3 Sites\")\n",
    "plt.plot(beta_array, y_data_5, label=f\"5 Sites\")\n",
    "plt.plot(beta_array, y_data_7, label=f\"7 sites\")\n",
    "plt.xticks(beta_array[::40], rotation=45) \n",
    "plt.xlabel(\"B-values\")\n",
    "plt.ylabel(\"Internal Thermal Energy\")\n",
    "plt.title(\"Internal Thermal Energy Evolution With B.\")\n",
    "plt.legend()\n",
    "plt.show()"
   ]
  },
  {
   "cell_type": "code",
   "execution_count": null,
   "id": "55bf6bab",
   "metadata": {},
   "outputs": [],
   "source": [
    "beta_array = np.linspace(0, 20, 1000)"
   ]
  },
  {
   "cell_type": "code",
   "execution_count": null,
   "id": "cb549369",
   "metadata": {},
   "outputs": [],
   "source": [
    "y_data_3 = np.array([heat_capacity(eig_val_3, x)/3 for x in beta_array])\n",
    "y_data_5 = np.array([heat_capacity(eig_val_5, x)/5 for x in beta_array])\n",
    "y_data_7 = np.array([heat_capacity(eig_val_7, x)/7 for x in beta_array])\n",
    "\n",
    "dim_fit = 20\n",
    "\n",
    "plt.figure(figsize=(12, 6))\n",
    "plt.plot(beta_array, y_data_3, label=f\"3 Sites\")\n",
    "plt.plot(beta_array, y_data_5, label=f\"5 Sites\")\n",
    "plt.plot(beta_array, y_data_7, label=f\"7 sites\")\n",
    "plt.xticks(beta_array[::40], rotation=45) \n",
    "plt.xlabel(\"B-values\")\n",
    "plt.ylabel(\"Heat Capacity\")\n",
    "plt.title(\"Heat Capacity Evolution With B.\")\n",
    "plt.legend()\n",
    "plt.show()"
   ]
  },
  {
   "cell_type": "code",
   "execution_count": null,
   "id": "f8f4cb76",
   "metadata": {},
   "outputs": [],
   "source": []
  }
 ],
 "metadata": {
  "kernelspec": {
   "display_name": ".venv",
   "language": "python",
   "name": "python3"
  },
  "language_info": {
   "codemirror_mode": {
    "name": "ipython",
    "version": 3
   },
   "file_extension": ".py",
   "mimetype": "text/x-python",
   "name": "python",
   "nbconvert_exporter": "python",
   "pygments_lexer": "ipython3",
   "version": "3.13.4"
  }
 },
 "nbformat": 4,
 "nbformat_minor": 5
}
