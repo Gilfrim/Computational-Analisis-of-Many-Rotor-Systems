{
 "cells": [
  {
   "cell_type": "code",
   "execution_count": 1,
   "id": "81ef0091",
   "metadata": {},
   "outputs": [],
   "source": [
    "from quant_rotor.models.support_ham import write_matrix_elements, basis_m_to_p_matrix_conversion\n",
    "from quant_rotor.core.hamiltonian import hamiltonian\n",
    "import time\n",
    "from statistics import mean\n",
    "import numpy as np\n",
    "from quant_rotor.core.hamiltonian_big import hamiltonian_general, hamiltonian_big\n",
    "from joblib import Parallel, delayed\n",
    "from scipy.sparse import csr_matrix\n",
    "from scipy.sparse.linalg import eigsh"
   ]
  },
  {
   "cell_type": "code",
   "execution_count": 3,
   "id": "46ae51e3",
   "metadata": {},
   "outputs": [
    {
     "name": "stdout",
     "output_type": "stream",
     "text": [
      "Average time runs: 31.360 seconds\n"
     ]
    }
   ],
   "source": [
    "times = []\n",
    "start = time.time()\n",
    "h = hamiltonian(11, 3, 1)\n",
    "eig_val, eig_vec = np.linalg.eig(h[0])\n",
    "times.append(time.time() - start)\n",
    "print(f\"Average time runs: {mean(times):.3f} seconds\")"
   ]
  },
  {
   "cell_type": "code",
   "execution_count": 7,
   "id": "dd3f07f8",
   "metadata": {},
   "outputs": [
    {
     "name": "stdout",
     "output_type": "stream",
     "text": [
      "Average time runs: 3.509 seconds\n"
     ]
    }
   ],
   "source": [
    "times = []\n",
    "start = time.time()\n",
    "h = hamiltonian(11, 3, 1)\n",
    "eig_val, eig_vec = np.linalg.eig(h[0])\n",
    "times.append(time.time() - start)\n",
    "print(f\"Average time runs: {mean(times):.3f} seconds\")"
   ]
  },
  {
   "cell_type": "code",
   "execution_count": 6,
   "id": "03775620",
   "metadata": {},
   "outputs": [
    {
     "name": "stdout",
     "output_type": "stream",
     "text": [
      "Average time runs: 186.175 seconds\n"
     ]
    }
   ],
   "source": [
    "times = []\n",
    "start = time.time()\n",
    "h = hamiltonian_general(5, 5, 1)\n",
    "eig_val, eig_vec = np.linalg.eig(h[0])\n",
    "times.append(time.time() - start)\n",
    "print(f\"Average time runs: {mean(times):.3f} seconds\")"
   ]
  },
  {
   "cell_type": "code",
   "execution_count": 4,
   "id": "be73ccb3",
   "metadata": {},
   "outputs": [
    {
     "name": "stdout",
     "output_type": "stream",
     "text": [
      "Average time runs: 38.771 seconds\n"
     ]
    }
   ],
   "source": [
    "times = []\n",
    "start = time.time()\n",
    "h = hamiltonian_general(5, 5, 1)\n",
    "eig_val, eig_vec = np.linalg.eig(h[0])\n",
    "times.append(time.time() - start)\n",
    "print(f\"Average time runs: {mean(times):.3f} seconds\")"
   ]
  },
  {
   "cell_type": "code",
   "execution_count": 2,
   "id": "064486f4",
   "metadata": {},
   "outputs": [
    {
     "name": "stdout",
     "output_type": "stream",
     "text": [
      "done matrix\n",
      "10 smallest eigenvalues:\n",
      "[-5.214520567 -5.213639695 -3.618700377 -3.610226428 -3.109937785 -3.107284496 -3.618700377 -3.610226428 -3.109937785 -3.107284496]\n"
     ]
    }
   ],
   "source": [
    "# --- Step 1: Build the matrix ---\n",
    "# Replace this with your actual function\n",
    "# from your_module import hamiltonian_general\n",
    "h = hamiltonian_general(5, 7, 1)  # returns a dense matrix\n",
    "\n",
    "# --- Step 2: Convert to sparse (CSR format is best for eigsh) ---\n",
    "h_sparse = csr_matrix(h[0])\n",
    "\n",
    "print(\"done matrix\")\n",
    "\n",
    "# --- Step 3: Compute smallest 10 eigenvalues ---\n",
    "# 'which=\"SA\"' = smallest algebraic eigenvalues (good for Hermitian matrices)\n",
    "eigvals, eigvecs = eigsh(h_sparse, k=10, which='SA')\n",
    "\n",
    "# --- Step 4: Output results ---\n",
    "print(\"10 smallest eigenvalues:\")\n",
    "print(eigvals)"
   ]
  },
  {
   "cell_type": "code",
   "execution_count": 3,
   "id": "4fa6cbd8",
   "metadata": {},
   "outputs": [
    {
     "name": "stdout",
     "output_type": "stream",
     "text": [
      "Sparse Hamiltonian generated in 41.67 seconds.\n",
      "Sparse eigenvalue calculation completed in 85.40 seconds.\n",
      "Smallest eigenvalue: -5.214520566730851\n"
     ]
    }
   ],
   "source": [
    "import time\n",
    "\n",
    "# Timing the Hamiltonian generation\n",
    "start_time = time.time()\n",
    "h_sparse = hamiltonian_general(5, 7, 1)[0]  # Assume h[0] is already sparse\n",
    "gen_time = time.time() - start_time\n",
    "print(f\"Sparse Hamiltonian generated in {gen_time:.2f} seconds.\")\n",
    "\n",
    "# Timing eigenvalue calculation\n",
    "start_time = time.time()\n",
    "eigvals, eigvecs = eigsh(h_sparse, k=100, which='SA')\n",
    "eig_time = time.time() - start_time\n",
    "print(f\"Sparse eigenvalue calculation completed in {eig_time:.2f} seconds.\")\n",
    "\n",
    "# Output smallest eigenvalue\n",
    "print(\"Smallest eigenvalue:\", eigvals[0])"
   ]
  },
  {
   "cell_type": "code",
   "execution_count": 4,
   "id": "bfd73983",
   "metadata": {},
   "outputs": [
    {
     "ename": "ModuleNotFoundError",
     "evalue": "No module named 'cupy'",
     "output_type": "error",
     "traceback": [
      "\u001b[31m---------------------------------------------------------------------------\u001b[39m",
      "\u001b[31mModuleNotFoundError\u001b[39m                       Traceback (most recent call last)",
      "\u001b[36mCell\u001b[39m\u001b[36m \u001b[39m\u001b[32mIn[4]\u001b[39m\u001b[32m, line 1\u001b[39m\n\u001b[32m----> \u001b[39m\u001b[32m1\u001b[39m \u001b[38;5;28;01mimport\u001b[39;00m\u001b[38;5;250m \u001b[39m\u001b[34;01mcupy\u001b[39;00m\u001b[38;5;250m \u001b[39m\u001b[38;5;28;01mas\u001b[39;00m\u001b[38;5;250m \u001b[39m\u001b[34;01mcp\u001b[39;00m\n\u001b[32m      2\u001b[39m \u001b[38;5;28;01mimport\u001b[39;00m\u001b[38;5;250m \u001b[39m\u001b[34;01mcupyx\u001b[39;00m\u001b[34;01m.\u001b[39;00m\u001b[34;01mscipy\u001b[39;00m\u001b[34;01m.\u001b[39;00m\u001b[34;01msparse\u001b[39;00m\u001b[38;5;250m \u001b[39m\u001b[38;5;28;01mas\u001b[39;00m\u001b[38;5;250m \u001b[39m\u001b[34;01mcpx_sparse\u001b[39;00m\n\u001b[32m      3\u001b[39m \u001b[38;5;28;01mimport\u001b[39;00m\u001b[38;5;250m \u001b[39m\u001b[34;01mcupyx\u001b[39;00m\u001b[34;01m.\u001b[39;00m\u001b[34;01mscipy\u001b[39;00m\u001b[34;01m.\u001b[39;00m\u001b[34;01msparse\u001b[39;00m\u001b[34;01m.\u001b[39;00m\u001b[34;01mlinalg\u001b[39;00m\u001b[38;5;250m \u001b[39m\u001b[38;5;28;01mas\u001b[39;00m\u001b[38;5;250m \u001b[39m\u001b[34;01mcpx_linalg\u001b[39;00m\n",
      "\u001b[31mModuleNotFoundError\u001b[39m: No module named 'cupy'"
     ]
    }
   ],
   "source": [
    "import cupy as cp\n",
    "import cupyx.scipy.sparse as cpx_sparse\n",
    "import cupyx.scipy.sparse.linalg as cpx_linalg\n",
    "import time\n",
    "\n",
    "# Step 1: Generate your Hamiltonian (on CPU)\n",
    "h_cpu = hamiltonian_general(5, 7, 1)[0]  # Still SciPy CSR\n",
    "\n",
    "# Step 2: Convert to CuPy sparse\n",
    "h_gpu = cpx_sparse.csr_matrix(h_cpu)\n",
    "\n",
    "# Step 3: Diagonalize on GPU\n",
    "start = time.time()\n",
    "eigvals_gpu, eigvecs_gpu = cpx_linalg.eigsh(h_gpu, k=100, which='SA')\n",
    "cp.cuda.Stream.null.synchronize()  # Wait for GPU to finish\n",
    "print(\"GPU eigval:\", eigvals_gpu)\n",
    "print(\"GPU time:\", time.time() - start, \"seconds\")"
   ]
  },
  {
   "cell_type": "code",
   "execution_count": null,
   "id": "8066db03",
   "metadata": {},
   "outputs": [],
   "source": [
    "h_gpu = cpx_sparse.csr_matrix(h_cpu)\n",
    "eigvals_gpu, eigvecs_gpu = cpx_linalg.eigsh(h_gpu, k=100, which='SA')"
   ]
  },
  {
   "cell_type": "code",
   "execution_count": 6,
   "id": "0d6b98d8",
   "metadata": {},
   "outputs": [
    {
     "name": "stdout",
     "output_type": "stream",
     "text": [
      "(125, 125)\n",
      "[[ 0.+0.j  0.+0.j  0.+0.j ...  0.+0.j  0.+0.j  0.+0.j]\n",
      " [ 0.+0.j  1.+0.j  0.+0.j ...  0.+0.j  0.+0.j  0.+0.j]\n",
      " [ 0.+0.j  0.+0.j  1.+0.j ...  0.+0.j  0.+0.j  0.+0.j]\n",
      " ...\n",
      " [ 0.+0.j  0.+0.j  0.+0.j ...  9.+0.j  0.+0.j  0.+0.j]\n",
      " [ 0.+0.j  0.+0.j  0.+0.j ...  0.+0.j 12.+0.j  0.+0.j]\n",
      " [ 0.+0.j  0.+0.j  0.+0.j ...  0.+0.j  0.+0.j 12.+0.j]]\n"
     ]
    }
   ],
   "source": [
    "h = hamiltonian(5, 3, 1, spar=True)"
   ]
  },
  {
   "cell_type": "code",
   "execution_count": 13,
   "id": "ae31af9a",
   "metadata": {},
   "outputs": [
    {
     "name": "stdout",
     "output_type": "stream",
     "text": [
      "(1331, 1331)\n",
      "(125, 125)\n",
      "(3125, 3125)\n",
      "(78125, 78125)\n"
     ]
    }
   ],
   "source": [
    "h_7_5 = hamiltonian_general(5, 7, 1)\n",
    "eigvals_7_5, eigvecs_7_5 = eigsh(h[0], k=10, which='SA')"
   ]
  },
  {
   "cell_type": "code",
   "execution_count": 14,
   "id": "0dee6904",
   "metadata": {},
   "outputs": [
    {
     "data": {
      "text/plain": [
       "(78125,)"
      ]
     },
     "execution_count": 14,
     "metadata": {},
     "output_type": "execute_result"
    }
   ],
   "source": [
    "eigvecs_7_5[:, 0].shape"
   ]
  },
  {
   "cell_type": "code",
   "execution_count": 18,
   "id": "01c52408",
   "metadata": {},
   "outputs": [
    {
     "name": "stdout",
     "output_type": "stream",
     "text": [
      "(1331, 1331)\n",
      "(343, 343)\n",
      "(16807, 16807)\n",
      "(823543, 823543)\n"
     ]
    }
   ],
   "source": [
    "h_7_7 = hamiltonian_general(7, 7, 1)\n",
    "eigvals_7_7, eigvecs_7_7 = eigsh(h[0], k=10, which='SA')"
   ]
  },
  {
   "cell_type": "code",
   "execution_count": 16,
   "id": "b78c3b09",
   "metadata": {},
   "outputs": [
    {
     "data": {
      "text/plain": [
       "(78125,)"
      ]
     },
     "execution_count": 16,
     "metadata": {},
     "output_type": "execute_result"
    }
   ],
   "source": [
    "eigvecs_7_7[:, 0].shape"
   ]
  },
  {
   "cell_type": "code",
   "execution_count": null,
   "id": "2e987bef",
   "metadata": {},
   "outputs": [],
   "source": [
    "h_7_7 = hamiltonian_general(5, 7, 1)\n",
    "print(finished)\n",
    "eigvals_7_7, eigvecs_7_7 = eigsh(h[0], k=10, which='SA')"
   ]
  },
  {
   "cell_type": "code",
   "execution_count": 17,
   "id": "83c20e37",
   "metadata": {},
   "outputs": [
    {
     "name": "stdout",
     "output_type": "stream",
     "text": [
      "(1331, 1331)\n",
      "(27, 27)\n",
      "(243, 243)\n",
      "(2187, 2187)\n",
      "(19683, 19683)\n"
     ]
    }
   ],
   "source": [
    "h_9_7 = hamiltonian_general(3, 9, 1)\n",
    "eigvals_9_7, eigvecs_9_7 = eigsh(h[0], k=10, which='SA')"
   ]
  },
  {
   "cell_type": "code",
   "execution_count": 5,
   "id": "0ea4a9e2",
   "metadata": {},
   "outputs": [],
   "source": [
    "def load_one_simulation_NO(sites: int, states: int, g: float, directory: str = \".\") -> dict:\n",
    "    \"\"\"\n",
    "    Loads eigenvalues, eigenvectors, and NO basis matrix for a specific (sites, states, g) system.\n",
    "\n",
    "    Returns a dictionary with 'eigvals', 'eigvecs', and 'NO_basis'.\n",
    "    \"\"\"\n",
    "    g_str = f\"{g:.1f}\"\n",
    "    base = f\"sites{sites}_states{states}_g{g_str}\"\n",
    "\n",
    "    eigvals_path = os.path.join(directory, f\"NO_eigvals_{base}.npy\")\n",
    "    eigvecs_path = os.path.join(directory, f\"NO_eigvecs_{base}.npy\")\n",
    "    NO_basis_path = os.path.join(directory, f\"NO_basis_{base}.npy\")\n",
    "\n",
    "    try:\n",
    "        eigvals = np.load(eigvals_path)\n",
    "        eigvecs = np.load(eigvecs_path)\n",
    "        NO_basis = np.load(NO_basis_path)\n",
    "\n",
    "        return eigvals, eigvecs, NO_basis\n",
    "\n",
    "    except FileNotFoundError as e:\n",
    "        print(f\"[Error] Missing file for (sites={sites}, states={states}, g={g_str}): {e}\")\n",
    "        return {}"
   ]
  },
  {
   "cell_type": "code",
   "execution_count": 6,
   "id": "0fcc54e1",
   "metadata": {},
   "outputs": [],
   "source": [
    "def compute_next_eigenpairs(h_sparse, eigvals_prev, count=10, epsilon=1e-4):\n",
    "    \"\"\"\n",
    "    Compute the next `count` eigenpairs after the ones in `eigvals_prev` using spectral shift.\n",
    "    \"\"\"\n",
    "    sigma_shift = eigvals_prev[-1] + epsilon\n",
    "\n",
    "    # Compute eigenvalues around the shift\n",
    "    eigvals, eigvecs = eigsh(h_sparse, k=count + 5, sigma=sigma_shift, which='LM')\n",
    "\n",
    "    # Filter only the values strictly greater than known set\n",
    "    mask = eigvals > eigvals_prev[-1] + 1e-8\n",
    "    eigvals_filtered = eigvals[mask]\n",
    "    eigvecs_filtered = eigvecs[:, mask]\n",
    "\n",
    "    # Sort by ascending eigenvalue\n",
    "    order = np.argsort(eigvals_filtered)\n",
    "    eigvals_sorted = eigvals_filtered[order]\n",
    "    eigvecs_sorted = eigvecs_filtered[:, order]\n",
    "\n",
    "    return eigvals_sorted[:count], eigvecs_sorted[:, :count]"
   ]
  },
  {
   "cell_type": "code",
   "execution_count": 7,
   "id": "509c75e0",
   "metadata": {},
   "outputs": [],
   "source": [
    "file_path_ED = \"./ED_analisis_data\"\n",
    "file_path_ED_s = \"./ED_analisis_data_sparce\""
   ]
  },
  {
   "cell_type": "code",
   "execution_count": 8,
   "id": "a6924812",
   "metadata": {},
   "outputs": [
    {
     "name": "stdout",
     "output_type": "stream",
     "text": [
      "done ham\n"
     ]
    }
   ],
   "source": [
    "h_7_7 = hamiltonian_general(7, 7, 1)\n",
    "print(\"done ham\")"
   ]
  },
  {
   "cell_type": "code",
   "execution_count": null,
   "id": "9c285bbd",
   "metadata": {},
   "outputs": [],
   "source": [
    "eig_val, eig_vec, _ = load_one_simulation_NO(7, 7, 1, file_path_ED_s)\n",
    "eigvals_10_20, eigvecs_10_20 = compute_next_eigenpairs(h_7_7[0], eig_val, count=10)"
   ]
  },
  {
   "cell_type": "code",
   "execution_count": 3,
   "id": "a9fe9c3a",
   "metadata": {},
   "outputs": [
    {
     "name": "stdout",
     "output_type": "stream",
     "text": [
      "done ham\n"
     ]
    }
   ],
   "source": [
    "h_7_5 = hamiltonian_general(5, 7, 1)\n",
    "print(\"done ham\")"
   ]
  },
  {
   "cell_type": "code",
   "execution_count": null,
   "id": "74fe02d5",
   "metadata": {},
   "outputs": [],
   "source": [
    "eigvals_7_5, eigvecs_7_5 = eigsh(h_7_5[0], k=50, which='SA')"
   ]
  }
 ],
 "metadata": {
  "kernelspec": {
   "display_name": ".venv",
   "language": "python",
   "name": "python3"
  },
  "language_info": {
   "codemirror_mode": {
    "name": "ipython",
    "version": 3
   },
   "file_extension": ".py",
   "mimetype": "text/x-python",
   "name": "python",
   "nbconvert_exporter": "python",
   "pygments_lexer": "ipython3",
   "version": "3.13.4"
  }
 },
 "nbformat": 4,
 "nbformat_minor": 5
}
