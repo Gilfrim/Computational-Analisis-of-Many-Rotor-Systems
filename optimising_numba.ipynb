{
 "cells": [
  {
   "cell_type": "code",
   "execution_count": 5,
   "id": "81ef0091",
   "metadata": {},
   "outputs": [],
   "source": [
    "from quant_rotor.models.support_ham import write_matrix_elements, basis_m_to_p_matrix_conversion\n",
    "from quant_rotor.core.hamiltonian import hamiltonian\n",
    "import time\n",
    "from statistics import mean\n",
    "import numpy as np\n",
    "from quant_rotor.core.hamiltonian_big import hamiltonian_general, hamiltonian_big\n",
    "from joblib import Parallel, delayed\n",
    "from scipy.sparse import csr_matrix\n",
    "from scipy.sparse.linalg import eigsh"
   ]
  },
  {
   "cell_type": "code",
   "execution_count": 3,
   "id": "46ae51e3",
   "metadata": {},
   "outputs": [
    {
     "name": "stdout",
     "output_type": "stream",
     "text": [
      "Average time runs: 31.360 seconds\n"
     ]
    }
   ],
   "source": [
    "times = []\n",
    "start = time.time()\n",
    "h = hamiltonian(11, 3, 1)\n",
    "eig_val, eig_vec = np.linalg.eig(h[0])\n",
    "times.append(time.time() - start)\n",
    "print(f\"Average time runs: {mean(times):.3f} seconds\")"
   ]
  },
  {
   "cell_type": "code",
   "execution_count": 7,
   "id": "dd3f07f8",
   "metadata": {},
   "outputs": [
    {
     "name": "stdout",
     "output_type": "stream",
     "text": [
      "Average time runs: 3.509 seconds\n"
     ]
    }
   ],
   "source": [
    "times = []\n",
    "start = time.time()\n",
    "h = hamiltonian(11, 3, 1)\n",
    "eig_val, eig_vec = np.linalg.eig(h[0])\n",
    "times.append(time.time() - start)\n",
    "print(f\"Average time runs: {mean(times):.3f} seconds\")"
   ]
  },
  {
   "cell_type": "code",
   "execution_count": 6,
   "id": "03775620",
   "metadata": {},
   "outputs": [
    {
     "name": "stdout",
     "output_type": "stream",
     "text": [
      "Average time runs: 186.175 seconds\n"
     ]
    }
   ],
   "source": [
    "times = []\n",
    "start = time.time()\n",
    "h = hamiltonian_general(5, 5, 1)\n",
    "eig_val, eig_vec = np.linalg.eig(h[0])\n",
    "times.append(time.time() - start)\n",
    "print(f\"Average time runs: {mean(times):.3f} seconds\")"
   ]
  },
  {
   "cell_type": "code",
   "execution_count": 4,
   "id": "be73ccb3",
   "metadata": {},
   "outputs": [
    {
     "name": "stdout",
     "output_type": "stream",
     "text": [
      "Average time runs: 38.771 seconds\n"
     ]
    }
   ],
   "source": [
    "times = []\n",
    "start = time.time()\n",
    "h = hamiltonian_general(5, 5, 1)\n",
    "eig_val, eig_vec = np.linalg.eig(h[0])\n",
    "times.append(time.time() - start)\n",
    "print(f\"Average time runs: {mean(times):.3f} seconds\")"
   ]
  },
  {
   "cell_type": "code",
   "execution_count": 2,
   "id": "064486f4",
   "metadata": {},
   "outputs": [
    {
     "name": "stdout",
     "output_type": "stream",
     "text": [
      "done matrix\n",
      "10 smallest eigenvalues:\n",
      "[-5.214520567 -5.213639695 -3.618700377 -3.610226428 -3.109937785 -3.107284496 -3.618700377 -3.610226428 -3.109937785 -3.107284496]\n"
     ]
    }
   ],
   "source": [
    "# --- Step 1: Build the matrix ---\n",
    "# Replace this with your actual function\n",
    "# from your_module import hamiltonian_general\n",
    "h = hamiltonian_general(5, 7, 1)  # returns a dense matrix\n",
    "\n",
    "# --- Step 2: Convert to sparse (CSR format is best for eigsh) ---\n",
    "h_sparse = csr_matrix(h[0])\n",
    "\n",
    "print(\"done matrix\")\n",
    "\n",
    "# --- Step 3: Compute smallest 10 eigenvalues ---\n",
    "# 'which=\"SA\"' = smallest algebraic eigenvalues (good for Hermitian matrices)\n",
    "eigvals, eigvecs = eigsh(h_sparse, k=10, which='SA')\n",
    "\n",
    "# --- Step 4: Output results ---\n",
    "print(\"10 smallest eigenvalues:\")\n",
    "print(eigvals)"
   ]
  },
  {
   "cell_type": "code",
   "execution_count": 2,
   "id": "4fa6cbd8",
   "metadata": {},
   "outputs": [
    {
     "name": "stdout",
     "output_type": "stream",
     "text": [
      "(11, 11, 11, 11)\n",
      "(1331, 1331)\n"
     ]
    },
    {
     "name": "stderr",
     "output_type": "stream",
     "text": [
      "/Users/gilfrim/Desktop/Projects/Computational_Analisis_of_Many_Rotor_Systems/.venv/lib/python3.13/site-packages/scipy/sparse/linalg/_eigen/arpack/arpack.py:1575: RuntimeWarning: k >= N - 1 for N * N square matrix. Attempting to use scipy.linalg.eig instead.\n",
      "  ret = eigs(A, k, M=M, sigma=sigma, which=which, v0=v0,\n"
     ]
    },
    {
     "ename": "TypeError",
     "evalue": "Cannot use scipy.linalg.eig for sparse A with k >= N - 1. Use scipy.linalg.eig(A.toarray()) or reduce k.",
     "output_type": "error",
     "traceback": [
      "\u001b[31m---------------------------------------------------------------------------\u001b[39m",
      "\u001b[31mTypeError\u001b[39m                                 Traceback (most recent call last)",
      "\u001b[36mCell\u001b[39m\u001b[36m \u001b[39m\u001b[32mIn[2]\u001b[39m\u001b[32m, line 4\u001b[39m\n\u001b[32m      1\u001b[39m \u001b[38;5;28;01mfrom\u001b[39;00m\u001b[38;5;250m \u001b[39m\u001b[34;01mscipy\u001b[39;00m\u001b[34;01m.\u001b[39;00m\u001b[34;01msparse\u001b[39;00m\u001b[38;5;250m \u001b[39m\u001b[38;5;28;01mimport\u001b[39;00m csr_matrix\n\u001b[32m      2\u001b[39m \u001b[38;5;28;01mfrom\u001b[39;00m\u001b[38;5;250m \u001b[39m\u001b[34;01mscipy\u001b[39;00m\u001b[34;01m.\u001b[39;00m\u001b[34;01msparse\u001b[39;00m\u001b[34;01m.\u001b[39;00m\u001b[34;01mlinalg\u001b[39;00m\u001b[38;5;250m \u001b[39m\u001b[38;5;28;01mimport\u001b[39;00m eigsh\n\u001b[32m----> \u001b[39m\u001b[32m4\u001b[39m h = \u001b[43mhamiltonian_general\u001b[49m\u001b[43m(\u001b[49m\u001b[32;43m11\u001b[39;49m\u001b[43m,\u001b[49m\u001b[43m \u001b[49m\u001b[32;43m5\u001b[39;49m\u001b[43m,\u001b[49m\u001b[43m \u001b[49m\u001b[32;43m1\u001b[39;49m\u001b[43m)\u001b[49m\n\u001b[32m      6\u001b[39m \u001b[38;5;28mprint\u001b[39m(\u001b[33m\"\u001b[39m\u001b[33mdone dence matrix\u001b[39m\u001b[33m\"\u001b[39m)\n\u001b[32m      8\u001b[39m h_sparse = csr_matrix(h[\u001b[32m0\u001b[39m])\n",
      "\u001b[36mFile \u001b[39m\u001b[32m~/Desktop/Projects/Computational_Analisis_of_Many_Rotor_Systems/quant_rotor/core/hamiltonian_big.py:57\u001b[39m, in \u001b[36mhamiltonian_general\u001b[39m\u001b[34m(states, sites, g_val)\u001b[39m\n\u001b[32m     55\u001b[39m H_K_V = hamiltonian(\u001b[32m11\u001b[39m, \u001b[32m3\u001b[39m, g_val, spar=\u001b[38;5;28;01mTrue\u001b[39;00m)\n\u001b[32m     56\u001b[39m \u001b[38;5;28;01mfor\u001b[39;00m current_site \u001b[38;5;129;01min\u001b[39;00m \u001b[38;5;28mrange\u001b[39m(\u001b[32m3\u001b[39m, sites + \u001b[32m2\u001b[39m, \u001b[32m2\u001b[39m):\n\u001b[32m---> \u001b[39m\u001b[32m57\u001b[39m     H_K_V = \u001b[43mhamiltonian_big\u001b[49m\u001b[43m(\u001b[49m\u001b[43mstates\u001b[49m\u001b[43m,\u001b[49m\u001b[43m \u001b[49m\u001b[43mcurrent_site\u001b[49m\u001b[43m,\u001b[49m\u001b[43m \u001b[49m\u001b[43mg_val\u001b[49m\u001b[43m,\u001b[49m\u001b[43m \u001b[49m\u001b[43mH_K_V\u001b[49m\u001b[43m)\u001b[49m\n\u001b[32m     59\u001b[39m \u001b[38;5;28;01mreturn\u001b[39;00m H_K_V\n",
      "\u001b[36mFile \u001b[39m\u001b[32m~/Desktop/Projects/Computational_Analisis_of_Many_Rotor_Systems/quant_rotor/core/hamiltonian_big.py:26\u001b[39m, in \u001b[36mhamiltonian_big\u001b[39m\u001b[34m(state, site, g_val, H_K_V, l_val)\u001b[39m\n\u001b[32m     22\u001b[39m rho_site_0 = density_matrix_1(state_old, site_old, eig_vec, \u001b[32m0\u001b[39m)\n\u001b[32m     24\u001b[39m D_sparse = csr_matrix(rho_site_0)\n\u001b[32m---> \u001b[39m\u001b[32m26\u001b[39m eig_val_D, matrix_p_to_natural_orbital = \u001b[43meigsh\u001b[49m\u001b[43m(\u001b[49m\u001b[43mD_sparse\u001b[49m\u001b[43m,\u001b[49m\u001b[43m \u001b[49m\u001b[43mk\u001b[49m\u001b[43m=\u001b[49m\u001b[43mstate\u001b[49m\u001b[43m,\u001b[49m\u001b[43m \u001b[49m\u001b[43mwhich\u001b[49m\u001b[43m=\u001b[49m\u001b[33;43m'\u001b[39;49m\u001b[33;43mLA\u001b[39;49m\u001b[33;43m'\u001b[39;49m\u001b[43m)\u001b[49m\n\u001b[32m     28\u001b[39m matrix_p_to_natural_orbital_sparse = csr_matrix(matrix_p_to_natural_orbital)\n\u001b[32m     30\u001b[39m \u001b[38;5;66;03m# eig_val_D, eig_vec_D = np.linalg.eig(rho_site_0)\u001b[39;00m\n\u001b[32m     31\u001b[39m \u001b[38;5;66;03m# index_d = np.argsort(-eig_val_D)\u001b[39;00m\n\u001b[32m     32\u001b[39m \n\u001b[32m     33\u001b[39m \u001b[38;5;66;03m# V = V.reshape(state_old**2,state_old**2)\u001b[39;00m\n",
      "\u001b[36mFile \u001b[39m\u001b[32m~/Desktop/Projects/Computational_Analisis_of_Many_Rotor_Systems/.venv/lib/python3.13/site-packages/scipy/sparse/linalg/_eigen/arpack/arpack.py:1575\u001b[39m, in \u001b[36meigsh\u001b[39m\u001b[34m(A, k, M, sigma, which, v0, ncv, maxiter, tol, return_eigenvectors, Minv, OPinv, mode)\u001b[39m\n\u001b[32m   1573\u001b[39m \u001b[38;5;28;01melif\u001b[39;00m which == \u001b[33m'\u001b[39m\u001b[33mSA\u001b[39m\u001b[33m'\u001b[39m:\n\u001b[32m   1574\u001b[39m     which = \u001b[33m'\u001b[39m\u001b[33mSR\u001b[39m\u001b[33m'\u001b[39m\n\u001b[32m-> \u001b[39m\u001b[32m1575\u001b[39m ret = \u001b[43meigs\u001b[49m\u001b[43m(\u001b[49m\u001b[43mA\u001b[49m\u001b[43m,\u001b[49m\u001b[43m \u001b[49m\u001b[43mk\u001b[49m\u001b[43m,\u001b[49m\u001b[43m \u001b[49m\u001b[43mM\u001b[49m\u001b[43m=\u001b[49m\u001b[43mM\u001b[49m\u001b[43m,\u001b[49m\u001b[43m \u001b[49m\u001b[43msigma\u001b[49m\u001b[43m=\u001b[49m\u001b[43msigma\u001b[49m\u001b[43m,\u001b[49m\u001b[43m \u001b[49m\u001b[43mwhich\u001b[49m\u001b[43m=\u001b[49m\u001b[43mwhich\u001b[49m\u001b[43m,\u001b[49m\u001b[43m \u001b[49m\u001b[43mv0\u001b[49m\u001b[43m=\u001b[49m\u001b[43mv0\u001b[49m\u001b[43m,\u001b[49m\n\u001b[32m   1576\u001b[39m \u001b[43m           \u001b[49m\u001b[43mncv\u001b[49m\u001b[43m=\u001b[49m\u001b[43mncv\u001b[49m\u001b[43m,\u001b[49m\u001b[43m \u001b[49m\u001b[43mmaxiter\u001b[49m\u001b[43m=\u001b[49m\u001b[43mmaxiter\u001b[49m\u001b[43m,\u001b[49m\u001b[43m \u001b[49m\u001b[43mtol\u001b[49m\u001b[43m=\u001b[49m\u001b[43mtol\u001b[49m\u001b[43m,\u001b[49m\n\u001b[32m   1577\u001b[39m \u001b[43m           \u001b[49m\u001b[43mreturn_eigenvectors\u001b[49m\u001b[43m=\u001b[49m\u001b[43mreturn_eigenvectors\u001b[49m\u001b[43m,\u001b[49m\u001b[43m \u001b[49m\u001b[43mMinv\u001b[49m\u001b[43m=\u001b[49m\u001b[43mMinv\u001b[49m\u001b[43m,\u001b[49m\n\u001b[32m   1578\u001b[39m \u001b[43m           \u001b[49m\u001b[43mOPinv\u001b[49m\u001b[43m=\u001b[49m\u001b[43mOPinv\u001b[49m\u001b[43m)\u001b[49m\n\u001b[32m   1580\u001b[39m \u001b[38;5;28;01mif\u001b[39;00m return_eigenvectors:\n\u001b[32m   1581\u001b[39m     \u001b[38;5;28;01mreturn\u001b[39;00m ret[\u001b[32m0\u001b[39m].real, ret[\u001b[32m1\u001b[39m]\n",
      "\u001b[36mFile \u001b[39m\u001b[32m~/Desktop/Projects/Computational_Analisis_of_Many_Rotor_Systems/.venv/lib/python3.13/site-packages/scipy/sparse/linalg/_eigen/arpack/arpack.py:1279\u001b[39m, in \u001b[36meigs\u001b[39m\u001b[34m(A, k, M, sigma, which, v0, ncv, maxiter, tol, return_eigenvectors, Minv, OPinv, OPpart)\u001b[39m\n\u001b[32m   1274\u001b[39m warnings.warn(\u001b[33m\"\u001b[39m\u001b[33mk >= N - 1 for N * N square matrix. \u001b[39m\u001b[33m\"\u001b[39m\n\u001b[32m   1275\u001b[39m               \u001b[33m\"\u001b[39m\u001b[33mAttempting to use scipy.linalg.eig instead.\u001b[39m\u001b[33m\"\u001b[39m,\n\u001b[32m   1276\u001b[39m               \u001b[38;5;167;01mRuntimeWarning\u001b[39;00m, stacklevel=\u001b[32m2\u001b[39m)\n\u001b[32m   1278\u001b[39m \u001b[38;5;28;01mif\u001b[39;00m issparse(A):\n\u001b[32m-> \u001b[39m\u001b[32m1279\u001b[39m     \u001b[38;5;28;01mraise\u001b[39;00m \u001b[38;5;167;01mTypeError\u001b[39;00m(\u001b[33m\"\u001b[39m\u001b[33mCannot use scipy.linalg.eig for sparse A with \u001b[39m\u001b[33m\"\u001b[39m\n\u001b[32m   1280\u001b[39m                     \u001b[33m\"\u001b[39m\u001b[33mk >= N - 1. Use scipy.linalg.eig(A.toarray()) or\u001b[39m\u001b[33m\"\u001b[39m\n\u001b[32m   1281\u001b[39m                     \u001b[33m\"\u001b[39m\u001b[33m reduce k.\u001b[39m\u001b[33m\"\u001b[39m)\n\u001b[32m   1282\u001b[39m \u001b[38;5;28;01mif\u001b[39;00m \u001b[38;5;28misinstance\u001b[39m(A, LinearOperator):\n\u001b[32m   1283\u001b[39m     \u001b[38;5;28;01mraise\u001b[39;00m \u001b[38;5;167;01mTypeError\u001b[39;00m(\u001b[33m\"\u001b[39m\u001b[33mCannot use scipy.linalg.eig for LinearOperator \u001b[39m\u001b[33m\"\u001b[39m\n\u001b[32m   1284\u001b[39m                     \u001b[33m\"\u001b[39m\u001b[33mA with k >= N - 1.\u001b[39m\u001b[33m\"\u001b[39m)\n",
      "\u001b[31mTypeError\u001b[39m: Cannot use scipy.linalg.eig for sparse A with k >= N - 1. Use scipy.linalg.eig(A.toarray()) or reduce k."
     ]
    }
   ],
   "source": [
    "from scipy.sparse import csr_matrix\n",
    "from scipy.sparse.linalg import eigsh\n",
    "\n",
    "h = hamiltonian_general(11, 5, 1)\n",
    "\n",
    "print(\"done dence matrix\")\n",
    "\n",
    "h_sparse = csr_matrix(h[0])\n",
    "\n",
    "print(\"done sparse matrix\")\n",
    "\n",
    "eigvals_9, eigvecs_9 = eigsh(h_sparse, k=1, which='SA')\n",
    "\n",
    "# --- Step 4: Output results ---\n",
    "print(\"10 smallest eigenvalues:\")\n",
    "print(eigvals)"
   ]
  },
  {
   "cell_type": "code",
   "execution_count": 6,
   "id": "0d6b98d8",
   "metadata": {},
   "outputs": [
    {
     "name": "stdout",
     "output_type": "stream",
     "text": [
      "(125, 125)\n",
      "[[ 0.+0.j  0.+0.j  0.+0.j ...  0.+0.j  0.+0.j  0.+0.j]\n",
      " [ 0.+0.j  1.+0.j  0.+0.j ...  0.+0.j  0.+0.j  0.+0.j]\n",
      " [ 0.+0.j  0.+0.j  1.+0.j ...  0.+0.j  0.+0.j  0.+0.j]\n",
      " ...\n",
      " [ 0.+0.j  0.+0.j  0.+0.j ...  9.+0.j  0.+0.j  0.+0.j]\n",
      " [ 0.+0.j  0.+0.j  0.+0.j ...  0.+0.j 12.+0.j  0.+0.j]\n",
      " [ 0.+0.j  0.+0.j  0.+0.j ...  0.+0.j  0.+0.j 12.+0.j]]\n"
     ]
    }
   ],
   "source": [
    "h = hamiltonian(5, 3, 1, spar=True)"
   ]
  },
  {
   "cell_type": "code",
   "execution_count": 13,
   "id": "ae31af9a",
   "metadata": {},
   "outputs": [
    {
     "name": "stdout",
     "output_type": "stream",
     "text": [
      "(1331, 1331)\n",
      "(125, 125)\n",
      "(3125, 3125)\n",
      "(78125, 78125)\n"
     ]
    }
   ],
   "source": [
    "h_7_5 = hamiltonian_general(5, 7, 1)\n",
    "eigvals_7_5, eigvecs_7_5 = eigsh(h[0], k=10, which='SA')"
   ]
  },
  {
   "cell_type": "code",
   "execution_count": 14,
   "id": "0dee6904",
   "metadata": {},
   "outputs": [
    {
     "data": {
      "text/plain": [
       "(78125,)"
      ]
     },
     "execution_count": 14,
     "metadata": {},
     "output_type": "execute_result"
    }
   ],
   "source": [
    "eigvecs_7_5[:, 0].shape"
   ]
  },
  {
   "cell_type": "code",
   "execution_count": 18,
   "id": "01c52408",
   "metadata": {},
   "outputs": [
    {
     "name": "stdout",
     "output_type": "stream",
     "text": [
      "(1331, 1331)\n",
      "(343, 343)\n",
      "(16807, 16807)\n",
      "(823543, 823543)\n"
     ]
    }
   ],
   "source": [
    "h_7_7 = hamiltonian_general(7, 7, 1)\n",
    "eigvals_7_7, eigvecs_7_7 = eigsh(h[0], k=10, which='SA')"
   ]
  },
  {
   "cell_type": "code",
   "execution_count": 16,
   "id": "b78c3b09",
   "metadata": {},
   "outputs": [
    {
     "data": {
      "text/plain": [
       "(78125,)"
      ]
     },
     "execution_count": 16,
     "metadata": {},
     "output_type": "execute_result"
    }
   ],
   "source": [
    "eigvecs_7_7[:, 0].shape"
   ]
  },
  {
   "cell_type": "code",
   "execution_count": null,
   "id": "2e987bef",
   "metadata": {},
   "outputs": [],
   "source": [
    "h_7_7 = hamiltonian_general(5, 7, 1)\n",
    "print(finished)\n",
    "eigvals_7_7, eigvecs_7_7 = eigsh(h[0], k=10, which='SA')"
   ]
  },
  {
   "cell_type": "code",
   "execution_count": 17,
   "id": "83c20e37",
   "metadata": {},
   "outputs": [
    {
     "name": "stdout",
     "output_type": "stream",
     "text": [
      "(1331, 1331)\n",
      "(27, 27)\n",
      "(243, 243)\n",
      "(2187, 2187)\n",
      "(19683, 19683)\n"
     ]
    }
   ],
   "source": [
    "h_9_7 = hamiltonian_general(3, 9, 1)\n",
    "eigvals_9_7, eigvecs_9_7 = eigsh(h[0], k=10, which='SA')"
   ]
  }
 ],
 "metadata": {
  "kernelspec": {
   "display_name": ".venv",
   "language": "python",
   "name": "python3"
  },
  "language_info": {
   "codemirror_mode": {
    "name": "ipython",
    "version": 3
   },
   "file_extension": ".py",
   "mimetype": "text/x-python",
   "name": "python",
   "nbconvert_exporter": "python",
   "pygments_lexer": "ipython3",
   "version": "3.13.4"
  }
 },
 "nbformat": 4,
 "nbformat_minor": 5
}
