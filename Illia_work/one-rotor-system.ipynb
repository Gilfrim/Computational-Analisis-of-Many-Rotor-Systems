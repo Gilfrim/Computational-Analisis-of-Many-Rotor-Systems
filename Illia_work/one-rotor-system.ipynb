{
 "cells": [
  {
   "cell_type": "code",
   "execution_count": 1,
   "metadata": {},
   "outputs": [
    {
     "ename": "ModuleNotFoundError",
     "evalue": "No module named 'functions'",
     "output_type": "error",
     "traceback": [
      "\u001b[31m---------------------------------------------------------------------------\u001b[39m",
      "\u001b[31mModuleNotFoundError\u001b[39m                       Traceback (most recent call last)",
      "\u001b[36mCell\u001b[39m\u001b[36m \u001b[39m\u001b[32mIn[1]\u001b[39m\u001b[32m, line 9\u001b[39m\n\u001b[32m      7\u001b[39m \u001b[38;5;28;01mimport\u001b[39;00m\u001b[38;5;250m \u001b[39m\u001b[34;01mos\u001b[39;00m\n\u001b[32m      8\u001b[39m \u001b[38;5;28;01mfrom\u001b[39;00m\u001b[38;5;250m \u001b[39m\u001b[34;01mMain_CC_files\u001b[39;00m\u001b[38;5;250m \u001b[39m\u001b[38;5;28;01mimport\u001b[39;00m hamiltonianGenerator \u001b[38;5;28;01mas\u001b[39;00m hg\n\u001b[32m----> \u001b[39m\u001b[32m9\u001b[39m \u001b[38;5;28;01mfrom\u001b[39;00m\u001b[38;5;250m \u001b[39m\u001b[34;01mMain_CC_files\u001b[39;00m\u001b[38;5;250m \u001b[39m\u001b[38;5;28;01mimport\u001b[39;00m ham_no_csv \u001b[38;5;28;01mas\u001b[39;00m HB\n\u001b[32m     10\u001b[39m \u001b[38;5;66;03m# import hamiltonian_Bryan as HB\u001b[39;00m\n\u001b[32m     11\u001b[39m \n\u001b[32m     12\u001b[39m \n\u001b[32m     13\u001b[39m \n\u001b[32m     14\u001b[39m \u001b[38;5;66;03m# Show full DataFrame (no row/column truncation)\u001b[39;00m\n\u001b[32m     15\u001b[39m pd.set_option(\u001b[33m'\u001b[39m\u001b[33mdisplay.max_rows\u001b[39m\u001b[33m'\u001b[39m, \u001b[38;5;28;01mNone\u001b[39;00m)      \u001b[38;5;66;03m# Show all rows\u001b[39;00m\n",
      "\u001b[36mFile \u001b[39m\u001b[32m~/Desktop/Computational_Analisis_of_Many_Rotor_Systems/Illia_work/Main_CC_files/ham_no_csv.py:5\u001b[39m\n\u001b[32m      3\u001b[39m \u001b[38;5;28;01mfrom\u001b[39;00m\u001b[38;5;250m \u001b[39m\u001b[34;01mcollections\u001b[39;00m\u001b[38;5;250m \u001b[39m\u001b[38;5;28;01mimport\u001b[39;00m defaultdict\n\u001b[32m      4\u001b[39m \u001b[38;5;28;01mimport\u001b[39;00m\u001b[38;5;250m \u001b[39m\u001b[34;01mtime\u001b[39;00m\n\u001b[32m----> \u001b[39m\u001b[32m5\u001b[39m \u001b[38;5;28;01mimport\u001b[39;00m\u001b[38;5;250m \u001b[39m\u001b[34;01mfunctions\u001b[39;00m\u001b[38;5;250m \u001b[39m\u001b[38;5;28;01mas\u001b[39;00m\u001b[38;5;250m \u001b[39m\u001b[34;01mfunc\u001b[39;00m\n\u001b[32m      6\u001b[39m \u001b[38;5;28;01mimport\u001b[39;00m\u001b[38;5;250m \u001b[39m\u001b[34;01mhamiltonianGenerator\u001b[39;00m\u001b[38;5;250m \u001b[39m\u001b[38;5;28;01mas\u001b[39;00m\u001b[38;5;250m \u001b[39m\u001b[34;01mhG\u001b[39;00m\n\u001b[32m      7\u001b[39m \u001b[38;5;28;01mimport\u001b[39;00m\u001b[38;5;250m \u001b[39m\u001b[34;01mhamiltonian_Bryan\u001b[39;00m\u001b[38;5;250m \u001b[39m\u001b[38;5;28;01mas\u001b[39;00m\u001b[38;5;250m \u001b[39m\u001b[34;01mham\u001b[39;00m\n",
      "\u001b[31mModuleNotFoundError\u001b[39m: No module named 'functions'"
     ]
    }
   ],
   "source": [
    "import numpy as np\n",
    "from scipy.sparse.linalg import eigsh\n",
    "from itertools import product\n",
    "from Main_CC_files import functions as func\n",
    "import pandas as pd\n",
    "from functools import reduce\n",
    "import os\n",
    "from Main_CC_files import hamiltonianGenerator as hg\n",
    "from Main_CC_files import ham_no_csv as HB\n",
    "# import hamiltonian_Bryan as HB\n",
    "\n",
    "\n",
    "\n",
    "# Show full DataFrame (no row/column truncation)\n",
    "pd.set_option('display.max_rows', None)      # Show all rows\n",
    "pd.set_option('display.max_columns', None)   # Show all columns\n",
    "pd.set_option('display.width', 0)            # Auto-detect line width\n",
    "pd.set_option('display.max_colwidth', None)  # Full column width (if columns contain strings)"
   ]
  },
  {
   "cell_type": "markdown",
   "metadata": {},
   "source": [
    "# Applying the delta function operation."
   ]
  },
  {
   "cell_type": "markdown",
   "metadata": {},
   "source": [
    "## Applying the delta function operation.(Work in Progress)"
   ]
  },
  {
   "cell_type": "code",
   "execution_count": 2,
   "metadata": {},
   "outputs": [],
   "source": [
    "def generate_matrix(site, state):\n",
    "    states = [\"\".join(map(str, digits)) for digits in product(range(state), repeat=site)]\n",
    "    matrix = []\n",
    "\n",
    "    print(states)\n",
    "\n",
    "    for row in states:\n",
    "        row_entries = [f\"{row}|{col}\" for col in states]\n",
    "        matrix.append(row_entries)\n",
    "\n",
    "    return matrix\n",
    "\n",
    "\n",
    "def print_matrix(matrix):\n",
    "    for row in matrix:\n",
    "        print(\" \".join(row))"
   ]
  },
  {
   "cell_type": "code",
   "execution_count": 3,
   "metadata": {},
   "outputs": [],
   "source": [
    "def encode_tuple(digits):\n",
    "    \"\"\"Efficiently convert a tuple of digits to a single integer (e.g., (0,1,0) → 10).\"\"\"\n",
    "    result = 0\n",
    "    for d in digits:\n",
    "        result = result * 10 + d\n",
    "    return result\n",
    "\n",
    "def generate_matrix(site, state):\n",
    "    # Generate all basis states as tuples of digits\n",
    "    states = list(product(range(state), repeat=site))\n",
    "    \n",
    "\n",
    "    # Precompute integer encoding for each state\n",
    "    encoded = [encode_tuple(s) for s in states]\n",
    "\n",
    "    # Compute digit shift for concatenation\n",
    "    digit_scale = 10 ** site\n",
    "\n",
    "    # Build matrix using pure integer math\n",
    "    matrix = np.array([[row * digit_scale + col for col in encoded] for row in encoded])\n",
    "    return matrix"
   ]
  },
  {
   "cell_type": "code",
   "execution_count": 4,
   "metadata": {},
   "outputs": [
    {
     "ename": "NameError",
     "evalue": "name 'site' is not defined",
     "output_type": "error",
     "traceback": [
      "\u001b[31m---------------------------------------------------------------------------\u001b[39m",
      "\u001b[31mNameError\u001b[39m                                 Traceback (most recent call last)",
      "\u001b[36mCell\u001b[39m\u001b[36m \u001b[39m\u001b[32mIn[4]\u001b[39m\u001b[32m, line 1\u001b[39m\n\u001b[32m----> \u001b[39m\u001b[32m1\u001b[39m matrix_3 = generate_matrix(\u001b[43msite\u001b[49m, state)\n\u001b[32m      2\u001b[39m \u001b[38;5;28mprint\u001b[39m(matrix_3)\n",
      "\u001b[31mNameError\u001b[39m: name 'site' is not defined"
     ]
    }
   ],
   "source": [
    "matrix_3 = generate_matrix(site, state)\n",
    "print(matrix_3)"
   ]
  },
  {
   "cell_type": "code",
   "execution_count": null,
   "metadata": {},
   "outputs": [],
   "source": [
    "import numpy as np\n",
    "\n",
    "# Sample tensor of shape (2, 3, 8, 8)\n",
    "T = np.random.rand(2, 3, 8, 8)\n",
    "\n",
    "# Use broadcasting to compare across n\n",
    "comparison = T[0] != T[1]  # shape: (3, 8, 8), boolean\n",
    "\n",
    "# Convert True/False to 1/0\n",
    "comparison_int = comparison.astype(int)  # shape: (3, 8, 8)"
   ]
  },
  {
   "cell_type": "code",
   "execution_count": null,
   "metadata": {},
   "outputs": [],
   "source": [
    "T = np.arange(3**3).reshape(3, 3, 3)\n",
    "\n",
    "for i in range(1, 4):\n",
    "    for j in range(1, 4):\n",
    "        for k in range(1, 4):\n",
    "            T[i-1,j-1,k-1] = 100*i+10*j+k\n",
    "\n",
    "\n",
    "\n",
    "# Contract i with k: enforce i == k\n",
    "# T_masked = np.einsum('ij,kl,ijkl->ijkl', np.eye(3), np.eye(3), T)"
   ]
  },
  {
   "cell_type": "code",
   "execution_count": null,
   "metadata": {},
   "outputs": [
    {
     "name": "stdout",
     "output_type": "stream",
     "text": [
      "Original Tensor (flattened):\n",
      "[0 1 2 3 4 5 6 7 8]\n",
      "[array([[11, 12, 13],\n",
      "       [21, 22, 23],\n",
      "       [31, 32, 33]]), array([[1., 0., 0.],\n",
      "       [0., 1., 0.],\n",
      "       [0., 0., 1.]]), array([[1., 0., 0.],\n",
      "       [0., 1., 0.],\n",
      "       [0., 0., 1.]])]\n",
      "[[11 12 13]\n",
      " [21 22 23]\n",
      " [31 32 33]]\n",
      "(27, 27)\n"
     ]
    }
   ],
   "source": [
    "T = np.arange(3**2).reshape(3, 3)\n",
    "print(\"Original Tensor (flattened):\")\n",
    "print(T.flatten())\n",
    "\n",
    "for i in range(1, 4):\n",
    "    for j in range(1, 4):\n",
    "        T[i-1,j-1] = 10*i+1*j\n",
    "\n",
    "matrices = [T, np.eye(3), np.eye(3)]\n",
    "T_new = reduce(np.kron, matrices)\n",
    "\n",
    "print(matrices)\n",
    "print(T)\n",
    "print(T_new.shape)"
   ]
  },
  {
   "cell_type": "code",
   "execution_count": null,
   "metadata": {},
   "outputs": [
    {
     "name": "stdout",
     "output_type": "stream",
     "text": [
      "[array([[11, 12, 13],\n",
      "       [21, 22, 23],\n",
      "       [31, 32, 33]]), array([[1., 0., 0.],\n",
      "       [0., 1., 0.],\n",
      "       [0., 0., 1.]]), array([[1., 0., 0.],\n",
      "       [0., 1., 0.],\n",
      "       [0., 0., 1.]])]\n",
      "3\n"
     ]
    }
   ],
   "source": [
    "matrices = [T, np.eye(3), np.eye(3)]\n",
    "matrices[0] = T\n",
    "print(matrices)\n",
    "\n",
    "print(np.eye(3).shape[0])"
   ]
  },
  {
   "cell_type": "markdown",
   "metadata": {},
   "source": [
    "## Applying the delta function operation.(Finished Kinetic)"
   ]
  },
  {
   "cell_type": "code",
   "execution_count": null,
   "metadata": {},
   "outputs": [],
   "source": [
    "def compute_matrix_individual_sites(K: np.ndarray, target_site: int, num_site: int, num_state: int)-> np.ndarray:\n",
    "\n",
    "    matrices = [np.eye(2*num_state + 1)]*num_site\n",
    "    matrices[target_site] = K\n",
    "\n",
    "    K = reduce(np.kron, matrices)\n",
    "\n",
    "    return K\n",
    "\n",
    "def compute_kinetic_matrix(K: np.ndarray, num_site: int, num_state: int)-> np.ndarray:\n",
    "\n",
    "    K_final = np.zeros(((2*num_state + 1)**num_site, (2*num_state + 1)**num_site))\n",
    "\n",
    "    for target_site in range(num_site):\n",
    "\n",
    "        K_final += compute_matrix_individual_sites(K, target_site, num_site, num_state)\n",
    "\n",
    "    return K_final"
   ]
  },
  {
   "cell_type": "code",
   "execution_count": null,
   "metadata": {},
   "outputs": [],
   "source": [
    "# site = 3\n",
    "# state = 1\n",
    "# K_baka = np.diag(np.arange(1,4))\n",
    "\n",
    "# print(compute_kinetic_matrix(K_baka, site, state).shape)"
   ]
  },
  {
   "cell_type": "markdown",
   "metadata": {},
   "source": [
    "## Applying the delta function operation.(Finished Potential)"
   ]
  },
  {
   "cell_type": "code",
   "execution_count": null,
   "metadata": {},
   "outputs": [],
   "source": [
    "def kron_all(ops):\n",
    "    return reduce(np.kron, ops)\n",
    "\n",
    "def compute_nearest_neighbor_potential(V: np.ndarray, num_site: int, num_state: int) -> np.ndarray:\n",
    "    \"\"\"\n",
    "    V: 4D tensor (num_state, num_state, num_state, num_state)\n",
    "       representing the 2-site potential: V[i, j, k, l] = ⟨ij|V|kl⟩\n",
    "    \"\"\"\n",
    "    num_state = 2*num_state +1\n",
    "\n",
    "    dim = num_state ** num_site\n",
    "    V_Final = np.zeros((dim, dim))\n",
    "    print(num_state)\n",
    "\n",
    "    V_matrix = V.reshape(num_state**2, num_state**2)  # flatten to 2-site operator\n",
    "\n",
    "    for site in range(num_site):  # nearest-neighbor only\n",
    "        ops = [np.eye(num_state)] * (num_site-1)\n",
    "        # replace two adjacent sites with V\n",
    "        ops[site] = None  # placeholder\n",
    "        ops[site + 1] = None\n",
    "\n",
    "        # Build kronecker with V inserted\n",
    "        kron_list = []\n",
    "        for idx, op in enumerate(ops):\n",
    "            if idx == site:\n",
    "                kron_list.append(V_matrix)\n",
    "            elif op is not None:\n",
    "                kron_list.append(op)\n",
    "        # Apply Kronecker product\n",
    "        V_Final += kron_all(kron_list)\n",
    "\n",
    "    return V_Final"
   ]
  },
  {
   "cell_type": "code",
   "execution_count": null,
   "metadata": {},
   "outputs": [],
   "source": [
    "def loop_site_potential(V: np.ndarray, num_sites: int, num_state: int) -> np.ndarray:\n",
    "\n",
    "    d = num_state\n",
    "    D = d ** num_sites\n",
    "    H_total = np.zeros((D, D))\n",
    "\n",
    "    for i in range(num_sites):\n",
    "        j = (i + 1) % num_sites  # periodic wraparound\n",
    "\n",
    "        # reorder so i < j for tensor layout\n",
    "        i_, j_ = sorted((i, j))\n",
    "\n",
    "        # Reshape and embed V_matrix into full space\n",
    "        H = np.kron(V, np.eye(d ** (num_sites - 2)))\n",
    "        H = H.reshape([d] * 2 * num_sites)      \n",
    "\n",
    "        # H = H.transpose(perm)\n",
    "        H = H.reshape(D, D)\n",
    "\n",
    "        H_total += H\n",
    "\n",
    "    return H_total"
   ]
  },
  {
   "cell_type": "code",
   "execution_count": null,
   "metadata": {},
   "outputs": [],
   "source": [
    "def compute_matrix_individual_sites_V(V: np.ndarray, target_site: int, num_site: int, num_state: int)-> np.ndarray:\n",
    "\n",
    "    matrices = [np.eye(2*num_state + 1)]*(num_site -1)\n",
    "\n",
    "    matrices[target_site] = V\n",
    "\n",
    "    V_sum = reduce(np.kron, matrices)\n",
    "\n",
    "    return V_sum\n",
    "\n",
    "\n",
    "def compute_nearest_neighbor_potential(V: np.ndarray, num_site: int, num_state: int)-> np.ndarray:\n",
    "\n",
    "    V_final = np.zeros(((2*num_state + 1)**num_site, (2*num_state + 1)**num_site))\n",
    "\n",
    "    V = V.reshape((2*num_state + 1)**2, (2*num_state + 1)**2)\n",
    "\n",
    "    for target_site in range(num_site -1):\n",
    "\n",
    "        V_int = compute_matrix_individual_sites_V(V, target_site, num_site, num_state)\n",
    "\n",
    "        # hami -= V_int\n",
    "\n",
    "        # print(\"Potential hami:\",target_site)\n",
    "        # print(hami)\n",
    "\n",
    "        V_final += V_int\n",
    "\n",
    "    return V_final"
   ]
  },
  {
   "cell_type": "code",
   "execution_count": null,
   "metadata": {},
   "outputs": [
    {
     "data": {
      "text/plain": [
       "array([[ 0.  ,  0.  ,  0.  ,  0.  ,  0.75, -0.25,  0.  , -0.25,  0.75,  0.  ,  0.  ,  0.  ,  0.75,  0.  ,  0.  , -0.25,  0.  ,  0.  ,  0.  ,  0.  ,  0.  , -0.25,  0.  ,  0.  ,  0.75,  0.  ,  0.  ],\n",
       "       [ 0.  ,  0.  ,  0.  , -0.25,  0.  ,  0.  ,  0.75,  0.  ,  0.  ,  0.  ,  0.  ,  0.  ,  0.  ,  0.75,  0.  ,  0.  , -0.25,  0.  ,  0.  ,  0.  ,  0.  ,  0.  , -0.25,  0.  ,  0.  ,  0.75,  0.  ],\n",
       "       [ 0.  ,  0.  ,  0.  ,  0.75,  0.  ,  0.  , -0.25,  0.  ,  0.  ,  0.  ,  0.  ,  0.  ,  0.  ,  0.  ,  0.75,  0.  ,  0.  , -0.25,  0.  ,  0.  ,  0.  ,  0.  ,  0.  , -0.25,  0.  ,  0.  ,  0.75],\n",
       "       [ 0.  , -0.25,  0.75,  0.  ,  0.  ,  0.  ,  0.  ,  0.  ,  0.  , -0.25,  0.  ,  0.  ,  0.  ,  0.  ,  0.  ,  0.  ,  0.  ,  0.  ,  0.75,  0.  ,  0.  ,  0.  ,  0.  ,  0.  ,  0.  ,  0.  ,  0.  ],\n",
       "       [ 0.75,  0.  ,  0.  ,  0.  ,  0.  ,  0.  ,  0.  ,  0.  ,  0.  ,  0.  , -0.25,  0.  ,  0.  ,  0.  ,  0.  ,  0.  ,  0.  ,  0.  ,  0.  ,  0.75,  0.  ,  0.  ,  0.  ,  0.  ,  0.  ,  0.  ,  0.  ],\n",
       "       [-0.25,  0.  ,  0.  ,  0.  ,  0.  ,  0.  ,  0.  ,  0.  ,  0.  ,  0.  ,  0.  , -0.25,  0.  ,  0.  ,  0.  ,  0.  ,  0.  ,  0.  ,  0.  ,  0.  ,  0.75,  0.  ,  0.  ,  0.  ,  0.  ,  0.  ,  0.  ],\n",
       "       [ 0.  ,  0.75, -0.25,  0.  ,  0.  ,  0.  ,  0.  ,  0.  ,  0.  ,  0.75,  0.  ,  0.  ,  0.  ,  0.  ,  0.  ,  0.  ,  0.  ,  0.  , -0.25,  0.  ,  0.  ,  0.  ,  0.  ,  0.  ,  0.  ,  0.  ,  0.  ],\n",
       "       [-0.25,  0.  ,  0.  ,  0.  ,  0.  ,  0.  ,  0.  ,  0.  ,  0.  ,  0.  ,  0.75,  0.  ,  0.  ,  0.  ,  0.  ,  0.  ,  0.  ,  0.  ,  0.  , -0.25,  0.  ,  0.  ,  0.  ,  0.  ,  0.  ,  0.  ,  0.  ],\n",
       "       [ 0.75,  0.  ,  0.  ,  0.  ,  0.  ,  0.  ,  0.  ,  0.  ,  0.  ,  0.  ,  0.  ,  0.75,  0.  ,  0.  ,  0.  ,  0.  ,  0.  ,  0.  ,  0.  ,  0.  , -0.25,  0.  ,  0.  ,  0.  ,  0.  ,  0.  ,  0.  ],\n",
       "       [ 0.  ,  0.  ,  0.  , -0.25,  0.  ,  0.  ,  0.75,  0.  ,  0.  ,  0.  ,  0.  ,  0.  ,  0.  ,  0.75, -0.25,  0.  , -0.25,  0.75,  0.  ,  0.  ,  0.  ,  0.  ,  0.  ,  0.  ,  0.  ,  0.  ,  0.  ],\n",
       "       [ 0.  ,  0.  ,  0.  ,  0.  , -0.25,  0.  ,  0.  ,  0.75,  0.  ,  0.  ,  0.  ,  0.  , -0.25,  0.  ,  0.  ,  0.75,  0.  ,  0.  ,  0.  ,  0.  ,  0.  ,  0.  ,  0.  ,  0.  ,  0.  ,  0.  ,  0.  ],\n",
       "       [ 0.  ,  0.  ,  0.  ,  0.  ,  0.  , -0.25,  0.  ,  0.  ,  0.75,  0.  ,  0.  ,  0.  ,  0.75,  0.  ,  0.  , -0.25,  0.  ,  0.  ,  0.  ,  0.  ,  0.  ,  0.  ,  0.  ,  0.  ,  0.  ,  0.  ,  0.  ],\n",
       "       [ 0.75,  0.  ,  0.  ,  0.  ,  0.  ,  0.  ,  0.  ,  0.  ,  0.  ,  0.  , -0.25,  0.75,  0.  ,  0.  ,  0.  ,  0.  ,  0.  ,  0.  ,  0.  ,  0.  ,  0.  ,  0.  ,  0.  ,  0.  ,  0.  ,  0.  ,  0.  ],\n",
       "       [ 0.  ,  0.75,  0.  ,  0.  ,  0.  ,  0.  ,  0.  ,  0.  ,  0.  ,  0.75,  0.  ,  0.  ,  0.  ,  0.  ,  0.  ,  0.  ,  0.  ,  0.  ,  0.  ,  0.  ,  0.  ,  0.  ,  0.  ,  0.  ,  0.  ,  0.  ,  0.  ],\n",
       "       [ 0.  ,  0.  ,  0.75,  0.  ,  0.  ,  0.  ,  0.  ,  0.  ,  0.  , -0.25,  0.  ,  0.  ,  0.  ,  0.  ,  0.  ,  0.  ,  0.  ,  0.  ,  0.  ,  0.  ,  0.  ,  0.  ,  0.  ,  0.  ,  0.  ,  0.  ,  0.  ],\n",
       "       [-0.25,  0.  ,  0.  ,  0.  ,  0.  ,  0.  ,  0.  ,  0.  ,  0.  ,  0.  ,  0.75, -0.25,  0.  ,  0.  ,  0.  ,  0.  ,  0.  ,  0.  ,  0.  ,  0.  ,  0.  ,  0.  ,  0.  ,  0.  ,  0.  ,  0.  ,  0.  ],\n",
       "       [ 0.  , -0.25,  0.  ,  0.  ,  0.  ,  0.  ,  0.  ,  0.  ,  0.  , -0.25,  0.  ,  0.  ,  0.  ,  0.  ,  0.  ,  0.  ,  0.  ,  0.  ,  0.  ,  0.  ,  0.  ,  0.  ,  0.  ,  0.  ,  0.  ,  0.  ,  0.  ],\n",
       "       [ 0.  ,  0.  , -0.25,  0.  ,  0.  ,  0.  ,  0.  ,  0.  ,  0.  ,  0.75,  0.  ,  0.  ,  0.  ,  0.  ,  0.  ,  0.  ,  0.  ,  0.  ,  0.  ,  0.  ,  0.  ,  0.  ,  0.  ,  0.  ,  0.  ,  0.  ,  0.  ],\n",
       "       [ 0.  ,  0.  ,  0.  ,  0.75,  0.  ,  0.  , -0.25,  0.  ,  0.  ,  0.  ,  0.  ,  0.  ,  0.  ,  0.  ,  0.  ,  0.  ,  0.  ,  0.  ,  0.  ,  0.  ,  0.  ,  0.  ,  0.75, -0.25,  0.  , -0.25,  0.75],\n",
       "       [ 0.  ,  0.  ,  0.  ,  0.  ,  0.75,  0.  ,  0.  , -0.25,  0.  ,  0.  ,  0.  ,  0.  ,  0.  ,  0.  ,  0.  ,  0.  ,  0.  ,  0.  ,  0.  ,  0.  ,  0.  , -0.25,  0.  ,  0.  ,  0.75,  0.  ,  0.  ],\n",
       "       [ 0.  ,  0.  ,  0.  ,  0.  ,  0.  ,  0.75,  0.  ,  0.  , -0.25,  0.  ,  0.  ,  0.  ,  0.  ,  0.  ,  0.  ,  0.  ,  0.  ,  0.  ,  0.  ,  0.  ,  0.  ,  0.75,  0.  ,  0.  , -0.25,  0.  ,  0.  ],\n",
       "       [-0.25,  0.  ,  0.  ,  0.  ,  0.  ,  0.  ,  0.  ,  0.  ,  0.  ,  0.  ,  0.  ,  0.  ,  0.  ,  0.  ,  0.  ,  0.  ,  0.  ,  0.  ,  0.  , -0.25,  0.75,  0.  ,  0.  ,  0.  ,  0.  ,  0.  ,  0.  ],\n",
       "       [ 0.  , -0.25,  0.  ,  0.  ,  0.  ,  0.  ,  0.  ,  0.  ,  0.  ,  0.  ,  0.  ,  0.  ,  0.  ,  0.  ,  0.  ,  0.  ,  0.  ,  0.  ,  0.75,  0.  ,  0.  ,  0.  ,  0.  ,  0.  ,  0.  ,  0.  ,  0.  ],\n",
       "       [ 0.  ,  0.  , -0.25,  0.  ,  0.  ,  0.  ,  0.  ,  0.  ,  0.  ,  0.  ,  0.  ,  0.  ,  0.  ,  0.  ,  0.  ,  0.  ,  0.  ,  0.  , -0.25,  0.  ,  0.  ,  0.  ,  0.  ,  0.  ,  0.  ,  0.  ,  0.  ],\n",
       "       [ 0.75,  0.  ,  0.  ,  0.  ,  0.  ,  0.  ,  0.  ,  0.  ,  0.  ,  0.  ,  0.  ,  0.  ,  0.  ,  0.  ,  0.  ,  0.  ,  0.  ,  0.  ,  0.  ,  0.75, -0.25,  0.  ,  0.  ,  0.  ,  0.  ,  0.  ,  0.  ],\n",
       "       [ 0.  ,  0.75,  0.  ,  0.  ,  0.  ,  0.  ,  0.  ,  0.  ,  0.  ,  0.  ,  0.  ,  0.  ,  0.  ,  0.  ,  0.  ,  0.  ,  0.  ,  0.  , -0.25,  0.  ,  0.  ,  0.  ,  0.  ,  0.  ,  0.  ,  0.  ,  0.  ],\n",
       "       [ 0.  ,  0.  ,  0.75,  0.  ,  0.  ,  0.  ,  0.  ,  0.  ,  0.  ,  0.  ,  0.  ,  0.  ,  0.  ,  0.  ,  0.  ,  0.  ,  0.  ,  0.  ,  0.75,  0.  ,  0.  ,  0.  ,  0.  ,  0.  ,  0.  ,  0.  ,  0.  ]])"
      ]
     },
     "execution_count": 1040,
     "metadata": {},
     "output_type": "execute_result"
    }
   ],
   "source": [
    "num_sites = 3\n",
    "num_states = 1\n",
    "\n",
    "V = np.random.rand( num_states*2 +1, num_states*2 +1,  num_states*2 +1,  num_states*2 +1)\n",
    "\n",
    "H_pot = compute_nearest_neighbor_potential(V_in_p, num_sites, num_states)\n",
    "H_pot"
   ]
  },
  {
   "cell_type": "code",
   "execution_count": null,
   "metadata": {},
   "outputs": [],
   "source": [
    "def embed_two_site_operator(V, site1, site2, num_sites, d):\n",
    "\n",
    "    site1, site2 = sorted((site1, site2)) \n",
    "\n",
    "    print(\"Target site 1:\")\n",
    "    print(site1)\n",
    "    print(\"Target site 2:\")\n",
    "    print(site2)\n",
    "\n",
    "    # Identity blocks\n",
    "    I = np.eye(d)\n",
    "    if site1 > 0:\n",
    "        left = reduce(np.kron, [I] * site1)  \n",
    "    else:\n",
    "        left = 1\n",
    "\n",
    "    if site2 < num_sites - 1:\n",
    "        right = reduce(np.kron, [I] * (num_sites - site2 - 1)) \n",
    "    else:\n",
    "        right = 1\n",
    "\n",
    "    if site2 - site1 > 1:\n",
    "        middle = np.eye(d ** (site2 - site1 - 1))\n",
    "    else:\n",
    "        middle = 1\n",
    "    print(\"Left:\")\n",
    "    print(left)\n",
    "    print(\"Midle:\")\n",
    "    print(middle)\n",
    "    print(\"Right:\")\n",
    "    print(right)\n",
    "\n",
    "    return np.kron(np.kron(left, np.kron(middle, V)), right)\n",
    "\n",
    "\n",
    "\n",
    "def compute_nearest_neighbor_potential(V: np.ndarray, num_site: int, num_state: int)-> np.ndarray:\n",
    "\n",
    "    V_final = np.zeros(((2*num_state + 1)**num_site, (2*num_state + 1)**num_site))\n",
    "\n",
    "    V = V.reshape((2*num_state + 1)**2, (2*num_state + 1)**2)\n",
    "\n",
    "    for target_site in range(num_site):\n",
    "\n",
    "        target_site_1 = target_site\n",
    "        if target_site_1 == num_site - 1:\n",
    "            target_site_2 = 0\n",
    "        else:\n",
    "            target_site_2 = target_site + 1\n",
    "        \n",
    "        # print(\"Target site 1:\")\n",
    "        # print(target_site_1)\n",
    "        # print(\"Target site 2:\")\n",
    "        # print(target_site_2)\n",
    "\n",
    "        # print(embed_two_site_operator(V, target_site_1, target_site_2, num_site, 2*num_state + 1))\n",
    "\n",
    "        V_final += embed_two_site_operator(V, target_site_1, target_site_2, num_site, 2*num_state + 1)\n",
    "\n",
    "    return V_final"
   ]
  },
  {
   "cell_type": "markdown",
   "metadata": {},
   "source": [
    "## Applying the delta function operation.(Work Kinetic with fors)"
   ]
  },
  {
   "cell_type": "code",
   "execution_count": null,
   "metadata": {},
   "outputs": [],
   "source": [
    "def build_site_match_matrix(states: int, sites: int, site_index: int) -> np.ndarray:\n",
    "    dim = states ** sites\n",
    "    matrix = np.zeros((dim, dim), dtype=int)\n",
    "\n",
    "    matrix_n = np.array([[0, 0, 0],\n",
    "    [0, 1, 0],\n",
    "    [0, 0, 1]])\n",
    "\n",
    "    # Generate all basis state combinations as digit vectors\n",
    "    basis_states = []\n",
    "    for n in range(dim):\n",
    "        digits = []\n",
    "        x = n\n",
    "        for _ in range(sites):\n",
    "            digits.append(x % states)\n",
    "            x //= states\n",
    "        digits.reverse()\n",
    "        basis_states.append(digits)\n",
    "\n",
    "    # Fill matrix: compare state at site_index\n",
    "    for seg_i in range(sites + 1):\n",
    "        for seg_j in range(sites + 1):\n",
    "            for i in range(states):\n",
    "                for j in range(states):\n",
    "                    # print(i + states*dim, \"|\", j + states*dim)\n",
    "                    \n",
    "                    if basis_states[i + states*seg_i][site_index] == basis_states[j + states*seg_j][site_index] & basis_states[i + states*seg_i][site_index + 1] == basis_states[j + states*seg_j][site_index + 1]:\n",
    "\n",
    "                        print(basis_states[i + states*seg_i - 1][site_index], \"|\", basis_states[j + states*seg_j][site_index - 1])\n",
    "\n",
    "                        matrix[i + states*seg_i, j + states*seg_j] = matrix_n[basis_states[i + states*seg_i - 1][site_index],basis_states[j + states*seg_j][site_index - 1]]\n",
    "\n",
    "    return matrix"
   ]
  },
  {
   "cell_type": "code",
   "execution_count": null,
   "metadata": {},
   "outputs": [],
   "source": [
    "def build_site_match_matrix(states: int, sites: int, site_index: int) -> np.ndarray:\n",
    "    dim = states ** sites\n",
    "    matrix = np.zeros((dim, dim), dtype=int)\n",
    "\n",
    "    # Define the logic matrix\n",
    "    matrix_n = np.array([\n",
    "        [0, 0, 0],\n",
    "        [0, 1, 0],\n",
    "        [0, 0, 1]\n",
    "    ])\n",
    "\n",
    "    # Helper: get digit at a given site for a basis index\n",
    "    def get_digit(index: int, site: int) -> int:\n",
    "        return (index // (states ** (sites - site - 1))) % states\n",
    "\n",
    "    # Determine which two sites to use for comparison (not equal to site_index)\n",
    "    site_indices = [i for i in range(sites) if i != site_index]\n",
    "    assert len(site_indices) == 2, \"Only supports 3-site systems.\"\n",
    "\n",
    "    a_site0, a_site1 = site_indices\n",
    "\n",
    "    for i in range(dim):\n",
    "        for j in range(dim):\n",
    "            # Extract the digits we care about\n",
    "            a0 = get_digit(i, a_site0)\n",
    "            a1 = get_digit(i, a_site1)\n",
    "            b0 = get_digit(j, a_site0)\n",
    "            b1 = get_digit(j, a_site1)\n",
    "\n",
    "            # Apply your condition and logic matrix\n",
    "            if a0 == b0 and a1 == b1:\n",
    "                matrix[i, j] = matrix_n[a0, b0]  # you could also use matrix_n[a0, b0] or any logic\n",
    "\n",
    "    return matrix"
   ]
  },
  {
   "cell_type": "code",
   "execution_count": null,
   "metadata": {},
   "outputs": [],
   "source": [
    "def config_to_index(config, states):\n",
    "    index = 0\n",
    "    sites = len(config)\n",
    "    for i in range(sites):\n",
    "        index += config[i] * (states ** (sites - i - 1))\n",
    "    return index\n",
    "\n",
    "def get_matrix_index(unchanged, changed, states):\n",
    "    row = config_to_index(unchanged, states)\n",
    "    col = config_to_index(changed, states)\n",
    "    return row, col"
   ]
  },
  {
   "cell_type": "code",
   "execution_count": null,
   "metadata": {},
   "outputs": [],
   "source": [
    "def config_to_index(config, states):\n",
    "    index = 0\n",
    "    sites = len(config)\n",
    "    for i in range(sites):\n",
    "        index += config[i] * (states ** (sites - i - 1))\n",
    "    return index\n",
    "\n",
    "def index_to_config(index, states, sites):\n",
    "    config = []\n",
    "    for _ in range(sites):\n",
    "        config.append(index % states)\n",
    "        index //= states\n",
    "    return config[::-1]\n",
    "\n",
    "def build_matching_matrix(states: int, sites: int, compare_site: int) -> np.ndarray:\n",
    "    dim = states ** sites\n",
    "    matrix = np.zeros((dim, dim), dtype=int)\n",
    "\n",
    "    for i in range(dim):\n",
    "        unchanged = index_to_config(i, states, sites)\n",
    "\n",
    "        for s in range(states):\n",
    "            changed = unchanged.copy()\n",
    "            changed[compare_site] = s  # vary only the compared site\n",
    "\n",
    "            row = config_to_index(unchanged, states)\n",
    "            col = config_to_index(changed, states)\n",
    "            matrix[row, col] = 1\n",
    "\n",
    "    return matrix"
   ]
  },
  {
   "cell_type": "code",
   "execution_count": null,
   "metadata": {},
   "outputs": [
    {
     "data": {
      "text/plain": [
       "array([[1, 0, 0, 0, 0, 0, 0, 0, 0, 1, 0, 0, 0, 0, 0, 0, 0, 0, 1, 0, 0, 0, 0, 0, 0, 0, 0],\n",
       "       [0, 1, 0, 0, 0, 0, 0, 0, 0, 0, 1, 0, 0, 0, 0, 0, 0, 0, 0, 1, 0, 0, 0, 0, 0, 0, 0],\n",
       "       [0, 0, 1, 0, 0, 0, 0, 0, 0, 0, 0, 1, 0, 0, 0, 0, 0, 0, 0, 0, 1, 0, 0, 0, 0, 0, 0],\n",
       "       [0, 0, 0, 1, 0, 0, 0, 0, 0, 0, 0, 0, 1, 0, 0, 0, 0, 0, 0, 0, 0, 1, 0, 0, 0, 0, 0],\n",
       "       [0, 0, 0, 0, 1, 0, 0, 0, 0, 0, 0, 0, 0, 1, 0, 0, 0, 0, 0, 0, 0, 0, 1, 0, 0, 0, 0],\n",
       "       [0, 0, 0, 0, 0, 1, 0, 0, 0, 0, 0, 0, 0, 0, 1, 0, 0, 0, 0, 0, 0, 0, 0, 1, 0, 0, 0],\n",
       "       [0, 0, 0, 0, 0, 0, 1, 0, 0, 0, 0, 0, 0, 0, 0, 1, 0, 0, 0, 0, 0, 0, 0, 0, 1, 0, 0],\n",
       "       [0, 0, 0, 0, 0, 0, 0, 1, 0, 0, 0, 0, 0, 0, 0, 0, 1, 0, 0, 0, 0, 0, 0, 0, 0, 1, 0],\n",
       "       [0, 0, 0, 0, 0, 0, 0, 0, 1, 0, 0, 0, 0, 0, 0, 0, 0, 1, 0, 0, 0, 0, 0, 0, 0, 0, 1],\n",
       "       [1, 0, 0, 0, 0, 0, 0, 0, 0, 1, 0, 0, 0, 0, 0, 0, 0, 0, 1, 0, 0, 0, 0, 0, 0, 0, 0],\n",
       "       [0, 1, 0, 0, 0, 0, 0, 0, 0, 0, 1, 0, 0, 0, 0, 0, 0, 0, 0, 1, 0, 0, 0, 0, 0, 0, 0],\n",
       "       [0, 0, 1, 0, 0, 0, 0, 0, 0, 0, 0, 1, 0, 0, 0, 0, 0, 0, 0, 0, 1, 0, 0, 0, 0, 0, 0],\n",
       "       [0, 0, 0, 1, 0, 0, 0, 0, 0, 0, 0, 0, 1, 0, 0, 0, 0, 0, 0, 0, 0, 1, 0, 0, 0, 0, 0],\n",
       "       [0, 0, 0, 0, 1, 0, 0, 0, 0, 0, 0, 0, 0, 1, 0, 0, 0, 0, 0, 0, 0, 0, 1, 0, 0, 0, 0],\n",
       "       [0, 0, 0, 0, 0, 1, 0, 0, 0, 0, 0, 0, 0, 0, 1, 0, 0, 0, 0, 0, 0, 0, 0, 1, 0, 0, 0],\n",
       "       [0, 0, 0, 0, 0, 0, 1, 0, 0, 0, 0, 0, 0, 0, 0, 1, 0, 0, 0, 0, 0, 0, 0, 0, 1, 0, 0],\n",
       "       [0, 0, 0, 0, 0, 0, 0, 1, 0, 0, 0, 0, 0, 0, 0, 0, 1, 0, 0, 0, 0, 0, 0, 0, 0, 1, 0],\n",
       "       [0, 0, 0, 0, 0, 0, 0, 0, 1, 0, 0, 0, 0, 0, 0, 0, 0, 1, 0, 0, 0, 0, 0, 0, 0, 0, 1],\n",
       "       [1, 0, 0, 0, 0, 0, 0, 0, 0, 1, 0, 0, 0, 0, 0, 0, 0, 0, 1, 0, 0, 0, 0, 0, 0, 0, 0],\n",
       "       [0, 1, 0, 0, 0, 0, 0, 0, 0, 0, 1, 0, 0, 0, 0, 0, 0, 0, 0, 1, 0, 0, 0, 0, 0, 0, 0],\n",
       "       [0, 0, 1, 0, 0, 0, 0, 0, 0, 0, 0, 1, 0, 0, 0, 0, 0, 0, 0, 0, 1, 0, 0, 0, 0, 0, 0],\n",
       "       [0, 0, 0, 1, 0, 0, 0, 0, 0, 0, 0, 0, 1, 0, 0, 0, 0, 0, 0, 0, 0, 1, 0, 0, 0, 0, 0],\n",
       "       [0, 0, 0, 0, 1, 0, 0, 0, 0, 0, 0, 0, 0, 1, 0, 0, 0, 0, 0, 0, 0, 0, 1, 0, 0, 0, 0],\n",
       "       [0, 0, 0, 0, 0, 1, 0, 0, 0, 0, 0, 0, 0, 0, 1, 0, 0, 0, 0, 0, 0, 0, 0, 1, 0, 0, 0],\n",
       "       [0, 0, 0, 0, 0, 0, 1, 0, 0, 0, 0, 0, 0, 0, 0, 1, 0, 0, 0, 0, 0, 0, 0, 0, 1, 0, 0],\n",
       "       [0, 0, 0, 0, 0, 0, 0, 1, 0, 0, 0, 0, 0, 0, 0, 0, 1, 0, 0, 0, 0, 0, 0, 0, 0, 1, 0],\n",
       "       [0, 0, 0, 0, 0, 0, 0, 0, 1, 0, 0, 0, 0, 0, 0, 0, 0, 1, 0, 0, 0, 0, 0, 0, 0, 0, 1]])"
      ]
     },
     "execution_count": 821,
     "metadata": {},
     "output_type": "execute_result"
    }
   ],
   "source": [
    "states = 3\n",
    "sites = 3\n",
    "compare_site = 0\n",
    "\n",
    "M = build_matching_matrix(states, sites, compare_site)\n",
    "M"
   ]
  },
  {
   "cell_type": "code",
   "execution_count": null,
   "metadata": {},
   "outputs": [],
   "source": [
    "def config_to_index(config, states):\n",
    "    index = 0\n",
    "    sites = len(config)\n",
    "    for i in range(sites):\n",
    "        index += config[i] * (states ** (sites - i - 1))\n",
    "    return index\n",
    "\n",
    "def index_to_config(index, states, sites):\n",
    "    config = []\n",
    "    for _ in range(sites):\n",
    "        config.append(index % states)\n",
    "        index //= states\n",
    "    return config[::-1]\n",
    "\n",
    "def build_weighted_site_matrix(states: int, sites: int, compare_site: int, matrix_n: np.ndarray) -> np.ndarray:\n",
    "    dim = states ** sites\n",
    "    matrix = np.zeros((dim, dim))\n",
    "\n",
    "    for i in range(dim):\n",
    "        unchanged = index_to_config(i, states, sites)\n",
    "\n",
    "        for j in range(dim):\n",
    "            changed = index_to_config(j, states, sites)\n",
    "\n",
    "            # compare all sites except compare_site\n",
    "            if all(unchanged[k] == changed[k] for k in range(sites) if k != compare_site):\n",
    "                a = unchanged[compare_site]\n",
    "                b = changed[compare_site]\n",
    "                matrix[i, j] = matrix_n[a, b]\n",
    "\n",
    "    return matrix"
   ]
  },
  {
   "cell_type": "code",
   "execution_count": null,
   "metadata": {},
   "outputs": [
    {
     "name": "stdout",
     "output_type": "stream",
     "text": [
      "[[0. 0. 0. 0. 0. 0. 0. 0. 0. 0. 0. 0. 0. 0. 0. 0. 0. 0. 0. 0. 0. 0. 0. 0. 0. 0. 0.]\n",
      " [0. 1. 0. 0. 0. 0. 0. 0. 0. 0. 0. 0. 0. 0. 0. 0. 0. 0. 0. 0. 0. 0. 0. 0. 0. 0. 0.]\n",
      " [0. 0. 1. 0. 0. 0. 0. 0. 0. 0. 0. 0. 0. 0. 0. 0. 0. 0. 0. 0. 0. 0. 0. 0. 0. 0. 0.]\n",
      " [0. 0. 0. 1. 0. 0. 0. 0. 0. 0. 0. 0. 0. 0. 0. 0. 0. 0. 0. 0. 0. 0. 0. 0. 0. 0. 0.]\n",
      " [0. 0. 0. 0. 2. 0. 0. 0. 0. 0. 0. 0. 0. 0. 0. 0. 0. 0. 0. 0. 0. 0. 0. 0. 0. 0. 0.]\n",
      " [0. 0. 0. 0. 0. 2. 0. 0. 0. 0. 0. 0. 0. 0. 0. 0. 0. 0. 0. 0. 0. 0. 0. 0. 0. 0. 0.]\n",
      " [0. 0. 0. 0. 0. 0. 1. 0. 0. 0. 0. 0. 0. 0. 0. 0. 0. 0. 0. 0. 0. 0. 0. 0. 0. 0. 0.]\n",
      " [0. 0. 0. 0. 0. 0. 0. 2. 0. 0. 0. 0. 0. 0. 0. 0. 0. 0. 0. 0. 0. 0. 0. 0. 0. 0. 0.]\n",
      " [0. 0. 0. 0. 0. 0. 0. 0. 2. 0. 0. 0. 0. 0. 0. 0. 0. 0. 0. 0. 0. 0. 0. 0. 0. 0. 0.]\n",
      " [0. 0. 0. 0. 0. 0. 0. 0. 0. 1. 0. 0. 0. 0. 0. 0. 0. 0. 0. 0. 0. 0. 0. 0. 0. 0. 0.]\n",
      " [0. 0. 0. 0. 0. 0. 0. 0. 0. 0. 2. 0. 0. 0. 0. 0. 0. 0. 0. 0. 0. 0. 0. 0. 0. 0. 0.]\n",
      " [0. 0. 0. 0. 0. 0. 0. 0. 0. 0. 0. 2. 0. 0. 0. 0. 0. 0. 0. 0. 0. 0. 0. 0. 0. 0. 0.]\n",
      " [0. 0. 0. 0. 0. 0. 0. 0. 0. 0. 0. 0. 2. 0. 0. 0. 0. 0. 0. 0. 0. 0. 0. 0. 0. 0. 0.]\n",
      " [0. 0. 0. 0. 0. 0. 0. 0. 0. 0. 0. 0. 0. 3. 0. 0. 0. 0. 0. 0. 0. 0. 0. 0. 0. 0. 0.]\n",
      " [0. 0. 0. 0. 0. 0. 0. 0. 0. 0. 0. 0. 0. 0. 3. 0. 0. 0. 0. 0. 0. 0. 0. 0. 0. 0. 0.]\n",
      " [0. 0. 0. 0. 0. 0. 0. 0. 0. 0. 0. 0. 0. 0. 0. 2. 0. 0. 0. 0. 0. 0. 0. 0. 0. 0. 0.]\n",
      " [0. 0. 0. 0. 0. 0. 0. 0. 0. 0. 0. 0. 0. 0. 0. 0. 3. 0. 0. 0. 0. 0. 0. 0. 0. 0. 0.]\n",
      " [0. 0. 0. 0. 0. 0. 0. 0. 0. 0. 0. 0. 0. 0. 0. 0. 0. 3. 0. 0. 0. 0. 0. 0. 0. 0. 0.]\n",
      " [0. 0. 0. 0. 0. 0. 0. 0. 0. 0. 0. 0. 0. 0. 0. 0. 0. 0. 1. 0. 0. 0. 0. 0. 0. 0. 0.]\n",
      " [0. 0. 0. 0. 0. 0. 0. 0. 0. 0. 0. 0. 0. 0. 0. 0. 0. 0. 0. 2. 0. 0. 0. 0. 0. 0. 0.]\n",
      " [0. 0. 0. 0. 0. 0. 0. 0. 0. 0. 0. 0. 0. 0. 0. 0. 0. 0. 0. 0. 2. 0. 0. 0. 0. 0. 0.]\n",
      " [0. 0. 0. 0. 0. 0. 0. 0. 0. 0. 0. 0. 0. 0. 0. 0. 0. 0. 0. 0. 0. 2. 0. 0. 0. 0. 0.]\n",
      " [0. 0. 0. 0. 0. 0. 0. 0. 0. 0. 0. 0. 0. 0. 0. 0. 0. 0. 0. 0. 0. 0. 3. 0. 0. 0. 0.]\n",
      " [0. 0. 0. 0. 0. 0. 0. 0. 0. 0. 0. 0. 0. 0. 0. 0. 0. 0. 0. 0. 0. 0. 0. 3. 0. 0. 0.]\n",
      " [0. 0. 0. 0. 0. 0. 0. 0. 0. 0. 0. 0. 0. 0. 0. 0. 0. 0. 0. 0. 0. 0. 0. 0. 2. 0. 0.]\n",
      " [0. 0. 0. 0. 0. 0. 0. 0. 0. 0. 0. 0. 0. 0. 0. 0. 0. 0. 0. 0. 0. 0. 0. 0. 0. 3. 0.]\n",
      " [0. 0. 0. 0. 0. 0. 0. 0. 0. 0. 0. 0. 0. 0. 0. 0. 0. 0. 0. 0. 0. 0. 0. 0. 0. 0. 3.]]\n"
     ]
    }
   ],
   "source": [
    "states = 3\n",
    "sites = 3\n",
    "compare_site = 3\n",
    "\n",
    "M = np.zeros((states**sites, states**sites))\n",
    "\n",
    "# Example state-by-state logic matrix (you can use any weights here)\n",
    "matrix_n = np.array([\n",
    "        [0, 0, 0],\n",
    "        [0, 1, 0],\n",
    "        [0, 0, 1]\n",
    "    ])\n",
    "for i in range(compare_site):\n",
    "    M += build_weighted_site_matrix(states, sites, i, matrix_n)\n",
    "print(M)"
   ]
  },
  {
   "cell_type": "code",
   "execution_count": null,
   "metadata": {},
   "outputs": [],
   "source": [
    "def build_weighted_site_matrix(states: int, sites: int, compare_site: int, matrix_n: np.ndarray) -> np.ndarray:\n",
    "    dim = states ** sites\n",
    "    matrix = np.zeros((dim, dim))\n",
    "\n",
    "    for i in range(dim):\n",
    "        for j in range(dim):\n",
    "            match = True\n",
    "\n",
    "            # Compare all digits except the compare_site\n",
    "            for s in range(sites):\n",
    "                if s == compare_site:\n",
    "                    continue\n",
    "                # extract digit at site s for i and j\n",
    "                i_digit = (i // states**(sites - s - 1)) % states\n",
    "                j_digit = (j // states**(sites - s - 1)) % states\n",
    "\n",
    "                if i_digit != j_digit:\n",
    "                    match = False\n",
    "                    break\n",
    "\n",
    "            if match:\n",
    "                a = (i // states**(sites - compare_site - 1)) % states\n",
    "                b = (j // states**(sites - compare_site - 1)) % states\n",
    "                matrix[i, j] = matrix_n[a, b]\n",
    "\n",
    "    return matrix"
   ]
  },
  {
   "cell_type": "code",
   "execution_count": null,
   "metadata": {},
   "outputs": [
    {
     "name": "stdout",
     "output_type": "stream",
     "text": [
      "[[0. 0. 0. 0. 0. 0. 0. 0. 0. 0. 0. 0. 0. 0. 0. 0. 0. 0. 0. 0. 0. 0. 0. 0. 0. 0. 0.]\n",
      " [0. 1. 0. 0. 0. 0. 0. 0. 0. 0. 0. 0. 0. 0. 0. 0. 0. 0. 0. 0. 0. 0. 0. 0. 0. 0. 0.]\n",
      " [0. 0. 1. 0. 0. 0. 0. 0. 0. 0. 0. 0. 0. 0. 0. 0. 0. 0. 0. 0. 0. 0. 0. 0. 0. 0. 0.]\n",
      " [0. 0. 0. 1. 0. 0. 0. 0. 0. 0. 0. 0. 0. 0. 0. 0. 0. 0. 0. 0. 0. 0. 0. 0. 0. 0. 0.]\n",
      " [0. 0. 0. 0. 2. 0. 0. 0. 0. 0. 0. 0. 0. 0. 0. 0. 0. 0. 0. 0. 0. 0. 0. 0. 0. 0. 0.]\n",
      " [0. 0. 0. 0. 0. 2. 0. 0. 0. 0. 0. 0. 0. 0. 0. 0. 0. 0. 0. 0. 0. 0. 0. 0. 0. 0. 0.]\n",
      " [0. 0. 0. 0. 0. 0. 1. 0. 0. 0. 0. 0. 0. 0. 0. 0. 0. 0. 0. 0. 0. 0. 0. 0. 0. 0. 0.]\n",
      " [0. 0. 0. 0. 0. 0. 0. 2. 0. 0. 0. 0. 0. 0. 0. 0. 0. 0. 0. 0. 0. 0. 0. 0. 0. 0. 0.]\n",
      " [0. 0. 0. 0. 0. 0. 0. 0. 2. 0. 0. 0. 0. 0. 0. 0. 0. 0. 0. 0. 0. 0. 0. 0. 0. 0. 0.]\n",
      " [0. 0. 0. 0. 0. 0. 0. 0. 0. 1. 0. 0. 0. 0. 0. 0. 0. 0. 0. 0. 0. 0. 0. 0. 0. 0. 0.]\n",
      " [0. 0. 0. 0. 0. 0. 0. 0. 0. 0. 2. 0. 0. 0. 0. 0. 0. 0. 0. 0. 0. 0. 0. 0. 0. 0. 0.]\n",
      " [0. 0. 0. 0. 0. 0. 0. 0. 0. 0. 0. 2. 0. 0. 0. 0. 0. 0. 0. 0. 0. 0. 0. 0. 0. 0. 0.]\n",
      " [0. 0. 0. 0. 0. 0. 0. 0. 0. 0. 0. 0. 2. 0. 0. 0. 0. 0. 0. 0. 0. 0. 0. 0. 0. 0. 0.]\n",
      " [0. 0. 0. 0. 0. 0. 0. 0. 0. 0. 0. 0. 0. 3. 0. 0. 0. 0. 0. 0. 0. 0. 0. 0. 0. 0. 0.]\n",
      " [0. 0. 0. 0. 0. 0. 0. 0. 0. 0. 0. 0. 0. 0. 3. 0. 0. 0. 0. 0. 0. 0. 0. 0. 0. 0. 0.]\n",
      " [0. 0. 0. 0. 0. 0. 0. 0. 0. 0. 0. 0. 0. 0. 0. 2. 0. 0. 0. 0. 0. 0. 0. 0. 0. 0. 0.]\n",
      " [0. 0. 0. 0. 0. 0. 0. 0. 0. 0. 0. 0. 0. 0. 0. 0. 3. 0. 0. 0. 0. 0. 0. 0. 0. 0. 0.]\n",
      " [0. 0. 0. 0. 0. 0. 0. 0. 0. 0. 0. 0. 0. 0. 0. 0. 0. 3. 0. 0. 0. 0. 0. 0. 0. 0. 0.]\n",
      " [0. 0. 0. 0. 0. 0. 0. 0. 0. 0. 0. 0. 0. 0. 0. 0. 0. 0. 1. 0. 0. 0. 0. 0. 0. 0. 0.]\n",
      " [0. 0. 0. 0. 0. 0. 0. 0. 0. 0. 0. 0. 0. 0. 0. 0. 0. 0. 0. 2. 0. 0. 0. 0. 0. 0. 0.]\n",
      " [0. 0. 0. 0. 0. 0. 0. 0. 0. 0. 0. 0. 0. 0. 0. 0. 0. 0. 0. 0. 2. 0. 0. 0. 0. 0. 0.]\n",
      " [0. 0. 0. 0. 0. 0. 0. 0. 0. 0. 0. 0. 0. 0. 0. 0. 0. 0. 0. 0. 0. 2. 0. 0. 0. 0. 0.]\n",
      " [0. 0. 0. 0. 0. 0. 0. 0. 0. 0. 0. 0. 0. 0. 0. 0. 0. 0. 0. 0. 0. 0. 3. 0. 0. 0. 0.]\n",
      " [0. 0. 0. 0. 0. 0. 0. 0. 0. 0. 0. 0. 0. 0. 0. 0. 0. 0. 0. 0. 0. 0. 0. 3. 0. 0. 0.]\n",
      " [0. 0. 0. 0. 0. 0. 0. 0. 0. 0. 0. 0. 0. 0. 0. 0. 0. 0. 0. 0. 0. 0. 0. 0. 2. 0. 0.]\n",
      " [0. 0. 0. 0. 0. 0. 0. 0. 0. 0. 0. 0. 0. 0. 0. 0. 0. 0. 0. 0. 0. 0. 0. 0. 0. 3. 0.]\n",
      " [0. 0. 0. 0. 0. 0. 0. 0. 0. 0. 0. 0. 0. 0. 0. 0. 0. 0. 0. 0. 0. 0. 0. 0. 0. 0. 3.]]\n"
     ]
    }
   ],
   "source": [
    "states = 3\n",
    "sites = 3\n",
    "compare_site = 3\n",
    "\n",
    "M = np.zeros((states**sites, states**sites))\n",
    "\n",
    "# Example state-by-state logic matrix (you can use any weights here)\n",
    "matrix_n = np.array([\n",
    "        [0, 0, 0],\n",
    "        [0, 1, 0],\n",
    "        [0, 0, 1]\n",
    "    ])\n",
    "for i in range(compare_site):\n",
    "    M += build_weighted_site_matrix(states, sites, i, matrix_n)\n",
    "print(M)"
   ]
  },
  {
   "cell_type": "code",
   "execution_count": null,
   "metadata": {},
   "outputs": [],
   "source": [
    "import numpy as np\n",
    "from itertools import product\n",
    "\n",
    "def config_to_index(config, states):\n",
    "    index = 0\n",
    "    sites = len(config)\n",
    "    for i in range(sites):\n",
    "        index += config[i] * (states ** (sites - i - 1))\n",
    "    return index\n",
    "\n",
    "def get_matrix_index(unchanged, changed, states):\n",
    "    row = config_to_index(unchanged, states)\n",
    "    col = config_to_index(changed, states)\n",
    "    return row, col\n",
    "\n",
    "def build_weighted_site_matrix_sparse(states: int, sites: int, compare_site: int, matrix_n: np.ndarray) -> np.ndarray:\n",
    "    dim = states ** sites\n",
    "    matrix = np.zeros((dim, dim))\n",
    "\n",
    "    # Iterate over all possible configurations (unchanged)\n",
    "    for config in product(range(states), repeat=sites):\n",
    "        unchanged = list(config)\n",
    "        print(unchanged)\n",
    "        for s in range(states):\n",
    "            changed = unchanged.copy()\n",
    "            changed[compare_site] = s\n",
    "\n",
    "            row, col = get_matrix_index(unchanged, changed, states)\n",
    "            a = unchanged[compare_site]\n",
    "            b = changed[compare_site]\n",
    "            matrix[row, col] = matrix_n[a, b]\n",
    "\n",
    "    return matrix"
   ]
  },
  {
   "cell_type": "code",
   "execution_count": null,
   "metadata": {},
   "outputs": [],
   "source": [
    "def config_to_index(config, states):\n",
    "    index = 0\n",
    "    sites = len(config)\n",
    "    for i in range(sites):\n",
    "        index += config[i] * (states ** (sites - i - 1))\n",
    "    return index\n",
    "\n",
    "def get_matrix_index(unchanged, changed, states):\n",
    "    row = config_to_index(unchanged, states)\n",
    "    col = config_to_index(changed, states)\n",
    "    return row, col\n",
    "\n",
    "def build_weighted_site_matrix_sparse(states: int, sites: int, compare_site: int, matrix_n: np.ndarray) -> np.ndarray:\n",
    "    dim = states ** sites\n",
    "    matrix = np.zeros((dim, dim))\n",
    "\n",
    "    # Iterate over all possible configurations (unchanged)\n",
    "    for config in product(range(states), repeat=sites):\n",
    "        unchanged = list(config)\n",
    "        a = unchanged[compare_site]\n",
    "\n",
    "        for b in range(states):\n",
    "            val = matrix_n[a, b]\n",
    "            if val == 0:\n",
    "                continue  # Skip if matrix_n entry is zero\n",
    "\n",
    "            changed = unchanged.copy()\n",
    "            changed[compare_site] = b\n",
    "\n",
    "            row, col = get_matrix_index(unchanged, changed, states)\n",
    "            matrix[row, col] = val\n",
    "\n",
    "    return matrix"
   ]
  },
  {
   "cell_type": "markdown",
   "metadata": {},
   "source": [
    "## Applying the delta function operation.(Final Kitentik with fors)"
   ]
  },
  {
   "cell_type": "code",
   "execution_count": 5,
   "metadata": {},
   "outputs": [],
   "source": [
    "def H_kinetic(states: int, sites: int, h_pp: np.ndarray) -> np.ndarray:\n",
    "\n",
    "    K = np.zeros((states**sites, states**sites))\n",
    "\n",
    "    for x in range(sites):\n",
    "        n_lambda = states**(x)\n",
    "        n_mu = states**(sites - x - 1)\n",
    "\n",
    "        for p in range(states):\n",
    "            for p_prime in range(states):\n",
    "                val = h_pp[p, p_prime]\n",
    "                if val == 0:\n",
    "                    continue  # skip writing 0s\n",
    "                for Lambda in range(int(n_lambda)):\n",
    "                    for mu in range(int(n_mu)):\n",
    "                        i = mu + p * n_mu + Lambda * states * n_mu\n",
    "                        j = mu + p_prime * n_mu + Lambda * states * n_mu\n",
    "                        K[i, j] += val\n",
    "    return K"
   ]
  },
  {
   "cell_type": "code",
   "execution_count": null,
   "metadata": {},
   "outputs": [
    {
     "name": "stdout",
     "output_type": "stream",
     "text": [
      "[[0. 0. 0. 0. 0. 0. 0. 0. 0. 0. 0. 0. 0. 0. 0. 0. 0. 0. 0. 0. 0. 0. 0. 0. 0. 0. 0.]\n",
      " [0. 1. 0. 0. 0. 0. 0. 0. 0. 0. 0. 0. 0. 0. 0. 0. 0. 0. 0. 0. 0. 0. 0. 0. 0. 0. 0.]\n",
      " [0. 0. 1. 0. 0. 0. 0. 0. 0. 0. 0. 0. 0. 0. 0. 0. 0. 0. 0. 0. 0. 0. 0. 0. 0. 0. 0.]\n",
      " [0. 0. 0. 1. 0. 0. 0. 0. 0. 0. 0. 0. 0. 0. 0. 0. 0. 0. 0. 0. 0. 0. 0. 0. 0. 0. 0.]\n",
      " [0. 0. 0. 0. 2. 0. 0. 0. 0. 0. 0. 0. 0. 0. 0. 0. 0. 0. 0. 0. 0. 0. 0. 0. 0. 0. 0.]\n",
      " [0. 0. 0. 0. 0. 2. 0. 0. 0. 0. 0. 0. 0. 0. 0. 0. 0. 0. 0. 0. 0. 0. 0. 0. 0. 0. 0.]\n",
      " [0. 0. 0. 0. 0. 0. 1. 0. 0. 0. 0. 0. 0. 0. 0. 0. 0. 0. 0. 0. 0. 0. 0. 0. 0. 0. 0.]\n",
      " [0. 0. 0. 0. 0. 0. 0. 2. 0. 0. 0. 0. 0. 0. 0. 0. 0. 0. 0. 0. 0. 0. 0. 0. 0. 0. 0.]\n",
      " [0. 0. 0. 0. 0. 0. 0. 0. 2. 0. 0. 0. 0. 0. 0. 0. 0. 0. 0. 0. 0. 0. 0. 0. 0. 0. 0.]\n",
      " [0. 0. 0. 0. 0. 0. 0. 0. 0. 1. 0. 0. 0. 0. 0. 0. 0. 0. 0. 0. 0. 0. 0. 0. 0. 0. 0.]\n",
      " [0. 0. 0. 0. 0. 0. 0. 0. 0. 0. 2. 0. 0. 0. 0. 0. 0. 0. 0. 0. 0. 0. 0. 0. 0. 0. 0.]\n",
      " [0. 0. 0. 0. 0. 0. 0. 0. 0. 0. 0. 2. 0. 0. 0. 0. 0. 0. 0. 0. 0. 0. 0. 0. 0. 0. 0.]\n",
      " [0. 0. 0. 0. 0. 0. 0. 0. 0. 0. 0. 0. 2. 0. 0. 0. 0. 0. 0. 0. 0. 0. 0. 0. 0. 0. 0.]\n",
      " [0. 0. 0. 0. 0. 0. 0. 0. 0. 0. 0. 0. 0. 3. 0. 0. 0. 0. 0. 0. 0. 0. 0. 0. 0. 0. 0.]\n",
      " [0. 0. 0. 0. 0. 0. 0. 0. 0. 0. 0. 0. 0. 0. 3. 0. 0. 0. 0. 0. 0. 0. 0. 0. 0. 0. 0.]\n",
      " [0. 0. 0. 0. 0. 0. 0. 0. 0. 0. 0. 0. 0. 0. 0. 2. 0. 0. 0. 0. 0. 0. 0. 0. 0. 0. 0.]\n",
      " [0. 0. 0. 0. 0. 0. 0. 0. 0. 0. 0. 0. 0. 0. 0. 0. 3. 0. 0. 0. 0. 0. 0. 0. 0. 0. 0.]\n",
      " [0. 0. 0. 0. 0. 0. 0. 0. 0. 0. 0. 0. 0. 0. 0. 0. 0. 3. 0. 0. 0. 0. 0. 0. 0. 0. 0.]\n",
      " [0. 0. 0. 0. 0. 0. 0. 0. 0. 0. 0. 0. 0. 0. 0. 0. 0. 0. 1. 0. 0. 0. 0. 0. 0. 0. 0.]\n",
      " [0. 0. 0. 0. 0. 0. 0. 0. 0. 0. 0. 0. 0. 0. 0. 0. 0. 0. 0. 2. 0. 0. 0. 0. 0. 0. 0.]\n",
      " [0. 0. 0. 0. 0. 0. 0. 0. 0. 0. 0. 0. 0. 0. 0. 0. 0. 0. 0. 0. 2. 0. 0. 0. 0. 0. 0.]\n",
      " [0. 0. 0. 0. 0. 0. 0. 0. 0. 0. 0. 0. 0. 0. 0. 0. 0. 0. 0. 0. 0. 2. 0. 0. 0. 0. 0.]\n",
      " [0. 0. 0. 0. 0. 0. 0. 0. 0. 0. 0. 0. 0. 0. 0. 0. 0. 0. 0. 0. 0. 0. 3. 0. 0. 0. 0.]\n",
      " [0. 0. 0. 0. 0. 0. 0. 0. 0. 0. 0. 0. 0. 0. 0. 0. 0. 0. 0. 0. 0. 0. 0. 3. 0. 0. 0.]\n",
      " [0. 0. 0. 0. 0. 0. 0. 0. 0. 0. 0. 0. 0. 0. 0. 0. 0. 0. 0. 0. 0. 0. 0. 0. 2. 0. 0.]\n",
      " [0. 0. 0. 0. 0. 0. 0. 0. 0. 0. 0. 0. 0. 0. 0. 0. 0. 0. 0. 0. 0. 0. 0. 0. 0. 3. 0.]\n",
      " [0. 0. 0. 0. 0. 0. 0. 0. 0. 0. 0. 0. 0. 0. 0. 0. 0. 0. 0. 0. 0. 0. 0. 0. 0. 0. 3.]]\n"
     ]
    }
   ],
   "source": [
    "states = 3\n",
    "sites = 3\n",
    "compare_site = 3\n",
    "\n",
    "# Example state-by-state logic matrix (you can use any weights here)\n",
    "K = np.array([\n",
    "        [0, 0, 0],\n",
    "        [0, 1, 0],\n",
    "        [0, 0, 1]\n",
    "    ])\n",
    "N = H_kin(states, sites, K)\n",
    "print(N)"
   ]
  },
  {
   "cell_type": "markdown",
   "metadata": {},
   "source": [
    "## Applying the delta function operation.(Final Potential with fors)"
   ]
  },
  {
   "cell_type": "code",
   "execution_count": 78,
   "metadata": {},
   "outputs": [],
   "source": [
    "def H_potential(states: int, sites: int, h_pp_qq: np.ndarray) -> np.ndarray:\n",
    "\n",
    "    K = np.zeros((states**sites, states**sites))\n",
    "\n",
    "    for x in range(sites):\n",
    "        y = (x+1) % sites\n",
    "        n_lambda = states**(x % (sites-1))\n",
    "        n_mu = states**((sites - y - 1) % (sites - 1))\n",
    "        n_nu = states**(np.abs(y - x) - 1)\n",
    "\n",
    "        for q in range(states):\n",
    "            for q_prime in range(states):\n",
    "                for p in range(states):\n",
    "                    for p_prime in range(states):\n",
    "\n",
    "                        val = h_pp_qq[p,q, p_prime, q_prime]\n",
    "                        if val == 0:\n",
    "                            continue  # skip writing 0s\n",
    "\n",
    "                        for Lambda in range(int(n_lambda)):\n",
    "                            for mu in range(int(n_mu)):\n",
    "                                for nu in range(int(n_nu)):\n",
    "                                    \n",
    "                                    i = mu + q*n_mu + nu*states*n_mu + p*n_nu*n_mu*states + Lambda*n_nu*n_mu*states**2\n",
    "                                    j = mu + q_prime*n_mu + nu*states*n_mu + p_prime*n_nu*n_mu*states + Lambda*n_nu*n_mu*states**2\n",
    "                                    K[i, j] += val\n",
    "    return K"
   ]
  },
  {
   "cell_type": "code",
   "execution_count": 69,
   "metadata": {},
   "outputs": [
    {
     "name": "stdout",
     "output_type": "stream",
     "text": [
      "x:  0\n",
      "y:  1 y_1:  1 Comp_y:  True\n",
      "Lambda:  0 Lambda_1:  0 Comp_Lambda:  True\n",
      "Mu:  4 Mu_1:  4 Comp_Mu:  True\n",
      "Nu:  0 Nu_1:  0 Comp_Nu:  True\n",
      "x:  1\n",
      "y:  2 y_1:  2 Comp_y:  True\n",
      "Lambda:  1 Lambda_1:  1 Comp_Lambda:  True\n",
      "Mu:  3 Mu_1:  3 Comp_Mu:  True\n",
      "Nu:  0 Nu_1:  0 Comp_Nu:  True\n",
      "x:  2\n",
      "y:  3 y_1:  3 Comp_y:  True\n",
      "Lambda:  2 Lambda_1:  2 Comp_Lambda:  True\n",
      "Mu:  2 Mu_1:  2 Comp_Mu:  True\n",
      "Nu:  0 Nu_1:  0 Comp_Nu:  True\n",
      "x:  3\n",
      "y:  4 y_1:  4 Comp_y:  True\n",
      "Lambda:  3 Lambda_1:  3 Comp_Lambda:  True\n",
      "Mu:  1 Mu_1:  1 Comp_Mu:  True\n",
      "Nu:  0 Nu_1:  0 Comp_Nu:  True\n",
      "x:  4\n",
      "y:  5 y_1:  5 Comp_y:  True\n",
      "Lambda:  4 Lambda_1:  4 Comp_Lambda:  True\n",
      "Mu:  0 Mu_1:  0 Comp_Mu:  True\n",
      "Nu:  0 Nu_1:  0 Comp_Nu:  True\n",
      "x:  5\n",
      "y:  0 y_1:  0 Comp_y:  True\n",
      "Lambda:  0 Lambda_1:  0 Comp_Lambda:  True\n",
      "Mu:  0 Mu_1:  0 Comp_Mu:  True\n",
      "Nu:  4 Nu_1:  4 Comp_Nu:  True\n"
     ]
    }
   ],
   "source": [
    "x = 5\n",
    "sites = 6\n",
    "states = 5\n",
    "\n",
    "\n",
    "for x in range(sites):\n",
    "\n",
    "    y_1 = (x+1) % sites\n",
    "    n_lambda_1 = x\n",
    "    n_mu_1 = sites - y_1 - 1\n",
    "    n_nu_1 = y_1 - x - 1\n",
    "\n",
    "    if x == sites -1:\n",
    "        n_lambda_1 = 0\n",
    "        n_mu_1 = 0\n",
    "        n_nu_1 = sites-2\n",
    "\n",
    "    y = ((x+1) % sites)\n",
    "    n_lambda = x % (sites-1)\n",
    "    n_mu = (sites - y - 1) % (sites - 1)\n",
    "    n_nu = np.abs(y - x) - 1\n",
    "\n",
    "    print(\"x: \", x)\n",
    "    print(\"y: \", y, \"y_1: \", y_1, \"Comp_y: \", y == y_1)\n",
    "    print(\"Lambda: \", n_lambda, \"Lambda_1: \", n_lambda_1, \"Comp_Lambda: \", n_lambda == n_lambda_1)\n",
    "    print(\"Mu: \", n_mu, \"Mu_1: \", n_mu_1, \"Comp_Mu: \", n_mu == n_mu_1)\n",
    "    print(\"Nu: \", n_nu, \"Nu_1: \", n_nu_1, \"Comp_Nu: \", n_nu == n_nu_1)"
   ]
  },
  {
   "cell_type": "markdown",
   "metadata": {},
   "source": [
    "# Converting from m to p."
   ]
  },
  {
   "cell_type": "markdown",
   "metadata": {},
   "source": [
    "## Free one body syste m to p. (Work in progress)"
   ]
  },
  {
   "cell_type": "code",
   "execution_count": null,
   "metadata": {},
   "outputs": [
    {
     "name": "stdout",
     "output_type": "stream",
     "text": [
      "[[ 1  2  3  4]\n",
      " [ 2  5  6  7]\n",
      " [ 3  6  8  9]\n",
      " [ 4  7  9 10]]\n",
      "(array([[0],\n",
      "       [3],\n",
      "       [1],\n",
      "       [2]]), array([[0, 3, 1, 2]]))\n",
      "[[ 1  3  4  2]\n",
      " [ 3  8  9  6]\n",
      " [ 4  9 10  7]\n",
      " [ 2  6  7  5]]\n",
      "[[ 1.  3.  4.  2.]\n",
      " [ 3.  8.  9.  6.]\n",
      " [ 4.  9. 10.  7.]\n",
      " [ 2.  6.  7.  5.]]\n"
     ]
    }
   ],
   "source": [
    "\n",
    "# Original matrix A\n",
    "A = np.array([\n",
    "    [1, 2, 3, 4],\n",
    "    [2, 5, 6, 7],\n",
    "    [3, 6, 8, 9],\n",
    "    [4, 7, 9, 10]\n",
    "])\n",
    "print(A)\n",
    "# Index map: new_index[i] = index of row i in the new basis\n",
    "index_map = [0, 3, 1, 2]  # Example: remap row/col 1 → 3, 2 → 1, 3 → 2\n",
    "\n",
    "# Permute rows and columns accordingly\n",
    "A_new = A[np.ix_(index_map, index_map)]\n",
    "A_new = A_new.T[np.ix_(index_map, index_map)]\n",
    "\n",
    "print(np.ix_(index_map, index_map))\n",
    "\n",
    "print(A_new)\n",
    "\n",
    "P = np.eye(len(index_map))[index_map]\n",
    "A_new2 = P.T @ A @ P\n",
    "\n",
    "print(A_new2)"
   ]
  },
  {
   "cell_type": "code",
   "execution_count": null,
   "metadata": {},
   "outputs": [
    {
     "name": "stdout",
     "output_type": "stream",
     "text": [
      "[ 0.  1.  1.  4.  4.  9.  9. 16. 16. 25. 25.]\n"
     ]
    },
    {
     "data": {
      "text/plain": [
       "array([[ 0.,  0.,  0.,  0.,  0.,  0.,  0.,  0.,  0.,  0.,  0.],\n",
       "       [ 0.,  1.,  0.,  0.,  0.,  0.,  0.,  0.,  0.,  0.,  0.],\n",
       "       [ 0.,  0.,  1.,  0.,  0.,  0.,  0.,  0.,  0.,  0.,  0.],\n",
       "       [ 0.,  0.,  0.,  4.,  0.,  0.,  0.,  0.,  0.,  0.,  0.],\n",
       "       [ 0.,  0.,  0.,  0.,  4.,  0.,  0.,  0.,  0.,  0.,  0.],\n",
       "       [ 0.,  0.,  0.,  0.,  0.,  9.,  0.,  0.,  0.,  0.,  0.],\n",
       "       [ 0.,  0.,  0.,  0.,  0.,  0.,  9.,  0.,  0.,  0.,  0.],\n",
       "       [ 0.,  0.,  0.,  0.,  0.,  0.,  0., 16.,  0.,  0.,  0.],\n",
       "       [ 0.,  0.,  0.,  0.,  0.,  0.,  0.,  0., 16.,  0.,  0.],\n",
       "       [ 0.,  0.,  0.,  0.,  0.,  0.,  0.,  0.,  0., 25.,  0.],\n",
       "       [ 0.,  0.,  0.,  0.,  0.,  0.,  0.,  0.,  0.,  0., 25.]])"
      ]
     },
     "execution_count": 8,
     "metadata": {},
     "output_type": "execute_result"
    }
   ],
   "source": [
    "def free_one_body(max_m: int)-> np.array:\n",
    "\n",
    "    p_max = 2*max_m + 1\n",
    "    p_vect = np.zeros(p_max)\n",
    "\n",
    "    m = 0\n",
    "\n",
    "    for i in range(1, max_m+1):\n",
    "\n",
    "        p_vect[i + m] = i**2\n",
    "        p_vect[i + 1 + m] = (-i)**2\n",
    "        m+=1\n",
    "    \n",
    "    print(p_vect)\n",
    "\n",
    "    return  np.diag(p_vect)\n",
    "\n",
    "K_new = free_one_body(5)\n",
    "\n",
    "K_new"
   ]
  },
  {
   "cell_type": "code",
   "execution_count": null,
   "metadata": {},
   "outputs": [
    {
     "name": "stdout",
     "output_type": "stream",
     "text": [
      "      0     1    2    3    4    5    6    7    8     9     10\n",
      "0   25.0   0.0  0.0  0.0  0.0  0.0  0.0  0.0  0.0   0.0   0.0\n",
      "1    0.0  16.0  0.0  0.0  0.0  0.0  0.0  0.0  0.0   0.0   0.0\n",
      "2    0.0   0.0  9.0  0.0  0.0  0.0  0.0  0.0  0.0   0.0   0.0\n",
      "3    0.0   0.0  0.0  4.0  0.0  0.0  0.0  0.0  0.0   0.0   0.0\n",
      "4    0.0   0.0  0.0  0.0  1.0  0.0  0.0  0.0  0.0   0.0   0.0\n",
      "5    0.0   0.0  0.0  0.0  0.0  0.0  0.0  0.0  0.0   0.0   0.0\n",
      "6    0.0   0.0  0.0  0.0  0.0  0.0  1.0  0.0  0.0   0.0   0.0\n",
      "7    0.0   0.0  0.0  0.0  0.0  0.0  0.0  4.0  0.0   0.0   0.0\n",
      "8    0.0   0.0  0.0  0.0  0.0  0.0  0.0  0.0  9.0   0.0   0.0\n",
      "9    0.0   0.0  0.0  0.0  0.0  0.0  0.0  0.0  0.0  16.0   0.0\n",
      "10   0.0   0.0  0.0  0.0  0.0  0.0  0.0  0.0  0.0   0.0  25.0\n"
     ]
    }
   ],
   "source": [
    "df = pd.read_csv(\n",
    "    \"/Users/gilfrim/Desktop/QuantumChemistryCoop/Main-CC-files/matrix_elements_K.csv\",\n",
    "    skiprows=1, header=0\n",
    ")\n",
    "\n",
    "# Clean column names\n",
    "df.columns = [col.strip() for col in df.columns]\n",
    "\n",
    "# Convert columns safely\n",
    "df[\"m1\"] = df[\"m1\"].astype(int)\n",
    "df[\"m2\"] = df[\"m2\"].astype(int)\n",
    "df[\"<m1|K|m2>\"] = df[\"<m1|K|m2>\"].astype(float)\n",
    "\n",
    "# Matrix size and init\n",
    "size = max(df[\"m1\"].max(), df[\"m2\"].max()) + 1\n",
    "K = np.zeros((size, size))\n",
    "\n",
    "m = (size - 1) / 2\n",
    "\n",
    "# Fill matrix\n",
    "for _, row in df.iterrows():\n",
    "\n",
    "    i = int(row[\"m1\"])\n",
    "    j = int(row[\"m2\"])\n",
    "    val = float(row[\"<m1|K|m2>\"])\n",
    "    K[i, j] = val\n",
    "    K[j, i] = val\n",
    "\n",
    "    \n",
    "# Show matrix\n",
    "print(pd.DataFrame(K))"
   ]
  },
  {
   "cell_type": "code",
   "execution_count": null,
   "metadata": {},
   "outputs": [
    {
     "name": "stdout",
     "output_type": "stream",
     "text": [
      "[ 0 -1  1 -2  2 -3  3 -4  4 -5  5]\n",
      "[ 0.  1.  2.  3.  4.  5.  6.  7.  8.  9. 10.]\n"
     ]
    }
   ],
   "source": [
    "# p_vect = np.zeros(11)\n",
    "p_vect = np.array([0,  -1, 1,  -2, 2,  -3, 3,  -4, 4,  -5, 5])\n",
    "m=0\n",
    "vec1 = np.zeros(11)\n",
    "\n",
    "for i in range(11):\n",
    "    vec1[i] = int(func.m_to_p(p_vect[i]))\n",
    "\n",
    "print(p_vect)\n",
    "print(vec1)"
   ]
  },
  {
   "cell_type": "markdown",
   "metadata": {},
   "source": [
    "## Free one body system m to p. (Final Function)"
   ]
  },
  {
   "cell_type": "code",
   "execution_count": null,
   "metadata": {},
   "outputs": [
    {
     "name": "stdout",
     "output_type": "stream",
     "text": [
      "     0    1    2    3    4    5    6     7     8     9     10\n",
      "0   0.0  0.0  0.0  0.0  0.0  0.0  0.0   0.0   0.0   0.0   0.0\n",
      "1   0.0  1.0  0.0  0.0  0.0  0.0  0.0   0.0   0.0   0.0   0.0\n",
      "2   0.0  0.0  1.0  0.0  0.0  0.0  0.0   0.0   0.0   0.0   0.0\n",
      "3   0.0  0.0  0.0  4.0  0.0  0.0  0.0   0.0   0.0   0.0   0.0\n",
      "4   0.0  0.0  0.0  0.0  4.0  0.0  0.0   0.0   0.0   0.0   0.0\n",
      "5   0.0  0.0  0.0  0.0  0.0  9.0  0.0   0.0   0.0   0.0   0.0\n",
      "6   0.0  0.0  0.0  0.0  0.0  0.0  9.0   0.0   0.0   0.0   0.0\n",
      "7   0.0  0.0  0.0  0.0  0.0  0.0  0.0  16.0   0.0   0.0   0.0\n",
      "8   0.0  0.0  0.0  0.0  0.0  0.0  0.0   0.0  16.0   0.0   0.0\n",
      "9   0.0  0.0  0.0  0.0  0.0  0.0  0.0   0.0   0.0  25.0   0.0\n",
      "10  0.0  0.0  0.0  0.0  0.0  0.0  0.0   0.0   0.0   0.0  25.0\n"
     ]
    }
   ],
   "source": [
    "def create_inverse_index_map(total_num_states: int) -> np.ndarray:\n",
    "    # map m → p\n",
    "    m_vals = np.arange(-total_num_states, total_num_states + 1)\n",
    "    p_vals = np.vectorize(func.m_to_p)(m_vals)\n",
    "\n",
    "    # Create inverse: map p → position in m-sorted order\n",
    "    inverse_index_map = np.zeros_like(p_vals)\n",
    "    for i, p in enumerate(p_vals):\n",
    "        inverse_index_map[p] = i\n",
    "\n",
    "    return inverse_index_map\n",
    "\n",
    "def basis_m_to_p_matrix_conversion_one_body(matrix: np.ndarray)->np.ndarray:\n",
    "\n",
    "    dim = matrix.shape[0]\n",
    "    index_map = create_inverse_index_map((dim-1)//2)\n",
    "\n",
    "    matrix = matrix[np.ix_(index_map, index_map)]\n",
    "\n",
    "    return matrix\n",
    "\n",
    "print(pd.DataFrame(basis_m_to_p_matrix_conversion_one_body(K)))"
   ]
  },
  {
   "cell_type": "code",
   "execution_count": null,
   "metadata": {},
   "outputs": [
    {
     "name": "stdout",
     "output_type": "stream",
     "text": [
      "      0     1    2    3    4    5    6    7    8     9     10\n",
      "0   25.0   0.0  0.0  0.0  0.0  0.0  0.0  0.0  0.0   0.0   0.0\n",
      "1    0.0  16.0  0.0  0.0  0.0  0.0  0.0  0.0  0.0   0.0   0.0\n",
      "2    0.0   0.0  9.0  0.0  0.0  0.0  0.0  0.0  0.0   0.0   0.0\n",
      "3    0.0   0.0  0.0  4.0  0.0  0.0  0.0  0.0  0.0   0.0   0.0\n",
      "4    0.0   0.0  0.0  0.0  1.0  0.0  0.0  0.0  0.0   0.0   0.0\n",
      "5    0.0   0.0  0.0  0.0  0.0  0.0  0.0  0.0  0.0   0.0   0.0\n",
      "6    0.0   0.0  0.0  0.0  0.0  0.0  1.0  0.0  0.0   0.0   0.0\n",
      "7    0.0   0.0  0.0  0.0  0.0  0.0  0.0  4.0  0.0   0.0   0.0\n",
      "8    0.0   0.0  0.0  0.0  0.0  0.0  0.0  0.0  9.0   0.0   0.0\n",
      "9    0.0   0.0  0.0  0.0  0.0  0.0  0.0  0.0  0.0  16.0   0.0\n",
      "10   0.0   0.0  0.0  0.0  0.0  0.0  0.0  0.0  0.0   0.0  25.0\n",
      "     0    1    2    3    4    5    6     7     8     9     10\n",
      "0   0.0  0.0  0.0  0.0  0.0  0.0  0.0   0.0   0.0   0.0   0.0\n",
      "1   0.0  1.0  0.0  0.0  0.0  0.0  0.0   0.0   0.0   0.0   0.0\n",
      "2   0.0  0.0  1.0  0.0  0.0  0.0  0.0   0.0   0.0   0.0   0.0\n",
      "3   0.0  0.0  0.0  4.0  0.0  0.0  0.0   0.0   0.0   0.0   0.0\n",
      "4   0.0  0.0  0.0  0.0  4.0  0.0  0.0   0.0   0.0   0.0   0.0\n",
      "5   0.0  0.0  0.0  0.0  0.0  9.0  0.0   0.0   0.0   0.0   0.0\n",
      "6   0.0  0.0  0.0  0.0  0.0  0.0  9.0   0.0   0.0   0.0   0.0\n",
      "7   0.0  0.0  0.0  0.0  0.0  0.0  0.0  16.0   0.0   0.0   0.0\n",
      "8   0.0  0.0  0.0  0.0  0.0  0.0  0.0   0.0  16.0   0.0   0.0\n",
      "9   0.0  0.0  0.0  0.0  0.0  0.0  0.0   0.0   0.0  25.0   0.0\n",
      "10  0.0  0.0  0.0  0.0  0.0  0.0  0.0   0.0   0.0   0.0  25.0\n"
     ]
    }
   ],
   "source": [
    "df = pd.read_csv(\n",
    "    \"/Users/gilfrim/Desktop/QuantumChemistryCoop/Main-CC-files/matrix_elements_K.csv\",\n",
    "    skiprows=1, header=0\n",
    ")\n",
    "\n",
    "# Clean column names\n",
    "df.columns = [col.strip() for col in df.columns]\n",
    "\n",
    "# Convert columns safely\n",
    "df[\"m1\"] = df[\"m1\"].astype(int)\n",
    "df[\"m2\"] = df[\"m2\"].astype(int)\n",
    "df[\"<m1|K|m2>\"] = df[\"<m1|K|m2>\"].astype(float)\n",
    "\n",
    "# Matrix size and init\n",
    "size = max(df[\"m1\"].max(), df[\"m2\"].max()) + 1\n",
    "K = np.zeros((size, size))\n",
    "\n",
    "m = (size - 1) / 2\n",
    "\n",
    "# Fill matrix\n",
    "for _, row in df.iterrows():\n",
    "\n",
    "    i = int(row[\"m1\"])\n",
    "    j = int(row[\"m2\"])\n",
    "    val = float(row[\"<m1|K|m2>\"])\n",
    "    K[i, j] = val\n",
    "    K[j, i] = val\n",
    "\n",
    "    \n",
    "# Show matrix\n",
    "print(pd.DataFrame(K))\n",
    "\n",
    "print(pd.DataFrame(basis_m_to_p_matrix_conversion_one_body(K)))"
   ]
  },
  {
   "cell_type": "markdown",
   "metadata": {},
   "source": [
    "## Coplaner two body system. (Work in progress)"
   ]
  },
  {
   "cell_type": "markdown",
   "metadata": {},
   "source": [
    "### Learning einsum"
   ]
  },
  {
   "cell_type": "markdown",
   "metadata": {},
   "source": [
    "1. Inner product of vectors\n",
    "\n",
    "'i,i->': sum over index i (vector inner product)"
   ]
  },
  {
   "cell_type": "code",
   "execution_count": null,
   "metadata": {},
   "outputs": [
    {
     "data": {
      "text/plain": [
       "32"
      ]
     },
     "execution_count": 81,
     "metadata": {},
     "output_type": "execute_result"
    }
   ],
   "source": [
    "a = np.array([1, 2, 3])\n",
    "b = np.array([4, 5, 6])\n",
    "\n",
    "np.dot(a, b)         # → 32\n",
    "np.einsum('i,i->', a, b)  # → 32"
   ]
  },
  {
   "cell_type": "markdown",
   "metadata": {},
   "source": [
    "2. Matrix multiplication\n",
    "\n",
    "'ik,kj->ij': sum over index k (standard matrix multiplication)"
   ]
  },
  {
   "cell_type": "code",
   "execution_count": null,
   "metadata": {},
   "outputs": [
    {
     "data": {
      "text/plain": [
       "array([[ 4,  4],\n",
       "       [10,  8]])"
      ]
     },
     "execution_count": 82,
     "metadata": {},
     "output_type": "execute_result"
    }
   ],
   "source": [
    "A = np.array([[1, 2], [3, 4]])\n",
    "B = np.array([[2, 0], [1, 2]])\n",
    "\n",
    "np.matmul(A, B)\n",
    "np.einsum('ik,kj->ij', A, B)"
   ]
  },
  {
   "cell_type": "markdown",
   "metadata": {},
   "source": [
    "3. Trace of a matrix\n",
    "\n",
    "'ii->': sum diagonal elements (same index repeated = sum)"
   ]
  },
  {
   "cell_type": "code",
   "execution_count": null,
   "metadata": {},
   "outputs": [
    {
     "data": {
      "text/plain": [
       "array([[ 3,  4,  5],\n",
       "       [ 6,  8, 10]])"
      ]
     },
     "execution_count": 83,
     "metadata": {},
     "output_type": "execute_result"
    }
   ],
   "source": [
    "a = np.array([1, 2])\n",
    "b = np.array([3, 4, 5])\n",
    "\n",
    "np.einsum('i,j->ij', a, b)\n",
    "# Result: 2x3 matrix of a[i] * b[j]"
   ]
  },
  {
   "cell_type": "markdown",
   "metadata": {},
   "source": [
    "4. Tensor contraction\n",
    "\n",
    "Contracts the last index of T with w (like applying weights)"
   ]
  },
  {
   "cell_type": "code",
   "execution_count": null,
   "metadata": {},
   "outputs": [
    {
     "data": {
      "text/plain": [
       "array([[0.93882073, 0.96995704, 1.08514116],\n",
       "       [0.734377  , 0.76955526, 0.76790332]])"
      ]
     },
     "execution_count": 84,
     "metadata": {},
     "output_type": "execute_result"
    }
   ],
   "source": [
    "T = np.random.rand(2, 3, 4)\n",
    "w = np.random.rand(4)\n",
    "\n",
    "np.einsum('ijk,k->ij', T, w)"
   ]
  },
  {
   "cell_type": "markdown",
   "metadata": {},
   "source": [
    "5. Outer product"
   ]
  },
  {
   "cell_type": "code",
   "execution_count": null,
   "metadata": {},
   "outputs": [
    {
     "data": {
      "text/plain": [
       "array([[ 3,  4,  5],\n",
       "       [ 6,  8, 10]])"
      ]
     },
     "execution_count": 85,
     "metadata": {},
     "output_type": "execute_result"
    }
   ],
   "source": [
    "a = np.array([1, 2])\n",
    "b = np.array([3, 4, 5])\n",
    "\n",
    "np.einsum('i,j->ij', a, b)\n",
    "# Result: 2x3 matrix of a[i] * b[j]"
   ]
  },
  {
   "cell_type": "markdown",
   "metadata": {},
   "source": [
    "###"
   ]
  },
  {
   "cell_type": "code",
   "execution_count": null,
   "metadata": {},
   "outputs": [
    {
     "name": "stdout",
     "output_type": "stream",
     "text": [
      "Original Tensor (flattened):\n",
      "[0 1 2 3 4 5 6 7 8]\n",
      "[[1, 0, 2], [1, 0, 2]]\n",
      "(3, 3)\n",
      "(3, 3)\n",
      "Original slice T[0, 1, :, :]:\n",
      "[[110 120 130]\n",
      " [210 220 230]\n",
      " [310 320 330]]\n",
      "\n",
      "Permuted slice T_permuted[0, 1, :, :]:\n",
      "[[220 210 230]\n",
      " [120 110 130]\n",
      " [320 310 330]]\n",
      "[[220. 210. 230.]\n",
      " [120. 110. 130.]\n",
      " [320. 310. 330.]]\n",
      "[[220. 210. 230.]\n",
      " [120. 110. 130.]\n",
      " [320. 310. 330.]]\n"
     ]
    }
   ],
   "source": [
    "\n",
    "T = np.arange(3**2).reshape(3, 3)\n",
    "print(\"Original Tensor (flattened):\")\n",
    "print(T.flatten())\n",
    "\n",
    "for i in range(1, 4):\n",
    "    for j in range(1, 4):\n",
    "        T[i-1,j-1] = 100*i+10*j\n",
    "\n",
    "index_map = [1, 0, 2]  # Permute axis 0\n",
    "index_maps = []\n",
    "for i in range(2):\n",
    "    index_maps.append(index_map)\n",
    "\n",
    "print(index_maps)\n",
    "# Unpack index_maps into np.ix_\n",
    "T_permuted = T[np.ix_(*index_maps)]\n",
    "\n",
    "P = np.eye(len(index_map))[index_map]\n",
    "T_einsum = np.einsum('ai,bj,ij->ab', P, P, T)\n",
    "\n",
    "print(P.shape)\n",
    "print(T.shape)\n",
    "\n",
    "T_change_of_bais = P.T @ T @ P\n",
    "\n",
    "print(\"Original slice T[0, 1, :, :]:\")\n",
    "print(T)\n",
    "\n",
    "print(\"\\nPermuted slice T_permuted[0, 1, :, :]:\")\n",
    "print(T_permuted)\n",
    "print(T_einsum)\n",
    "print(T_change_of_bais)\n"
   ]
  },
  {
   "cell_type": "code",
   "execution_count": null,
   "metadata": {},
   "outputs": [
    {
     "name": "stdout",
     "output_type": "stream",
     "text": [
      "Original Tensor (flattened):\n",
      "[ 0  1  2  3  4  5  6  7  8  9 10 11 12 13 14 15 16 17 18 19 20 21 22 23\n",
      " 24 25 26]\n",
      "[[1, 0, 2], [1, 0, 2], [1, 0, 2]]\n",
      "Original slice T[0, 1, :, :]:\n",
      "[[111 112 113]\n",
      " [121 122 123]\n",
      " [131 132 133]]\n",
      "\n",
      "Permuted slice T_permuted[0, 1, :, :]:\n",
      "[[222 221 223]\n",
      " [212 211 213]\n",
      " [232 231 233]]\n",
      "[[1, 0, 2], [1, 0, 2], [1, 0, 2]]\n"
     ]
    }
   ],
   "source": [
    "\n",
    "T = np.arange(3**3).reshape(3, 3, 3)\n",
    "print(\"Original Tensor (flattened):\")\n",
    "print(T.flatten())\n",
    "\n",
    "for i in range(1, 4):\n",
    "    for j in range(1, 4):\n",
    "        for k in range(1, 4):\n",
    "            T[i-1,j-1,k-1] = 100*i+10*j+k\n",
    "\n",
    "index_map = [1, 0, 2]  # Permute axis 0\n",
    "index_maps = []\n",
    "for i in range(3):\n",
    "    index_maps.append(index_map)\n",
    "\n",
    "print(index_maps)\n",
    "# Unpack index_maps into np.ix_\n",
    "T_permuted = T[np.ix_(*index_maps)]\n",
    "\n",
    "print(\"Original slice T[0, 1, :, :]:\")\n",
    "print(T[0, :, :])\n",
    "\n",
    "print(\"\\nPermuted slice T_permuted[0, 1, :, :]:\")\n",
    "print(T_permuted[0, :, :])\n",
    "\n",
    "print(index_maps)"
   ]
  },
  {
   "cell_type": "code",
   "execution_count": null,
   "metadata": {},
   "outputs": [
    {
     "data": {
      "text/plain": [
       "array([[[111, 112, 113],\n",
       "        [121, 122, 123],\n",
       "        [131, 132, 133]],\n",
       "\n",
       "       [[211, 212, 213],\n",
       "        [221, 222, 223],\n",
       "        [231, 232, 233]],\n",
       "\n",
       "       [[311, 312, 313],\n",
       "        [321, 322, 323],\n",
       "        [331, 332, 333]]])"
      ]
     },
     "execution_count": 266,
     "metadata": {},
     "output_type": "execute_result"
    }
   ],
   "source": [
    "T"
   ]
  },
  {
   "cell_type": "markdown",
   "metadata": {},
   "source": [
    "## Coplaner two body system. (Final Function)"
   ]
  },
  {
   "cell_type": "code",
   "execution_count": 10,
   "metadata": {},
   "outputs": [],
   "source": [
    "def create_inverse_index_map(total_num_states: int) -> np.ndarray:\n",
    "    # map m → p\n",
    "    m_vals = np.arange(-total_num_states, total_num_states + 1)\n",
    "    p_vals = np.vectorize(func.m_to_p)(m_vals)\n",
    "\n",
    "    # Create inverse: map p → position in m-sorted order\n",
    "    inverse_index_map = np.zeros_like(p_vals)\n",
    "    for i, p in enumerate(p_vals):\n",
    "        inverse_index_map[p] = i\n",
    "\n",
    "    return inverse_index_map\n",
    "\n",
    "def basis_m_to_p_matrix_conversion(V: np.ndarray)->np.ndarray:\n",
    "\n",
    "    dim = V.ndim\n",
    "    index_map = create_inverse_index_map((V.shape[0]-1)//2)\n",
    "\n",
    "    index_maps = []\n",
    "    for i in range(dim):\n",
    "        index_maps.append(index_map)\n",
    "\n",
    "    V = V[np.ix_(*index_maps)]\n",
    "\n",
    "    return V"
   ]
  },
  {
   "cell_type": "markdown",
   "metadata": {},
   "source": [
    "# Test Done Code."
   ]
  },
  {
   "cell_type": "code",
   "execution_count": 12,
   "metadata": {},
   "outputs": [],
   "source": [
    "def write_matrix_elements(m_max, fpath):\n",
    "    d = 2 * m_max + 1\n",
    "\n",
    "    # Generate Kinetic Energy Matrix\n",
    "    K = np.zeros((d, d))\n",
    "    for i in range(d):\n",
    "        for j in range(i, d):\n",
    "            K[i, j] = hg.free_one_body(i, j, m_max)\n",
    "\n",
    "    # Save K as a NumPy binary file\n",
    "    np.save(os.path.join(fpath, \"K_matrix.npy\"), K)\n",
    "\n",
    "    # Generate Potential Energy Matrix (flattened 2-body operator)\n",
    "    V = np.zeros((d**2, d**2))\n",
    "    for i in range(d):\n",
    "        for j in range(d):\n",
    "            for k in range(d):\n",
    "                for l in range(d):\n",
    "                    if k * d + l >= i * d + j:  # upper triangular only\n",
    "                        V[i*d + j, k*d + l] = hg.interaction_two_body_coplanar(i, j, k, l)\n",
    "\n",
    "    # Save V as a NumPy binary file\n",
    "    np.save(os.path.join(fpath, \"V_matrix.npy\"), V)\n",
    "\n",
    "    return K, V  # optionally return them for immediate use"
   ]
  },
  {
   "cell_type": "code",
   "execution_count": null,
   "metadata": {},
   "outputs": [
    {
     "name": "stdout",
     "output_type": "stream",
     "text": [
      "The time of execution of above program is : 0.17661904194392264 s\n",
      "Temporary files deleted.\n",
      "Result: True\n"
     ]
    }
   ],
   "source": [
    "states_new = 11\n",
    "sites_new = 3\n",
    "\n",
    "write_matrix_elements((states_new-1) // 2, r\"/Users/gilfrim/Desktop/Computational_Analisis_of_Many_Rotor_Systems/Main-CC-files\")\n",
    "\n",
    "K_path = os.path.join(r\"/Users/gilfrim/Desktop/Computational_Analisis_of_Many_Rotor_Systems/Main-CC-files\", \"K_matrix.npy\")\n",
    "V_path = os.path.join(r\"/Users/gilfrim/Desktop/Computational_Analisis_of_Many_Rotor_Systems/Main-CC-files\", \"V_matrix.npy\")\n",
    "\n",
    "K_from_csv = np.load(\"K_matrix.npy\")\n",
    "V_from_csv = np.load(\"V_matrix.npy\")\n",
    "\n",
    "V_from_csv = V_from_csv + V_from_csv.T - np.diag(np.diag(V_from_csv))\n",
    "V_tensor = V_from_csv.reshape(states_new, states_new, states_new, states_new)  # Adjust if needed\n",
    "\n",
    "K_in_p = basis_m_to_p_matrix_conversion(K_from_csv)\n",
    "V_in_p = basis_m_to_p_matrix_conversion(V_tensor)\n",
    "\n",
    "K_final = H_kinetic(states_new, sites_new, K_in_p)\n",
    "V_final = H_potential(states_new, sites_new, V_in_p)\n",
    "H_full = HB.hamiltonian(sites_new, states_new)\n",
    "\n",
    "try:\n",
    "    os.remove(K_path)\n",
    "    os.remove(V_path)\n",
    "    print(\"Temporary files deleted.\")\n",
    "except FileNotFoundError as e:\n",
    "    print(f\"File not found during deletion: {e.filename}\")\n",
    "\n",
    "comparison = np.array_equal(H_full, K_final + V_final)\n",
    "\n",
    "print(\"Result:\", comparison)"
   ]
  },
  {
   "cell_type": "code",
   "execution_count": null,
   "metadata": {},
   "outputs": [
    {
     "name": "stdout",
     "output_type": "stream",
     "text": [
      "\n",
      "Testing (states=3, sites=2)\n",
      "Result K: True\n",
      "\n",
      "Testing (states=5, sites=2)\n",
      "Result K: True\n",
      "\n",
      "Testing (states=3, sites=3)\n",
      "Result K: True\n",
      "\n",
      "Testing (states=5, sites=3)\n",
      "Result K: True\n",
      "\n",
      "Testing (states=3, sites=4)\n",
      "Result K: True\n",
      "\n",
      "Testing (states=5, sites=4)\n",
      "Result K: True\n",
      "\n",
      "Testing (states=3, sites=5)\n",
      "Result K: True\n",
      "\n",
      "Testing (states=5, sites=5)\n",
      "Result K: True\n"
     ]
    }
   ],
   "source": [
    "for sites_new in range(2, 6):\n",
    "    for states_new in range(3, 6, 2):\n",
    "        print(f\"\\nTesting (states={states_new}, sites={sites_new})\")\n",
    "\n",
    "        write_matrix_elements((states_new-1) // 2, r\"/Users/gilfrim/Desktop/Computational_Analisis_of_Many_Rotor_Systems/Main-CC-files\")\n",
    "\n",
    "        # Load files\n",
    "        K_path = os.path.join(r\"/Users/gilfrim/Desktop/Computational_Analisis_of_Many_Rotor_Systems/Main-CC-files\", \"K_matrix.npy\")\n",
    "        V_path = os.path.join(r\"/Users/gilfrim/Desktop/Computational_Analisis_of_Many_Rotor_Systems/Main-CC-files\", \"V_matrix.npy\")\n",
    "\n",
    "        K_from_csv = np.load(\"K_matrix.npy\")\n",
    "        V_from_csv = np.load(\"V_matrix.npy\")\n",
    "\n",
    "        V_from_csv = V_from_csv + V_from_csv.T - np.diag(np.diag(V_from_csv))\n",
    "        V_tensor = V_from_csv.reshape(states_new, states_new, states_new, states_new)  # Adjust if needed\n",
    "\n",
    "        K_in_p = basis_m_to_p_matrix_conversion(K_from_csv)\n",
    "        V_in_p = basis_m_to_p_matrix_conversion(V_tensor)\n",
    "\n",
    "        K_final = H_kinetic(states_new, sites_new, K_in_p)\n",
    "        V_final = H_potential(states_new, sites_new, V_in_p)\n",
    "        H_full = HB.hamiltonian(sites_new, states_new, timer = False)\n",
    "\n",
    "        comparison = np.array_equal(H_full, K_final + V_final)\n",
    "\n",
    "        print(\"Result K:\", comparison)\n",
    "\n",
    "        # Delete temporary files\n",
    "        try:\n",
    "            os.remove(K_path)\n",
    "            os.remove(V_path)\n",
    "        except FileNotFoundError as e:\n",
    "            print(f\"File not found during deletion: {e.filename}\")"
   ]
  }
 ],
 "metadata": {
  "kernelspec": {
   "display_name": "3.12",
   "language": "python",
   "name": "python3"
  },
  "language_info": {
   "codemirror_mode": {
    "name": "ipython",
    "version": 3
   },
   "file_extension": ".py",
   "mimetype": "text/x-python",
   "name": "python",
   "nbconvert_exporter": "python",
   "pygments_lexer": "ipython3",
   "version": "3.12.2"
  }
 },
 "nbformat": 4,
 "nbformat_minor": 2
}
