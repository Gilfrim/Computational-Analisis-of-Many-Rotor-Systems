{
 "cells": [
  {
   "cell_type": "code",
   "execution_count": null,
   "id": "67f953ba",
   "metadata": {},
   "outputs": [],
   "source": [
    "import numpy as np\n",
    "import os\n",
    "import quant_rotor.core.hamiltonian as h\n",
    "import matplotlib.pyplot as plt"
   ]
  },
  {
   "cell_type": "markdown",
   "id": "8e345dec",
   "metadata": {},
   "source": [
    "# Density matrices. (Work)"
   ]
  },
  {
   "cell_type": "code",
   "execution_count": 21,
   "id": "b8fd8d6d",
   "metadata": {},
   "outputs": [],
   "source": [
    "state = 11\n",
    "site = 3\n",
    "\n",
    "g = 0.1"
   ]
  },
  {
   "cell_type": "code",
   "execution_count": 26,
   "id": "b89aba9a",
   "metadata": {},
   "outputs": [],
   "source": [
    "H = h.hamiltonian(state, site, g, clean=True)[0]\n",
    "\n",
    "eig_val, eig_vec = np.linalg.eig(H)"
   ]
  },
  {
   "cell_type": "code",
   "execution_count": 27,
   "id": "0dd86415",
   "metadata": {},
   "outputs": [],
   "source": [
    "V = h.write_matrix_elements(2)[1]"
   ]
  },
  {
   "cell_type": "code",
   "execution_count": 5,
   "id": "702590f5",
   "metadata": {},
   "outputs": [
    {
     "data": {
      "text/plain": [
       "14641"
      ]
     },
     "execution_count": 5,
     "metadata": {},
     "output_type": "execute_result"
    }
   ],
   "source": [
    "121*121"
   ]
  },
  {
   "cell_type": "code",
   "execution_count": 6,
   "id": "d8f92172",
   "metadata": {},
   "outputs": [
    {
     "data": {
      "text/plain": [
       "(25, 25)"
      ]
     },
     "execution_count": 6,
     "metadata": {},
     "output_type": "execute_result"
    }
   ],
   "source": [
    "V.shape"
   ]
  },
  {
   "cell_type": "code",
   "execution_count": 7,
   "id": "38e877a3",
   "metadata": {},
   "outputs": [],
   "source": [
    "V_new = V.reshape(5,5,5,5)"
   ]
  },
  {
   "cell_type": "code",
   "execution_count": 2,
   "id": "f5691b4e",
   "metadata": {},
   "outputs": [],
   "source": [
    "def density_matrix(states: int, sites: int, eigvector: np.ndarray, choose_site: int) -> np.ndarray:\n",
    "\n",
    "    # Reduced density matrix for chosen site (states x states)\n",
    "    D = np.zeros((states, states), dtype=complex)\n",
    "\n",
    "    n_lambda = states**(choose_site)\n",
    "    n_mu = states**(sites - choose_site - 1)\n",
    "\n",
    "    # Loop over the local states at the chosen site\n",
    "    for p in range(states):\n",
    "        for p_prime in range(states):\n",
    "            val = 0.0\n",
    "\n",
    "            # Sum over all other sites (Lambda and mu represent other sites)\n",
    "            for Lambda in range(int(n_lambda)):\n",
    "                for mu in range(int(n_mu)):\n",
    "\n",
    "                    # Full indices in the Hilbert space\n",
    "                    i = mu + p * n_mu + Lambda * states * n_mu\n",
    "                    j = mu + p_prime * n_mu + Lambda * states * n_mu\n",
    "\n",
    "                    # Accumulate contribution from the eigenvector\n",
    "                    val += eigvector.conj()[i] * eigvector[j]\n",
    "\n",
    "            # Set the computed value into the reduced density matrix\n",
    "            D[p, p_prime] = val\n",
    "\n",
    "    return D"
   ]
  },
  {
   "cell_type": "code",
   "execution_count": 4,
   "id": "2e7064ca",
   "metadata": {},
   "outputs": [
    {
     "name": "stdout",
     "output_type": "stream",
     "text": [
      "(1331,)\n",
      "(0.9999999999999994+0j)\n"
     ]
    },
    {
     "data": {
      "text/plain": [
       "array([0.992859707+0.j, 0.006034995+0.j, 0.000002021+0.j, 0.00110235 +0.j, 0.000000928+0.j, 0.         +0.j, 0.         +0.j, 0.         +0.j, 0.         +0.j, 0.         +0.j, 0.         +0.j])"
      ]
     },
     "execution_count": 4,
     "metadata": {},
     "output_type": "execute_result"
    }
   ],
   "source": [
    "index = np.argsort(eig_val)\n",
    "\n",
    "# Get ground state (or any eigenstate)\n",
    "psi_vec = eig_vec[:, index[0]]  # choose whichever eigenstate\n",
    "\n",
    "print(psi_vec.shape)\n",
    "\n",
    "# D_new = np.tensordot(eigvector.conj(), eigvector, axes=0)\n",
    "# Reshape into tensor form for multi-site system\n",
    "# psi_tensor = psi_vec.reshape([state] * site)\n",
    "\n",
    "# Use the reduced density matrix function\n",
    "rho_site_0 = density_matrix(state, site, psi_vec, 0)\n",
    "\n",
    "\n",
    "# print(np.allclose(rho_site_0, rho_site_1))\n",
    "\n",
    "eig_val_D, eig_vec_D = np.linalg.eig(rho_site_0)\n",
    "total = np.sum(eig_val_D)\n",
    "print(total)\n",
    "\n",
    "eig_val_D"
   ]
  },
  {
   "cell_type": "markdown",
   "id": "eef562fe",
   "metadata": {},
   "source": [
    "# Density Matrix. (Finished)"
   ]
  },
  {
   "cell_type": "code",
   "execution_count": 3,
   "id": "ec800d6c",
   "metadata": {},
   "outputs": [],
   "source": [
    "def density_matrix(states: int, sites: int, eigvector: np.ndarray, choose_site: int) -> np.ndarray:\n",
    "\n",
    "    # Reduced density matrix for chosen site (states x states)\n",
    "    D = np.zeros((states, states), dtype=complex)\n",
    "\n",
    "    n_lambda = states**(choose_site)\n",
    "    n_mu = states**(sites - choose_site - 1)\n",
    "\n",
    "    # Loop over the local states at the chosen site\n",
    "    for p in range(states):\n",
    "        for p_prime in range(states):\n",
    "            val = 0.0\n",
    "\n",
    "            # Sum over all other sites (Lambda and mu represent other sites)\n",
    "            for Lambda in range(int(n_lambda)):\n",
    "                for mu in range(int(n_mu)):\n",
    "\n",
    "                    # Full indices in the Hilbert space\n",
    "                    i = mu + p * n_mu + Lambda * states * n_mu\n",
    "                    j = mu + p_prime * n_mu + Lambda * states * n_mu\n",
    "\n",
    "                    # Accumulate contribution from the eigenvector\n",
    "                    val += eigvector.conj()[i] * eigvector[j]\n",
    "\n",
    "            # Set the computed value into the reduced density matrix\n",
    "            D[p, p_prime] = val\n",
    "\n",
    "    return D"
   ]
  },
  {
   "cell_type": "markdown",
   "id": "b609163c",
   "metadata": {},
   "source": [
    "# Density matrix analysis. (Work)"
   ]
  },
  {
   "cell_type": "code",
   "execution_count": 8,
   "id": "2a2dc96c",
   "metadata": {},
   "outputs": [],
   "source": [
    "# def nonzero_nondegenaret(eigen_val: np.ndarray, eige_vec_slice: np.ndarray, threshold: float = 1e-13) -> np.ndarray:\n",
    "#     # Step 1: Find indices of values significantly different from 0\n",
    "#     nonzero_indices = np.where(np.abs(eige_vec_slice) > threshold)[0]\n",
    "\n",
    "#     # Step 2: Identify repeated eigenvalues\n",
    "#     unique_vals, counts = np.unique(eigen_val, return_counts=True)\n",
    "#     repeated_vals = set(unique_vals[counts > 1])\n",
    "\n",
    "#     # Step 3: Filter out indices with repeated eigenvalues\n",
    "#     unique_indices = [i for i in nonzero_indices if eigen_val[i] not in repeated_vals]\n",
    "\n",
    "#     # Step 4: Sort remaining indices by increasing eigenvalue\n",
    "#     sorted_indices = np.array(unique_indices)[np.argsort(eigen_val[unique_indices])]\n",
    "\n",
    "#     return sorted_indices"
   ]
  },
  {
   "cell_type": "code",
   "execution_count": 3,
   "id": "83bb5e53",
   "metadata": {},
   "outputs": [],
   "source": [
    "def non_zero(eige_vec_slice: np.ndarray, sort: bool=False, eigen_val: np.ndarray=[], threshold: float = 1e-13) -> np.ndarray:\n",
    "\n",
    "    nonzero_indices = np.where(np.abs(eige_vec_slice) > threshold)[0]\n",
    "\n",
    "    if sort:\n",
    "        nonzero_indices = np.array(nonzero_indices)[np.argsort(eigen_val[nonzero_indices])]\n",
    "\n",
    "    return nonzero_indices\n",
    "\n",
    "def zero(eige_vec_slice: np.ndarray, sort: bool=False, eigen_val: np.ndarray=[], threshold: float = 1e-13) -> np.ndarray:\n",
    "\n",
    "    nonzero_indices = np.where(np.abs(eige_vec_slice) < threshold)[0]\n",
    "\n",
    "    if sort:\n",
    "        nonzero_indices = np.array(nonzero_indices)[np.argsort(eigen_val[nonzero_indices])]\n",
    "\n",
    "    return nonzero_indices"
   ]
  },
  {
   "cell_type": "code",
   "execution_count": 4,
   "id": "c60c903c",
   "metadata": {},
   "outputs": [],
   "source": [
    "def degenaret_increasing(eigen_val: np.ndarray, indices: np.ndarray, threshold: float = 1e-13) -> np.ndarray:\n",
    "\n",
    "    unique_vals, counts = np.unique(eigen_val, return_counts=True)\n",
    "    repeated_vals = set(unique_vals[counts > 1])\n",
    "\n",
    "    unique_indices = [i for i in indices if eigen_val[i] in repeated_vals]\n",
    "\n",
    "    sorted_indices = np.array(unique_indices)[np.argsort(eigen_val[unique_indices])]\n",
    "\n",
    "    return sorted_indices\n",
    "\n",
    "def non_degenaret_increasing(eigen_val: np.ndarray, indices: np.ndarray, threshold: float = 1e-13) -> np.ndarray:\n",
    "\n",
    "    unique_vals, counts = np.unique(eigen_val, return_counts=True)\n",
    "    repeated_vals = set(unique_vals[counts > 1])\n",
    "\n",
    "    unique_indices = [i for i in indices if eigen_val[i] not in repeated_vals]\n",
    "\n",
    "    sorted_indices = np.array(unique_indices)[np.argsort(eigen_val[unique_indices])]\n",
    "\n",
    "    return sorted_indices"
   ]
  },
  {
   "cell_type": "code",
   "execution_count": null,
   "id": "6fe81dcd",
   "metadata": {},
   "outputs": [
    {
     "name": "stdout",
     "output_type": "stream",
     "text": [
      "Non-Degenerate, non-zero, increasing:\n",
      "SYSTEM of site: 3.0, state: 11.0, g-value: 0.1\n",
      "Number of eigenvalues in the category: 60\n",
      "❌ Eigenstate 908 (energy ≈ (31.995252771170872+0j)) mismatch:\n",
      "   Mismatch: Site 0 vs Site 1\n",
      "   Mismatch: Site 0 vs Site 2\n",
      "   Mismatch: Site 1 vs Site 2\n",
      "❌ Eigenstate 895 (energy ≈ (33.872702615751166+0j)) mismatch:\n",
      "   Mismatch: Site 0 vs Site 1\n",
      "   Mismatch: Site 0 vs Site 2\n",
      "   Mismatch: Site 1 vs Site 2\n",
      "❌ Eigenstate 890 (energy ≈ (34.08926846732437+0j)) mismatch:\n",
      "   Mismatch: Site 0 vs Site 1\n",
      "   Mismatch: Site 0 vs Site 2\n",
      "   Mismatch: Site 1 vs Site 2\n",
      "❌ Eigenstate 660 (energy ≈ (36.00508266645062+0j)) mismatch:\n",
      "   Mismatch: Site 0 vs Site 1\n",
      "   Mismatch: Site 0 vs Site 2\n",
      "\n",
      "❌ Site mismatch found for 4 some eigenstates at g = 0.1.\n",
      "\n",
      "SYSTEM of site: 3.0, state: 11.0, g-value: 0.2\n",
      "Number of eigenvalues in the category: 69\n",
      "❌ Eigenstate 926 (energy ≈ 33.730377480085274) mismatch:\n",
      "   Mismatch: Site 0 vs Site 1\n",
      "   Mismatch: Site 1 vs Site 2\n",
      "❌ Eigenstate 620 (energy ≈ 37.97343682317577) mismatch:\n",
      "   Mismatch: Site 0 vs Site 1\n",
      "❌ Eigenstate 243 (energy ≈ 50.007398155554) mismatch:\n",
      "   Mismatch: Site 0 vs Site 1\n",
      "   Mismatch: Site 1 vs Site 2\n",
      "\n",
      "❌ Site mismatch found for 3 some eigenstates at g = 0.2.\n",
      "\n",
      "SYSTEM of site: 3.0, state: 11.0, g-value: 0.3\n",
      "Number of eigenvalues in the category: 75\n",
      "❌ Eigenstate 636 (energy ≈ 37.97727070832208) mismatch:\n",
      "   Mismatch: Site 0 vs Site 1\n",
      "   Mismatch: Site 0 vs Site 2\n",
      "\n",
      "❌ Site mismatch found for 1 some eigenstates at g = 0.3.\n",
      "\n",
      "SYSTEM of site: 3.0, state: 11.0, g-value: 0.4\n",
      "Number of eigenvalues in the category: 78\n",
      "\n",
      "✅ All eigenstates match across all sites for g = 0.4.\n",
      "\n",
      "SYSTEM of site: 3.0, state: 11.0, g-value: 0.5\n",
      "Number of eigenvalues in the category: 78\n",
      "\n",
      "✅ All eigenstates match across all sites for g = 0.5.\n",
      "\n",
      "SYSTEM of site: 3.0, state: 11.0, g-value: 0.6\n",
      "Number of eigenvalues in the category: 77\n",
      "\n",
      "✅ All eigenstates match across all sites for g = 0.6.\n",
      "\n",
      "SYSTEM of site: 3.0, state: 11.0, g-value: 0.7\n",
      "Number of eigenvalues in the category: 78\n",
      "\n",
      "✅ All eigenstates match across all sites for g = 0.7.\n",
      "\n",
      "SYSTEM of site: 3.0, state: 11.0, g-value: 0.8\n",
      "Number of eigenvalues in the category: 78\n",
      "\n",
      "✅ All eigenstates match across all sites for g = 0.8.\n",
      "\n",
      "SYSTEM of site: 3.0, state: 11.0, g-value: 0.9\n",
      "Number of eigenvalues in the category: 79\n",
      "\n",
      "✅ All eigenstates match across all sites for g = 0.9.\n",
      "\n",
      "SYSTEM of site: 3.0, state: 11.0, g-value: 1.0\n",
      "Number of eigenvalues in the category: 79\n",
      "\n",
      "✅ All eigenstates match across all sites for g = 1.0.\n",
      "\n"
     ]
    }
   ],
   "source": [
    "state = 11\n",
    "site = 3\n",
    "\n",
    "show_match = False\n",
    "show_mismatch = True\n",
    "\n",
    "print(\"Non-Degenerate, non-zero, increasing:\")\n",
    "\n",
    "for g in range(1, 11):\n",
    "\n",
    "    g = g/10\n",
    "\n",
    "    print(f\"SYSTEM of site: {site:.1f}, state: {state:.1f}, g-value: {g:.1f}\")\n",
    "\n",
    "    H = h.hamiltonian(state, site, g)[0]\n",
    "\n",
    "    eig_val, eig_vec = np.linalg.eig(H)\n",
    "\n",
    "    # print(\"Print unsorted unmodifed eigenvectors and eigenvalues:\")\n",
    "    # print(\"Unmodifed Eigenvalues:\", eig_val)\n",
    "    # print(\"Unmodifed Eigenvectors:\", eig_vec)\n",
    "\n",
    "    index = non_degenaret_increasing(eig_val, non_zero(eig_vec[0,:]))\n",
    "\n",
    "    print(f\"Number of eigenvalues in the category: {index.shape[0]}\")\n",
    "\n",
    "    # print(\"Print sorted modifed eigenvectors and eigenvalues:\")\n",
    "    # print(\"Modifed Eigenvalues:\",[eig_val[i] for i in index])\n",
    "    # print(\"Modifed Eigenvectors:\", [eig_vec[0,:][i] for i in index])\n",
    "\n",
    "    all_eigenstates_match = True\n",
    "    all_eigenstates_mismatch = True\n",
    "    mismatch_counter = 0\n",
    "\n",
    "    for i in index:\n",
    "        local_match = True\n",
    "        mismatches = []\n",
    "\n",
    "        # Compute reduced density matrices for all sites\n",
    "        rhos = [density_matrix(state, site, eig_vec[:, i], s) for s in range(site)]\n",
    "\n",
    "        for x in range(site):\n",
    "            for y in range(x + 1, site):\n",
    "                if not np.allclose(rhos[x], rhos[y]):\n",
    "                    local_match = False\n",
    "                    mismatches.append((x, y))\n",
    "\n",
    "        if local_match:\n",
    "            if show_match:\n",
    "                print(f\"✅ Eigenstate {i} (energy ≈ {eig_val[i]:.4f}): All sites match.\")\n",
    "            all_eigenstates_mismatch = False\n",
    "\n",
    "        else:\n",
    "            mismatch_counter += 1\n",
    "\n",
    "            if show_mismatch:\n",
    "                print(f\"❌ Eigenstate {i} (energy ≈ {eig_val[i]}) mismatch:\")\n",
    "            for x, y in mismatches:\n",
    "                if show_mismatch:\n",
    "                    print(f\"   Mismatch: Site {x} vs Site {y}\")\n",
    "            all_eigenstates_match = False\n",
    "\n",
    "    if all_eigenstates_match:\n",
    "        print(f\"\\n✅ All eigenstates match across all sites for g = {g:.1f}.\\n\")\n",
    "    elif all_eigenstates_mismatch:\n",
    "        print(f\"\\n❌ Site mismatch found for ALL eigenstates at g = {g:.1f}.\\n\")\n",
    "    else:\n",
    "        print(f\"\\n❌ Site mismatch found for {mismatch_counter} some eigenstates at g = {g:.1f}.\\n\")"
   ]
  },
  {
   "cell_type": "code",
   "execution_count": null,
   "id": "aae9a128",
   "metadata": {},
   "outputs": [
    {
     "name": "stdout",
     "output_type": "stream",
     "text": [
      "Degenerate, zero, increasing:\n",
      "SYSTEM of site: 3.0, state: 11.0, g-value: 0.1\n",
      "Number of eigenvalues in the category: 6\n",
      "\n",
      "❌ Site mismatch found for ALL eigenstates at g = 0.1.\n",
      "\n",
      "SYSTEM of site: 3.0, state: 11.0, g-value: 0.2\n",
      "Number of eigenvalues in the category: 4\n",
      "\n",
      "❌ Site mismatch found for ALL eigenstates at g = 0.2.\n",
      "\n",
      "SYSTEM of site: 3.0, state: 11.0, g-value: 0.3\n",
      "Number of eigenvalues in the category: 6\n",
      "✅ Eigenstate 216 (energy ≈ 50.1542): All sites match.\n",
      "✅ Eigenstate 228 (energy ≈ 50.1542): All sites match.\n",
      "\n",
      "❌ Site mismatch found for 4 some eigenstates at g = 0.3.\n",
      "\n",
      "SYSTEM of site: 3.0, state: 11.0, g-value: 0.4\n",
      "Number of eigenvalues in the category: 14\n",
      "✅ Eigenstate 526 (energy ≈ 40.7836): All sites match.\n",
      "✅ Eigenstate 568 (energy ≈ 40.7836): All sites match.\n",
      "\n",
      "❌ Site mismatch found for 12 some eigenstates at g = 0.4.\n",
      "\n",
      "SYSTEM of site: 3.0, state: 11.0, g-value: 0.5\n",
      "Number of eigenvalues in the category: 6\n",
      "\n",
      "❌ Site mismatch found for ALL eigenstates at g = 0.5.\n",
      "\n",
      "SYSTEM of site: 3.0, state: 11.0, g-value: 0.6\n",
      "Number of eigenvalues in the category: 6\n",
      "\n",
      "❌ Site mismatch found for ALL eigenstates at g = 0.6.\n",
      "\n",
      "SYSTEM of site: 3.0, state: 11.0, g-value: 0.7\n",
      "Number of eigenvalues in the category: 10\n",
      "\n",
      "❌ Site mismatch found for ALL eigenstates at g = 0.7.\n",
      "\n",
      "SYSTEM of site: 3.0, state: 11.0, g-value: 0.8\n",
      "Number of eigenvalues in the category: 8\n",
      "\n",
      "❌ Site mismatch found for ALL eigenstates at g = 0.8.\n",
      "\n",
      "SYSTEM of site: 3.0, state: 11.0, g-value: 0.9\n",
      "Number of eigenvalues in the category: 2\n",
      "\n",
      "❌ Site mismatch found for ALL eigenstates at g = 0.9.\n",
      "\n",
      "SYSTEM of site: 3.0, state: 11.0, g-value: 1.0\n",
      "Number of eigenvalues in the category: 4\n",
      "\n",
      "❌ Site mismatch found for ALL eigenstates at g = 1.0.\n",
      "\n"
     ]
    }
   ],
   "source": [
    "state = 11\n",
    "site = 3\n",
    "\n",
    "show_match = True\n",
    "show_mismatch = False\n",
    "\n",
    "print(\"Degenerate, zero, increasing:\")\n",
    "\n",
    "for g in range(1, 11):\n",
    "\n",
    "    g = g/10\n",
    "\n",
    "    print(f\"SYSTEM of site: {site:.1f}, state: {state:.1f}, g-value: {g:.1f}\")\n",
    "\n",
    "    H = h.hamiltonian(state, site, g)[0]\n",
    "\n",
    "    eig_val, eig_vec = np.linalg.eig(H)\n",
    "\n",
    "    # print(\"Print unsorted unmodifed eigenvectors and eigenvalues:\")\n",
    "    # print(\"Unmodifed Eigenvalues:\", eig_val)\n",
    "    # print(\"Unmodifed Eigenvectors:\", eig_vec)\n",
    "\n",
    "    index = degenaret_increasing(eig_val, zero(eig_vec[0,:]))\n",
    "\n",
    "    print(f\"Number of eigenvalues in the category: {index.shape[0]}\")\n",
    "\n",
    "    # print(\"Print sorted modifed eigenvectors and eigenvalues:\")\n",
    "    # print(\"Modifed Eigenvalues:\",[eig_val[i] for i in index])\n",
    "    # print(\"Modifed Eigenvectors:\", [eig_vec[0,:][i] for i in index])\n",
    "\n",
    "    all_eigenstates_match = True\n",
    "    all_eigenstates_mismatch = True\n",
    "    mismatch_counter = 0\n",
    "\n",
    "    for i in index:\n",
    "        local_match = True\n",
    "        mismatches = []\n",
    "\n",
    "        # Compute reduced density matrices for all sites\n",
    "        rhos = [density_matrix(state, site, eig_vec[:, i], s) for s in range(site)]\n",
    "\n",
    "        for x in range(site):\n",
    "            for y in range(x + 1, site):\n",
    "                if not np.allclose(rhos[x], rhos[y]):\n",
    "                    local_match = False\n",
    "                    mismatches.append((x, y))\n",
    "\n",
    "        if local_match:\n",
    "            if show_match:\n",
    "                print(f\"✅ Eigenstate {i} (energy ≈ {eig_val[i]:.4f}): All sites match.\")\n",
    "            all_eigenstates_mismatch = False\n",
    "\n",
    "        else:\n",
    "            mismatch_counter += 1\n",
    "\n",
    "            if show_mismatch:\n",
    "                print(f\"❌ Eigenstate {i} (energy ≈ {eig_val[i]}) mismatch:\")\n",
    "            for x, y in mismatches:\n",
    "                if show_mismatch:\n",
    "                    print(f\"   Mismatch: Site {x} vs Site {y}\")\n",
    "            all_eigenstates_match = False\n",
    "\n",
    "    if all_eigenstates_match:\n",
    "        print(f\"\\n✅ All eigenstates match across all sites for g = {g:.1f}.\\n\")\n",
    "    elif all_eigenstates_mismatch:\n",
    "        print(f\"\\n❌ Site mismatch found for ALL eigenstates at g = {g:.1f}.\\n\")\n",
    "    else:\n",
    "        print(f\"\\n❌ Site mismatch found for {mismatch_counter} some eigenstates at g = {g:.1f}.\\n\")"
   ]
  },
  {
   "cell_type": "code",
   "execution_count": null,
   "id": "dbce0bcc",
   "metadata": {},
   "outputs": [
    {
     "name": "stdout",
     "output_type": "stream",
     "text": [
      "Degenerate, non-zero, increasing:\n",
      "SYSTEM of site: 3.0, state: 11.0, g-value: 0.1\n",
      "Number of eigenvalues in the category: 1265\n",
      "\n",
      "❌ Site mismatch found for 997 some eigenstates at g = 0.1.\n",
      "\n",
      "SYSTEM of site: 3.0, state: 11.0, g-value: 0.2\n",
      "Number of eigenvalues in the category: 1258\n",
      "\n",
      "❌ Site mismatch found for 958 some eigenstates at g = 0.2.\n",
      "\n",
      "SYSTEM of site: 3.0, state: 11.0, g-value: 0.3\n",
      "Number of eigenvalues in the category: 1250\n",
      "\n",
      "❌ Site mismatch found for 931 some eigenstates at g = 0.3.\n",
      "\n",
      "SYSTEM of site: 3.0, state: 11.0, g-value: 0.4\n",
      "Number of eigenvalues in the category: 1239\n",
      "\n",
      "❌ Site mismatch found for 905 some eigenstates at g = 0.4.\n",
      "\n",
      "SYSTEM of site: 3.0, state: 11.0, g-value: 0.5\n",
      "Number of eigenvalues in the category: 1247\n",
      "\n",
      "❌ Site mismatch found for 899 some eigenstates at g = 0.5.\n",
      "\n",
      "SYSTEM of site: 3.0, state: 11.0, g-value: 0.6\n",
      "Number of eigenvalues in the category: 1248\n",
      "\n",
      "❌ Site mismatch found for 898 some eigenstates at g = 0.6.\n",
      "\n",
      "SYSTEM of site: 3.0, state: 11.0, g-value: 0.7\n",
      "Number of eigenvalues in the category: 1243\n",
      "\n",
      "❌ Site mismatch found for 889 some eigenstates at g = 0.7.\n",
      "\n",
      "SYSTEM of site: 3.0, state: 11.0, g-value: 0.8\n",
      "Number of eigenvalues in the category: 1245\n",
      "\n",
      "❌ Site mismatch found for 885 some eigenstates at g = 0.8.\n",
      "\n",
      "SYSTEM of site: 3.0, state: 11.0, g-value: 0.9\n",
      "Number of eigenvalues in the category: 1250\n",
      "\n",
      "❌ Site mismatch found for 890 some eigenstates at g = 0.9.\n",
      "\n",
      "SYSTEM of site: 3.0, state: 11.0, g-value: 1.0\n",
      "Number of eigenvalues in the category: 1248\n",
      "\n",
      "❌ Site mismatch found for 888 some eigenstates at g = 1.0.\n",
      "\n"
     ]
    }
   ],
   "source": [
    "state = 11\n",
    "site = 3\n",
    "\n",
    "show_match = False\n",
    "show_mismatch = False\n",
    "\n",
    "print(\"Degenerate, non-zero, increasing:\")\n",
    "\n",
    "for g in range(1, 11):\n",
    "\n",
    "    g = g/10\n",
    "\n",
    "    print(f\"SYSTEM of site: {site:.1f}, state: {state:.1f}, g-value: {g:.1f}\")\n",
    "\n",
    "    H = h.hamiltonian(state, site, g)[0]\n",
    "\n",
    "    eig_val, eig_vec = np.linalg.eig(H)\n",
    "\n",
    "    # print(\"Print unsorted unmodifed eigenvectors and eigenvalues:\")\n",
    "    # print(\"Unmodifed Eigenvalues:\", eig_val)\n",
    "    # print(\"Unmodifed Eigenvectors:\", eig_vec)\n",
    "\n",
    "    index = non_degenaret_increasing(eig_val, zero(eig_vec[0,:]))\n",
    "\n",
    "    print(f\"Number of eigenvalues in the category: {index.shape[0]}\")\n",
    "\n",
    "    # print(\"Print sorted modifed eigenvectors and eigenvalues:\")\n",
    "    # print(\"Modifed Eigenvalues:\",[eig_val[i] for i in index])\n",
    "    # print(\"Modifed Eigenvectors:\", [eig_vec[0,:][i] for i in index])\n",
    "\n",
    "    all_eigenstates_match = True\n",
    "    all_eigenstates_mismatch = True\n",
    "    mismatch_counter = 0\n",
    "\n",
    "    for i in index:\n",
    "        local_match = True\n",
    "        mismatches = []\n",
    "\n",
    "        # Compute reduced density matrices for all sites\n",
    "        rhos = [density_matrix(state, site, eig_vec[:, i], s) for s in range(site)]\n",
    "\n",
    "        for x in range(site):\n",
    "            for y in range(x + 1, site):\n",
    "                if not np.allclose(rhos[x], rhos[y]):\n",
    "                    local_match = False\n",
    "                    mismatches.append((x, y))\n",
    "\n",
    "        if local_match:\n",
    "            if show_match:\n",
    "                print(f\"✅ Eigenstate {i} (energy ≈ {eig_val[i]:.4f}): All sites match.\")\n",
    "            all_eigenstates_mismatch = False\n",
    "\n",
    "        else:\n",
    "            mismatch_counter += 1\n",
    "\n",
    "            if show_mismatch:\n",
    "                print(f\"❌ Eigenstate {i} (energy ≈ {eig_val[i]}) mismatch:\")\n",
    "            for x, y in mismatches:\n",
    "                if show_mismatch:\n",
    "                    print(f\"   Mismatch: Site {x} vs Site {y}\")\n",
    "            all_eigenstates_match = False\n",
    "\n",
    "    if all_eigenstates_match:\n",
    "        print(f\"\\n✅ All eigenstates match across all sites for g = {g:.1f}.\\n\")\n",
    "    elif all_eigenstates_mismatch:\n",
    "        print(f\"\\n❌ Site mismatch found for ALL eigenstates at g = {g:.1f}.\\n\")\n",
    "    else:\n",
    "        print(f\"\\n❌ Site mismatch found for {mismatch_counter} some eigenstates at g = {g:.1f}.\\n\")"
   ]
  },
  {
   "cell_type": "code",
   "execution_count": null,
   "id": "c2672c55",
   "metadata": {},
   "outputs": [
    {
     "name": "stderr",
     "output_type": "stream",
     "text": [
      "/Library/Frameworks/Python.framework/Versions/3.12/lib/python3.12/site-packages/matplotlib/cbook.py:1699: ComplexWarning: Casting complex values to real discards the imaginary part\n",
      "  return math.isfinite(val)\n",
      "/Library/Frameworks/Python.framework/Versions/3.12/lib/python3.12/site-packages/matplotlib/collections.py:194: ComplexWarning: Casting complex values to real discards the imaginary part\n",
      "  offsets = np.asanyarray(offsets, float)\n",
      "/Library/Frameworks/Python.framework/Versions/3.12/lib/python3.12/site-packages/matplotlib/text.py:895: ComplexWarning: Casting complex values to real discards the imaginary part\n",
      "  y = float(self.convert_yunits(self._y))\n",
      "/Library/Frameworks/Python.framework/Versions/3.12/lib/python3.12/site-packages/matplotlib/text.py:754: ComplexWarning: Casting complex values to real discards the imaginary part\n",
      "  posy = float(self.convert_yunits(self._y))\n"
     ]
    },
    {
     "data": {
      "image/png": "[encoded data removed]",
      "text/plain": [
       "<Figure size 640x480 with 1 Axes>"
      ]
     },
     "metadata": {},
     "output_type": "display_data"
    }
   ],
   "source": [
    "state = 11\n",
    "site = 3\n",
    "\n",
    "g_array = []\n",
    "eig_val_array_first = []\n",
    "eig_val_array_second = []\n",
    "\n",
    "for g in range(1, 11):\n",
    "\n",
    "    g = g/10\n",
    "\n",
    "    H = h.hamiltonian(state, site, g)[0]\n",
    "\n",
    "    eig_val, eig_vec = np.linalg.eig(H)\n",
    "\n",
    "\n",
    "    psi_vec = eig_vec[:, index[0]]\n",
    "\n",
    "    rho_site_0 = density_matrix(state, site, psi_vec, 0)\n",
    "\n",
    "    eig_val, eig_vec = np.linalg.eig(rho_site_0)\n",
    "\n",
    "    g_array.append(g)\n",
    "    eig_val_array_first.append(eig_val[0])\n",
    "    eig_val_array_second.append(eig_val[1])\n",
    "\n",
    "plt.scatter(g_array, eig_val_array_first)\n",
    "# Annotate each point\n",
    "for i in range(len(g_array)):\n",
    "    plt.text(g_array[i], eig_val_array_first[i], f\"({g_array[i].real}, {eig_val_array_first[i].real:.2f})\", fontsize=9, ha='right', va='bottom')\n",
    "\n",
    "# Labels and styling\n",
    "plt.xlabel(\"g-values\")\n",
    "plt.ylabel(\"First Eigenvalues\")\n",
    "plt.title(\"First Eigenvalues Increasing with g\")\n",
    "plt.grid(True)\n",
    "plt.tight_layout()\n",
    "plt.show()\n"
   ]
  },
  {
   "cell_type": "code",
   "execution_count": null,
   "id": "6eb4a211",
   "metadata": {},
   "outputs": [
    {
     "name": "stderr",
     "output_type": "stream",
     "text": [
      "/Library/Frameworks/Python.framework/Versions/3.12/lib/python3.12/site-packages/matplotlib/cbook.py:1699: ComplexWarning: Casting complex values to real discards the imaginary part\n",
      "  return math.isfinite(val)\n",
      "/Library/Frameworks/Python.framework/Versions/3.12/lib/python3.12/site-packages/matplotlib/collections.py:194: ComplexWarning: Casting complex values to real discards the imaginary part\n",
      "  offsets = np.asanyarray(offsets, float)\n",
      "/Library/Frameworks/Python.framework/Versions/3.12/lib/python3.12/site-packages/matplotlib/text.py:895: ComplexWarning: Casting complex values to real discards the imaginary part\n",
      "  y = float(self.convert_yunits(self._y))\n",
      "/Library/Frameworks/Python.framework/Versions/3.12/lib/python3.12/site-packages/matplotlib/text.py:754: ComplexWarning: Casting complex values to real discards the imaginary part\n",
      "  posy = float(self.convert_yunits(self._y))\n"
     ]
    },
    {
     "data": {
      "image/png": "[encoded data removed]",
      "text/plain": [
       "<Figure size 640x480 with 1 Axes>"
      ]
     },
     "metadata": {},
     "output_type": "display_data"
    }
   ],
   "source": [
    "for g in range(1, 11):\n",
    "\n",
    "    g_array = []\n",
    "    eig_val_array_first = []\n",
    "    eig_val_array_second = []\n",
    "\n",
    "    g = g/10\n",
    "\n",
    "    H = h.hamiltonian(state, site, g)[0]\n",
    "\n",
    "    eig_val, eig_vec = np.linalg.eig(H)\n",
    "\n",
    "    for i in range(eig_val.shape[0]):\n",
    "        psi_vec = eig_vec[:, index[0]]\n",
    "\n",
    "        rho_site_0 = density_matrix(state, site, psi_vec, 0)\n",
    "\n",
    "        g_array.append(g)\n",
    "        eig_val_array_first.append(eig_val[0])\n",
    "        eig_val_array_second.append(eig_val[1])\n",
    "\n",
    "        plt.scatter(g_array, eig_val_array_first)\n",
    "        # Annotate each point\n",
    "        for i in range(len(g_array)):\n",
    "            plt.text(g_array[i], eig_val_array_first[i], f\"({g_array[i]}, {eig_val_array_first[i]:.2f})\", fontsize=9, ha='right', va='bottom')\n",
    "\n",
    "        # Labels and styling\n",
    "        plt.xlabel(\"g-values\")\n",
    "        plt.ylabel(\"First Eigenvalues\")\n",
    "        plt.title(\"First Eigenvalues Increasing with g\")\n",
    "        plt.grid(True)\n",
    "        plt.tight_layout()\n",
    "        plt.show()\n"
   ]
  },
  {
   "cell_type": "code",
   "execution_count": null,
   "id": "7d85a0e1",
   "metadata": {},
   "outputs": [
    {
     "data": {
      "image/png": "[encoded data removed]",
      "text/plain": [
       "<Figure size 640x480 with 1 Axes>"
      ]
     },
     "metadata": {},
     "output_type": "display_data"
    }
   ],
   "source": [
    "plt.scatter(g_array, eig_val_array_second)\n",
    "# Annotate each point\n",
    "for i in range(len(g_array)):\n",
    "    plt.text(g_array[i], eig_val_array_second[i], f\"({g_array[i]}, {eig_val_array_second[i]:.2f})\", fontsize=9, ha='right', va='bottom')\n",
    "\n",
    "# Labels and styling\n",
    "plt.xlabel(\"g-values\")\n",
    "plt.ylabel(\"First Eigenvalues\")\n",
    "plt.title(\"First Eigenvalues Increasing with g\")\n",
    "plt.grid(True)\n",
    "plt.tight_layout()\n",
    "plt.show()"
   ]
  },
  {
   "cell_type": "markdown",
   "id": "08fc46e0",
   "metadata": {},
   "source": [
    "# Density matrix analysis. (Finished)"
   ]
  },
  {
   "cell_type": "code",
   "execution_count": 4,
   "id": "3ed2140d",
   "metadata": {},
   "outputs": [],
   "source": [
    "def non_zero(eige_vec_slice: np.ndarray, sort: bool=False, eigen_val: np.ndarray=[], threshold: float = 1e-13) -> np.ndarray:\n",
    "\n",
    "    nonzero_indices = np.where(np.abs(eige_vec_slice) > threshold)[0]\n",
    "\n",
    "    if sort:\n",
    "        nonzero_indices = np.array(nonzero_indices)[np.argsort(eigen_val[nonzero_indices])]\n",
    "\n",
    "    return nonzero_indices\n",
    "\n",
    "def zero(eige_vec_slice: np.ndarray, sort: bool=False, eigen_val: np.ndarray=[], threshold: float = 1e-13) -> np.ndarray:\n",
    "\n",
    "    nonzero_indices = np.where(np.abs(eige_vec_slice) < threshold)[0]\n",
    "\n",
    "    if sort:\n",
    "        nonzero_indices = np.array(nonzero_indices)[np.argsort(eigen_val[nonzero_indices])]\n",
    "\n",
    "    return nonzero_indices"
   ]
  },
  {
   "cell_type": "code",
   "execution_count": 5,
   "id": "50b1fbb3",
   "metadata": {},
   "outputs": [],
   "source": [
    "def degenaret_increasing(eigen_val: np.ndarray, indices: np.ndarray, threshold: float = 1e-13) -> np.ndarray:\n",
    "\n",
    "    unique_vals, counts = np.unique(eigen_val, return_counts=True)\n",
    "    repeated_vals = set(unique_vals[counts > 1])\n",
    "\n",
    "    unique_indices = [i for i in indices if eigen_val[i] in repeated_vals]\n",
    "\n",
    "    sorted_indices = np.array(unique_indices)[np.argsort(eigen_val[unique_indices])]\n",
    "\n",
    "    return sorted_indices\n",
    "\n",
    "def non_degenaret_increasing(eigen_val: np.ndarray, indices: np.ndarray, threshold: float = 1e-13) -> np.ndarray:\n",
    "\n",
    "    unique_vals, counts = np.unique(eigen_val, return_counts=True)\n",
    "    repeated_vals = set(unique_vals[counts > 1])\n",
    "\n",
    "    unique_indices = [i for i in indices if eigen_val[i] not in repeated_vals]\n",
    "\n",
    "    sorted_indices = np.array(unique_indices)[np.argsort(eigen_val[unique_indices])]\n",
    "\n",
    "    return sorted_indices"
   ]
  },
  {
   "cell_type": "markdown",
   "id": "5e8c3294",
   "metadata": {},
   "source": [
    "# Density energystates aproxipation to many site systems. (Work)"
   ]
  },
  {
   "cell_type": "code",
   "execution_count": 6,
   "id": "4e65883a",
   "metadata": {},
   "outputs": [],
   "source": [
    "state = 11\n",
    "site = 3\n",
    "g = 0.1\n",
    "\n",
    "H_K_V = h.hamiltonian(state, site, g)\n",
    "\n",
    "H = H_K_V[0]\n",
    "K = H_K_V[1]\n",
    "V = H_K_V[2]\n",
    "\n",
    "eig_val, eig_vec = np.linalg.eig(H)\n",
    "\n",
    "index = np.argsort(eig_val)\n",
    "\n",
    "psi_vec = eig_vec[:, index[0]] \n",
    "rho_site_0 = density_matrix(state, site, psi_vec, 0)\n",
    "eig_val_D, eig_vec_D = np.linalg.eig(rho_site_0)"
   ]
  },
  {
   "cell_type": "code",
   "execution_count": 7,
   "id": "f63bbacc",
   "metadata": {},
   "outputs": [
    {
     "data": {
      "text/plain": [
       "(11, 5)"
      ]
     },
     "execution_count": 7,
     "metadata": {},
     "output_type": "execute_result"
    }
   ],
   "source": [
    "eigenstates_included = 5\n",
    "\n",
    "matrix_p_to_mu = eig_vec_D[:, 0:eigenstates_included]\n",
    "\n",
    "matrix_p_to_mu.shape"
   ]
  },
  {
   "cell_type": "code",
   "execution_count": 8,
   "id": "d3e2990d",
   "metadata": {},
   "outputs": [
    {
     "data": {
      "text/plain": [
       "(11, 11)"
      ]
     },
     "execution_count": 8,
     "metadata": {},
     "output_type": "execute_result"
    }
   ],
   "source": [
    "K.shape"
   ]
  },
  {
   "cell_type": "code",
   "execution_count": 9,
   "id": "55024b4c",
   "metadata": {},
   "outputs": [],
   "source": [
    "V = V.reshape(state**2,state**2)"
   ]
  },
  {
   "cell_type": "code",
   "execution_count": 10,
   "id": "627fd35e",
   "metadata": {},
   "outputs": [
    {
     "data": {
      "text/plain": [
       "(11, 5)"
      ]
     },
     "execution_count": 10,
     "metadata": {},
     "output_type": "execute_result"
    }
   ],
   "source": [
    "matrix_p_to_mu.shape"
   ]
  },
  {
   "cell_type": "code",
   "execution_count": 11,
   "id": "4053dc86",
   "metadata": {},
   "outputs": [
    {
     "data": {
      "text/plain": [
       "array([[ 0.         +0.j, -0.         +0.j, -0.         +0.j, -0.         +0.j,  0.         +0.j, -0.         +0.j,  1.002321884+0.j,  0.         +0.j,  0.         +0.j, -0.         +0.j, -0.         +0.j,  0.         +0.j,  0.         +0.j,  0.         +0.j, -0.         +0.j, -0.         +0.j,  0.         +0.j,  0.         +0.j,  0.498838455+0.j, -0.         +0.j,  0.         +0.j, -0.         +0.j, -0.         +0.j, -0.         +0.j,  0.         +0.j],\n",
       "       [-0.         +0.j, -0.         +0.j,  0.         +0.j,  0.         +0.j, -0.         +0.j, -1.002321884+0.j,  0.         +0.j,  0.706542821+0.j, -0.         +0.j,  0.         +0.j, -0.         +0.j,  0.         +0.j,  0.         +0.j, -0.         +0.j,  0.         +0.j,  0.         +0.j,  0.         +0.j, -0.         +0.j, -0.         +0.j,  0.353012404+0.j,  0.         +0.j, -0.         +0.j, -0.         +0.j,  0.         +0.j, -0.         +0.j],\n",
       "       [-0.         +0.j,  0.         +0.j, -0.         +0.j, -0.         +0.j,  0.         +0.j, -0.         +0.j, -0.706542821+0.j,  0.         +0.j,  0.         +0.j,  0.         +0.j, -0.         +0.j, -0.         +0.j,  0.         +0.j,  0.         +0.j,  0.         +0.j,  0.         +0.j,  0.         +0.j,  0.         +0.j,  0.353820261+0.j, -0.         +0.j, -0.         +0.j,  0.         +0.j, -0.         +0.j, -0.         +0.j,  0.         +0.j],\n",
       "       [-0.         +0.j,  0.         +0.j, -0.         +0.j, -0.         +0.j, -0.         +0.j,  0.         +0.j,  0.         +0.j, -0.         +0.j,  0.         +0.j,  0.708211683+0.j,  0.         +0.j,  0.         +0.j,  0.         +0.j,  0.         +0.j,  0.         +0.j,  0.498838455+0.j, -0.         +0.j,  0.353820261+0.j,  0.         +0.j,  0.         +0.j, -0.         +0.j,  0.         +0.j, -0.         +0.j, -0.         +0.j, -0.         +0.j],\n",
       "       [ 0.         +0.j, -0.         +0.j,  0.         +0.j, -0.         +0.j, -0.         +0.j,  0.         +0.j, -0.         +0.j, -0.         +0.j, -0.708211683+0.j,  0.         +0.j, -0.         +0.j,  0.         +0.j, -0.         +0.j, -0.         +0.j,  0.         +0.j, -0.         +0.j,  0.353012404+0.j, -0.         +0.j,  0.         +0.j,  0.         +0.j,  0.         +0.j, -0.         +0.j,  0.         +0.j,  0.         +0.j, -0.         +0.j],\n",
       "       [-0.         +0.j, -1.002321884+0.j, -0.         +0.j,  0.         +0.j,  0.         +0.j, -0.         +0.j,  0.         +0.j,  0.         +0.j,  0.         +0.j, -0.         +0.j,  0.         +0.j,  0.706542821+0.j,  0.         +0.j, -0.         +0.j, -0.         +0.j,  0.         +0.j, -0.         +0.j, -0.         +0.j, -0.         +0.j,  0.         +0.j, -0.         +0.j,  0.         +0.j,  0.         +0.j,  0.353012404+0.j, -0.         +0.j],\n",
       "       [ 1.002321884+0.j,  0.         +0.j, -0.706542821+0.j,  0.         +0.j, -0.         +0.j,  0.         +0.j,  0.         +0.j, -0.         +0.j, -0.         +0.j,  0.         +0.j, -0.706542821+0.j, -0.         +0.j,  0.498046352+0.j, -0.         +0.j,  0.         +0.j,  0.         +0.j, -0.         +0.j, -0.         +0.j,  0.         +0.j, -0.         +0.j, -0.         +0.j,  0.         +0.j,  0.         +0.j, -0.         +0.j,  0.24981586 +0.j],\n",
       "       [ 0.         +0.j,  0.706542821+0.j,  0.         +0.j, -0.         +0.j, -0.         +0.j,  0.         +0.j, -0.         +0.j,  0.         +0.j,  0.         +0.j, -0.         +0.j, -0.         +0.j, -0.498046352+0.j, -0.         +0.j,  0.         +0.j,  0.         +0.j,  0.         +0.j,  0.         +0.j, -0.         +0.j, -0.         +0.j, -0.         +0.j,  0.         +0.j, -0.         +0.j,  0.         +0.j,  0.250387555+0.j, -0.         +0.j],\n",
       "       [ 0.         +0.j, -0.         +0.j,  0.         +0.j,  0.         +0.j, -0.708211683+0.j,  0.         +0.j, -0.         +0.j,  0.         +0.j,  0.         +0.j,  0.         +0.j,  0.         +0.j,  0.         +0.j, -0.         +0.j, -0.         +0.j,  0.499222744+0.j, -0.         +0.j, -0.         +0.j, -0.         +0.j, -0.         +0.j, -0.         +0.j,  0.353012404+0.j, -0.         +0.j,  0.250387555+0.j,  0.         +0.j,  0.         +0.j],\n",
       "       [-0.         +0.j,  0.         +0.j,  0.         +0.j,  0.708211683+0.j,  0.         +0.j, -0.         +0.j,  0.         +0.j, -0.         +0.j,  0.         +0.j,  0.         +0.j,  0.         +0.j, -0.         +0.j, -0.         +0.j, -0.499222744+0.j, -0.         +0.j,  0.         +0.j, -0.         +0.j,  0.         +0.j,  0.         +0.j, -0.         +0.j, -0.         +0.j,  0.24981586 +0.j, -0.         +0.j, -0.         +0.j,  0.         +0.j],\n",
       "       [-0.         +0.j, -0.         +0.j, -0.         +0.j,  0.         +0.j, -0.         +0.j, -0.         +0.j, -0.706542821+0.j, -0.         +0.j,  0.         +0.j,  0.         +0.j, -0.         +0.j,  0.         +0.j,  0.         +0.j,  0.         +0.j, -0.         +0.j, -0.         +0.j,  0.         +0.j,  0.         +0.j,  0.353820261+0.j, -0.         +0.j,  0.         +0.j,  0.         +0.j,  0.         +0.j, -0.         +0.j,  0.         +0.j],\n",
       "       [ 0.         +0.j,  0.         +0.j, -0.         +0.j,  0.         +0.j,  0.         +0.j,  0.706542821+0.j,  0.         +0.j, -0.498046352+0.j,  0.         +0.j, -0.         +0.j,  0.         +0.j,  0.         +0.j, -0.         +0.j, -0.         +0.j,  0.         +0.j, -0.         +0.j,  0.         +0.j,  0.         +0.j, -0.         +0.j,  0.250387555+0.j, -0.         +0.j, -0.         +0.j,  0.         +0.j, -0.         +0.j, -0.         +0.j],\n",
       "       [ 0.         +0.j,  0.         +0.j,  0.         +0.j,  0.         +0.j, -0.         +0.j,  0.         +0.j,  0.498046352+0.j, -0.         +0.j, -0.         +0.j, -0.         +0.j,  0.         +0.j, -0.         +0.j,  0.         +0.j,  0.         +0.j, -0.         +0.j,  0.         +0.j, -0.         +0.j,  0.         +0.j,  0.250960558+0.j, -0.         +0.j, -0.         +0.j, -0.         +0.j, -0.         +0.j, -0.         +0.j,  0.         +0.j],\n",
       "       [ 0.         +0.j, -0.         +0.j,  0.         +0.j,  0.         +0.j, -0.         +0.j, -0.         +0.j, -0.         +0.j,  0.         +0.j, -0.         +0.j, -0.499222744+0.j,  0.         +0.j, -0.         +0.j,  0.         +0.j,  0.         +0.j,  0.         +0.j,  0.353820261+0.j, -0.         +0.j,  0.250960558+0.j,  0.         +0.j,  0.         +0.j, -0.         +0.j,  0.         +0.j, -0.         +0.j, -0.         +0.j,  0.         +0.j],\n",
       "       [-0.         +0.j,  0.         +0.j,  0.         +0.j,  0.         +0.j,  0.         +0.j, -0.         +0.j,  0.         +0.j,  0.         +0.j,  0.499222744+0.j, -0.         +0.j, -0.         +0.j,  0.         +0.j, -0.         +0.j,  0.         +0.j,  0.         +0.j, -0.         +0.j,  0.250387555+0.j, -0.         +0.j, -0.         +0.j,  0.         +0.j,  0.         +0.j, -0.         +0.j, -0.         +0.j, -0.         +0.j, -0.         +0.j],\n",
       "       [-0.         +0.j,  0.         +0.j,  0.         +0.j,  0.498838455+0.j, -0.         +0.j,  0.         +0.j,  0.         +0.j,  0.         +0.j, -0.         +0.j,  0.         +0.j, -0.         +0.j, -0.         +0.j,  0.         +0.j,  0.353820261+0.j, -0.         +0.j, -0.         +0.j,  0.         +0.j,  0.         +0.j,  0.         +0.j, -0.         +0.j, -0.         +0.j,  0.708211683+0.j,  0.         +0.j,  0.         +0.j, -0.         +0.j],\n",
       "       [ 0.         +0.j,  0.         +0.j,  0.         +0.j, -0.         +0.j,  0.353012404+0.j, -0.         +0.j, -0.         +0.j,  0.         +0.j, -0.         +0.j, -0.         +0.j,  0.         +0.j,  0.         +0.j, -0.         +0.j, -0.         +0.j,  0.250387555+0.j,  0.         +0.j,  0.         +0.j, -0.         +0.j, -0.         +0.j,  0.         +0.j, -0.708211683+0.j,  0.         +0.j,  0.499222744+0.j, -0.         +0.j,  0.         +0.j],\n",
       "       [ 0.         +0.j, -0.         +0.j,  0.         +0.j,  0.353820261+0.j, -0.         +0.j, -0.         +0.j, -0.         +0.j, -0.         +0.j, -0.         +0.j,  0.         +0.j,  0.         +0.j,  0.         +0.j,  0.         +0.j,  0.250960558+0.j, -0.         +0.j,  0.         +0.j,  0.         +0.j,  0.         +0.j,  0.         +0.j, -0.         +0.j, -0.         +0.j, -0.499222744+0.j,  0.         +0.j,  0.         +0.j,  0.         +0.j],\n",
       "       [ 0.498838455+0.j, -0.         +0.j,  0.353820261+0.j,  0.         +0.j,  0.         +0.j, -0.         +0.j,  0.         +0.j, -0.         +0.j, -0.         +0.j,  0.         +0.j,  0.353820261+0.j, -0.         +0.j,  0.250960558+0.j,  0.         +0.j, -0.         +0.j,  0.         +0.j, -0.         +0.j,  0.         +0.j,  0.         +0.j,  0.         +0.j,  0.         +0.j,  0.         +0.j, -0.         +0.j,  0.         +0.j,  0.500401914+0.j],\n",
       "       [-0.         +0.j,  0.353012404+0.j, -0.         +0.j,  0.         +0.j,  0.         +0.j,  0.         +0.j, -0.         +0.j, -0.         +0.j, -0.         +0.j, -0.         +0.j, -0.         +0.j,  0.250387555+0.j, -0.         +0.j,  0.         +0.j,  0.         +0.j, -0.         +0.j,  0.         +0.j, -0.         +0.j,  0.         +0.j,  0.         +0.j,  0.         +0.j, -0.         +0.j, -0.         +0.j, -0.500401914+0.j,  0.         +0.j],\n",
       "       [ 0.         +0.j,  0.         +0.j, -0.         +0.j, -0.         +0.j,  0.         +0.j, -0.         +0.j, -0.         +0.j,  0.         +0.j,  0.353012404+0.j, -0.         +0.j,  0.         +0.j, -0.         +0.j, -0.         +0.j, -0.         +0.j,  0.         +0.j, -0.         +0.j, -0.708211683+0.j, -0.         +0.j,  0.         +0.j,  0.         +0.j, -0.         +0.j,  0.         +0.j,  0.         +0.j,  0.         +0.j, -0.         +0.j],\n",
       "       [-0.         +0.j, -0.         +0.j,  0.         +0.j,  0.         +0.j, -0.         +0.j,  0.         +0.j,  0.         +0.j, -0.         +0.j, -0.         +0.j,  0.24981586 +0.j,  0.         +0.j, -0.         +0.j, -0.         +0.j,  0.         +0.j, -0.         +0.j,  0.708211683+0.j,  0.         +0.j, -0.499222744+0.j,  0.         +0.j, -0.         +0.j,  0.         +0.j,  0.         +0.j, -0.         +0.j, -0.         +0.j,  0.         +0.j],\n",
       "       [-0.         +0.j, -0.         +0.j, -0.         +0.j, -0.         +0.j,  0.         +0.j,  0.         +0.j,  0.         +0.j,  0.         +0.j,  0.250387555+0.j, -0.         +0.j,  0.         +0.j,  0.         +0.j, -0.         +0.j, -0.         +0.j, -0.         +0.j,  0.         +0.j,  0.499222744+0.j,  0.         +0.j, -0.         +0.j, -0.         +0.j,  0.         +0.j,  0.         +0.j,  0.         +0.j,  0.         +0.j, -0.         +0.j],\n",
       "       [-0.         +0.j,  0.         +0.j, -0.         +0.j, -0.         +0.j,  0.         +0.j,  0.353012404+0.j, -0.         +0.j,  0.250387555+0.j,  0.         +0.j, -0.         +0.j, -0.         +0.j, -0.         +0.j, -0.         +0.j, -0.         +0.j, -0.         +0.j,  0.         +0.j, -0.         +0.j,  0.         +0.j,  0.         +0.j, -0.500401914+0.j,  0.         +0.j, -0.         +0.j,  0.         +0.j,  0.         +0.j, -0.         +0.j],\n",
       "       [ 0.         +0.j, -0.         +0.j,  0.         +0.j, -0.         +0.j, -0.         +0.j, -0.         +0.j,  0.24981586 +0.j, -0.         +0.j,  0.         +0.j,  0.         +0.j,  0.         +0.j, -0.         +0.j,  0.         +0.j,  0.         +0.j, -0.         +0.j, -0.         +0.j,  0.         +0.j,  0.         +0.j,  0.500401914+0.j,  0.         +0.j, -0.         +0.j,  0.         +0.j, -0.         +0.j,  0.         +0.j,  0.         +0.j]])"
      ]
     },
     "execution_count": 11,
     "metadata": {},
     "output_type": "execute_result"
    }
   ],
   "source": [
    "K_mu = matrix_p_to_mu.T.conj() @ K @ matrix_p_to_mu\n",
    "V_mu = np.kron(matrix_p_to_mu.T.conj(), matrix_p_to_mu.T.conj()) @ V @ np.kron(matrix_p_to_mu, matrix_p_to_mu)\n",
    "V_mu"
   ]
  },
  {
   "cell_type": "code",
   "execution_count": 12,
   "id": "27c72117",
   "metadata": {},
   "outputs": [],
   "source": [
    "V_mu = V_mu.reshape(eigenstates_included,eigenstates_included,eigenstates_included,eigenstates_included)"
   ]
  },
  {
   "cell_type": "code",
   "execution_count": 13,
   "id": "a1f3b7e2",
   "metadata": {},
   "outputs": [],
   "source": [
    "# K_mu = matrix_p_to_mu.T.conj() @ K @ matrix_p_to_mu\n",
    "# V = np.kron(matrix_p_to_mu.T.conj(), matrix_p_to_mu.T.conj()) @ V_mu @ np.kron(matrix_p_to_mu, matrix_p_to_mu) "
   ]
  },
  {
   "cell_type": "code",
   "execution_count": 14,
   "id": "373b708a",
   "metadata": {},
   "outputs": [],
   "source": [
    "# K_mu = eig_vec_D.T.conj() @ K @ eig_vec_D\n",
    "# V_mu = (eig_vec_D.T.conj())**2 @ V @ eig_vec_D**2"
   ]
  },
  {
   "cell_type": "code",
   "execution_count": 15,
   "id": "2b938f10",
   "metadata": {},
   "outputs": [
    {
     "data": {
      "text/plain": [
       "(125, 125)"
      ]
     },
     "execution_count": 15,
     "metadata": {},
     "output_type": "execute_result"
    }
   ],
   "source": [
    "K_mu_final = h.H_kinetic(K_mu.shape[0],3,K_mu)\n",
    "K_mu_final.shape"
   ]
  },
  {
   "cell_type": "code",
   "execution_count": 16,
   "id": "61728374",
   "metadata": {},
   "outputs": [
    {
     "data": {
      "text/plain": [
       "(125, 125)"
      ]
     },
     "execution_count": 16,
     "metadata": {},
     "output_type": "execute_result"
    }
   ],
   "source": [
    "V_mu_final = h.H_potential(K_mu.shape[0],3,V_mu, 1)\n",
    "V_mu_final.shape"
   ]
  },
  {
   "cell_type": "code",
   "execution_count": 17,
   "id": "74261a0e",
   "metadata": {},
   "outputs": [
    {
     "data": {
      "text/plain": [
       "(3125, 3125)"
      ]
     },
     "execution_count": 17,
     "metadata": {},
     "output_type": "execute_result"
    }
   ],
   "source": [
    "H_mu_3 = h.hamiltonian(state, 5, g, K_mu, V_mu, True)[0]\n",
    "H_mu_3.shape"
   ]
  },
  {
   "cell_type": "code",
   "execution_count": 18,
   "id": "d3522c79",
   "metadata": {},
   "outputs": [
    {
     "data": {
      "text/plain": [
       "(125, 125)"
      ]
     },
     "execution_count": 18,
     "metadata": {},
     "output_type": "execute_result"
    }
   ],
   "source": [
    "H_test = h.hamiltonian(K_mu.shape[0], site, g)[0]\n",
    "H_test.shape"
   ]
  },
  {
   "cell_type": "code",
   "execution_count": 19,
   "id": "c06393eb",
   "metadata": {},
   "outputs": [
    {
     "data": {
      "text/plain": [
       "array([-0.020101689+0.j,  0.781612169+0.j,  0.941737751+0.j,  0.941737751+0.j,  1.08738856 +0.j,  1.095467436+0.j,  1.800627949+0.j,  2.096945473+0.j, 12.001130316+0.j, 12.002789595+0.j, 12.002789596+0.j])"
      ]
     },
     "execution_count": 19,
     "metadata": {},
     "output_type": "execute_result"
    }
   ],
   "source": [
    "eig_val_H_test, eig_vec_H_test = np.linalg.eig(H_test)\n",
    "index_D = np.array(np.arange(0,11,1))[np.argsort(eig_val_H_test[np.arange(0,11,1)])]\n",
    "eig_val_H_test[index_D]"
   ]
  },
  {
   "cell_type": "code",
   "execution_count": 20,
   "id": "5093cf35",
   "metadata": {},
   "outputs": [
    {
     "data": {
      "text/plain": [
       "array([[-0.031376326+0.j,  0.767837039+0.j,  0.896786099+0.j,  0.896786099+0.j,  0.925332226+0.j,  0.925332226+0.j,  1.075325399+0.j, 20.001358864+0.j, 20.001359319+0.j, 20.004692314+0.j, 20.004692314+0.j]])"
      ]
     },
     "execution_count": 20,
     "metadata": {},
     "output_type": "execute_result"
    }
   ],
   "source": [
    "eig_val_H_mu_3, eig_vec_H_mu_3 = np.linalg.eig(H_mu_3)\n",
    "index_D_mu = np.array(np.arange(0,11,1))[np.argsort(eig_val_H_mu_3[np.arange(0,11,1)])]\n",
    "eig_val_H_mu_3[[index_D_mu]]"
   ]
  },
  {
   "cell_type": "code",
   "execution_count": 21,
   "id": "67105c5e",
   "metadata": {},
   "outputs": [],
   "source": [
    "index = np.argsort(eig_val_H_mu_3)\n",
    "\n",
    "psi_vec = eig_vec_H_mu_3[:, index[0]] \n",
    "rho_site_0_mu = density_matrix(K_mu.shape[0], 5, psi_vec, 0)\n",
    "eig_val_D_mu, eig_vec_D_mu = np.linalg.eig(rho_site_0_mu)"
   ]
  },
  {
   "cell_type": "code",
   "execution_count": 22,
   "id": "7d9644b1",
   "metadata": {},
   "outputs": [
    {
     "data": {
      "text/plain": [
       "array([[ 0.992859707+0.j,  0.         +0.j,  0.         +0.j, -0.         +0.j,  0.         +0.j,  0.         +0.j,  0.         +0.j, -0.         +0.j,  0.         +0.j, -0.         +0.j,  0.         +0.j],\n",
       "       [ 0.         +0.j,  0.006034995+0.j,  0.         +0.j, -0.         +0.j, -0.         +0.j, -0.         +0.j, -0.         +0.j, -0.         +0.j,  0.         +0.j, -0.         +0.j,  0.         +0.j],\n",
       "       [ 0.         +0.j,  0.         +0.j,  0.000002021+0.j,  0.         +0.j,  0.         +0.j, -0.         +0.j, -0.         +0.j,  0.         +0.j, -0.         +0.j,  0.         +0.j, -0.         +0.j],\n",
       "       [-0.         +0.j,  0.         +0.j,  0.         +0.j,  0.00110235 +0.j, -0.         +0.j, -0.         +0.j, -0.         +0.j,  0.         +0.j,  0.         +0.j, -0.         +0.j,  0.         +0.j],\n",
       "       [ 0.         +0.j, -0.         +0.j,  0.         +0.j, -0.         +0.j,  0.000000928+0.j,  0.         +0.j, -0.         +0.j, -0.         +0.j, -0.         +0.j,  0.         +0.j, -0.         +0.j],\n",
       "       [ 0.         +0.j, -0.         +0.j, -0.         +0.j, -0.         +0.j,  0.         +0.j,  0.         +0.j,  0.         +0.j,  0.         +0.j, -0.         +0.j,  0.         +0.j, -0.         +0.j],\n",
       "       [ 0.         +0.j, -0.         +0.j, -0.         +0.j, -0.         +0.j, -0.         +0.j,  0.         +0.j,  0.         +0.j, -0.         +0.j,  0.         +0.j,  0.         +0.j, -0.         +0.j],\n",
       "       [-0.         +0.j, -0.         +0.j,  0.         +0.j,  0.         +0.j, -0.         +0.j,  0.         +0.j, -0.         +0.j,  0.         +0.j,  0.         +0.j,  0.         +0.j, -0.         +0.j],\n",
       "       [ 0.         +0.j,  0.         +0.j, -0.         +0.j,  0.         +0.j, -0.         +0.j, -0.         +0.j,  0.         +0.j,  0.         +0.j,  0.         +0.j, -0.         +0.j,  0.         +0.j],\n",
       "       [-0.         +0.j, -0.         +0.j,  0.         +0.j, -0.         +0.j,  0.         +0.j,  0.         +0.j,  0.         +0.j,  0.         +0.j, -0.         +0.j,  0.         +0.j,  0.         +0.j],\n",
       "       [ 0.         +0.j,  0.         +0.j, -0.         +0.j,  0.         +0.j, -0.         +0.j,  0.         +0.j, -0.         +0.j, -0.         +0.j,  0.         +0.j,  0.         +0.j,  0.         +0.j]])"
      ]
     },
     "execution_count": 22,
     "metadata": {},
     "output_type": "execute_result"
    }
   ],
   "source": [
    "eig_vec_D.T @ rho_site_0 @ eig_vec_D"
   ]
  },
  {
   "cell_type": "code",
   "execution_count": 23,
   "id": "4309315b",
   "metadata": {},
   "outputs": [
    {
     "data": {
      "text/plain": [
       "array([[ 0.993680679+0.j, -0.         +0.j,  0.000285652+0.j, -0.         +0.j, -0.         +0.j],\n",
       "       [-0.         +0.j,  0.005090944+0.j,  0.         +0.j, -0.         +0.j, -0.         +0.j],\n",
       "       [ 0.000285652+0.j,  0.         +0.j,  0.000001887+0.j, -0.         +0.j,  0.         +0.j],\n",
       "       [-0.         +0.j, -0.         +0.j, -0.         +0.j,  0.0012256  +0.j, -0.         +0.j],\n",
       "       [-0.         +0.j, -0.         +0.j,  0.         +0.j, -0.         +0.j,  0.000000891+0.j]])"
      ]
     },
     "execution_count": 23,
     "metadata": {},
     "output_type": "execute_result"
    }
   ],
   "source": [
    "rho_site_0_mu"
   ]
  },
  {
   "cell_type": "markdown",
   "id": "c2c73082",
   "metadata": {},
   "source": [
    "# Density energystates aproxipation to many site systems. (Finished)"
   ]
  },
  {
   "cell_type": "code",
   "execution_count": 24,
   "id": "865c5fcf",
   "metadata": {},
   "outputs": [],
   "source": [
    "def hamiltonian_new(state: int, site: int, g: float) -> np.ndarray:\n",
    "\n",
    "    state_old = 11\n",
    "    site_old = 3\n",
    "    g_old = 0.1\n",
    "\n",
    "    H_K_V = h.hamiltonian(state_old, site_old, g_old)\n",
    "\n",
    "    H = H_K_V[0]\n",
    "    K = H_K_V[1]\n",
    "    V = H_K_V[2]\n",
    "\n",
    "    eig_val, eig_vec = np.linalg.eig(H)\n",
    "\n",
    "    index = np.argsort(eig_val)\n",
    "\n",
    "    psi_vec = eig_vec[:, index[0]] \n",
    "    rho_site_0 = density_matrix(11, 3, psi_vec, 0)\n",
    "    eig_val_D, eig_vec_D = np.linalg.eig(rho_site_0)\n",
    "\n",
    "    matrix_p_to_mu = eig_vec_D[:, 0:state]\n",
    "\n",
    "    V = V.reshape(state_old**2,state_old**2)\n",
    "    K_mu = matrix_p_to_mu.T.conj() @ K @ matrix_p_to_mu\n",
    "    V_mu = np.kron(matrix_p_to_mu.T.conj(), matrix_p_to_mu.T.conj()) @ V @ np.kron(matrix_p_to_mu, matrix_p_to_mu)\n",
    "    V_mu = V_mu.reshape(state,state,state,state)\n",
    "\n",
    "    H_mu = h.hamiltonian(state, site, g, K_mu, V_mu, True)[0]\n",
    "\n",
    "    return H_mu"
   ]
  },
  {
   "cell_type": "code",
   "execution_count": 25,
   "id": "206a0c81",
   "metadata": {},
   "outputs": [],
   "source": [
    "H_new = hamiltonian_new(5, 5, 0.1)"
   ]
  },
  {
   "cell_type": "code",
   "execution_count": 26,
   "id": "7799b3ae",
   "metadata": {},
   "outputs": [],
   "source": [
    "eig_val_H_new, eig_vec_H_new = np.linalg.eig(H_new)"
   ]
  }
 ],
 "metadata": {
  "kernelspec": {
   "display_name": "3.12",
   "language": "python",
   "name": "python3"
  },
  "language_info": {
   "codemirror_mode": {
    "name": "ipython",
    "version": 3
   },
   "file_extension": ".py",
   "mimetype": "text/x-python",
   "name": "python",
   "nbconvert_exporter": "python",
   "pygments_lexer": "ipython3",
   "version": "3.12.2"
  }
 },
 "nbformat": 4,
 "nbformat_minor": 5
}
