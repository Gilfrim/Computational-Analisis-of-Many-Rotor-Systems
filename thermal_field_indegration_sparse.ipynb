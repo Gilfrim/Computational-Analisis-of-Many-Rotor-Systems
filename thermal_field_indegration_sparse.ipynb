{
 "cells": [
  {
   "cell_type": "code",
   "execution_count": 1,
   "id": "c250ad2f",
   "metadata": {},
   "outputs": [],
   "source": [
    "import numpy as np\n",
    "import thermofield_boltz_funcs as bz\n",
    "import opt_einsum as oe\n",
    "import scipy.sparse as sp\n",
    "from quant_rotor.models.sparse.support_ham import build_V_prime_in_p\n",
    "from quant_rotor.core.dense.de_solve_one_thermal_dense import integration_scheme as integration_scheme_new_dense\n",
    "from quant_rotor.core.sparse.de_solve_one_thermal_sparse import integration_scheme as integration_scheme_new_sparse\n",
    "from quant_rotor.core.dense.de_solve_one_thermal import integration_scheme as integration_scheme_old\n",
    "\n",
    "np.set_printoptions(threshold=np.inf, linewidth=np.inf)"
   ]
  },
  {
   "cell_type": "code",
   "execution_count": 2,
   "id": "8342f133",
   "metadata": {},
   "outputs": [],
   "source": [
    "site = 3\n",
    "state = 3\n",
    "g = 0.1"
   ]
  },
  {
   "cell_type": "code",
   "execution_count": 3,
   "id": "03423f95",
   "metadata": {},
   "outputs": [
    {
     "name": "stdout",
     "output_type": "stream",
     "text": [
      "Done.\n"
     ]
    }
   ],
   "source": [
    "beta_d, t_0_dB_d, t_0_sol_d, t_2_max_d  = integration_scheme_new_dense(site, state, g, t_init=0,t_final=10,nof_points=100000)"
   ]
  },
  {
   "cell_type": "code",
   "execution_count": 4,
   "id": "c67f6707",
   "metadata": {},
   "outputs": [
    {
     "name": "stdout",
     "output_type": "stream",
     "text": [
      "Done.\n"
     ]
    }
   ],
   "source": [
    "beta_s, t_0_dB_s, t_0_sol_s, t_2_max_s  = integration_scheme_new_sparse(site, state, g, t_init=0,t_final=10,nof_points=100000)"
   ]
  },
  {
   "cell_type": "code",
   "execution_count": 5,
   "id": "8dee4e29",
   "metadata": {},
   "outputs": [],
   "source": [
    "K, V = build_V_prime_in_p(state)\n",
    "I = np.eye(state)\n",
    "\n",
    "U, _ = bz.thermofield_change_of_basis(I)\n",
    "\n",
    "U_sparse = sp.csr_matrix(U)\n",
    "\n",
    "K_tilda = U_sparse.T @ K @ U_sparse\n",
    "\n",
    "V_tilda = oe.contract('Mi,Wj,ijab,aN,bV->MWNV', U, U, V.toarray().reshape(state**2, state**2, state**2, state**2), U, U, optimize='optimal')"
   ]
  },
  {
   "cell_type": "code",
   "execution_count": 6,
   "id": "436a2308",
   "metadata": {},
   "outputs": [],
   "source": [
    "beta_TF, t_0_dB_TF, t_0_sol_TF, t_2_max_TF  = integration_scheme_old(site, state**2, g, t_init=0,t_final=10,nof_points=100000, import_K_V_TF=True, K_import=K_tilda.toarray(), V_import=V_tilda)"
   ]
  },
  {
   "cell_type": "code",
   "execution_count": 7,
   "id": "6e714d97",
   "metadata": {},
   "outputs": [
    {
     "name": "stdout",
     "output_type": "stream",
     "text": [
      "True\n",
      "True\n",
      "True\n",
      "True\n"
     ]
    }
   ],
   "source": [
    "print(np.allclose(beta_s, beta_d))\n",
    "print(np.allclose(t_0_dB_s, t_0_dB_d))\n",
    "print(np.allclose(t_0_sol_s, t_0_sol_d))\n",
    "print(np.allclose(t_2_max_s, t_2_max_d))"
   ]
  },
  {
   "cell_type": "code",
   "execution_count": 8,
   "id": "d9a67554",
   "metadata": {},
   "outputs": [
    {
     "name": "stdout",
     "output_type": "stream",
     "text": [
      "True\n",
      "True\n",
      "True\n",
      "True\n"
     ]
    }
   ],
   "source": [
    "print(np.allclose(beta_s, beta_TF))\n",
    "print(np.allclose(t_0_dB_s, t_0_dB_TF))\n",
    "print(np.allclose(t_0_sol_s, t_0_sol_TF))\n",
    "print(np.allclose(t_2_max_s, t_2_max_TF))"
   ]
  },
  {
   "cell_type": "code",
   "execution_count": 9,
   "id": "e303dd4c",
   "metadata": {},
   "outputs": [
    {
     "name": "stdout",
     "output_type": "stream",
     "text": [
      "True\n",
      "True\n",
      "True\n",
      "True\n"
     ]
    }
   ],
   "source": [
    "print(np.allclose(beta_d, beta_TF))\n",
    "print(np.allclose(t_0_dB_d, t_0_dB_TF))\n",
    "print(np.allclose(t_0_sol_d, t_0_sol_TF))\n",
    "print(np.allclose(t_2_max_d, t_2_max_TF))"
   ]
  },
  {
   "cell_type": "markdown",
   "id": "998fe8bc",
   "metadata": {},
   "source": [
    "# Check the interative step."
   ]
  },
  {
   "cell_type": "code",
   "execution_count": 10,
   "id": "99a332e1",
   "metadata": {},
   "outputs": [],
   "source": [
    "comb_flat = np.random.rand(201)"
   ]
  },
  {
   "cell_type": "code",
   "execution_count": 11,
   "id": "c278c46b",
   "metadata": {},
   "outputs": [],
   "source": [
    "site = 3\n",
    "state = 3\n",
    "g = 0.2"
   ]
  },
  {
   "cell_type": "code",
   "execution_count": 12,
   "id": "f8b5abc3",
   "metadata": {},
   "outputs": [],
   "source": [
    "K, V = build_V_prime_in_p(state)\n",
    "I = np.eye(state)\n",
    "\n",
    "U, _ = bz.thermofield_change_of_basis(I)\n",
    "\n",
    "U_sparse = sp.csr_matrix(U)\n",
    "\n",
    "h_full = (U_sparse.T @ K @ U_sparse).toarray()\n",
    "\n",
    "v_full = oe.contract('Mi,Wj,ijab,aN,bV->MWNV', U, U, V.toarray().reshape(state**2, state**2, state**2, state**2), U, U, optimize='optimal')\n",
    "v_full = v_full * g"
   ]
  },
  {
   "cell_type": "markdown",
   "id": "c745ad0a",
   "metadata": {},
   "source": [
    "## New."
   ]
  },
  {
   "cell_type": "code",
   "execution_count": 13,
   "id": "d0038592",
   "metadata": {},
   "outputs": [],
   "source": [
    "from quant_rotor.models.dense.t_amplitudes_sub_class_new import QuantumSimulation, TensorData, SimulationParams, PrecalcalculatedTerms"
   ]
  },
  {
   "cell_type": "code",
   "execution_count": 14,
   "id": "de92ad53",
   "metadata": {},
   "outputs": [],
   "source": [
    "state = state**2\n",
    "p = state\n",
    "i = 1\n",
    "a = p - i\n",
    "\n",
    "t_a_i_tensor = np.full((a), 0, dtype=complex)\n",
    "t_ab_ij_tensor = np.full((site, a, a), 0, dtype=complex)\n",
    "\n",
    "#eigenvalues from h for update\n",
    "epsilon = np.diag(h_full)\n",
    "\n",
    "params = SimulationParams(\n",
    "a=a,\n",
    "i=i,\n",
    "p=p,  # These can be the same as `a + i` or chosen independently\n",
    "site=site,\n",
    "state=state,\n",
    "i_method=3,\n",
    "gap=False,\n",
    "gap_site=3,\n",
    "epsilon=epsilon,\n",
    "periodic=True\n",
    ")\n",
    "\n",
    "tensors = TensorData(\n",
    "t_a_i_tensor=t_a_i_tensor,\n",
    "t_ab_ij_tensor=t_ab_ij_tensor,\n",
    "h_full=h_full,\n",
    "v_full=v_full\n",
    ")\n",
    "\n",
    "terms = PrecalcalculatedTerms()\n",
    "qs_new = QuantumSimulation(params, tensors, terms)\n",
    "\n",
    "# Initialize T_0 (reference amplitude) as complex zero\n",
    "t_0 = complex(0)\n",
    "# Initialize T_ai amplitudes as zeros\n",
    "single = np.zeros((a), dtype = complex)\n",
    "double = np.zeros((site, a, a), dtype = complex)\n",
    "\n",
    "qs_new.terms.h_pp=qs_new.h_term(p, p)\n",
    "qs_new.terms.h_pa=qs_new.h_term(p, a)\n",
    "qs_new.terms.h_ip=qs_new.h_term(i, p).reshape(p)\n",
    "qs_new.terms.V_pppp=qs_new.v_term(p, p, p, p, 0, 1).reshape(p**2, p**2)\n",
    "qs_new.terms.V_ppaa=qs_new.v_term(p, p, a, a, 0, 1).reshape(p**2, a**2)\n",
    "qs_new.terms.V_iipp=qs_new.v_term(i, i, p, p, 0, 1).reshape(p, p)\n",
    "qs_new.terms.V_iiaa=qs_new.v_term(i, i, a, a, 0, 1).reshape(a, a)\n",
    "qs_new.terms.V_piaa=qs_new.v_term(p, i, a, a, 0, 1).reshape(p, a**2)\n",
    "qs_new.terms.V_pipp=qs_new.v_term(p, i, p, p, 0, 1).reshape(p, p**2)\n",
    "qs_new.terms.V_ipap=qs_new.v_term(i, p, a, p, 0, 1).reshape(p, a, p)\n",
    "qs_new.terms.V_piap=qs_new.v_term(p, i, a, p, 0, 1).reshape(p, a, p)"
   ]
  },
  {
   "cell_type": "code",
   "execution_count": 15,
   "id": "7a500a26",
   "metadata": {},
   "outputs": [
    {
     "name": "stdout",
     "output_type": "stream",
     "text": [
      "8\n",
      "[[0.23956056 0.3486029  0.72578327 0.77738293 0.7050013  0.18523676 0.03551828 0.17545684]\n",
      " [0.61152948 0.64514398 0.18567169 0.48330691 0.93077901 0.50582887 0.57962414 0.30638527]\n",
      " [0.0852091  0.28212068 0.97982108 0.48422004 0.34445982 0.07956906 0.97634799 0.52831085]\n",
      " [0.82398567 0.50786643 0.73220831 0.28942882 0.57730073 0.13242844 0.70735393 0.77851583]\n",
      " [0.22490016 0.57600895 0.02754314 0.54661966 0.49906792 0.53726261 0.47101555 0.75846167]\n",
      " [0.29356593 0.45242713 0.66209565 0.84043384 0.21693403 0.44902373 0.72192499 0.26403698]\n",
      " [0.83841066 0.28142306 0.27500363 0.94923028 0.88851767 0.73775989 0.86167877 0.39067838]\n",
      " [0.87526447 0.85846121 0.13854478 0.60009706 0.07438977 0.03780161 0.28008489 0.02238435]]\n",
      "[[0.80364598 0.46276633 0.43502634 0.6997699  0.45288049 0.97692391 0.29575905 0.52229854]\n",
      " [0.52039121 0.65684135 0.56103336 0.85753219 0.17012869 0.41855633 0.91912461 0.27633456]\n",
      " [0.57358879 0.13165109 0.14450374 0.08742509 0.84593617 0.21423208 0.69596089 0.28871484]\n",
      " [0.80395386 0.61667118 0.27936887 0.91375167 0.10822441 0.69063803 0.11233947 0.62223868]\n",
      " [0.18967959 0.21226279 0.8833778  0.37093214 0.73961476 0.71357332 0.54174163 0.64708495]\n",
      " [0.92870043 0.01292962 0.1902543  0.41712424 0.52272455 0.83903166 0.87623754 0.75701388]\n",
      " [0.69409655 0.53358511 0.56078753 0.6563094  0.14355991 0.52495188 0.05138314 0.83156679]\n",
      " [0.86123002 0.80900988 0.06993888 0.38940793 0.45696554 0.69132631 0.70775246 0.44641082]]\n"
     ]
    }
   ],
   "source": [
    "site, a, p, i = params.site, params.a, params.p, params.i\n",
    "\n",
    "print(params.a)\n",
    "\n",
    "dTab_ijdB_sol_new, dTa_idB_sol_new, T_ai_new = comb_flat[:-a-1], comb_flat[-a-1:-1], comb_flat[-1] \n",
    "dTab_ijdB_new = dTab_ijdB_sol_new.reshape(site, a, a)\n",
    "dTa_idB_new = dTa_idB_sol_new.reshape(a)\n",
    "\n",
    "qs_new.tensors.t_a_i_tensor = dTa_idB_new\n",
    "\n",
    "for site_1 in range(1, site):\n",
    "    qs_new.tensors.t_ab_ij_tensor[site_1] = dTab_ijdB_new[site_1]\n",
    "    print(dTab_ijdB_new[site_1])\n",
    "\n",
    "# print(dTab_ijdB_sol_new.reshape(site, a, a))\n",
    "\n",
    "two_max = qs_new.tensors.t_ab_ij_tensor.flat[np.argmax(np.abs(qs_new.tensors.t_ab_ij_tensor))]\n",
    "\n",
    "qs_new.terms.a_term=qs_new.A_term(a)\n",
    "qs_new.terms.b_term=qs_new.B_term(i)\n",
    "qs_new.terms.bb_term=oe.contract(\"q,s->qs\", qs_new.terms.b_term, qs_new.terms.b_term).reshape(p**2)\n",
    "qs_new.terms.aa_term=oe.contract(\"ap,bq->abpq\", qs_new.terms.a_term, qs_new.terms.a_term).reshape(a**2, p**2)\n",
    "\n",
    "energy_new = 0\n",
    "\n",
    "for site_x in range(site):\n",
    "    energy_new += qs_new.terms.h_ip @ qs_new.terms.b_term\n",
    "\n",
    "    for site_y in range(site_x + 1, site_x + site):\n",
    "        if abs(site_x - site_y) == 1 or abs(site_x - site_y) == (site - 1):\n",
    "            V_iipp = qs_new.terms.V_iipp\n",
    "            V_iiaa = qs_new.terms.V_iiaa\n",
    "            T_xy = qs_new.t_term(site_x, site_y)\n",
    "\n",
    "            # noinspection SpellCheckingInspection\n",
    "            energy_new +=  np.sum(V_iiaa* (T_xy)) * 0.5\n",
    "            # noinspection SpellCheckingInspection\n",
    "            energy_new += (V_iipp @ qs_new.terms.b_term @ qs_new.terms.b_term) * 0.5\n",
    "\n",
    "single_new = np.zeros((a), dtype = complex)\n",
    "double_new = np.zeros((site, a, a), dtype = complex)\n",
    "\n",
    "single_new = qs_new.residual_single()\n",
    "for y_site in range(1, site):\n",
    "    double_new[y_site] = qs_new.residual_double_total(y_site)\n",
    "\n",
    "dTab_ijdB_new = (-1*(double_new))\n",
    "dTa_idB_new = (-1*(single))\n",
    "dT_0dB_new = [-1*(energy_new)]"
   ]
  },
  {
   "cell_type": "code",
   "execution_count": 16,
   "id": "989e3346",
   "metadata": {},
   "outputs": [
    {
     "data": {
      "text/plain": [
       "array([1.        , 0.45293213, 0.812872  , 0.17038018, 0.47397588, 0.6175414 , 0.76303221, 0.80413018, 0.1463206 ])"
      ]
     },
     "execution_count": 16,
     "metadata": {},
     "output_type": "execute_result"
    }
   ],
   "source": [
    "qs_new.terms.b_term"
   ]
  },
  {
   "cell_type": "markdown",
   "id": "2c2c65c5",
   "metadata": {},
   "source": [
    "## Old."
   ]
  },
  {
   "cell_type": "code",
   "execution_count": 17,
   "id": "04b99d6c",
   "metadata": {},
   "outputs": [],
   "source": [
    "from quant_rotor.models.dense.t_amplitudes_sub_class import QuantumSimulation, TensorData, SimulationParams"
   ]
  },
  {
   "cell_type": "code",
   "execution_count": 18,
   "id": "9111adc1",
   "metadata": {},
   "outputs": [],
   "source": [
    "site = 3\n",
    "state = 3\n",
    "g = 0.2\n",
    "\n",
    "state = state**2\n",
    "p = state\n",
    "i = 1\n",
    "a = p - i"
   ]
  },
  {
   "cell_type": "code",
   "execution_count": 19,
   "id": "4edbc684",
   "metadata": {},
   "outputs": [],
   "source": [
    "t_a_i_tensor = np.full((site, a, i), 0, dtype=complex)\n",
    "t_ab_ij_tensor = np.full((site, site, a, a, i, i), 0, dtype=complex)\n",
    "\n",
    "#eigenvalues from h for update\n",
    "epsilon = np.diag(h_full)\n",
    "\n",
    "params = SimulationParams(\n",
    "a=a,\n",
    "i=i,\n",
    "p=p,  # These can be the same as `a + i` or chosen independently\n",
    "site=site,\n",
    "state=state,\n",
    "i_method=3,\n",
    "gap=False,\n",
    "gap_site=3,\n",
    "epsilon=epsilon,\n",
    "periodic=True\n",
    ")\n",
    "\n",
    "tensors = TensorData(\n",
    "t_a_i_tensor=t_a_i_tensor,\n",
    "t_ab_ij_tensor=t_ab_ij_tensor,\n",
    "h_full=h_full,\n",
    "v_full=v_full\n",
    ")\n",
    "\n",
    "qs_old = QuantumSimulation(params, tensors)\n",
    "\n",
    "# Initialize T_0 (reference amplitude) as complex zero\n",
    "t_0 = complex(0)\n",
    "# Initialize T_ai amplitudes as zeros\n",
    "single = np.zeros((a,i), dtype = complex)\n",
    "double = np.zeros((site, a, a, i, i), dtype = complex)"
   ]
  },
  {
   "cell_type": "code",
   "execution_count": 20,
   "id": "3c048037",
   "metadata": {},
   "outputs": [
    {
     "data": {
      "text/plain": [
       "array([[0., 0., 0., 0., 0., 0., 0., 0., 0.]])"
      ]
     },
     "execution_count": 20,
     "metadata": {},
     "output_type": "execute_result"
    }
   ],
   "source": [
    "qs_old.h_term(i, p) - qs_new.terms.h_ip"
   ]
  },
  {
   "cell_type": "code",
   "execution_count": 21,
   "id": "f880461f",
   "metadata": {},
   "outputs": [
    {
     "data": {
      "text/plain": [
       "array([ 0.        +0.j, -0.45293213+0.j, -0.812872  +0.j, -0.17038018+0.j, -0.47397588+0.j, -0.6175414 +0.j, -0.76303221+0.j, -0.80413018+0.j, -0.1463206 +0.j])"
      ]
     },
     "execution_count": 21,
     "metadata": {},
     "output_type": "execute_result"
    }
   ],
   "source": [
    "qs_old.B_term(i, site_x).reshape(p) - qs_new.terms.b_term"
   ]
  },
  {
   "cell_type": "code",
   "execution_count": 22,
   "id": "d5744f4a",
   "metadata": {},
   "outputs": [
    {
     "name": "stdout",
     "output_type": "stream",
     "text": [
      "t_2: True\n",
      "Energy: True\n",
      "Singles: True\n",
      "[-6.93889390e-17+0.j  0.00000000e+00+0.j  0.00000000e+00+0.j  0.00000000e+00+0.j  5.55111512e-17+0.j -2.77555756e-17+0.j  1.11022302e-16+0.j -1.11022302e-16+0.j]\n",
      "Double: True\n",
      "Double: [[-1.11022302e-16+0.j -2.22044605e-16+0.j -4.44089210e-16+0.j -2.22044605e-16+0.j -4.44089210e-16+0.j  0.00000000e+00+0.j  2.22044605e-16+0.j  1.11022302e-16+0.j]\n",
      " [ 0.00000000e+00+0.j  0.00000000e+00+0.j  5.55111512e-17+0.j -4.44089210e-16+0.j -4.44089210e-16+0.j -2.22044605e-16+0.j -2.22044605e-16+0.j -3.33066907e-16+0.j]\n",
      " [-1.66533454e-16+0.j -2.22044605e-16+0.j -1.33226763e-15+0.j  0.00000000e+00+0.j -2.22044605e-16+0.j  8.32667268e-17+0.j  0.00000000e+00+0.j  1.11022302e-16+0.j]\n",
      " [-4.44089210e-16+0.j  0.00000000e+00+0.j  0.00000000e+00+0.j -8.88178420e-16+0.j -2.22044605e-16+0.j -2.77555756e-16+0.j -6.66133815e-16+0.j -4.44089210e-16+0.j]\n",
      " [-5.55111512e-17+0.j -3.88578059e-16+0.j  2.77555756e-17+0.j -2.22044605e-16+0.j -5.55111512e-17+0.j -2.77555756e-16+0.j  1.11022302e-16+0.j -1.11022302e-16+0.j]\n",
      " [-1.11022302e-16+0.j -2.22044605e-16+0.j  0.00000000e+00+0.j -3.33066907e-16+0.j  0.00000000e+00+0.j -3.33066907e-16+0.j -3.88578059e-16+0.j -2.22044605e-16+0.j]\n",
      " [-1.11022302e-16+0.j -1.11022302e-16+0.j  1.11022302e-16+0.j  0.00000000e+00+0.j -4.44089210e-16+0.j -6.66133815e-16+0.j  0.00000000e+00+0.j -2.22044605e-16+0.j]\n",
      " [-2.22044605e-16+0.j  1.11022302e-16+0.j  0.00000000e+00+0.j  4.44089210e-16+0.j  1.66533454e-16+0.j  0.00000000e+00+0.j -1.11022302e-16+0.j  0.00000000e+00+0.j]]\n",
      "Double: True\n",
      "Double: [[ 0.00000000e+00+0.j  1.11022302e-16+0.j -2.22044605e-16+0.j -1.11022302e-16+0.j -1.66533454e-16+0.j  0.00000000e+00+0.j -2.77555756e-16+0.j  2.22044605e-16+0.j]\n",
      " [-2.22044605e-16+0.j -4.44089210e-16+0.j  0.00000000e+00+0.j -8.88178420e-16+0.j -1.66533454e-16+0.j  0.00000000e+00+0.j  4.44089210e-16+0.j  0.00000000e+00+0.j]\n",
      " [ 0.00000000e+00+0.j -1.66533454e-16+0.j  0.00000000e+00+0.j -5.55111512e-17+0.j -2.22044605e-16+0.j -1.11022302e-16+0.j  0.00000000e+00+0.j -5.55111512e-17+0.j]\n",
      " [ 2.22044605e-16+0.j  0.00000000e+00+0.j  0.00000000e+00+0.j  0.00000000e+00+0.j -1.11022302e-16+0.j -4.44089210e-16+0.j -1.66533454e-16+0.j  2.22044605e-16+0.j]\n",
      " [-1.11022302e-16+0.j -1.11022302e-16+0.j -2.22044605e-16+0.j  1.11022302e-16+0.j -3.88578059e-16+0.j -2.22044605e-16+0.j  0.00000000e+00+0.j -1.11022302e-16+0.j]\n",
      " [-3.33066907e-16+0.j  5.55111512e-17+0.j -1.11022302e-16+0.j  1.66533454e-16+0.j -5.55111512e-17+0.j  1.11022302e-16+0.j -4.44089210e-16+0.j -3.33066907e-16+0.j]\n",
      " [-1.11022302e-16+0.j -1.11022302e-16+0.j  0.00000000e+00+0.j -3.33066907e-16+0.j -5.55111512e-17+0.j -2.22044605e-16+0.j  0.00000000e+00+0.j -1.11022302e-16+0.j]\n",
      " [-5.55111512e-17+0.j  5.55111512e-17+0.j -5.55111512e-17+0.j  1.11022302e-16+0.j -1.11022302e-16+0.j  0.00000000e+00+0.j -2.77555756e-16+0.j  0.00000000e+00+0.j]]\n"
     ]
    }
   ],
   "source": [
    "site, a, p, i = params.site, params.a, params.p, params.i\n",
    "\n",
    "dTab_ijdB_sol_old, dTa_idB_sol_old, T_ai_old = comb_flat[:-a-1], comb_flat[-a-1:-1], comb_flat[-1] \n",
    "dTab_ijdB_old = dTab_ijdB_sol_old.reshape(site, a, a, i, i)\n",
    "dTa_idB_old = dTa_idB_sol_old.reshape(a, i)\n",
    "\n",
    "# print(dTab_ijdB_sol_old.reshape(site, a, a, i, i).reshape(site, a, a))\n",
    "\n",
    "# print(np.array_equal(dTab_ijdB_sol_old.reshape(site, a, a), dTab_ijdB_sol_new.reshape(site, a, a)))\n",
    "# print(np.array_equal(dTa_idB_sol_old.reshape(a), dTa_idB_sol_new.reshape(a)))\n",
    "\n",
    "qs_old.tensors.t_a_i_tensor[0] = dTa_idB_old\n",
    "\n",
    "for site_1 in range(1, site):\n",
    "    qs_old.tensors.t_a_i_tensor[site_1] = qs_old.tensors.t_a_i_tensor[0]\n",
    "    # print(\"t_1:\", np.array_equal(qs_old.tensors.t_a_i_tensor[0].reshape(a), qs_new.tensors.t_a_i_tensor))\n",
    "    qs_old.tensors.t_ab_ij_tensor[0, site_1] = dTab_ijdB_old[site_1]\n",
    "    for site_2 in range(1, site):\n",
    "        qs_old.tensors.t_ab_ij_tensor[site_2, (site_1 + site_2) % site] = qs_old.tensors.t_ab_ij_tensor[0, site_1]\n",
    "        # print(\"t_2:\", np.array_equal(qs_old.tensors.t_ab_ij_tensor[site_2, (site_1 + site_2) % site].reshape(a, a), qs_new.tensors.t_ab_ij_tensor[site_1]))\n",
    "    \n",
    "print(\"t_2:\", np.array_equal(qs_old.tensors.t_ab_ij_tensor[0].reshape(site, a, a), qs_new.tensors.t_ab_ij_tensor))\n",
    "\n",
    "two_max = qs_old.tensors.t_ab_ij_tensor.flat[np.argmax(np.abs(qs_old.tensors.t_ab_ij_tensor))]\n",
    "\n",
    "energy_old = 0\n",
    "\n",
    "for site_x in range(site):\n",
    "    energy_old += np.einsum(\"ip, pi->\", qs_old.h_term(i, p), qs_old.B_term(i, site_x))\n",
    "\n",
    "    for site_y in range(site_x + 1, site_x + site):\n",
    "        # noinspection SpellCheckingInspection\n",
    "        energy_old += np.einsum(\"ijab, abij->\", qs_old.v_term(i, i, a, a, site_x, site_y % site), qs_old.t_term(site_x, site_y % site)) * 0.5\n",
    "        # noinspection SpellCheckingInspection\n",
    "        energy_old += np.einsum(\"ijpq, pi, qj->\", qs_old.v_term(i, i, p, p, site_x, site_y % site), qs_old.B_term(i, site_x), qs_old.B_term(i, site_y % site)) * 0.5\n",
    "\n",
    "print(\"Energy:\", np.array_equal(energy_new, energy_old))\n",
    "\n",
    "single_old = np.zeros((a,i), dtype = complex)\n",
    "double_old = np.zeros((site, a, a, i, i), dtype = complex)\n",
    "\n",
    "single_old = qs_old.residual_single(0)\n",
    "\n",
    "print(\"Singles:\", np.allclose(single_old.reshape(a), single_new))\n",
    "print(single_old.reshape(a) - single_new)\n",
    "\n",
    "for y_site in range(1, site):\n",
    "    double_old[y_site] = qs_old.residual_double_total(0, y_site)\n",
    "    print(\"Double:\", np.allclose(qs_old.residual_double_total(0, y_site).reshape(a, a), qs_new.residual_double_total(y_site)))\n",
    "    print(\"Double:\", qs_old.residual_double_total(0, y_site).reshape(a, a) - qs_new.residual_double_total(y_site))\n",
    "\n",
    "dTa_idB_old = (-1*(single_old))\n",
    "dTab_ijdB_old = (-1*(double_old))\n",
    "dT_0dB_old = [-1*(energy_old)]"
   ]
  },
  {
   "cell_type": "code",
   "execution_count": 23,
   "id": "ea968990",
   "metadata": {},
   "outputs": [
    {
     "name": "stdout",
     "output_type": "stream",
     "text": [
      "[-0.08871813+0.j -0.30852556+0.j -0.5823696 +0.j -0.98008535+0.j -0.19822275+0.j -0.18347211+0.j -0.30169193+0.j -0.86217347+0.j]\n"
     ]
    },
    {
     "data": {
      "text/plain": [
       "array([[[ 0.00000000e+00+0.j,  0.00000000e+00+0.j,  0.00000000e+00+0.j,  0.00000000e+00+0.j,  0.00000000e+00+0.j,  0.00000000e+00+0.j,  0.00000000e+00+0.j,  0.00000000e+00+0.j],\n",
       "        [ 0.00000000e+00+0.j,  0.00000000e+00+0.j,  0.00000000e+00+0.j,  0.00000000e+00+0.j,  0.00000000e+00+0.j,  0.00000000e+00+0.j,  0.00000000e+00+0.j,  0.00000000e+00+0.j],\n",
       "        [ 0.00000000e+00+0.j,  0.00000000e+00+0.j,  0.00000000e+00+0.j,  0.00000000e+00+0.j,  0.00000000e+00+0.j,  0.00000000e+00+0.j,  0.00000000e+00+0.j,  0.00000000e+00+0.j],\n",
       "        [ 0.00000000e+00+0.j,  0.00000000e+00+0.j,  0.00000000e+00+0.j,  0.00000000e+00+0.j,  0.00000000e+00+0.j,  0.00000000e+00+0.j,  0.00000000e+00+0.j,  0.00000000e+00+0.j],\n",
       "        [ 0.00000000e+00+0.j,  0.00000000e+00+0.j,  0.00000000e+00+0.j,  0.00000000e+00+0.j,  0.00000000e+00+0.j,  0.00000000e+00+0.j,  0.00000000e+00+0.j,  0.00000000e+00+0.j],\n",
       "        [ 0.00000000e+00+0.j,  0.00000000e+00+0.j,  0.00000000e+00+0.j,  0.00000000e+00+0.j,  0.00000000e+00+0.j,  0.00000000e+00+0.j,  0.00000000e+00+0.j,  0.00000000e+00+0.j],\n",
       "        [ 0.00000000e+00+0.j,  0.00000000e+00+0.j,  0.00000000e+00+0.j,  0.00000000e+00+0.j,  0.00000000e+00+0.j,  0.00000000e+00+0.j,  0.00000000e+00+0.j,  0.00000000e+00+0.j],\n",
       "        [ 0.00000000e+00+0.j,  0.00000000e+00+0.j,  0.00000000e+00+0.j,  0.00000000e+00+0.j,  0.00000000e+00+0.j,  0.00000000e+00+0.j,  0.00000000e+00+0.j,  0.00000000e+00+0.j]],\n",
       "\n",
       "       [[-2.37670482e-01+0.j, -7.90135810e-01+0.j, -7.54403626e-01+0.j, -8.14572445e-01+0.j, -7.57687151e-01+0.j, -4.24527870e-01+0.j, -4.64798670e-01+0.j, -8.81368467e-01+0.j],\n",
       "        [-1.48287366e+00+0.j, -1.25320333e+00+0.j, -3.49936277e-01+0.j, -1.17910591e+00+0.j, -2.19497224e+00+0.j, -1.26060606e+00+0.j, -1.46653497e+00+0.j, -7.40012609e-01+0.j],\n",
       "        [-2.28035666e-01+0.j, -5.08517629e-01+0.j, -2.25593029e+00+0.j, -1.01816062e+00+0.j, -7.04799266e-01+0.j, -9.03948307e-02+0.j, -2.07736206e+00+0.j, -8.90290559e-01+0.j],\n",
       "        [-2.05924529e+00+0.j, -1.68591607e+00+0.j, -1.84299683e+00+0.j, -1.02783892e+00+0.j, -1.91965580e+00+0.j, -4.61410981e-01+0.j, -1.80260784e+00+0.j, -2.39035413e+00+0.j],\n",
       "        [-3.22597549e-01+0.j, -3.58650400e-01+0.j, -1.11183486e-01+0.j, -4.60096014e-01+0.j, -4.30826685e-01+0.j, -3.34392249e-01+0.j, -4.99385027e-01+0.j, -7.75060487e-01+0.j],\n",
       "        [-4.09960536e-01+0.j, -7.21820169e-01+0.j, -5.56700413e-01+0.j, -6.27502315e-01+0.j, -6.83709659e-01+0.j, -7.91946782e-02+0.j, -4.38627667e-01+0.j, -6.24422666e-01+0.j],\n",
       "        [-7.26022538e-01+0.j, -8.22202843e-01+0.j, -6.48110808e-01+0.j, -9.75199798e-01+0.j, -1.18552983e+00+0.j, -4.02693645e-01+0.j, -6.69577942e-01+0.j, -1.01168908e+00+0.j],\n",
       "        [-3.15865967e-01+0.j, -8.95086883e-02+0.j,  1.74235217e-01+0.j, -4.33710565e-02+0.j, -5.56847589e-02+0.j,  3.87568492e-02+0.j,  1.35692847e-02+0.j,  3.69513680e-01+0.j]],\n",
       "\n",
       "       [[-3.36725807e-01+0.j, -8.04122523e-01+0.j, -8.48472564e-01+0.j, -8.53609849e-01+0.j, -3.39048647e-01+0.j, -6.12215481e-01+0.j, -4.66756016e-01+0.j, -7.49062491e-01+0.j],\n",
       "        [-1.17178800e+00+0.j, -1.60553090e+00+0.j, -1.50018562e+00+0.j, -2.01277793e+00+0.j, -3.15901718e-01+0.j, -1.09302877e+00+0.j, -2.18178237e+00+0.j, -6.58371908e-01+0.j],\n",
       "        [-1.42872944e+00+0.j, -5.91456099e-04+0.j,  8.19658091e-02+0.j, -2.88219304e-02+0.j, -1.71909202e+00+0.j, -3.59942399e-01+0.j, -1.60607370e+00+0.j, -3.03309175e-01+0.j],\n",
       "        [-1.95479427e+00+0.j, -1.60799263e+00+0.j, -9.60548222e-01+0.j, -1.99637919e+00+0.j, -2.90559312e-01+0.j, -1.63420370e+00+0.j, -4.62050168e-01+0.j, -1.39896465e+00+0.j],\n",
       "        [-4.02805681e-01+0.j, -5.85127418e-01+0.j, -5.62460512e-01+0.j, -4.97680570e-01+0.j, -1.73236398e-01+0.j, -7.53942990e-01+0.j, -9.83271790e-01+0.j, -6.55943725e-01+0.j],\n",
       "        [-7.45271094e-01+0.j, -4.79133932e-01+0.j, -4.41728097e-01+0.j, -3.85350881e-01+0.j, -3.08393074e-01+0.j, -6.79166585e-01+0.j, -1.01510151e+00+0.j, -7.50661181e-01+0.j],\n",
       "        [-5.12154294e-01+0.j, -8.06490740e-01+0.j, -8.06948650e-01+0.j, -4.32258895e-01+0.j, -2.90201663e-01+0.j, -5.22839351e-01+0.j, -4.18360880e-01+0.j, -6.75456104e-01+0.j],\n",
       "        [-4.04519540e-01+0.j, -1.95769069e-01+0.j,  2.32547711e-02+0.j, -2.62237359e-01+0.j, -3.82409157e-02+0.j, -7.82602880e-02+0.j, -1.55062390e-01+0.j,  2.04130389e-01+0.j]]])"
      ]
     },
     "execution_count": 23,
     "metadata": {},
     "output_type": "execute_result"
    }
   ],
   "source": [
    "print(single_new)\n",
    "double_new"
   ]
  },
  {
   "cell_type": "code",
   "execution_count": 24,
   "id": "d1d1cdff",
   "metadata": {},
   "outputs": [
    {
     "name": "stdout",
     "output_type": "stream",
     "text": [
      "[-0.08871813+0.j -0.30852556+0.j -0.5823696 +0.j -0.98008535+0.j -0.19822275+0.j -0.18347211+0.j -0.30169193+0.j -0.86217347+0.j]\n"
     ]
    },
    {
     "data": {
      "text/plain": [
       "array([[[ 0.00000000e+00+0.j,  0.00000000e+00+0.j,  0.00000000e+00+0.j,  0.00000000e+00+0.j,  0.00000000e+00+0.j,  0.00000000e+00+0.j,  0.00000000e+00+0.j,  0.00000000e+00+0.j],\n",
       "        [ 0.00000000e+00+0.j,  0.00000000e+00+0.j,  0.00000000e+00+0.j,  0.00000000e+00+0.j,  0.00000000e+00+0.j,  0.00000000e+00+0.j,  0.00000000e+00+0.j,  0.00000000e+00+0.j],\n",
       "        [ 0.00000000e+00+0.j,  0.00000000e+00+0.j,  0.00000000e+00+0.j,  0.00000000e+00+0.j,  0.00000000e+00+0.j,  0.00000000e+00+0.j,  0.00000000e+00+0.j,  0.00000000e+00+0.j],\n",
       "        [ 0.00000000e+00+0.j,  0.00000000e+00+0.j,  0.00000000e+00+0.j,  0.00000000e+00+0.j,  0.00000000e+00+0.j,  0.00000000e+00+0.j,  0.00000000e+00+0.j,  0.00000000e+00+0.j],\n",
       "        [ 0.00000000e+00+0.j,  0.00000000e+00+0.j,  0.00000000e+00+0.j,  0.00000000e+00+0.j,  0.00000000e+00+0.j,  0.00000000e+00+0.j,  0.00000000e+00+0.j,  0.00000000e+00+0.j],\n",
       "        [ 0.00000000e+00+0.j,  0.00000000e+00+0.j,  0.00000000e+00+0.j,  0.00000000e+00+0.j,  0.00000000e+00+0.j,  0.00000000e+00+0.j,  0.00000000e+00+0.j,  0.00000000e+00+0.j],\n",
       "        [ 0.00000000e+00+0.j,  0.00000000e+00+0.j,  0.00000000e+00+0.j,  0.00000000e+00+0.j,  0.00000000e+00+0.j,  0.00000000e+00+0.j,  0.00000000e+00+0.j,  0.00000000e+00+0.j],\n",
       "        [ 0.00000000e+00+0.j,  0.00000000e+00+0.j,  0.00000000e+00+0.j,  0.00000000e+00+0.j,  0.00000000e+00+0.j,  0.00000000e+00+0.j,  0.00000000e+00+0.j,  0.00000000e+00+0.j]],\n",
       "\n",
       "       [[-2.37670482e-01+0.j, -7.90135810e-01+0.j, -7.54403626e-01+0.j, -8.14572445e-01+0.j, -7.57687151e-01+0.j, -4.24527870e-01+0.j, -4.64798670e-01+0.j, -8.81368467e-01+0.j],\n",
       "        [-1.48287366e+00+0.j, -1.25320333e+00+0.j, -3.49936277e-01+0.j, -1.17910591e+00+0.j, -2.19497224e+00+0.j, -1.26060606e+00+0.j, -1.46653497e+00+0.j, -7.40012609e-01+0.j],\n",
       "        [-2.28035666e-01+0.j, -5.08517629e-01+0.j, -2.25593029e+00+0.j, -1.01816062e+00+0.j, -7.04799266e-01+0.j, -9.03948307e-02+0.j, -2.07736206e+00+0.j, -8.90290559e-01+0.j],\n",
       "        [-2.05924529e+00+0.j, -1.68591607e+00+0.j, -1.84299683e+00+0.j, -1.02783892e+00+0.j, -1.91965580e+00+0.j, -4.61410981e-01+0.j, -1.80260784e+00+0.j, -2.39035413e+00+0.j],\n",
       "        [-3.22597549e-01+0.j, -3.58650400e-01+0.j, -1.11183486e-01+0.j, -4.60096014e-01+0.j, -4.30826685e-01+0.j, -3.34392249e-01+0.j, -4.99385027e-01+0.j, -7.75060487e-01+0.j],\n",
       "        [-4.09960536e-01+0.j, -7.21820169e-01+0.j, -5.56700413e-01+0.j, -6.27502315e-01+0.j, -6.83709659e-01+0.j, -7.91946782e-02+0.j, -4.38627667e-01+0.j, -6.24422666e-01+0.j],\n",
       "        [-7.26022538e-01+0.j, -8.22202843e-01+0.j, -6.48110808e-01+0.j, -9.75199798e-01+0.j, -1.18552983e+00+0.j, -4.02693645e-01+0.j, -6.69577942e-01+0.j, -1.01168908e+00+0.j],\n",
       "        [-3.15865967e-01+0.j, -8.95086883e-02+0.j,  1.74235217e-01+0.j, -4.33710565e-02+0.j, -5.56847589e-02+0.j,  3.87568492e-02+0.j,  1.35692847e-02+0.j,  3.69513680e-01+0.j]],\n",
       "\n",
       "       [[-3.36725807e-01+0.j, -8.04122523e-01+0.j, -8.48472564e-01+0.j, -8.53609849e-01+0.j, -3.39048647e-01+0.j, -6.12215481e-01+0.j, -4.66756016e-01+0.j, -7.49062491e-01+0.j],\n",
       "        [-1.17178800e+00+0.j, -1.60553090e+00+0.j, -1.50018562e+00+0.j, -2.01277793e+00+0.j, -3.15901718e-01+0.j, -1.09302877e+00+0.j, -2.18178237e+00+0.j, -6.58371908e-01+0.j],\n",
       "        [-1.42872944e+00+0.j, -5.91456099e-04+0.j,  8.19658091e-02+0.j, -2.88219304e-02+0.j, -1.71909202e+00+0.j, -3.59942399e-01+0.j, -1.60607370e+00+0.j, -3.03309175e-01+0.j],\n",
       "        [-1.95479427e+00+0.j, -1.60799263e+00+0.j, -9.60548222e-01+0.j, -1.99637919e+00+0.j, -2.90559312e-01+0.j, -1.63420370e+00+0.j, -4.62050168e-01+0.j, -1.39896465e+00+0.j],\n",
       "        [-4.02805681e-01+0.j, -5.85127418e-01+0.j, -5.62460512e-01+0.j, -4.97680570e-01+0.j, -1.73236398e-01+0.j, -7.53942990e-01+0.j, -9.83271790e-01+0.j, -6.55943725e-01+0.j],\n",
       "        [-7.45271094e-01+0.j, -4.79133932e-01+0.j, -4.41728097e-01+0.j, -3.85350881e-01+0.j, -3.08393074e-01+0.j, -6.79166585e-01+0.j, -1.01510151e+00+0.j, -7.50661181e-01+0.j],\n",
       "        [-5.12154294e-01+0.j, -8.06490740e-01+0.j, -8.06948650e-01+0.j, -4.32258895e-01+0.j, -2.90201663e-01+0.j, -5.22839351e-01+0.j, -4.18360880e-01+0.j, -6.75456104e-01+0.j],\n",
       "        [-4.04519540e-01+0.j, -1.95769069e-01+0.j,  2.32547711e-02+0.j, -2.62237359e-01+0.j, -3.82409157e-02+0.j, -7.82602880e-02+0.j, -1.55062390e-01+0.j,  2.04130389e-01+0.j]]])"
      ]
     },
     "execution_count": 24,
     "metadata": {},
     "output_type": "execute_result"
    }
   ],
   "source": [
    "print(single_old.reshape(a))\n",
    "double_old.reshape(site, a, a)"
   ]
  },
  {
   "cell_type": "code",
   "execution_count": 25,
   "id": "7c7326e3",
   "metadata": {},
   "outputs": [
    {
     "name": "stdout",
     "output_type": "stream",
     "text": [
      "False\n",
      "False\n",
      "True\n"
     ]
    }
   ],
   "source": [
    "print(np.array_equal(dTab_ijdB_new, dTa_idB_old))\n",
    "print(np.array_equal(dTab_ijdB_new, dTab_ijdB_old))\n",
    "print(np.array_equal(dT_0dB_new, dT_0dB_old))"
   ]
  }
 ],
 "metadata": {
  "kernelspec": {
   "display_name": ".venv",
   "language": "python",
   "name": "python3"
  },
  "language_info": {
   "codemirror_mode": {
    "name": "ipython",
    "version": 3
   },
   "file_extension": ".py",
   "mimetype": "text/x-python",
   "name": "python",
   "nbconvert_exporter": "python",
   "pygments_lexer": "ipython3",
   "version": "3.13.4"
  }
 },
 "nbformat": 4,
 "nbformat_minor": 5
}
