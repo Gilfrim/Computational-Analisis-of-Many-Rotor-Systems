{
 "cells": [
  {
   "cell_type": "code",
   "execution_count": 29,
   "id": "c250ad2f",
   "metadata": {},
   "outputs": [],
   "source": [
    "import numpy as np\n",
    "import thermofield_boltz_funcs as bz\n",
    "import opt_einsum as oe\n",
    "import scipy.sparse as sp\n",
    "from quant_rotor.models.sparse.support_ham import build_V_prime_in_p\n",
    "from quant_rotor.core.dense.de_solve_one_thermal_dense import integration_scheme as integration_scheme_new_dense\n",
    "from quant_rotor.core.sparse.de_solve_one_thermal_sparse import integration_scheme as integration_scheme_new_sparse\n",
    "from quant_rotor.core.dense.de_solve_one_thermal import integration_scheme as integration_scheme_old\n",
    "\n",
    "np.set_printoptions(threshold=np.inf, linewidth=np.inf)"
   ]
  },
  {
   "cell_type": "code",
   "execution_count": 30,
   "id": "8342f133",
   "metadata": {},
   "outputs": [],
   "source": [
    "site = 3\n",
    "state = 3\n",
    "g = 0.1"
   ]
  },
  {
   "cell_type": "code",
   "execution_count": 31,
   "id": "03423f95",
   "metadata": {},
   "outputs": [
    {
     "name": "stdout",
     "output_type": "stream",
     "text": [
      "Done.\n"
     ]
    }
   ],
   "source": [
    "beta_d, t_0_dB_d, t_0_sol_d, t_2_max_d  = integration_scheme_new_dense(site, state, g, t_init=0,t_final=10,nof_points=100000)"
   ]
  },
  {
   "cell_type": "code",
   "execution_count": 32,
   "id": "c67f6707",
   "metadata": {},
   "outputs": [
    {
     "name": "stdout",
     "output_type": "stream",
     "text": [
      "Done.\n"
     ]
    }
   ],
   "source": [
    "beta_s, t_0_dB_s, t_0_sol_s, t_2_max_s  = integration_scheme_new_sparse(site, state, g, t_init=0,t_final=10,nof_points=100000)"
   ]
  },
  {
   "cell_type": "code",
   "execution_count": 33,
   "id": "8dee4e29",
   "metadata": {},
   "outputs": [],
   "source": [
    "K, V = build_V_prime_in_p(state)\n",
    "I = np.eye(state)\n",
    "\n",
    "U, _ = bz.thermofield_change_of_basis(I)\n",
    "\n",
    "U_sparse = sp.csr_matrix(U)\n",
    "\n",
    "K_tilda = U_sparse.T @ K @ U_sparse\n",
    "\n",
    "V_tilda = oe.contract('Mi,Wj,ijab,aN,bV->MWNV', U, U, V.toarray().reshape(state**2, state**2, state**2, state**2), U, U, optimize='optimal')"
   ]
  },
  {
   "cell_type": "code",
   "execution_count": 34,
   "id": "436a2308",
   "metadata": {},
   "outputs": [],
   "source": [
    "beta_TF, t_0_dB_TF, t_0_sol_TF, t_2_max_TF  = integration_scheme_old(site, state**2, g, t_init=0,t_final=10,nof_points=100000, import_K_V_TF=True, K_import=K_tilda.toarray(), V_import=V_tilda)"
   ]
  },
  {
   "cell_type": "code",
   "execution_count": 35,
   "id": "6e714d97",
   "metadata": {},
   "outputs": [
    {
     "name": "stdout",
     "output_type": "stream",
     "text": [
      "True\n",
      "False\n",
      "False\n",
      "False\n"
     ]
    }
   ],
   "source": [
    "print(np.allclose(beta_s, beta_d))\n",
    "print(np.allclose(t_0_dB_s, t_0_dB_d))\n",
    "print(np.allclose(t_0_sol_s, t_0_sol_d))\n",
    "print(np.allclose(t_2_max_s, t_2_max_d))"
   ]
  },
  {
   "cell_type": "code",
   "execution_count": 36,
   "id": "d9a67554",
   "metadata": {},
   "outputs": [
    {
     "name": "stdout",
     "output_type": "stream",
     "text": [
      "True\n",
      "False\n",
      "False\n",
      "False\n"
     ]
    }
   ],
   "source": [
    "print(np.allclose(beta_s, beta_TF))\n",
    "print(np.allclose(t_0_dB_s, t_0_dB_TF))\n",
    "print(np.allclose(t_0_sol_s, t_0_sol_TF))\n",
    "print(np.allclose(t_2_max_s, t_2_max_TF))"
   ]
  },
  {
   "cell_type": "code",
   "execution_count": 37,
   "id": "e303dd4c",
   "metadata": {},
   "outputs": [
    {
     "name": "stdout",
     "output_type": "stream",
     "text": [
      "True\n",
      "True\n",
      "True\n",
      "True\n"
     ]
    }
   ],
   "source": [
    "print(np.allclose(beta_d, beta_TF))\n",
    "print(np.allclose(t_0_dB_d, t_0_dB_TF))\n",
    "print(np.allclose(t_0_sol_d, t_0_sol_TF))\n",
    "print(np.allclose(t_2_max_d, t_2_max_TF))"
   ]
  },
  {
   "cell_type": "markdown",
   "id": "998fe8bc",
   "metadata": {},
   "source": [
    "# Check the interative step."
   ]
  },
  {
   "cell_type": "code",
   "execution_count": 8,
   "id": "99a332e1",
   "metadata": {},
   "outputs": [],
   "source": [
    "comb_flat = np.random.rand(201)"
   ]
  },
  {
   "cell_type": "code",
   "execution_count": 9,
   "id": "c278c46b",
   "metadata": {},
   "outputs": [],
   "source": [
    "site = 3\n",
    "state = 3\n",
    "g = 0.2"
   ]
  },
  {
   "cell_type": "code",
   "execution_count": 10,
   "id": "f8b5abc3",
   "metadata": {},
   "outputs": [],
   "source": [
    "K, V = build_V_prime_in_p(state)\n",
    "I = np.eye(state)\n",
    "\n",
    "U, _ = bz.thermofield_change_of_basis(I)\n",
    "\n",
    "U_sparse = sp.csr_matrix(U)\n",
    "\n",
    "h_full = (U_sparse.T @ K @ U_sparse).toarray()\n",
    "\n",
    "v_full = oe.contract('Mi,Wj,ijab,aN,bV->MWNV', U, U, V.toarray().reshape(state**2, state**2, state**2, state**2), U, U, optimize='optimal')\n",
    "v_full = v_full * g"
   ]
  },
  {
   "cell_type": "markdown",
   "id": "c745ad0a",
   "metadata": {},
   "source": [
    "## New."
   ]
  },
  {
   "cell_type": "code",
   "execution_count": 11,
   "id": "d0038592",
   "metadata": {},
   "outputs": [],
   "source": [
    "from quant_rotor.models.dense.t_amplitudes_sub_class_new import QuantumSimulation, TensorData, SimulationParams, PrecalcalculatedTerms"
   ]
  },
  {
   "cell_type": "code",
   "execution_count": 12,
   "id": "de92ad53",
   "metadata": {},
   "outputs": [],
   "source": [
    "state = state**2\n",
    "p = state\n",
    "i = 1\n",
    "a = p - i\n",
    "\n",
    "t_a_i_tensor = np.full((a), 0, dtype=complex)\n",
    "t_ab_ij_tensor = np.full((site, a, a), 0, dtype=complex)\n",
    "\n",
    "#eigenvalues from h for update\n",
    "epsilon = np.diag(h_full)\n",
    "\n",
    "params = SimulationParams(\n",
    "a=a,\n",
    "i=i,\n",
    "p=p,  # These can be the same as `a + i` or chosen independently\n",
    "site=site,\n",
    "state=state,\n",
    "i_method=3,\n",
    "gap=False,\n",
    "gap_site=3,\n",
    "epsilon=epsilon,\n",
    "periodic=True\n",
    ")\n",
    "\n",
    "tensors = TensorData(\n",
    "t_a_i_tensor=t_a_i_tensor,\n",
    "t_ab_ij_tensor=t_ab_ij_tensor,\n",
    "h_full=h_full,\n",
    "v_full=v_full\n",
    ")\n",
    "\n",
    "terms = PrecalcalculatedTerms()\n",
    "qs_new = QuantumSimulation(params, tensors, terms)\n",
    "\n",
    "# Initialize T_0 (reference amplitude) as complex zero\n",
    "t_0 = complex(0)\n",
    "# Initialize T_ai amplitudes as zeros\n",
    "single = np.zeros((a), dtype = complex)\n",
    "double = np.zeros((site, a, a), dtype = complex)\n",
    "\n",
    "qs_new.terms.h_pp=qs_new.h_term(p, p)\n",
    "qs_new.terms.h_pa=qs_new.h_term(p, a)\n",
    "qs_new.terms.h_ip=qs_new.h_term(i, p).reshape(p)\n",
    "qs_new.terms.V_pppp=qs_new.v_term(p, p, p, p, 0, 1).reshape(p**2, p**2)\n",
    "qs_new.terms.V_ppaa=qs_new.v_term(p, p, a, a, 0, 1).reshape(p**2, a**2)\n",
    "qs_new.terms.V_iipp=qs_new.v_term(i, i, p, p, 0, 1).reshape(p, p)\n",
    "qs_new.terms.V_iiaa=qs_new.v_term(i, i, a, a, 0, 1).reshape(a, a)\n",
    "qs_new.terms.V_piaa=qs_new.v_term(p, i, a, a, 0, 1).reshape(p, a**2)\n",
    "qs_new.terms.V_pipp=qs_new.v_term(p, i, p, p, 0, 1).reshape(p, p**2)\n",
    "qs_new.terms.V_ipap=qs_new.v_term(i, p, a, p, 0, 1).reshape(p, a, p)\n",
    "qs_new.terms.V_piap=qs_new.v_term(p, i, a, p, 0, 1).reshape(p, a, p)"
   ]
  },
  {
   "cell_type": "code",
   "execution_count": 13,
   "id": "7a500a26",
   "metadata": {},
   "outputs": [
    {
     "name": "stdout",
     "output_type": "stream",
     "text": [
      "8\n",
      "[[0.04303841 0.75613205 0.14282747 0.44720885 0.6343892  0.45678408 0.58477001 0.03802739]\n",
      " [0.33330926 0.73634529 0.67561855 0.70120182 0.40067707 0.13875329 0.77138087 0.70709578]\n",
      " [0.44076556 0.40888282 0.68900302 0.32141623 0.13982263 0.62033259 0.20993148 0.12559231]\n",
      " [0.19496029 0.82959488 0.97146558 0.8708089  0.50659388 0.71835095 0.80456471 0.55204693]\n",
      " [0.78754031 0.38153515 0.66530756 0.10236386 0.40554834 0.76857719 0.8731257  0.95287714]\n",
      " [0.12819184 0.94321439 0.17254984 0.37483241 0.71857159 0.26932257 0.05598014 0.00497767]\n",
      " [0.09892333 0.56265874 0.25641306 0.75715053 0.37060377 0.77031252 0.12665693 0.4833955 ]\n",
      " [0.47218835 0.10634449 0.18326103 0.27869497 0.50130196 0.16570829 0.0690733  0.08698876]]\n",
      "[[0.72365431 0.36165942 0.53059984 0.99952927 0.84114737 0.03315338 0.99208089 0.79940207]\n",
      " [0.42273196 0.99285412 0.35433084 0.74436735 0.67871641 0.8210294  0.647144   0.0904609 ]\n",
      " [0.29394214 0.1921458  0.56514068 0.78040349 0.13037644 0.84452554 0.06668477 0.87689034]\n",
      " [0.36302667 0.07632117 0.68686884 0.04204037 0.68117209 0.21216833 0.22367506 0.12312723]\n",
      " [0.80759068 0.89448061 0.69628339 0.02738677 0.68296317 0.55164662 0.43447238 0.23770737]\n",
      " [0.50911751 0.38228164 0.92481147 0.50478262 0.82903424 0.04294708 0.42262524 0.6896521 ]\n",
      " [0.22504593 0.25918732 0.69161275 0.30444807 0.24759078 0.15281119 0.46681746 0.67992181]\n",
      " [0.46883891 0.98803652 0.59277864 0.91875067 0.75414277 0.39592896 0.11634069 0.26806435]]\n"
     ]
    }
   ],
   "source": [
    "site, a, p, i = params.site, params.a, params.p, params.i\n",
    "\n",
    "print(params.a)\n",
    "\n",
    "dTab_ijdB_sol_new, dTa_idB_sol_new, T_ai_new = comb_flat[:-a-1], comb_flat[-a-1:-1], comb_flat[-1] \n",
    "dTab_ijdB_new = dTab_ijdB_sol_new.reshape(site, a, a)\n",
    "dTa_idB_new = dTa_idB_sol_new.reshape(a)\n",
    "\n",
    "qs_new.tensors.t_a_i_tensor = dTa_idB_new\n",
    "\n",
    "for site_1 in range(1, site):\n",
    "    qs_new.tensors.t_ab_ij_tensor[site_1] = dTab_ijdB_new[site_1]\n",
    "    print(dTab_ijdB_new[site_1])\n",
    "\n",
    "# print(dTab_ijdB_sol_new.reshape(site, a, a))\n",
    "\n",
    "two_max = qs_new.tensors.t_ab_ij_tensor.flat[np.argmax(np.abs(qs_new.tensors.t_ab_ij_tensor))]\n",
    "\n",
    "qs_new.terms.a_term=qs_new.A_term(a)\n",
    "qs_new.terms.b_term=qs_new.B_term(i)\n",
    "qs_new.terms.bb_term=oe.contract(\"q,s->qs\", qs_new.terms.b_term, qs_new.terms.b_term).reshape(p**2)\n",
    "qs_new.terms.aa_term=oe.contract(\"ap,bq->abpq\", qs_new.terms.a_term, qs_new.terms.a_term).reshape(a**2, p**2)\n",
    "\n",
    "energy_new = 0\n",
    "\n",
    "for site_x in range(site):\n",
    "    energy_new += qs_new.terms.h_ip @ qs_new.terms.b_term\n",
    "\n",
    "    for site_y in range(site_x + 1, site_x + site):\n",
    "        if abs(site_x - site_y) == 1 or abs(site_x - site_y) == (site - 1):\n",
    "            V_iipp = qs_new.terms.V_iipp\n",
    "            V_iiaa = qs_new.terms.V_iiaa\n",
    "            T_xy = qs_new.t_term(site_x, site_y)\n",
    "\n",
    "            # noinspection SpellCheckingInspection\n",
    "            energy_new +=  np.sum(V_iiaa* (T_xy)) * 0.5\n",
    "            # noinspection SpellCheckingInspection\n",
    "            energy_new += (V_iipp @ qs_new.terms.b_term @ qs_new.terms.b_term) * 0.5\n",
    "\n",
    "single_new = np.zeros((a), dtype = complex)\n",
    "double_new = np.zeros((site, a, a), dtype = complex)\n",
    "\n",
    "single_new = qs_new.residual_single()\n",
    "for y_site in range(1, site):\n",
    "    double_new[y_site] = qs_new.residual_double_total(y_site)\n",
    "\n",
    "dTab_ijdB_new = (-1*(double_new))\n",
    "dTa_idB_new = (-1*(single))\n",
    "dT_0dB_new = [-1*(energy_new)]"
   ]
  },
  {
   "cell_type": "code",
   "execution_count": 14,
   "id": "989e3346",
   "metadata": {},
   "outputs": [
    {
     "data": {
      "text/plain": [
       "array([1.        , 0.61906469, 0.41144321, 0.55913943, 0.08587843, 0.24916508, 0.62061379, 0.35890265, 0.62627943])"
      ]
     },
     "execution_count": 14,
     "metadata": {},
     "output_type": "execute_result"
    }
   ],
   "source": [
    "qs_new.terms.b_term"
   ]
  },
  {
   "cell_type": "markdown",
   "id": "2c2c65c5",
   "metadata": {},
   "source": [
    "## Old."
   ]
  },
  {
   "cell_type": "code",
   "execution_count": 15,
   "id": "04b99d6c",
   "metadata": {},
   "outputs": [],
   "source": [
    "from quant_rotor.models.dense.t_amplitudes_sub_class import QuantumSimulation, TensorData, SimulationParams"
   ]
  },
  {
   "cell_type": "code",
   "execution_count": 16,
   "id": "9111adc1",
   "metadata": {},
   "outputs": [],
   "source": [
    "site = 3\n",
    "state = 3\n",
    "g = 0.2\n",
    "\n",
    "state = state**2\n",
    "p = state\n",
    "i = 1\n",
    "a = p - i"
   ]
  },
  {
   "cell_type": "code",
   "execution_count": 17,
   "id": "4edbc684",
   "metadata": {},
   "outputs": [],
   "source": [
    "t_a_i_tensor = np.full((site, a, i), 0, dtype=complex)\n",
    "t_ab_ij_tensor = np.full((site, site, a, a, i, i), 0, dtype=complex)\n",
    "\n",
    "#eigenvalues from h for update\n",
    "epsilon = np.diag(h_full)\n",
    "\n",
    "params = SimulationParams(\n",
    "a=a,\n",
    "i=i,\n",
    "p=p,  # These can be the same as `a + i` or chosen independently\n",
    "site=site,\n",
    "state=state,\n",
    "i_method=3,\n",
    "gap=False,\n",
    "gap_site=3,\n",
    "epsilon=epsilon,\n",
    "periodic=True\n",
    ")\n",
    "\n",
    "tensors = TensorData(\n",
    "t_a_i_tensor=t_a_i_tensor,\n",
    "t_ab_ij_tensor=t_ab_ij_tensor,\n",
    "h_full=h_full,\n",
    "v_full=v_full\n",
    ")\n",
    "\n",
    "qs_old = QuantumSimulation(params, tensors)\n",
    "\n",
    "# Initialize T_0 (reference amplitude) as complex zero\n",
    "t_0 = complex(0)\n",
    "# Initialize T_ai amplitudes as zeros\n",
    "single = np.zeros((a,i), dtype = complex)\n",
    "double = np.zeros((site, a, a, i, i), dtype = complex)"
   ]
  },
  {
   "cell_type": "code",
   "execution_count": 18,
   "id": "3c048037",
   "metadata": {},
   "outputs": [
    {
     "data": {
      "text/plain": [
       "array([[0., 0., 0., 0., 0., 0., 0., 0., 0.]])"
      ]
     },
     "execution_count": 18,
     "metadata": {},
     "output_type": "execute_result"
    }
   ],
   "source": [
    "qs_old.h_term(i, p) - qs_new.terms.h_ip"
   ]
  },
  {
   "cell_type": "code",
   "execution_count": 19,
   "id": "f880461f",
   "metadata": {},
   "outputs": [
    {
     "data": {
      "text/plain": [
       "array([ 0.        +0.j, -0.61906469+0.j, -0.41144321+0.j, -0.55913943+0.j, -0.08587843+0.j, -0.24916508+0.j, -0.62061379+0.j, -0.35890265+0.j, -0.62627943+0.j])"
      ]
     },
     "execution_count": 19,
     "metadata": {},
     "output_type": "execute_result"
    }
   ],
   "source": [
    "qs_old.B_term(i, site_x).reshape(p) - qs_new.terms.b_term"
   ]
  },
  {
   "cell_type": "code",
   "execution_count": 20,
   "id": "d5744f4a",
   "metadata": {},
   "outputs": [
    {
     "name": "stdout",
     "output_type": "stream",
     "text": [
      "t_2: True\n",
      "Energy: True\n",
      "Singles: True\n",
      "[ 1.94289029e-16+0.j  2.77555756e-17+0.j  1.11022302e-16+0.j  6.93889390e-17+0.j  6.24500451e-17+0.j -1.11022302e-16+0.j  1.38777878e-17+0.j  1.11022302e-16+0.j]\n",
      "Double: True\n",
      "Double: [[ 1.66533454e-16+0.j  1.11022302e-16+0.j  0.00000000e+00+0.j  0.00000000e+00+0.j  1.11022302e-16+0.j -1.38777878e-17+0.j  1.11022302e-16+0.j  1.11022302e-16+0.j]\n",
      " [ 1.11022302e-16+0.j  2.22044605e-16+0.j  0.00000000e+00+0.j  0.00000000e+00+0.j  1.11022302e-16+0.j  5.55111512e-17+0.j  0.00000000e+00+0.j  0.00000000e+00+0.j]\n",
      " [-2.22044605e-16+0.j  0.00000000e+00+0.j  4.44089210e-16+0.j  0.00000000e+00+0.j  0.00000000e+00+0.j  4.44089210e-16+0.j  0.00000000e+00+0.j -1.11022302e-16+0.j]\n",
      " [ 5.55111512e-17+0.j  0.00000000e+00+0.j  0.00000000e+00+0.j  0.00000000e+00+0.j  0.00000000e+00+0.j  0.00000000e+00+0.j -2.22044605e-16+0.j  0.00000000e+00+0.j]\n",
      " [ 2.77555756e-16+0.j  0.00000000e+00+0.j  0.00000000e+00+0.j  2.77555756e-16+0.j  8.32667268e-17+0.j  5.55111512e-17+0.j  2.22044605e-16+0.j  6.66133815e-16+0.j]\n",
      " [ 7.63278329e-17+0.j  3.33066907e-16+0.j  0.00000000e+00+0.j  5.55111512e-17+0.j -1.11022302e-16+0.j -5.55111512e-17+0.j  0.00000000e+00+0.j -2.77555756e-16+0.j]\n",
      " [-2.77555756e-17+0.j  1.66533454e-16+0.j  0.00000000e+00+0.j  8.32667268e-17+0.j -2.22044605e-16+0.j  8.32667268e-17+0.j  0.00000000e+00+0.j -1.11022302e-16+0.j]\n",
      " [ 1.66533454e-16+0.j -1.66533454e-16+0.j -1.66533454e-16+0.j -2.22044605e-16+0.j  0.00000000e+00+0.j  0.00000000e+00+0.j -1.66533454e-16+0.j -1.11022302e-16+0.j]]\n",
      "Double: True\n",
      "Double: [[ 1.11022302e-16+0.j  1.11022302e-16+0.j  3.33066907e-16+0.j  2.22044605e-16+0.j  1.11022302e-16+0.j  0.00000000e+00+0.j  2.77555756e-16+0.j  0.00000000e+00+0.j]\n",
      " [ 1.11022302e-16+0.j  0.00000000e+00+0.j -1.11022302e-16+0.j  2.22044605e-16+0.j  2.22044605e-16+0.j  2.22044605e-16+0.j  0.00000000e+00+0.j  1.11022302e-16+0.j]\n",
      " [ 0.00000000e+00+0.j  0.00000000e+00+0.j -2.22044605e-16+0.j  0.00000000e+00+0.j  0.00000000e+00+0.j  0.00000000e+00+0.j  0.00000000e+00+0.j -4.44089210e-16+0.j]\n",
      " [-2.22044605e-16+0.j -1.11022302e-16+0.j  0.00000000e+00+0.j  0.00000000e+00+0.j  2.22044605e-16+0.j -2.22044605e-16+0.j -1.11022302e-16+0.j -2.22044605e-16+0.j]\n",
      " [ 3.33066907e-16+0.j  3.33066907e-16+0.j -2.22044605e-16+0.j  0.00000000e+00+0.j  2.77555756e-17+0.j  0.00000000e+00+0.j  0.00000000e+00+0.j  0.00000000e+00+0.j]\n",
      " [-5.55111512e-17+0.j  0.00000000e+00+0.j  0.00000000e+00+0.j  1.66533454e-16+0.j  0.00000000e+00+0.j  1.11022302e-16+0.j  2.77555756e-16+0.j  1.11022302e-16+0.j]\n",
      " [-5.55111512e-17+0.j  0.00000000e+00+0.j  1.11022302e-16+0.j  2.77555756e-17+0.j  0.00000000e+00+0.j -5.55111512e-17+0.j  0.00000000e+00+0.j  0.00000000e+00+0.j]\n",
      " [ 1.94289029e-16+0.j  2.22044605e-16+0.j  1.11022302e-16+0.j  6.66133815e-16+0.j -1.11022302e-16+0.j -1.11022302e-16+0.j -1.11022302e-16+0.j -1.11022302e-16+0.j]]\n"
     ]
    }
   ],
   "source": [
    "site, a, p, i = params.site, params.a, params.p, params.i\n",
    "\n",
    "dTab_ijdB_sol_old, dTa_idB_sol_old, T_ai_old = comb_flat[:-a-1], comb_flat[-a-1:-1], comb_flat[-1] \n",
    "dTab_ijdB_old = dTab_ijdB_sol_old.reshape(site, a, a, i, i)\n",
    "dTa_idB_old = dTa_idB_sol_old.reshape(a, i)\n",
    "\n",
    "# print(dTab_ijdB_sol_old.reshape(site, a, a, i, i).reshape(site, a, a))\n",
    "\n",
    "# print(np.array_equal(dTab_ijdB_sol_old.reshape(site, a, a), dTab_ijdB_sol_new.reshape(site, a, a)))\n",
    "# print(np.array_equal(dTa_idB_sol_old.reshape(a), dTa_idB_sol_new.reshape(a)))\n",
    "\n",
    "qs_old.tensors.t_a_i_tensor[0] = dTa_idB_old\n",
    "\n",
    "for site_1 in range(1, site):\n",
    "    qs_old.tensors.t_a_i_tensor[site_1] = qs_old.tensors.t_a_i_tensor[0]\n",
    "    # print(\"t_1:\", np.array_equal(qs_old.tensors.t_a_i_tensor[0].reshape(a), qs_new.tensors.t_a_i_tensor))\n",
    "    qs_old.tensors.t_ab_ij_tensor[0, site_1] = dTab_ijdB_old[site_1]\n",
    "    for site_2 in range(1, site):\n",
    "        qs_old.tensors.t_ab_ij_tensor[site_2, (site_1 + site_2) % site] = qs_old.tensors.t_ab_ij_tensor[0, site_1]\n",
    "        # print(\"t_2:\", np.array_equal(qs_old.tensors.t_ab_ij_tensor[site_2, (site_1 + site_2) % site].reshape(a, a), qs_new.tensors.t_ab_ij_tensor[site_1]))\n",
    "    \n",
    "print(\"t_2:\", np.array_equal(qs_old.tensors.t_ab_ij_tensor[0].reshape(site, a, a), qs_new.tensors.t_ab_ij_tensor))\n",
    "\n",
    "two_max = qs_old.tensors.t_ab_ij_tensor.flat[np.argmax(np.abs(qs_old.tensors.t_ab_ij_tensor))]\n",
    "\n",
    "energy_old = 0\n",
    "\n",
    "for site_x in range(site):\n",
    "    energy_old += np.einsum(\"ip, pi->\", qs_old.h_term(i, p), qs_old.B_term(i, site_x))\n",
    "\n",
    "    for site_y in range(site_x + 1, site_x + site):\n",
    "        # noinspection SpellCheckingInspection\n",
    "        energy_old += np.einsum(\"ijab, abij->\", qs_old.v_term(i, i, a, a, site_x, site_y % site), qs_old.t_term(site_x, site_y % site)) * 0.5\n",
    "        # noinspection SpellCheckingInspection\n",
    "        energy_old += np.einsum(\"ijpq, pi, qj->\", qs_old.v_term(i, i, p, p, site_x, site_y % site), qs_old.B_term(i, site_x), qs_old.B_term(i, site_y % site)) * 0.5\n",
    "\n",
    "print(\"Energy:\", np.array_equal(energy_new, energy_old))\n",
    "\n",
    "single_old = np.zeros((a,i), dtype = complex)\n",
    "double_old = np.zeros((site, a, a, i, i), dtype = complex)\n",
    "\n",
    "single_old = qs_old.residual_single(0)\n",
    "\n",
    "print(\"Singles:\", np.allclose(single_old.reshape(a), single_new))\n",
    "print(single_old.reshape(a) - single_new)\n",
    "\n",
    "for y_site in range(1, site):\n",
    "    double_old[y_site] = qs_old.residual_double_total(0, y_site)\n",
    "    print(\"Double:\", np.allclose(qs_old.residual_double_total(0, y_site).reshape(a, a), qs_new.residual_double_total(y_site)))\n",
    "    print(\"Double:\", qs_old.residual_double_total(0, y_site).reshape(a, a) - qs_new.residual_double_total(y_site))\n",
    "\n",
    "dTa_idB_old = (-1*(single_old))\n",
    "dTab_ijdB_old = (-1*(double_old))\n",
    "dT_0dB_old = [-1*(energy_old)]"
   ]
  },
  {
   "cell_type": "code",
   "execution_count": 21,
   "id": "ea968990",
   "metadata": {},
   "outputs": [
    {
     "name": "stdout",
     "output_type": "stream",
     "text": [
      "[-0.03155283+0.j -0.03473602+0.j -0.56987016+0.j  0.11820631+0.j  0.01818648+0.j -0.27592288+0.j -0.00949698+0.j -0.66062939+0.j]\n"
     ]
    },
    {
     "data": {
      "text/plain": [
       "array([[[ 0.00000000e+00+0.j,  0.00000000e+00+0.j,  0.00000000e+00+0.j,  0.00000000e+00+0.j,  0.00000000e+00+0.j,  0.00000000e+00+0.j,  0.00000000e+00+0.j,  0.00000000e+00+0.j],\n",
       "        [ 0.00000000e+00+0.j,  0.00000000e+00+0.j,  0.00000000e+00+0.j,  0.00000000e+00+0.j,  0.00000000e+00+0.j,  0.00000000e+00+0.j,  0.00000000e+00+0.j,  0.00000000e+00+0.j],\n",
       "        [ 0.00000000e+00+0.j,  0.00000000e+00+0.j,  0.00000000e+00+0.j,  0.00000000e+00+0.j,  0.00000000e+00+0.j,  0.00000000e+00+0.j,  0.00000000e+00+0.j,  0.00000000e+00+0.j],\n",
       "        [ 0.00000000e+00+0.j,  0.00000000e+00+0.j,  0.00000000e+00+0.j,  0.00000000e+00+0.j,  0.00000000e+00+0.j,  0.00000000e+00+0.j,  0.00000000e+00+0.j,  0.00000000e+00+0.j],\n",
       "        [ 0.00000000e+00+0.j,  0.00000000e+00+0.j,  0.00000000e+00+0.j,  0.00000000e+00+0.j,  0.00000000e+00+0.j,  0.00000000e+00+0.j,  0.00000000e+00+0.j,  0.00000000e+00+0.j],\n",
       "        [ 0.00000000e+00+0.j,  0.00000000e+00+0.j,  0.00000000e+00+0.j,  0.00000000e+00+0.j,  0.00000000e+00+0.j,  0.00000000e+00+0.j,  0.00000000e+00+0.j,  0.00000000e+00+0.j],\n",
       "        [ 0.00000000e+00+0.j,  0.00000000e+00+0.j,  0.00000000e+00+0.j,  0.00000000e+00+0.j,  0.00000000e+00+0.j,  0.00000000e+00+0.j,  0.00000000e+00+0.j,  0.00000000e+00+0.j],\n",
       "        [ 0.00000000e+00+0.j,  0.00000000e+00+0.j,  0.00000000e+00+0.j,  0.00000000e+00+0.j,  0.00000000e+00+0.j,  0.00000000e+00+0.j,  0.00000000e+00+0.j,  0.00000000e+00+0.j]],\n",
       "\n",
       "       [[ 2.49238178e-01+0.j, -6.40077381e-01+0.j, -6.99976058e-01+0.j, -6.01890230e-01+0.j, -3.39370753e-01+0.j,  3.57430497e-02+0.j, -4.31714027e-01+0.j, -3.73428664e-01+0.j],\n",
       "        [-4.43501786e-01+0.j, -1.30463544e+00+0.j, -1.41827484e+00+0.j, -1.36111471e+00+0.j, -7.62681103e-01+0.j, -4.71864268e-01+0.j, -1.51890021e+00+0.j, -1.46177067e+00+0.j],\n",
       "        [-1.38153883e+00+0.j, -1.25449570e+00+0.j, -1.87814764e+00+0.j, -1.18057172e+00+0.j, -6.34062362e-01+0.j, -1.97836849e+00+0.j, -1.06493737e+00+0.j, -6.27906354e-01+0.j],\n",
       "        [-2.82660960e-01+0.j, -2.24087039e+00+0.j, -2.39349650e+00+0.j, -1.89296902e+00+0.j, -1.20091611e+00+0.j, -1.46603352e+00+0.j, -1.83716214e+00+0.j, -1.39087230e+00+0.j],\n",
       "        [-3.72047862e-01+0.j, -6.70865817e-01+0.j, -4.16759409e-01+0.j, -3.81815352e-01+0.j, -4.91467293e-02+0.j, -4.64385399e-01+0.j, -5.76578530e-01+0.j, -1.19781632e+00+0.j],\n",
       "        [ 2.47358267e-02+0.j, -7.93486624e-01+0.j, -6.43456781e-01+0.j, -4.05689445e-01+0.j, -3.79667455e-01+0.j,  2.55596328e-01+0.j, -3.20445428e-01+0.j, -2.14713595e-01+0.j],\n",
       "        [ 1.35243604e-01+0.j, -4.65899111e-01+0.j, -6.34418959e-01+0.j, -2.03855244e-01+0.j, -4.01580719e-01+0.j,  8.59376476e-02+0.j, -3.61111019e-02+0.j, -2.20718801e-01+0.j],\n",
       "        [-3.94124405e-01+0.j, -3.64435334e-01+0.j, -2.78970207e-01+0.j, -3.44124584e-01+0.j, -3.68937788e-01+0.j,  1.16397245e-01+0.j, -4.41011512e-01+0.j,  1.11231106e-02+0.j]],\n",
       "\n",
       "       [[ 6.69733504e-05+0.j, -7.69242517e-01+0.j, -6.77828423e-01+0.j, -7.31356745e-01+0.j, -5.23232729e-01+0.j, -3.49582173e-01+0.j, -4.90777520e-01+0.j, -4.68488544e-01+0.j],\n",
       "        [-5.01440923e-01+0.j, -1.72684360e+00+0.j, -6.13204846e-01+0.j, -1.76804731e+00+0.j, -1.17524128e+00+0.j, -1.55778034e+00+0.j, -1.32048011e+00+0.j,  5.18552367e-02+0.j],\n",
       "        [-9.52006775e-01+0.j, -9.90067936e-01+0.j, -1.68974993e+00+0.j, -1.93521789e+00+0.j, -6.58474805e-01+0.j, -2.51690210e+00+0.j, -5.73860988e-01+0.j, -2.29116449e+00+0.j],\n",
       "        [-8.04554958e-01+0.j, -5.47627793e-01+0.j, -1.72314766e+00+0.j, -1.38276445e-02+0.j, -1.79622009e+00+0.j, -5.39979920e-01+0.j, -4.81074174e-01+0.j, -2.99728909e-01+0.j],\n",
       "        [-2.27339641e-01+0.j, -7.32730657e-01+0.j, -2.78259324e-01+0.j, -5.22690767e-01+0.j, -1.26533454e-01+0.j, -6.55908733e-01+0.j, -5.17675717e-01+0.j, -7.10982677e-01+0.j],\n",
       "        [-2.76769837e-01+0.j, -1.15580364e+00+0.j, -5.32446210e-01+0.j, -2.55569093e-01+0.j, -4.21928267e-01+0.j, -5.63454327e-02+0.j, -1.65037515e-01+0.j, -4.14473056e-01+0.j],\n",
       "        [-1.98921918e-01+0.j, -7.52720401e-01+0.j, -3.77179130e-01+0.j, -9.68162391e-02+0.j, -3.23290497e-01+0.j, -2.78042561e-01+0.j, -3.52331859e-01+0.j, -5.32281231e-01+0.j],\n",
       "        [-1.75966664e-01+0.j, -6.00643489e-01+0.j, -1.04674763e-01+0.j, -4.21343683e-01+0.j, -4.48846859e-01+0.j, -2.34256952e-01+0.j, -5.03738341e-01+0.j,  6.47502482e-01+0.j]]])"
      ]
     },
     "execution_count": 21,
     "metadata": {},
     "output_type": "execute_result"
    }
   ],
   "source": [
    "print(single_new)\n",
    "double_new"
   ]
  },
  {
   "cell_type": "code",
   "execution_count": 22,
   "id": "d1d1cdff",
   "metadata": {},
   "outputs": [
    {
     "name": "stdout",
     "output_type": "stream",
     "text": [
      "[-0.03155283+0.j -0.03473602+0.j -0.56987016+0.j  0.11820631+0.j  0.01818648+0.j -0.27592288+0.j -0.00949698+0.j -0.66062939+0.j]\n"
     ]
    },
    {
     "data": {
      "text/plain": [
       "array([[[ 0.00000000e+00+0.j,  0.00000000e+00+0.j,  0.00000000e+00+0.j,  0.00000000e+00+0.j,  0.00000000e+00+0.j,  0.00000000e+00+0.j,  0.00000000e+00+0.j,  0.00000000e+00+0.j],\n",
       "        [ 0.00000000e+00+0.j,  0.00000000e+00+0.j,  0.00000000e+00+0.j,  0.00000000e+00+0.j,  0.00000000e+00+0.j,  0.00000000e+00+0.j,  0.00000000e+00+0.j,  0.00000000e+00+0.j],\n",
       "        [ 0.00000000e+00+0.j,  0.00000000e+00+0.j,  0.00000000e+00+0.j,  0.00000000e+00+0.j,  0.00000000e+00+0.j,  0.00000000e+00+0.j,  0.00000000e+00+0.j,  0.00000000e+00+0.j],\n",
       "        [ 0.00000000e+00+0.j,  0.00000000e+00+0.j,  0.00000000e+00+0.j,  0.00000000e+00+0.j,  0.00000000e+00+0.j,  0.00000000e+00+0.j,  0.00000000e+00+0.j,  0.00000000e+00+0.j],\n",
       "        [ 0.00000000e+00+0.j,  0.00000000e+00+0.j,  0.00000000e+00+0.j,  0.00000000e+00+0.j,  0.00000000e+00+0.j,  0.00000000e+00+0.j,  0.00000000e+00+0.j,  0.00000000e+00+0.j],\n",
       "        [ 0.00000000e+00+0.j,  0.00000000e+00+0.j,  0.00000000e+00+0.j,  0.00000000e+00+0.j,  0.00000000e+00+0.j,  0.00000000e+00+0.j,  0.00000000e+00+0.j,  0.00000000e+00+0.j],\n",
       "        [ 0.00000000e+00+0.j,  0.00000000e+00+0.j,  0.00000000e+00+0.j,  0.00000000e+00+0.j,  0.00000000e+00+0.j,  0.00000000e+00+0.j,  0.00000000e+00+0.j,  0.00000000e+00+0.j],\n",
       "        [ 0.00000000e+00+0.j,  0.00000000e+00+0.j,  0.00000000e+00+0.j,  0.00000000e+00+0.j,  0.00000000e+00+0.j,  0.00000000e+00+0.j,  0.00000000e+00+0.j,  0.00000000e+00+0.j]],\n",
       "\n",
       "       [[ 2.49238178e-01+0.j, -6.40077381e-01+0.j, -6.99976058e-01+0.j, -6.01890230e-01+0.j, -3.39370753e-01+0.j,  3.57430497e-02+0.j, -4.31714027e-01+0.j, -3.73428664e-01+0.j],\n",
       "        [-4.43501786e-01+0.j, -1.30463544e+00+0.j, -1.41827484e+00+0.j, -1.36111471e+00+0.j, -7.62681103e-01+0.j, -4.71864268e-01+0.j, -1.51890021e+00+0.j, -1.46177067e+00+0.j],\n",
       "        [-1.38153883e+00+0.j, -1.25449570e+00+0.j, -1.87814764e+00+0.j, -1.18057172e+00+0.j, -6.34062362e-01+0.j, -1.97836849e+00+0.j, -1.06493737e+00+0.j, -6.27906354e-01+0.j],\n",
       "        [-2.82660960e-01+0.j, -2.24087039e+00+0.j, -2.39349650e+00+0.j, -1.89296902e+00+0.j, -1.20091611e+00+0.j, -1.46603352e+00+0.j, -1.83716214e+00+0.j, -1.39087230e+00+0.j],\n",
       "        [-3.72047862e-01+0.j, -6.70865817e-01+0.j, -4.16759409e-01+0.j, -3.81815352e-01+0.j, -4.91467293e-02+0.j, -4.64385399e-01+0.j, -5.76578530e-01+0.j, -1.19781632e+00+0.j],\n",
       "        [ 2.47358267e-02+0.j, -7.93486624e-01+0.j, -6.43456781e-01+0.j, -4.05689445e-01+0.j, -3.79667455e-01+0.j,  2.55596328e-01+0.j, -3.20445428e-01+0.j, -2.14713595e-01+0.j],\n",
       "        [ 1.35243604e-01+0.j, -4.65899111e-01+0.j, -6.34418959e-01+0.j, -2.03855244e-01+0.j, -4.01580719e-01+0.j,  8.59376476e-02+0.j, -3.61111019e-02+0.j, -2.20718801e-01+0.j],\n",
       "        [-3.94124405e-01+0.j, -3.64435334e-01+0.j, -2.78970207e-01+0.j, -3.44124584e-01+0.j, -3.68937788e-01+0.j,  1.16397245e-01+0.j, -4.41011512e-01+0.j,  1.11231106e-02+0.j]],\n",
       "\n",
       "       [[ 6.69733504e-05+0.j, -7.69242517e-01+0.j, -6.77828423e-01+0.j, -7.31356745e-01+0.j, -5.23232729e-01+0.j, -3.49582173e-01+0.j, -4.90777520e-01+0.j, -4.68488544e-01+0.j],\n",
       "        [-5.01440923e-01+0.j, -1.72684360e+00+0.j, -6.13204846e-01+0.j, -1.76804731e+00+0.j, -1.17524128e+00+0.j, -1.55778034e+00+0.j, -1.32048011e+00+0.j,  5.18552367e-02+0.j],\n",
       "        [-9.52006775e-01+0.j, -9.90067936e-01+0.j, -1.68974993e+00+0.j, -1.93521789e+00+0.j, -6.58474805e-01+0.j, -2.51690210e+00+0.j, -5.73860988e-01+0.j, -2.29116449e+00+0.j],\n",
       "        [-8.04554958e-01+0.j, -5.47627793e-01+0.j, -1.72314766e+00+0.j, -1.38276445e-02+0.j, -1.79622009e+00+0.j, -5.39979920e-01+0.j, -4.81074174e-01+0.j, -2.99728909e-01+0.j],\n",
       "        [-2.27339641e-01+0.j, -7.32730657e-01+0.j, -2.78259324e-01+0.j, -5.22690767e-01+0.j, -1.26533454e-01+0.j, -6.55908733e-01+0.j, -5.17675717e-01+0.j, -7.10982677e-01+0.j],\n",
       "        [-2.76769837e-01+0.j, -1.15580364e+00+0.j, -5.32446210e-01+0.j, -2.55569093e-01+0.j, -4.21928267e-01+0.j, -5.63454327e-02+0.j, -1.65037515e-01+0.j, -4.14473056e-01+0.j],\n",
       "        [-1.98921918e-01+0.j, -7.52720401e-01+0.j, -3.77179130e-01+0.j, -9.68162391e-02+0.j, -3.23290497e-01+0.j, -2.78042561e-01+0.j, -3.52331859e-01+0.j, -5.32281231e-01+0.j],\n",
       "        [-1.75966664e-01+0.j, -6.00643489e-01+0.j, -1.04674763e-01+0.j, -4.21343683e-01+0.j, -4.48846859e-01+0.j, -2.34256952e-01+0.j, -5.03738341e-01+0.j,  6.47502482e-01+0.j]]])"
      ]
     },
     "execution_count": 22,
     "metadata": {},
     "output_type": "execute_result"
    }
   ],
   "source": [
    "print(single_old.reshape(a))\n",
    "double_old.reshape(site, a, a)"
   ]
  },
  {
   "cell_type": "code",
   "execution_count": 23,
   "id": "7c7326e3",
   "metadata": {},
   "outputs": [
    {
     "name": "stdout",
     "output_type": "stream",
     "text": [
      "False\n",
      "False\n",
      "True\n"
     ]
    }
   ],
   "source": [
    "print(np.array_equal(dTab_ijdB_new, dTa_idB_old))\n",
    "print(np.array_equal(dTab_ijdB_new, dTab_ijdB_old))\n",
    "print(np.array_equal(dT_0dB_new, dT_0dB_old))"
   ]
  }
 ],
 "metadata": {
  "kernelspec": {
   "display_name": ".venv",
   "language": "python",
   "name": "python3"
  },
  "language_info": {
   "codemirror_mode": {
    "name": "ipython",
    "version": 3
   },
   "file_extension": ".py",
   "mimetype": "text/x-python",
   "name": "python",
   "nbconvert_exporter": "python",
   "pygments_lexer": "ipython3",
   "version": "3.13.4"
  }
 },
 "nbformat": 4,
 "nbformat_minor": 5
}
