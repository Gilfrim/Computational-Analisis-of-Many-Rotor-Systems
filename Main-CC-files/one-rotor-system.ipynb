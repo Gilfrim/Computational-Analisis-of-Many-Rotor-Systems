{
 "cells": [
  {
   "cell_type": "code",
   "execution_count": 16,
   "metadata": {},
   "outputs": [],
   "source": [
    "import numpy as np\n",
    "from scipy.sparse.linalg import eigsh\n",
    "from itertools import product\n",
    "from collections import defaultdict\n",
    "import time\n",
    "import csv\n",
    "import functions as func\n",
    "import hamiltonianGenerator as hG"
   ]
  },
  {
   "cell_type": "markdown",
   "metadata": {},
   "source": [
    "# Generating the possible combinations of states"
   ]
  },
  {
   "cell_type": "code",
   "execution_count": null,
   "metadata": {},
   "outputs": [],
   "source": [
    "sites = 3\n",
    "states = 2"
   ]
  },
  {
   "cell_type": "code",
   "execution_count": 11,
   "metadata": {},
   "outputs": [
    {
     "data": {
      "text/plain": [
       "array([[0., 0., 0., 0., 0., 0., 0., 0.],\n",
       "       [0., 0., 1., 0., 0., 0., 0., 0.],\n",
       "       [0., 0., 0., 0., 0., 0., 0., 0.],\n",
       "       [0., 0., 0., 0., 0., 0., 0., 0.],\n",
       "       [0., 0., 0., 0., 0., 0., 0., 0.],\n",
       "       [0., 0., 0., 0., 0., 0., 0., 0.],\n",
       "       [0., 0., 0., 0., 0., 0., 0., 0.],\n",
       "       [0., 0., 0., 0., 0., 0., 0., 0.]])"
      ]
     },
     "execution_count": 11,
     "metadata": {},
     "output_type": "execute_result"
    }
   ],
   "source": [
    "matrix = np.zeros((8,8))\n",
    "matrix[1,2] = 1\n",
    "matrix"
   ]
  },
  {
   "cell_type": "code",
   "execution_count": 12,
   "metadata": {},
   "outputs": [
    {
     "data": {
      "text/plain": [
       "array([[  7.,  17.,  27.,  37.,  47.,  57.,  67.,  77.],\n",
       "       [107., 117., 127., 137., 147., 157., 167., 177.],\n",
       "       [207., 217., 227., 237., 247., 257., 267., 277.],\n",
       "       [307., 317., 327., 337., 347., 357., 367., 377.],\n",
       "       [407., 417., 427., 437., 447., 457., 467., 477.],\n",
       "       [507., 517., 527., 537., 547., 557., 567., 577.],\n",
       "       [607., 617., 627., 637., 647., 657., 667., 677.],\n",
       "       [707., 717., 727., 737., 747., 757., 767., 777.]])"
      ]
     },
     "execution_count": 12,
     "metadata": {},
     "output_type": "execute_result"
    }
   ],
   "source": [
    "for p in range(0,8):\n",
    "    for q in range(0,8):\n",
    "        for r in range(0,8):\n",
    "            matrix[r,q] = p + q*10 + r*100\n",
    "\n",
    "matrix"
   ]
  },
  {
   "cell_type": "code",
   "execution_count": 15,
   "metadata": {},
   "outputs": [],
   "source": [
    "def generate_matrix(site, state):\n",
    "    states = [\"\".join(map(str, digits)) for digits in product(range(state), repeat=site)]\n",
    "    matrix = []\n",
    "\n",
    "    for row in states:\n",
    "        row_entries = [f\"{row}|{col}\" for col in states]\n",
    "        matrix.append(row_entries)\n",
    "\n",
    "    return matrix\n",
    "\n",
    "\n",
    "def print_matrix(matrix):\n",
    "    for row in matrix:\n",
    "        print(\" \".join(row))"
   ]
  },
  {
   "cell_type": "code",
   "execution_count": 14,
   "metadata": {},
   "outputs": [
    {
     "name": "stdout",
     "output_type": "stream",
     "text": [
      "000|000 000|001 000|010 000|011 000|100 000|101 000|110 000|111\n",
      "001|000 001|001 001|010 001|011 001|100 001|101 001|110 001|111\n",
      "010|000 010|001 010|010 010|011 010|100 010|101 010|110 010|111\n",
      "011|000 011|001 011|010 011|011 011|100 011|101 011|110 011|111\n",
      "100|000 100|001 100|010 100|011 100|100 100|101 100|110 100|111\n",
      "101|000 101|001 101|010 101|011 101|100 101|101 101|110 101|111\n",
      "110|000 110|001 110|010 110|011 110|100 110|101 110|110 110|111\n",
      "111|000 111|001 111|010 111|011 111|100 111|101 111|110 111|111\n"
     ]
    }
   ],
   "source": [
    "# Example usage\n",
    "site = 3\n",
    "state = 2\n",
    "matrix = generate_matrix(site, state)\n",
    "print_matrix(matrix)\n"
   ]
  },
  {
   "cell_type": "markdown",
   "metadata": {},
   "source": [
    "# Converting Sheers matrix from m to p and saving it"
   ]
  },
  {
   "cell_type": "code",
   "execution_count": null,
   "metadata": {},
   "outputs": [
    {
     "name": "stdout",
     "output_type": "stream",
     "text": [
      "      0     1    2    3    4    5    6    7    8     9     10\n",
      "0   25.0   0.0  0.0  0.0  0.0  0.0  0.0  0.0  0.0   0.0   0.0\n",
      "1    0.0  16.0  0.0  0.0  0.0  0.0  0.0  0.0  0.0   0.0   0.0\n",
      "2    0.0   0.0  9.0  0.0  0.0  0.0  0.0  0.0  0.0   0.0   0.0\n",
      "3    0.0   0.0  0.0  4.0  0.0  0.0  0.0  0.0  0.0   0.0   0.0\n",
      "4    0.0   0.0  0.0  0.0  1.0  0.0  0.0  0.0  0.0   0.0   0.0\n",
      "5    0.0   0.0  0.0  0.0  0.0  0.0  0.0  0.0  0.0   0.0   0.0\n",
      "6    0.0   0.0  0.0  0.0  0.0  0.0  1.0  0.0  0.0   0.0   0.0\n",
      "7    0.0   0.0  0.0  0.0  0.0  0.0  0.0  4.0  0.0   0.0   0.0\n",
      "8    0.0   0.0  0.0  0.0  0.0  0.0  0.0  0.0  9.0   0.0   0.0\n",
      "9    0.0   0.0  0.0  0.0  0.0  0.0  0.0  0.0  0.0  16.0   0.0\n",
      "10   0.0   0.0  0.0  0.0  0.0  0.0  0.0  0.0  0.0   0.0  25.0\n"
     ]
    },
    {
     "data": {
      "text/plain": [
       "array([[25.,  0.,  0.,  0.,  0.,  0.,  0.,  0.,  0.,  0.,  0.],\n",
       "       [ 0., 16.,  0.,  0.,  0.,  0.,  0.,  0.,  0.,  0.,  0.],\n",
       "       [ 0.,  0.,  9.,  0.,  0.,  0.,  0.,  0.,  0.,  0.,  0.],\n",
       "       [ 0.,  0.,  0.,  4.,  0.,  0.,  0.,  0.,  0.,  0.,  0.],\n",
       "       [ 0.,  0.,  0.,  0.,  1.,  0.,  0.,  0.,  0.,  0.,  0.],\n",
       "       [ 0.,  0.,  0.,  0.,  0.,  0.,  0.,  0.,  0.,  0.,  0.],\n",
       "       [ 0.,  0.,  0.,  0.,  0.,  0.,  1.,  0.,  0.,  0.,  0.],\n",
       "       [ 0.,  0.,  0.,  0.,  0.,  0.,  0.,  4.,  0.,  0.,  0.],\n",
       "       [ 0.,  0.,  0.,  0.,  0.,  0.,  0.,  0.,  9.,  0.,  0.],\n",
       "       [ 0.,  0.,  0.,  0.,  0.,  0.,  0.,  0.,  0., 16.,  0.],\n",
       "       [ 0.,  0.,  0.,  0.,  0.,  0.,  0.,  0.,  0.,  0., 25.]])"
      ]
     },
     "execution_count": 33,
     "metadata": {},
     "output_type": "execute_result"
    }
   ],
   "source": [
    "import pandas as pd\n",
    "import numpy as np\n",
    "\n",
    "df = pd.read_csv(\n",
    "    \"/Users/gilfrim/Desktop/QuantumChemistryCoop/Main-CC-files/matrix_elements_K.csv\",\n",
    "    skiprows=1, header=0\n",
    ")\n",
    "\n",
    "# Clean column names\n",
    "df.columns = [col.strip() for col in df.columns]\n",
    "\n",
    "# Convert columns safely\n",
    "df[\"m1\"] = df[\"m1\"].astype(int)\n",
    "df[\"m2\"] = df[\"m2\"].astype(int)\n",
    "df[\"<m1|K|m2>\"] = df[\"<m1|K|m2>\"].astype(float)\n",
    "\n",
    "# Matrix size and init\n",
    "size = max(df[\"m1\"].max(), df[\"m2\"].max()) + 1\n",
    "K = np.zeros((size, size))\n",
    "\n",
    "m = (size - 1) / 2\n",
    "\n",
    "# Fill matrix\n",
    "for _, row in df.iterrows():\n",
    "\n",
    "    i = int(row[\"m1\"])\n",
    "    j = int(row[\"m2\"])\n",
    "    val = float(row[\"<m1|K|m2>\"])\n",
    "    K[i, j] = val\n",
    "    K[j, i] = val\n",
    "\n",
    "\n",
    "K_in_p = np.zeros((size, size))\n",
    "\n",
    "for col in size:\n",
    "    K_in_p[:,size] = K[:, m]\n",
    "    \n",
    "# Show matrix\n",
    "print(pd.DataFrame(K))"
   ]
  },
  {
   "cell_type": "code",
   "execution_count": null,
   "metadata": {},
   "outputs": [],
   "source": []
  }
 ],
 "metadata": {
  "kernelspec": {
   "display_name": "3.12",
   "language": "python",
   "name": "python3"
  },
  "language_info": {
   "codemirror_mode": {
    "name": "ipython",
    "version": 3
   },
   "file_extension": ".py",
   "mimetype": "text/x-python",
   "name": "python",
   "nbconvert_exporter": "python",
   "pygments_lexer": "ipython3",
   "version": "3.12.2"
  }
 },
 "nbformat": 4,
 "nbformat_minor": 2
}
