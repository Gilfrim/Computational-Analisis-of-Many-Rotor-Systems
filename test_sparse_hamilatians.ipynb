{
 "cells": [
  {
   "cell_type": "code",
   "execution_count": 31,
   "id": "d71c20ec",
   "metadata": {},
   "outputs": [],
   "source": [
    "from quant_rotor.core.dense.hamiltonian_big import hamiltonian_general_dense, hamiltonian_big_dense\n",
    "from quant_rotor.core.sparse.hamiltonian_big import hamiltonian_general_sparse, hamiltonian_big_sparse\n",
    "from quant_rotor.core.dense.hamiltonian import hamiltonian_dense\n",
    "from quant_rotor.core.sparse.hamiltonian import hamiltonian_sparse\n",
    "from quant_rotor.models.sparse.support_ham import build_V, build_V_in_p,  basis_m_to_p_matrix_conversion , build_V_non_zero \n",
    "import quant_rotor.models.dense.support_ham as dn\n",
    "import numpy as np\n",
    "import matplotlib.pyplot as plt\n",
    "import scipy.sparse as sp\n",
    "import traceback\n",
    "import time\n",
    "from datetime import datetime"
   ]
  },
  {
   "cell_type": "markdown",
   "id": "9ccd3c50",
   "metadata": {},
   "source": [
    "Stress testing the hamiltonian generator."
   ]
  },
  {
   "cell_type": "code",
   "execution_count": 2,
   "id": "8c0dbd4b",
   "metadata": {},
   "outputs": [
    {
     "ename": "KeyboardInterrupt",
     "evalue": "",
     "output_type": "error",
     "traceback": [
      "\u001b[31m---------------------------------------------------------------------------\u001b[39m",
      "\u001b[31mKeyboardInterrupt\u001b[39m                         Traceback (most recent call last)",
      "\u001b[36mCell\u001b[39m\u001b[36m \u001b[39m\u001b[32mIn[2]\u001b[39m\u001b[32m, line 27\u001b[39m\n\u001b[32m     25\u001b[39m log(\u001b[33mf\u001b[39m\u001b[33m\"\u001b[39m\u001b[33mTrying state=\u001b[39m\u001b[38;5;132;01m{\u001b[39;00mstate\u001b[38;5;132;01m}\u001b[39;00m\u001b[33m, site=\u001b[39m\u001b[38;5;132;01m{\u001b[39;00msite\u001b[38;5;132;01m}\u001b[39;00m\u001b[33m...\u001b[39m\u001b[33m\"\u001b[39m)\n\u001b[32m     26\u001b[39m t0 = time.time()\n\u001b[32m---> \u001b[39m\u001b[32m27\u001b[39m H, _, _ = \u001b[43mhamiltonian_sparse\u001b[49m\u001b[43m(\u001b[49m\u001b[43mstate\u001b[49m\u001b[43m,\u001b[49m\u001b[43m \u001b[49m\u001b[43msite\u001b[49m\u001b[43m,\u001b[49m\u001b[43m \u001b[49m\u001b[43mg\u001b[49m\u001b[43m)\u001b[49m\n\u001b[32m     28\u001b[39m t1 = time.time()\n\u001b[32m     29\u001b[39m dim = H.shape[\u001b[32m0\u001b[39m]\n",
      "\u001b[36mFile \u001b[39m\u001b[32m~/Desktop/Projects/Computational_Analisis_of_Many_Rotor_Systems/quant_rotor/core/sparse/hamiltonian.py:57\u001b[39m, in \u001b[36mhamiltonian_sparse\u001b[39m\u001b[34m(state, site, g_val, l_val, K_import, V_import, Import, spar, general)\u001b[39m\n\u001b[32m     55\u001b[39m \u001b[38;5;66;03m# Construct a Kinetic and Potential hamiltonian.\u001b[39;00m\n\u001b[32m     56\u001b[39m K_final = H_kinetic_sparse(state, site, K_in_p)\n\u001b[32m---> \u001b[39m\u001b[32m57\u001b[39m V_final = \u001b[43mH_potential_sparse\u001b[49m\u001b[43m(\u001b[49m\u001b[43mstate\u001b[49m\u001b[43m,\u001b[49m\u001b[43m \u001b[49m\u001b[43msite\u001b[49m\u001b[43m,\u001b[49m\u001b[43m \u001b[49m\u001b[43mV_in_p\u001b[49m\u001b[43m,\u001b[49m\u001b[43m \u001b[49m\u001b[43mg_val\u001b[49m\u001b[43m)\u001b[49m\n\u001b[32m     59\u001b[39m \u001b[38;5;66;03m# Add to get the final hamiltonian.\u001b[39;00m\n\u001b[32m     60\u001b[39m H_final = K_final + V_final\n",
      "\u001b[36mFile \u001b[39m\u001b[32m~/Desktop/Projects/Computational_Analisis_of_Many_Rotor_Systems/quant_rotor/models/sparse/support_ham.py:493\u001b[39m, in \u001b[36mH_potential_sparse\u001b[39m\u001b[34m(state, site, V, g_val)\u001b[39m\n\u001b[32m    491\u001b[39m                     rows.append(i)\n\u001b[32m    492\u001b[39m                     cols.append(j)\n\u001b[32m--> \u001b[39m\u001b[32m493\u001b[39m                     data.append(val * g_val)\n\u001b[32m    495\u001b[39m \u001b[38;5;66;03m# Return a new sparse array of the potential energy part of the mamiltonian.\u001b[39;00m\n\u001b[32m    496\u001b[39m \u001b[38;5;28;01mreturn\u001b[39;00m sp.csr_matrix((data, (rows, cols)), shape=(dim, dim), dtype=\u001b[38;5;28mcomplex\u001b[39m)\n",
      "\u001b[31mKeyboardInterrupt\u001b[39m: "
     ]
    }
   ],
   "source": [
    "# ---------- CONFIG ----------\n",
    "max_state = 11   # must be odd; try increasing this cautiously\n",
    "max_site = 61     # must be odd; try up to your system's memory\n",
    "g = 1            # coupling strength\n",
    "\n",
    "log_file = \"hamiltonian_stress_test_log.txt\"\n",
    "\n",
    "# ---------- Logging ----------\n",
    "def log(msg):\n",
    "    timestamp = datetime.now().strftime(\"[%Y-%m-%d %H:%M:%S]\")\n",
    "    with open(log_file, \"a\") as f:\n",
    "        f.write(f\"{timestamp} {msg}\\n\")\n",
    "\n",
    "# ---------- Header ----------\n",
    "log(\"\\n===================== NEW STRESS TEST =====================\")\n",
    "log(f\"Testing odd state/site values up to state={max_state}, site={max_site}\\n\")\n",
    "\n",
    "last_success = None\n",
    "start_time = time.time()\n",
    "\n",
    "try:\n",
    "    for site in range(3, max_site + 1, 2):  # only odd sites\n",
    "        for state in range(3, max_state + 1, 2):  # only odd states\n",
    "            try:\n",
    "                log(f\"Trying state={state}, site={site}...\")\n",
    "                t0 = time.time()\n",
    "                H, _, _ = hamiltonian_sparse(state, site, g)\n",
    "                t1 = time.time()\n",
    "                dim = H.shape[0]\n",
    "                nnz = H.nnz if sp.issparse(H) else np.count_nonzero(H)\n",
    "                log(f\"✓ Success: dim={dim}, nnz={nnz}, time={t1 - t0:.2f}s\")\n",
    "                last_success = (state, site, dim, nnz)\n",
    "            except MemoryError:\n",
    "                log(f\"🧨 MemoryError at state={state}, site={site}. Halting test.\")\n",
    "                raise\n",
    "            except Exception as e:\n",
    "                log(f\"⚠️ Exception at state={state}, site={site}\")\n",
    "                log(traceback.format_exc())\n",
    "                raise\n",
    "except Exception:\n",
    "    pass\n",
    "\n",
    "end_time = time.time()\n",
    "log(f\"\\n⏱️ Test completed in {end_time - start_time:.2f} seconds.\")\n",
    "\n",
    "if last_success:\n",
    "    s, L, d, n = last_success\n",
    "    log(f\"\\n✅ Last successful configuration:\")\n",
    "    log(f\"  state = {s}\")\n",
    "    log(f\"  site  = {L}\")\n",
    "    log(f\"  dim   = {d}\")\n",
    "    log(f\"  nnz   = {n}\")\n",
    "else:\n",
    "    log(\"\\n❌ No successful Hamiltonians generated.\")"
   ]
  },
  {
   "cell_type": "markdown",
   "id": "c19b2c31",
   "metadata": {},
   "source": [
    "# Testing the hamiltonian big and general by comparing sparse to dense."
   ]
  },
  {
   "cell_type": "code",
   "execution_count": null,
   "id": "d956e9eb",
   "metadata": {},
   "outputs": [],
   "source": [
    "from scipy.sparse.linalg import norm\n",
    "\n",
    "def sparse_allclose(A, B, atol=1e-8, rtol=1e-5):\n",
    "    if A.shape != B.shape:\n",
    "        return False\n",
    "    diff = A - B\n",
    "    return norm(diff, ord='fro') <= atol + rtol * max(norm(A, ord='fro'), norm(B, ord='fro'))"
   ]
  },
  {
   "cell_type": "code",
   "execution_count": null,
   "id": "636131ef",
   "metadata": {},
   "outputs": [],
   "source": [
    "def compare_ground_states(H_dense, H_sparse, atol=1e-6):\n",
    "    from scipy.sparse.linalg import eigsh\n",
    "    eigval_d, eigvec_d = np.linalg.eigh(H_dense)\n",
    "    eigval_s, eigvec_s = eigsh(H_sparse, k=1, which='SA')\n",
    "    \n",
    "    vec_d = eigvec_d[:, 0]\n",
    "    vec_s = eigvec_s[:, 0]\n",
    "\n",
    "    vec_d /= np.linalg.norm(vec_d)\n",
    "    vec_s /= np.linalg.norm(vec_s)\n",
    "    \n",
    "    overlap = np.vdot(vec_d, vec_s)\n",
    "    fidelity = np.abs(overlap)**2\n",
    "    energy_match = np.abs(eigval_d[0] - eigval_s[0]) < atol\n",
    "\n",
    "    return fidelity, energy_match"
   ]
  },
  {
   "cell_type": "code",
   "execution_count": null,
   "id": "6b3ebb49",
   "metadata": {},
   "outputs": [],
   "source": [
    "state = 11\n",
    "site = 3\n",
    "g = 0.1\n",
    "\n",
    "H_K_V_s = hamiltonian_sparse(state, site, g)\n",
    "H_K_V_d = hamiltonian_dense(state, site, g)\n",
    "\n",
    "print(sparse_allclose(sp.csr_matrix(H_K_V_d[0]), H_K_V_s[0]))\n",
    "print(sparse_allclose(sp.csr_matrix(H_K_V_d[1]), H_K_V_s[1]))\n",
    "print(sparse_allclose(sp.csr_matrix(H_K_V_d[2]), H_K_V_s[2]))"
   ]
  },
  {
   "cell_type": "code",
   "execution_count": null,
   "id": "be338727",
   "metadata": {},
   "outputs": [],
   "source": [
    "state = 5\n",
    "site = 5\n",
    "\n",
    "H_K_V_sp = hamiltonian_big_sparse(state, site, g, H_K_V_s)\n",
    "\n",
    "H_K_V_de = hamiltonian_big_dense(state, site, g, H_K_V_d)\n",
    "\n",
    "print(sparse_allclose(sp.csr_matrix(H_K_V_de[0]), H_K_V_sp[0]))\n",
    "print(sparse_allclose(sp.csr_matrix(H_K_V_de[1]), H_K_V_sp[1]))\n",
    "print(sparse_allclose(sp.csr_matrix(H_K_V_de[2]), H_K_V_sp[2]))\n",
    "print(np.allclose(H_K_V_de[3], H_K_V_sp[3], atol=1e-7))"
   ]
  },
  {
   "cell_type": "markdown",
   "id": "839ffc76",
   "metadata": {},
   "source": [
    "This gives us the idea wether the eigenvalues and eigenvalues match for the ground states bewteen the sparse and dense."
   ]
  },
  {
   "cell_type": "code",
   "execution_count": null,
   "id": "7e5c8448",
   "metadata": {},
   "outputs": [],
   "source": [
    "print(compare_ground_states(H_K_V_de[0], H_K_V_sp[0]))"
   ]
  },
  {
   "cell_type": "markdown",
   "id": "f8688d50",
   "metadata": {},
   "source": [
    "## Testing the degenaret eigenvectors."
   ]
  },
  {
   "cell_type": "markdown",
   "id": "2521e1ff",
   "metadata": {},
   "source": [
    "The sparse smallest eigenvalue diagonalization does not give consistent eigenvalues but eigenvectors in the same degenerate space as dense."
   ]
  },
  {
   "cell_type": "code",
   "execution_count": null,
   "id": "b3cbea8b",
   "metadata": {},
   "outputs": [],
   "source": [
    "def check_eigenvec(H_dense: np.ndarray, H_sparse: sp.csr_matrix):\n",
    "\n",
    "    eigval_dense, eigvecs_dense = np.linalg.eigh(H_dense)\n",
    "    eigval_sparse, eigvecs_sparse = sp.linalg.eigsh(H_sparse, k=1, which='SA')\n",
    "\n",
    "    psi_sparse = eigvecs_sparse[:, 0]\n",
    "\n",
    "    # Identify degeneracy threshold\n",
    "    ground_energy = eigval_dense[0]\n",
    "    degeneracy_tol = 1e-10  # you can adjust this\n",
    "    degenerate_indices = np.where(np.abs(eigval_dense - ground_energy) < degeneracy_tol)[0]\n",
    "\n",
    "    # Extract dense ground subspace\n",
    "    ground_subspace = eigvecs_dense[:, degenerate_indices]  # shape: (dim, d)\n",
    "\n",
    "    # Project sparse vector into dense ground subspace\n",
    "    projection_coeffs = ground_subspace.conj().T @ psi_sparse  # shape: (d,)\n",
    "    psi_projected = ground_subspace @ projection_coeffs        # back to shape (dim,)\n",
    "\n",
    "    # Compute fidelity between original and projected\n",
    "    fidelity_to_subspace = np.linalg.norm(projection_coeffs)**2\n",
    "    print(\"Fidelity to dense ground state subspace:\", fidelity_to_subspace)"
   ]
  },
  {
   "cell_type": "markdown",
   "id": "1a945793",
   "metadata": {},
   "source": [
    "##"
   ]
  },
  {
   "cell_type": "code",
   "execution_count": null,
   "id": "0ae12cd4",
   "metadata": {},
   "outputs": [],
   "source": [
    "state = 5\n",
    "site = 5\n",
    "\n",
    "H_K_V_sparse = hamiltonian_general_sparse(state, site, g)\n",
    "H_K_V_dense = hamiltonian_general_dense(state, site, g)\n",
    "\n",
    "print(sparse_allclose(sp.csr_matrix(H_K_V_dense[0]), H_K_V_sparse[0]))\n",
    "print(sparse_allclose(sp.csr_matrix(H_K_V_dense[1]), H_K_V_sparse[1]))\n",
    "print(sparse_allclose(sp.csr_matrix(H_K_V_dense[2]), H_K_V_sparse[2]))"
   ]
  },
  {
   "cell_type": "code",
   "execution_count": null,
   "id": "c2de82be",
   "metadata": {},
   "outputs": [],
   "source": [
    "check_eigenvec(H_K_V_de[0], H_K_V_sp[0])\n",
    "check_eigenvec(H_K_V_dense[0], H_K_V_sparse[0])"
   ]
  },
  {
   "cell_type": "code",
   "execution_count": null,
   "id": "39554e29",
   "metadata": {},
   "outputs": [],
   "source": [
    "state = 7\n",
    "site = 5\n",
    "g = 0.1"
   ]
  },
  {
   "cell_type": "code",
   "execution_count": null,
   "id": "74087b3f",
   "metadata": {},
   "outputs": [],
   "source": [
    "H_K_V_sparse = hamiltonian_general_sparse(state, site, g)"
   ]
  },
  {
   "cell_type": "code",
   "execution_count": null,
   "id": "1a542cc0",
   "metadata": {},
   "outputs": [],
   "source": [
    "H_K_V_s = hamiltonian_sparse(state, site, g)"
   ]
  },
  {
   "cell_type": "code",
   "execution_count": null,
   "id": "09ce084b",
   "metadata": {},
   "outputs": [],
   "source": [
    "H_K_V_dense = hamiltonian_general_dense(state, site, g)"
   ]
  },
  {
   "cell_type": "code",
   "execution_count": null,
   "id": "4911b467",
   "metadata": {},
   "outputs": [],
   "source": [
    "H_K_V_d = hamiltonian_dense(state, site, g)"
   ]
  },
  {
   "cell_type": "markdown",
   "id": "f2a90da1",
   "metadata": {},
   "source": [
    "Stress testing hamiltonian_genreal sparse."
   ]
  },
  {
   "cell_type": "code",
   "execution_count": null,
   "id": "7ce2d454",
   "metadata": {},
   "outputs": [],
   "source": [
    "# ---------- CONFIG ----------\n",
    "max_state = 11   # must be odd; try increasing this cautiously\n",
    "max_site = 61     # must be odd; try up to your system's memory\n",
    "g = 1            # coupling strength\n",
    "\n",
    "log_file = \"hamiltonian_general_stress_test_log.txt\"\n",
    "\n",
    "# ---------- Logging ----------\n",
    "def log(msg):\n",
    "    timestamp = datetime.now().strftime(\"[%Y-%m-%d %H:%M:%S]\")\n",
    "    with open(log_file, \"a\") as f:\n",
    "        f.write(f\"{timestamp} {msg}\\n\")\n",
    "\n",
    "# ---------- Header ----------\n",
    "log(\"\\n===================== NEW STRESS TEST =====================\")\n",
    "log(f\"Testing odd state/site values up to state={max_state}, site={max_site}\\n\")\n",
    "\n",
    "last_success = None\n",
    "start_time = time.time()\n",
    "\n",
    "try:\n",
    "    for site in range(3, max_site + 1, 2):  # only odd sites\n",
    "        state = 11\n",
    "        try:\n",
    "            log(f\"Trying state={state}, site={site}...\")\n",
    "            t0 = time.time()\n",
    "            H, _, _ = hamiltonian_general_sparse(state, site, g)\n",
    "            t1 = time.time()\n",
    "            dim = H.shape[0]\n",
    "            nnz = H.nnz if sp.issparse(H) else np.count_nonzero(H)\n",
    "            log(f\"✓ Success: dim={dim}, nnz={nnz}, time={t1 - t0:.2f}s\")\n",
    "            last_success = (state, site, dim, nnz)\n",
    "        except MemoryError:\n",
    "            log(f\"🧨 MemoryError at state={state}, site={site}. Halting test.\")\n",
    "            raise\n",
    "        except Exception as e:\n",
    "            log(f\"⚠️ Exception at state={state}, site={site}\")\n",
    "            log(traceback.format_exc())\n",
    "            raise\n",
    "except Exception:\n",
    "    pass\n",
    "\n",
    "end_time = time.time()\n",
    "log(f\"\\n⏱️ Test completed in {end_time - start_time:.2f} seconds.\")\n",
    "\n",
    "if last_success:\n",
    "    s, L, d, n = last_success\n",
    "    log(f\"\\n✅ Last successful configuration:\")\n",
    "    log(f\"  state = {s}\")\n",
    "    log(f\"  site  = {L}\")\n",
    "    log(f\"  dim   = {d}\")\n",
    "    log(f\"  nnz   = {n}\")\n",
    "else:\n",
    "    log(\"\\n❌ No successful Hamiltonians generated.\")"
   ]
  },
  {
   "cell_type": "code",
   "execution_count": null,
   "id": "8d654199",
   "metadata": {},
   "outputs": [],
   "source": [
    "state = 10000\n",
    "\n",
    "K_p, V_p = build_V_in_p(state)"
   ]
  },
  {
   "cell_type": "code",
   "execution_count": null,
   "id": "da571ee2",
   "metadata": {},
   "outputs": [],
   "source": [
    "K, V = build_V(state)\n",
    "Vp = basis_m_to_p_matrix_conversion(V)"
   ]
  },
  {
   "cell_type": "code",
   "execution_count": null,
   "id": "11bebbd8",
   "metadata": {},
   "outputs": [
    {
     "data": {
      "text/plain": [
       "(100000000, 100000000)"
      ]
     },
     "execution_count": 32,
     "metadata": {},
     "output_type": "execute_result"
    }
   ],
   "source": [
    "V_p.shape"
   ]
  },
  {
   "cell_type": "markdown",
   "id": "7bf09ec6",
   "metadata": {},
   "source": [
    "# Testing standart hamiltonian."
   ]
  },
  {
   "cell_type": "code",
   "execution_count": 32,
   "id": "1c26f4f3",
   "metadata": {},
   "outputs": [],
   "source": [
    "state = 3"
   ]
  },
  {
   "cell_type": "code",
   "execution_count": 33,
   "id": "754a82bc",
   "metadata": {},
   "outputs": [],
   "source": [
    "K, V = dn.write_matrix_elements((state-1)//2)\n",
    "\n",
    "V = V + V.T - np.diag(np.diag(V))\n",
    "V_tensor = V.reshape(state, state, state, state)  # Adjust if needed\n",
    "\n",
    "h_full = dn.basis_m_to_p_matrix_conversion(K, state)\n",
    "v_full = dn.basis_m_to_p_matrix_conversion(V_tensor, state)"
   ]
  },
  {
   "cell_type": "code",
   "execution_count": 35,
   "id": "58d306fd",
   "metadata": {},
   "outputs": [],
   "source": [
    "K_sp, V_sp = build_V(state)\n",
    "\n",
    "V_sp = basis_m_to_p_matrix_conversion(V_sp)"
   ]
  },
  {
   "cell_type": "code",
   "execution_count": 36,
   "id": "d82bcc9f",
   "metadata": {},
   "outputs": [
    {
     "data": {
      "text/plain": [
       "array([[ 0. ,  0. ,  0. ,  0. ,  1.5,  0. ,  0. ,  0. ,  0. ],\n",
       "       [ 0. ,  0. ,  0. , -0.5,  0. ,  1.5,  0. ,  0. ,  0. ],\n",
       "       [ 0. ,  0. ,  0. ,  0. , -0.5,  0. ,  0. ,  0. ,  0. ],\n",
       "       [ 0. , -0.5,  0. ,  0. ,  0. ,  0. ,  0. ,  1.5,  0. ],\n",
       "       [ 1.5,  0. , -0.5,  0. ,  0. ,  0. , -0.5,  0. ,  1.5],\n",
       "       [ 0. ,  1.5,  0. ,  0. ,  0. ,  0. ,  0. , -0.5,  0. ],\n",
       "       [ 0. ,  0. ,  0. ,  0. , -0.5,  0. ,  0. ,  0. ,  0. ],\n",
       "       [ 0. ,  0. ,  0. ,  1.5,  0. , -0.5,  0. ,  0. ,  0. ],\n",
       "       [ 0. ,  0. ,  0. ,  0. ,  1.5,  0. ,  0. ,  0. ,  0. ]])"
      ]
     },
     "execution_count": 36,
     "metadata": {},
     "output_type": "execute_result"
    }
   ],
   "source": [
    "V"
   ]
  },
  {
   "cell_type": "code",
   "execution_count": 37,
   "id": "5725c80b",
   "metadata": {},
   "outputs": [
    {
     "data": {
      "text/plain": [
       "array([[ 0.  ,  0.  ,  0.  ,  0.  ,  0.75, -0.25,  0.  , -0.25,  0.75],\n",
       "       [ 0.  ,  0.  ,  0.  , -0.25,  0.  ,  0.  ,  0.75,  0.  ,  0.  ],\n",
       "       [ 0.  ,  0.  ,  0.  ,  0.75,  0.  ,  0.  , -0.25,  0.  ,  0.  ],\n",
       "       [ 0.  , -0.25,  0.75,  0.  ,  0.  ,  0.  ,  0.  ,  0.  ,  0.  ],\n",
       "       [ 0.75,  0.  ,  0.  ,  0.  ,  0.  ,  0.  ,  0.  ,  0.  ,  0.  ],\n",
       "       [-0.25,  0.  ,  0.  ,  0.  ,  0.  ,  0.  ,  0.  ,  0.  ,  0.  ],\n",
       "       [ 0.  ,  0.75, -0.25,  0.  ,  0.  ,  0.  ,  0.  ,  0.  ,  0.  ],\n",
       "       [-0.25,  0.  ,  0.  ,  0.  ,  0.  ,  0.  ,  0.  ,  0.  ,  0.  ],\n",
       "       [ 0.75,  0.  ,  0.  ,  0.  ,  0.  ,  0.  ,  0.  ,  0.  ,  0.  ]])"
      ]
     },
     "execution_count": 37,
     "metadata": {},
     "output_type": "execute_result"
    }
   ],
   "source": [
    "V_sp.toarray()"
   ]
  },
  {
   "cell_type": "code",
   "execution_count": 8,
   "id": "519ba287",
   "metadata": {},
   "outputs": [
    {
     "data": {
      "text/plain": [
       "True"
      ]
     },
     "execution_count": 8,
     "metadata": {},
     "output_type": "execute_result"
    }
   ],
   "source": [
    "np.array_equal(K_sp.toarray() , K_sp_f.toarray())"
   ]
  },
  {
   "cell_type": "code",
   "execution_count": 9,
   "id": "fd05e85a",
   "metadata": {},
   "outputs": [
    {
     "data": {
      "text/plain": [
       "False"
      ]
     },
     "execution_count": 9,
     "metadata": {},
     "output_type": "execute_result"
    }
   ],
   "source": [
    "np.array_equal(V_sp.toarray() , V_sp_f.toarray())"
   ]
  },
  {
   "cell_type": "code",
   "execution_count": null,
   "id": "1bf23894",
   "metadata": {},
   "outputs": [
    {
     "name": "stdout",
     "output_type": "stream",
     "text": [
      "0, 1, 0, 1 --> 0.75\n",
      "1, 0, 1, 0 --> 0.75\n",
      "1, 0, 0, 1 --> -0.25\n",
      "0, 1, 1, 0 --> -0.25\n",
      "0, 1, 0, 1 --> 0.75\n",
      "0, 1, 1, 0 --> -0.25\n",
      "1, 0, 0, 1 --> -0.25\n",
      "1, 0, 1, 0 --> 0.75\n",
      "0, 1, 1, 0 --> -0.25\n",
      "1, 0, 1, 0 --> 0.75\n",
      "0, 1, 0, 1 --> 0.75\n",
      "1, 0, 0, 1 --> -0.25\n",
      "0, 1, 1, 2 --> 0.75\n",
      "0, 1, 2, 1 --> -0.25\n",
      "1, 0, 1, 2 --> -0.25\n",
      "1, 0, 2, 1 --> 0.75\n",
      "1, 2, 1, 0 --> -0.25\n",
      "2, 1, 1, 0 --> 0.75\n",
      "1, 2, 0, 1 --> 0.75\n",
      "2, 1, 0, 1 --> -0.25\n",
      "1, 2, 1, 2 --> 0.75\n",
      "2, 1, 2, 1 --> 0.75\n",
      "2, 1, 1, 2 --> -0.25\n",
      "1, 2, 2, 1 --> -0.25\n"
     ]
    }
   ],
   "source": [
    "for i in range(state-1):\n",
    "\n",
    "    print(f\"{i}, {i+1}, {i}, {i+1} --> 0.75\")\n",
    "    print(f\"{i+1}, {i}, {i+1}, {i} --> 0.75\")\n",
    "\n",
    "    print(f\"{i+1}, {i}, {i}, {i+1} --> -0.25\")\n",
    "    print(f\"{i}, {i+1}, {i+1}, {i} --> -0.25\")\n",
    "\n",
    "    for j in range(i, state-i-1):\n",
    "        print(f\"{i}, {i+1}, {i+j}, {i+1+j} --> 0.75\")\n",
    "        print(f\"{i}, {i+1}, {i+1+j}, {i+j} --> -0.25\")\n",
    "        print(f\"{i+1}, {i}, {i+j}, {i+1+j} --> -0.25\")\n",
    "        print(f\"{i+1}, {i}, {i+1+j}, {i+j} --> 0.75\")\n",
    "\n",
    "        print(f\"{i+j}, {i+1+j}, {i+1}, {i} --> -0.25\")\n",
    "        print(f\"{i+1+j}, {i+j}, {i+1}, {i} --> 0.75\")\n",
    "        print(f\"{i+j}, {i+1+j}, {i}, {i+1} --> 0.75\")\n",
    "        print(f\"{i+1+j}, {i+j}, {i}, {i+1} --> -0.25\")"
   ]
  },
  {
   "cell_type": "code",
   "execution_count": null,
   "id": "cce74647",
   "metadata": {},
   "outputs": [],
   "source": [
    "def V_normal(d: int): \n",
    "    V = np.zeros((d**2, d**2))\n",
    "    for i in range(d):\n",
    "        for j in range(d):\n",
    "            for k in range(d):\n",
    "                for l in range(d):\n",
    "                    # if k * d + l >= i * d + j:\n",
    "                        V[i*d + j, k*d + l] = dn.interaction_two_body_coplanar(i, j, k, l)\n",
    "    return V"
   ]
  },
  {
   "cell_type": "code",
   "execution_count": null,
   "id": "74f9a560",
   "metadata": {},
   "outputs": [],
   "source": [
    "def V_non_zero(state: int):\n",
    "    V = np.zeros((state**2, state**2))\n",
    "\n",
    "    for x in range(state-1):\n",
    "        # V[x*state + x, (x+1)*state + (x+1)] += 0.75\n",
    "        # V[x*state + x, (x+1)*state + (x+1)] += 0.75\n",
    "\n",
    "        # V[(x+1)*state + x, x*state + (x+1)] += -0.25\n",
    "        # V[x*state + (x+1), (x+1)*state + x] += -0.25\n",
    "\n",
    "        for y in range(state - x - 1):\n",
    "            print(f\"Start:{x}, {y}\")\n",
    "            print(f\"{x*(state) + (x+y)}, {(x+1)*(state) + (x+1+y)}\")\n",
    "            V[x*(state) + (x+y), (x+1)*(state) + (x+1+y)] += 0.75\n",
    "            # V[x*state + (x+1+y), (x+1)*state + (x+y)] += -0.25\n",
    "            # V[(x+1)*state + (x+y), x*state + (x+1+y)] += -0.25\n",
    "            # V[(x+1)*state + (x+1+y), x*state + (x+y)] += 0.75\n",
    "\n",
    "            # V[(x+y)*state + (x+1), (x+1+y)*state + x] += -0.25\n",
    "            # V[(x+1+y)*state + (x+1), (x+y)*state + x] += 0.75\n",
    "            # V[(x+y)*state + x, (x+1+y)*state + (x+1)] += 0.75\n",
    "            # V[(x+1+y)*state + x, (x+y)*state + (x+1)] += -0.25\n",
    "    return V"
   ]
  },
  {
   "cell_type": "code",
   "execution_count": null,
   "id": "0c00039f",
   "metadata": {},
   "outputs": [
    {
     "name": "stdout",
     "output_type": "stream",
     "text": [
      "5, 9\n"
     ]
    }
   ],
   "source": [
    "x = 1\n",
    "y = 1\n",
    "state = 3\n",
    "\n",
    "print(f\"{x*(state) + (x+y)}, {(x+1)*(state) + (x+1+y)}\")"
   ]
  },
  {
   "cell_type": "code",
   "execution_count": null,
   "id": "919dd81f",
   "metadata": {},
   "outputs": [],
   "source": [
    "state = 3"
   ]
  },
  {
   "cell_type": "code",
   "execution_count": null,
   "id": "188f74e1",
   "metadata": {},
   "outputs": [
    {
     "name": "stdout",
     "output_type": "stream",
     "text": [
      "Start:0, 0\n",
      "0, 4\n",
      "Start:0, 1\n",
      "1, 5\n",
      "Start:1, 0\n",
      "4, 8\n"
     ]
    },
    {
     "data": {
      "text/plain": [
       "array([[0.  , 0.  , 0.  , 0.  , 0.75, 0.  , 0.  , 0.  , 0.  ],\n",
       "       [0.  , 0.  , 0.  , 0.  , 0.  , 0.75, 0.  , 0.  , 0.  ],\n",
       "       [0.  , 0.  , 0.  , 0.  , 0.  , 0.  , 0.  , 0.  , 0.  ],\n",
       "       [0.  , 0.  , 0.  , 0.  , 0.  , 0.  , 0.  , 0.  , 0.  ],\n",
       "       [0.  , 0.  , 0.  , 0.  , 0.  , 0.  , 0.  , 0.  , 0.75],\n",
       "       [0.  , 0.  , 0.  , 0.  , 0.  , 0.  , 0.  , 0.  , 0.  ],\n",
       "       [0.  , 0.  , 0.  , 0.  , 0.  , 0.  , 0.  , 0.  , 0.  ],\n",
       "       [0.  , 0.  , 0.  , 0.  , 0.  , 0.  , 0.  , 0.  , 0.  ],\n",
       "       [0.  , 0.  , 0.  , 0.  , 0.  , 0.  , 0.  , 0.  , 0.  ]])"
      ]
     },
     "execution_count": 217,
     "metadata": {},
     "output_type": "execute_result"
    }
   ],
   "source": [
    "V_non_zero(state)"
   ]
  },
  {
   "cell_type": "code",
   "execution_count": null,
   "id": "24aa107d",
   "metadata": {},
   "outputs": [
    {
     "name": "stdout",
     "output_type": "stream",
     "text": [
      "Start:0, 0\n",
      "0, 4\n",
      "Start:0, 1\n",
      "1, 5\n",
      "Start:1, 0\n",
      "4, 8\n"
     ]
    },
    {
     "data": {
      "text/plain": [
       "False"
      ]
     },
     "execution_count": 218,
     "metadata": {},
     "output_type": "execute_result"
    }
   ],
   "source": [
    "np.array_equal(V_non_zero(state) , V_normal(state))"
   ]
  },
  {
   "cell_type": "code",
   "execution_count": null,
   "id": "eefb5c37",
   "metadata": {},
   "outputs": [
    {
     "data": {
      "text/plain": [
       "array([[ 0.  ,  0.  ,  0.  ,  0.  ,  0.75,  0.  ,  0.  ,  0.  ,  0.  ],\n",
       "       [ 0.  ,  0.  ,  0.  , -0.25,  0.  ,  0.75,  0.  ,  0.  ,  0.  ],\n",
       "       [ 0.  ,  0.  ,  0.  ,  0.  , -0.25,  0.  ,  0.  ,  0.  ,  0.  ],\n",
       "       [ 0.  , -0.25,  0.  ,  0.  ,  0.  ,  0.  ,  0.  ,  0.75,  0.  ],\n",
       "       [ 0.75,  0.  , -0.25,  0.  ,  0.  ,  0.  , -0.25,  0.  ,  0.75],\n",
       "       [ 0.  ,  0.75,  0.  ,  0.  ,  0.  ,  0.  ,  0.  , -0.25,  0.  ],\n",
       "       [ 0.  ,  0.  ,  0.  ,  0.  , -0.25,  0.  ,  0.  ,  0.  ,  0.  ],\n",
       "       [ 0.  ,  0.  ,  0.  ,  0.75,  0.  , -0.25,  0.  ,  0.  ,  0.  ],\n",
       "       [ 0.  ,  0.  ,  0.  ,  0.  ,  0.75,  0.  ,  0.  ,  0.  ,  0.  ]])"
      ]
     },
     "execution_count": 203,
     "metadata": {},
     "output_type": "execute_result"
    }
   ],
   "source": [
    "V_normal(state)"
   ]
  },
  {
   "cell_type": "code",
   "execution_count": null,
   "id": "7ffd3ee9",
   "metadata": {},
   "outputs": [
    {
     "name": "stdout",
     "output_type": "stream",
     "text": [
      "0,0\n",
      "0,1\n",
      "0,2\n",
      "1,0\n",
      "1,1\n",
      "2,0\n"
     ]
    },
    {
     "ename": "IndexError",
     "evalue": "index 9 is out of bounds for axis 1 with size 9",
     "output_type": "error",
     "traceback": [
      "\u001b[31m---------------------------------------------------------------------------\u001b[39m",
      "\u001b[31mIndexError\u001b[39m                                Traceback (most recent call last)",
      "\u001b[36mCell\u001b[39m\u001b[36m \u001b[39m\u001b[32mIn[190]\u001b[39m\u001b[32m, line 1\u001b[39m\n\u001b[32m----> \u001b[39m\u001b[32m1\u001b[39m \u001b[43mV_non_zero\u001b[49m\u001b[43m(\u001b[49m\u001b[43mstate\u001b[49m\u001b[43m)\u001b[49m\n",
      "\u001b[36mCell\u001b[39m\u001b[36m \u001b[39m\u001b[32mIn[186]\u001b[39m\u001b[32m, line 13\u001b[39m, in \u001b[36mV_non_zero\u001b[39m\u001b[34m(state)\u001b[39m\n\u001b[32m     11\u001b[39m     \u001b[38;5;28;01mfor\u001b[39;00m y \u001b[38;5;129;01min\u001b[39;00m \u001b[38;5;28mrange\u001b[39m(state-x):\n\u001b[32m     12\u001b[39m         \u001b[38;5;28mprint\u001b[39m(\u001b[33mf\u001b[39m\u001b[33m\"\u001b[39m\u001b[38;5;132;01m{\u001b[39;00mx\u001b[38;5;132;01m}\u001b[39;00m\u001b[33m,\u001b[39m\u001b[38;5;132;01m{\u001b[39;00my\u001b[38;5;132;01m}\u001b[39;00m\u001b[33m\"\u001b[39m)\n\u001b[32m---> \u001b[39m\u001b[32m13\u001b[39m         \u001b[43mV\u001b[49m\u001b[43m[\u001b[49m\u001b[43mx\u001b[49m\u001b[43m*\u001b[49m\u001b[43m(\u001b[49m\u001b[43mstate\u001b[49m\u001b[43m \u001b[49m\u001b[43m-\u001b[49m\u001b[43m \u001b[49m\u001b[32;43m1\u001b[39;49m\u001b[43m)\u001b[49m\u001b[43m \u001b[49m\u001b[43m+\u001b[49m\u001b[43m \u001b[49m\u001b[43m(\u001b[49m\u001b[43mx\u001b[49m\u001b[43m+\u001b[49m\u001b[43my\u001b[49m\u001b[43m)\u001b[49m\u001b[43m,\u001b[49m\u001b[43m \u001b[49m\u001b[43m(\u001b[49m\u001b[43mx\u001b[49m\u001b[43m+\u001b[49m\u001b[32;43m1\u001b[39;49m\u001b[43m)\u001b[49m\u001b[43m*\u001b[49m\u001b[43m(\u001b[49m\u001b[43mstate\u001b[49m\u001b[43m \u001b[49m\u001b[43m-\u001b[49m\u001b[43m \u001b[49m\u001b[32;43m1\u001b[39;49m\u001b[43m)\u001b[49m\u001b[43m \u001b[49m\u001b[43m+\u001b[49m\u001b[43m \u001b[49m\u001b[43m(\u001b[49m\u001b[43mx\u001b[49m\u001b[43m+\u001b[49m\u001b[32;43m1\u001b[39;49m\u001b[43m+\u001b[49m\u001b[43my\u001b[49m\u001b[43m)\u001b[49m\u001b[43m]\u001b[49m += \u001b[32m0.75\u001b[39m\n\u001b[32m     14\u001b[39m         \u001b[38;5;66;03m# V[x*state + (x+1+y), (x+1)*state + (x+y)] += -0.25\u001b[39;00m\n\u001b[32m     15\u001b[39m         \u001b[38;5;66;03m# V[(x+1)*state + (x+y), x*state + (x+1+y)] += -0.25\u001b[39;00m\n\u001b[32m     16\u001b[39m         \u001b[38;5;66;03m# V[(x+1)*state + (x+1+y), x*state + (x+y)] += 0.75\u001b[39;00m\n\u001b[32m   (...)\u001b[39m\u001b[32m     20\u001b[39m         \u001b[38;5;66;03m# V[(x+y)*state + x, (x+1+y)*state + (x+1)] += 0.75\u001b[39;00m\n\u001b[32m     21\u001b[39m         \u001b[38;5;66;03m# V[(x+1+y)*state + x, (x+y)*state + (x+1)] += -0.25\u001b[39;00m\n\u001b[32m     22\u001b[39m \u001b[38;5;28;01mreturn\u001b[39;00m V\n",
      "\u001b[31mIndexError\u001b[39m: index 9 is out of bounds for axis 1 with size 9"
     ]
    }
   ],
   "source": [
    "V_non_zero(state)"
   ]
  },
  {
   "cell_type": "code",
   "execution_count": null,
   "id": "1cfb7026",
   "metadata": {},
   "outputs": [
    {
     "name": "stdout",
     "output_type": "stream",
     "text": [
      "0,0\n",
      "0,1\n",
      "0,2\n",
      "1,0\n",
      "1,1\n",
      "2,0\n"
     ]
    },
    {
     "ename": "IndexError",
     "evalue": "index 11 is out of bounds for axis 1 with size 9",
     "output_type": "error",
     "traceback": [
      "\u001b[31m---------------------------------------------------------------------------\u001b[39m",
      "\u001b[31mIndexError\u001b[39m                                Traceback (most recent call last)",
      "\u001b[36mCell\u001b[39m\u001b[36m \u001b[39m\u001b[32mIn[185]\u001b[39m\u001b[32m, line 1\u001b[39m\n\u001b[32m----> \u001b[39m\u001b[32m1\u001b[39m v = \u001b[43mV_non_zero\u001b[49m\u001b[43m(\u001b[49m\u001b[43mstate\u001b[49m\u001b[43m)\u001b[49m \n",
      "\u001b[36mCell\u001b[39m\u001b[36m \u001b[39m\u001b[32mIn[180]\u001b[39m\u001b[32m, line 13\u001b[39m, in \u001b[36mV_non_zero\u001b[39m\u001b[34m(state)\u001b[39m\n\u001b[32m     11\u001b[39m     \u001b[38;5;28;01mfor\u001b[39;00m y \u001b[38;5;129;01min\u001b[39;00m \u001b[38;5;28mrange\u001b[39m(state-x):\n\u001b[32m     12\u001b[39m         \u001b[38;5;28mprint\u001b[39m(\u001b[33mf\u001b[39m\u001b[33m\"\u001b[39m\u001b[38;5;132;01m{\u001b[39;00mx\u001b[38;5;132;01m}\u001b[39;00m\u001b[33m,\u001b[39m\u001b[38;5;132;01m{\u001b[39;00my\u001b[38;5;132;01m}\u001b[39;00m\u001b[33m\"\u001b[39m)\n\u001b[32m---> \u001b[39m\u001b[32m13\u001b[39m         \u001b[43mV\u001b[49m\u001b[43m[\u001b[49m\u001b[43mx\u001b[49m\u001b[43m*\u001b[49m\u001b[43mstate\u001b[49m\u001b[43m \u001b[49m\u001b[43m+\u001b[49m\u001b[43m \u001b[49m\u001b[43m(\u001b[49m\u001b[43mx\u001b[49m\u001b[43m+\u001b[49m\u001b[43my\u001b[49m\u001b[43m)\u001b[49m\u001b[43m-\u001b[49m\u001b[32;43m1\u001b[39;49m\u001b[43m,\u001b[49m\u001b[43m \u001b[49m\u001b[43m(\u001b[49m\u001b[43mx\u001b[49m\u001b[43m+\u001b[49m\u001b[32;43m1\u001b[39;49m\u001b[43m)\u001b[49m\u001b[43m*\u001b[49m\u001b[43mstate\u001b[49m\u001b[43m \u001b[49m\u001b[43m+\u001b[49m\u001b[43m \u001b[49m\u001b[43m(\u001b[49m\u001b[43mx\u001b[49m\u001b[43m+\u001b[49m\u001b[32;43m1\u001b[39;49m\u001b[43m+\u001b[49m\u001b[43my\u001b[49m\u001b[43m)\u001b[49m\u001b[43m-\u001b[49m\u001b[32;43m1\u001b[39;49m\u001b[43m]\u001b[49m += \u001b[32m0.75\u001b[39m\n\u001b[32m     14\u001b[39m         \u001b[38;5;66;03m# V[x*state + (x+1+y), (x+1)*state + (x+y)] += -0.25\u001b[39;00m\n\u001b[32m     15\u001b[39m         \u001b[38;5;66;03m# V[(x+1)*state + (x+y), x*state + (x+1+y)] += -0.25\u001b[39;00m\n\u001b[32m     16\u001b[39m         \u001b[38;5;66;03m# V[(x+1)*state + (x+1+y), x*state + (x+y)] += 0.75\u001b[39;00m\n\u001b[32m   (...)\u001b[39m\u001b[32m     20\u001b[39m         \u001b[38;5;66;03m# V[(x+y)*state + x, (x+1+y)*state + (x+1)] += 0.75\u001b[39;00m\n\u001b[32m     21\u001b[39m         \u001b[38;5;66;03m# V[(x+1+y)*state + x, (x+y)*state + (x+1)] += -0.25\u001b[39;00m\n\u001b[32m     22\u001b[39m \u001b[38;5;28;01mreturn\u001b[39;00m V\n",
      "\u001b[31mIndexError\u001b[39m: index 11 is out of bounds for axis 1 with size 9"
     ]
    }
   ],
   "source": [
    "v = V_non_zero(state) "
   ]
  },
  {
   "cell_type": "code",
   "execution_count": null,
   "id": "4b20de82",
   "metadata": {},
   "outputs": [],
   "source": []
  }
 ],
 "metadata": {
  "kernelspec": {
   "display_name": ".venv",
   "language": "python",
   "name": "python3"
  },
  "language_info": {
   "codemirror_mode": {
    "name": "ipython",
    "version": 3
   },
   "file_extension": ".py",
   "mimetype": "text/x-python",
   "name": "python",
   "nbconvert_exporter": "python",
   "pygments_lexer": "ipython3",
   "version": "3.13.4"
  }
 },
 "nbformat": 4,
 "nbformat_minor": 5
}
