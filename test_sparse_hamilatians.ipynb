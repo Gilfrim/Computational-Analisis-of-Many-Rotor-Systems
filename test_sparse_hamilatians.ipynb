{
 "cells": [
  {
   "cell_type": "code",
   "execution_count": 1,
   "id": "d71c20ec",
   "metadata": {},
   "outputs": [],
   "source": [
    "from quant_rotor.core.dense.hamiltonian_big import hamiltonian_general_dense, hamiltonian_big_dense\n",
    "from quant_rotor.core.sparse.hamiltonian_big import hamiltonian_general_sparse, hamiltonian_big_sparse\n",
    "from quant_rotor.core.dense.hamiltonian import hamiltonian_dense\n",
    "from quant_rotor.core.sparse.hamiltonian import hamiltonian_sparse\n",
    "from quant_rotor.models.sparse.support_ham import build_V_in_p\n",
    "from quant_rotor.models.dense.support_ham import write_matrix_elements, basis_m_to_p_matrix_conversion\n",
    "import quant_rotor.models.dense.support_ham as dn\n",
    "import numpy as np\n",
    "import matplotlib.pyplot as plt\n",
    "import scipy.sparse as sp\n",
    "import traceback\n",
    "import time\n",
    "from datetime import datetime"
   ]
  },
  {
   "cell_type": "markdown",
   "id": "9ccd3c50",
   "metadata": {},
   "source": [
    "Stress testing the hamiltonian generator."
   ]
  },
  {
   "cell_type": "code",
   "execution_count": null,
   "id": "8c0dbd4b",
   "metadata": {},
   "outputs": [],
   "source": [
    "# ---------- CONFIG ----------\n",
    "max_state = 11   # must be odd; try increasing this cautiously\n",
    "max_site = 61     # must be odd; try up to your system's memory\n",
    "g = 1            # coupling strength\n",
    "\n",
    "log_file = \"hamiltonian_stress_test_log.txt\"\n",
    "\n",
    "# ---------- Logging ----------\n",
    "def log(msg):\n",
    "    timestamp = datetime.now().strftime(\"[%Y-%m-%d %H:%M:%S]\")\n",
    "    with open(log_file, \"a\") as f:\n",
    "        f.write(f\"{timestamp} {msg}\\n\")\n",
    "\n",
    "# ---------- Header ----------\n",
    "log(\"\\n===================== NEW STRESS TEST =====================\")\n",
    "log(f\"Testing odd state/site values up to state={max_state}, site={max_site}\\n\")\n",
    "\n",
    "last_success = None\n",
    "start_time = time.time()\n",
    "\n",
    "try:\n",
    "    for site in range(3, max_site + 1, 2):  # only odd sites\n",
    "        for state in range(3, max_state + 1, 2):  # only odd states\n",
    "            try:\n",
    "                log(f\"Trying state={state}, site={site}...\")\n",
    "                t0 = time.time()\n",
    "                H, _, _ = hamiltonian_sparse(state, site, g)\n",
    "                t1 = time.time()\n",
    "                dim = H.shape[0]\n",
    "                nnz = H.nnz if sp.issparse(H) else np.count_nonzero(H)\n",
    "                log(f\"✓ Success: dim={dim}, nnz={nnz}, time={t1 - t0:.2f}s\")\n",
    "                last_success = (state, site, dim, nnz)\n",
    "            except MemoryError:\n",
    "                log(f\"🧨 MemoryError at state={state}, site={site}. Halting test.\")\n",
    "                raise\n",
    "            except Exception as e:\n",
    "                log(f\"⚠️ Exception at state={state}, site={site}\")\n",
    "                log(traceback.format_exc())\n",
    "                raise\n",
    "except Exception:\n",
    "    pass\n",
    "\n",
    "end_time = time.time()\n",
    "log(f\"\\n⏱️ Test completed in {end_time - start_time:.2f} seconds.\")\n",
    "\n",
    "if last_success:\n",
    "    s, L, d, n = last_success\n",
    "    log(f\"\\n✅ Last successful configuration:\")\n",
    "    log(f\"  state = {s}\")\n",
    "    log(f\"  site  = {L}\")\n",
    "    log(f\"  dim   = {d}\")\n",
    "    log(f\"  nnz   = {n}\")\n",
    "else:\n",
    "    log(\"\\n❌ No successful Hamiltonians generated.\")"
   ]
  },
  {
   "cell_type": "markdown",
   "id": "c19b2c31",
   "metadata": {},
   "source": [
    "# Testing the hamiltonian big and general by comparing sparse to dense."
   ]
  },
  {
   "cell_type": "code",
   "execution_count": 2,
   "id": "d956e9eb",
   "metadata": {},
   "outputs": [],
   "source": [
    "from scipy.sparse.linalg import norm\n",
    "\n",
    "def sparse_allclose(A, B, atol=1e-8, rtol=1e-5):\n",
    "    if A.shape != B.shape:\n",
    "        return False\n",
    "    diff = A - B\n",
    "    return norm(diff, ord='fro') <= atol + rtol * max(norm(A, ord='fro'), norm(B, ord='fro'))"
   ]
  },
  {
   "cell_type": "code",
   "execution_count": 3,
   "id": "636131ef",
   "metadata": {},
   "outputs": [],
   "source": [
    "def compare_ground_states(H_dense, H_sparse, atol=1e-6):\n",
    "    from scipy.sparse.linalg import eigsh\n",
    "    eigval_d, eigvec_d = np.linalg.eigh(H_dense)\n",
    "    eigval_s, eigvec_s = eigsh(H_sparse, k=1, which='SA')\n",
    "    \n",
    "    vec_d = eigvec_d[:, 0]\n",
    "    vec_s = eigvec_s[:, 0]\n",
    "\n",
    "    vec_d /= np.linalg.norm(vec_d)\n",
    "    vec_s /= np.linalg.norm(vec_s)\n",
    "    \n",
    "    overlap = np.vdot(vec_d, vec_s)\n",
    "    fidelity = np.abs(overlap)**2\n",
    "    energy_match = np.abs(eigval_d[0] - eigval_s[0]) < atol\n",
    "\n",
    "    return fidelity, energy_match"
   ]
  },
  {
   "cell_type": "code",
   "execution_count": 4,
   "id": "6b3ebb49",
   "metadata": {},
   "outputs": [
    {
     "name": "stdout",
     "output_type": "stream",
     "text": [
      "True\n",
      "True\n",
      "True\n"
     ]
    }
   ],
   "source": [
    "state = 11\n",
    "site = 3\n",
    "g = 0.1\n",
    "\n",
    "H_K_V_s = hamiltonian_sparse(state, site, g)\n",
    "H_K_V_d = hamiltonian_dense(state, site, g)\n",
    "\n",
    "print(sparse_allclose(sp.csr_matrix(H_K_V_d[0]), H_K_V_s[0]))\n",
    "print(sparse_allclose(sp.csr_matrix(H_K_V_d[1]), H_K_V_s[1]))\n",
    "print(sparse_allclose(sp.csr_matrix(H_K_V_d[2]), H_K_V_s[2]))"
   ]
  },
  {
   "cell_type": "code",
   "execution_count": 5,
   "id": "be338727",
   "metadata": {},
   "outputs": [
    {
     "name": "stdout",
     "output_type": "stream",
     "text": [
      "False\n",
      "True\n",
      "False\n",
      "False\n"
     ]
    }
   ],
   "source": [
    "state = 5\n",
    "site = 5\n",
    "\n",
    "H_K_V_sp = hamiltonian_big_sparse(state, site, g, H_K_V_s)\n",
    "\n",
    "H_K_V_de = hamiltonian_big_dense(state, site, g, H_K_V_d)\n",
    "\n",
    "print(sparse_allclose(sp.csr_matrix(H_K_V_de[0]), H_K_V_sp[0]))\n",
    "print(sparse_allclose(sp.csr_matrix(H_K_V_de[1]), H_K_V_sp[1]))\n",
    "print(sparse_allclose(sp.csr_matrix(H_K_V_de[2]), H_K_V_sp[2]))\n",
    "print(np.allclose(H_K_V_de[3], H_K_V_sp[3], atol=1e-7))"
   ]
  },
  {
   "cell_type": "markdown",
   "id": "839ffc76",
   "metadata": {},
   "source": [
    "This gives us the idea wether the eigenvalues and eigenvalues match for the ground states bewteen the sparse and dense."
   ]
  },
  {
   "cell_type": "code",
   "execution_count": 6,
   "id": "7e5c8448",
   "metadata": {},
   "outputs": [
    {
     "name": "stdout",
     "output_type": "stream",
     "text": [
      "(np.float64(0.8508381599953532), np.True_)\n"
     ]
    }
   ],
   "source": [
    "print(compare_ground_states(H_K_V_de[0], H_K_V_sp[0]))"
   ]
  },
  {
   "cell_type": "markdown",
   "id": "f8688d50",
   "metadata": {},
   "source": [
    "## Testing the degenaret eigenvectors."
   ]
  },
  {
   "cell_type": "markdown",
   "id": "2521e1ff",
   "metadata": {},
   "source": [
    "The sparse smallest eigenvalue diagonalization does not give consistent eigenvalues but eigenvectors in the same degenerate space as dense."
   ]
  },
  {
   "cell_type": "code",
   "execution_count": 7,
   "id": "b3cbea8b",
   "metadata": {},
   "outputs": [],
   "source": [
    "def check_eigenvec(H_dense: np.ndarray, H_sparse: sp.csr_matrix):\n",
    "\n",
    "    eigval_dense, eigvecs_dense = np.linalg.eigh(H_dense)\n",
    "    eigval_sparse, eigvecs_sparse = sp.linalg.eigsh(H_sparse, k=1, which='SA')\n",
    "\n",
    "    psi_sparse = eigvecs_sparse[:, 0]\n",
    "\n",
    "    # Identify degeneracy threshold\n",
    "    ground_energy = eigval_dense[0]\n",
    "    degeneracy_tol = 1e-10  # you can adjust this\n",
    "    degenerate_indices = np.where(np.abs(eigval_dense - ground_energy) < degeneracy_tol)[0]\n",
    "\n",
    "    # Extract dense ground subspace\n",
    "    ground_subspace = eigvecs_dense[:, degenerate_indices]  # shape: (dim, d)\n",
    "\n",
    "    # Project sparse vector into dense ground subspace\n",
    "    projection_coeffs = ground_subspace.conj().T @ psi_sparse  # shape: (d,)\n",
    "    psi_projected = ground_subspace @ projection_coeffs        # back to shape (dim,)\n",
    "\n",
    "    # Compute fidelity between original and projected\n",
    "    fidelity_to_subspace = np.linalg.norm(projection_coeffs)**2\n",
    "    print(\"Fidelity to dense ground state subspace:\", fidelity_to_subspace)"
   ]
  },
  {
   "cell_type": "markdown",
   "id": "1a945793",
   "metadata": {},
   "source": [
    "##"
   ]
  },
  {
   "cell_type": "code",
   "execution_count": 8,
   "id": "0ae12cd4",
   "metadata": {},
   "outputs": [
    {
     "name": "stdout",
     "output_type": "stream",
     "text": [
      "False\n",
      "True\n",
      "False\n"
     ]
    }
   ],
   "source": [
    "state = 5\n",
    "site = 5\n",
    "\n",
    "H_K_V_sparse = hamiltonian_general_sparse(state, site, g)\n",
    "H_K_V_dense = hamiltonian_general_dense(state, site, g)\n",
    "\n",
    "print(sparse_allclose(sp.csr_matrix(H_K_V_dense[0]), H_K_V_sparse[0]))\n",
    "print(sparse_allclose(sp.csr_matrix(H_K_V_dense[1]), H_K_V_sparse[1]))\n",
    "print(sparse_allclose(sp.csr_matrix(H_K_V_dense[2]), H_K_V_sparse[2]))"
   ]
  },
  {
   "cell_type": "code",
   "execution_count": 9,
   "id": "c2de82be",
   "metadata": {},
   "outputs": [
    {
     "name": "stdout",
     "output_type": "stream",
     "text": [
      "Fidelity to dense ground state subspace: 0.8508381599953562\n",
      "Fidelity to dense ground state subspace: 0.9568448395709543\n"
     ]
    }
   ],
   "source": [
    "check_eigenvec(H_K_V_de[0], H_K_V_sp[0])\n",
    "check_eigenvec(H_K_V_dense[0], H_K_V_sparse[0])"
   ]
  },
  {
   "cell_type": "code",
   "execution_count": null,
   "id": "39554e29",
   "metadata": {},
   "outputs": [],
   "source": [
    "state = 7\n",
    "site = 5\n",
    "g = 0.1"
   ]
  },
  {
   "cell_type": "code",
   "execution_count": null,
   "id": "74087b3f",
   "metadata": {},
   "outputs": [],
   "source": [
    "H_K_V_sparse = hamiltonian_general_sparse(state, site, g)"
   ]
  },
  {
   "cell_type": "code",
   "execution_count": null,
   "id": "1a542cc0",
   "metadata": {},
   "outputs": [],
   "source": [
    "H_K_V_s = hamiltonian_sparse(state, site, g)"
   ]
  },
  {
   "cell_type": "code",
   "execution_count": null,
   "id": "09ce084b",
   "metadata": {},
   "outputs": [],
   "source": [
    "H_K_V_dense = hamiltonian_general_dense(state, site, g)"
   ]
  },
  {
   "cell_type": "code",
   "execution_count": null,
   "id": "4911b467",
   "metadata": {},
   "outputs": [],
   "source": [
    "H_K_V_d = hamiltonian_dense(state, site, g)"
   ]
  },
  {
   "cell_type": "markdown",
   "id": "f2a90da1",
   "metadata": {},
   "source": [
    "Stress testing hamiltonian_genreal sparse."
   ]
  },
  {
   "cell_type": "code",
   "execution_count": null,
   "id": "7ce2d454",
   "metadata": {},
   "outputs": [],
   "source": [
    "# ---------- CONFIG ----------\n",
    "max_state = 11   # must be odd; try increasing this cautiously\n",
    "max_site = 61     # must be odd; try up to your system's memory\n",
    "g = 1            # coupling strength\n",
    "\n",
    "log_file = \"hamiltonian_general_stress_test_log.txt\"\n",
    "\n",
    "# ---------- Logging ----------\n",
    "def log(msg):\n",
    "    timestamp = datetime.now().strftime(\"[%Y-%m-%d %H:%M:%S]\")\n",
    "    with open(log_file, \"a\") as f:\n",
    "        f.write(f\"{timestamp} {msg}\\n\")\n",
    "\n",
    "# ---------- Header ----------\n",
    "log(\"\\n===================== NEW STRESS TEST =====================\")\n",
    "log(f\"Testing odd state/site values up to state={max_state}, site={max_site}\\n\")\n",
    "\n",
    "last_success = None\n",
    "start_time = time.time()\n",
    "\n",
    "try:\n",
    "    for site in range(3, max_site + 1, 2):  # only odd sites\n",
    "        state = 11\n",
    "        try:\n",
    "            log(f\"Trying state={state}, site={site}...\")\n",
    "            t0 = time.time()\n",
    "            H, _, _ = hamiltonian_general_sparse(state, site, g)\n",
    "            t1 = time.time()\n",
    "            dim = H.shape[0]\n",
    "            nnz = H.nnz if sp.issparse(H) else np.count_nonzero(H)\n",
    "            log(f\"✓ Success: dim={dim}, nnz={nnz}, time={t1 - t0:.2f}s\")\n",
    "            last_success = (state, site, dim, nnz)\n",
    "        except MemoryError:\n",
    "            log(f\"🧨 MemoryError at state={state}, site={site}. Halting test.\")\n",
    "            raise\n",
    "        except Exception as e:\n",
    "            log(f\"⚠️ Exception at state={state}, site={site}\")\n",
    "            log(traceback.format_exc())\n",
    "            raise\n",
    "except Exception:\n",
    "    pass\n",
    "\n",
    "end_time = time.time()\n",
    "log(f\"\\n⏱️ Test completed in {end_time - start_time:.2f} seconds.\")\n",
    "\n",
    "if last_success:\n",
    "    s, L, d, n = last_success\n",
    "    log(f\"\\n✅ Last successful configuration:\")\n",
    "    log(f\"  state = {s}\")\n",
    "    log(f\"  site  = {L}\")\n",
    "    log(f\"  dim   = {d}\")\n",
    "    log(f\"  nnz   = {n}\")\n",
    "else:\n",
    "    log(\"\\n❌ No successful Hamiltonians generated.\")"
   ]
  },
  {
   "cell_type": "markdown",
   "id": "7bf09ec6",
   "metadata": {},
   "source": [
    "# Testing standart hamiltonian."
   ]
  }
 ],
 "metadata": {
  "kernelspec": {
   "display_name": ".venv",
   "language": "python",
   "name": "python3"
  },
  "language_info": {
   "codemirror_mode": {
    "name": "ipython",
    "version": 3
   },
   "file_extension": ".py",
   "mimetype": "text/x-python",
   "name": "python",
   "nbconvert_exporter": "python",
   "pygments_lexer": "ipython3",
   "version": "3.13.4"
  }
 },
 "nbformat": 4,
 "nbformat_minor": 5
}
