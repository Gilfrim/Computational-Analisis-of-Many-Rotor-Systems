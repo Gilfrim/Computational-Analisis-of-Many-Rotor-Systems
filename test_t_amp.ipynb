{
 "cells": [
  {
   "cell_type": "code",
   "execution_count": 1,
   "id": "0fff833e",
   "metadata": {},
   "outputs": [],
   "source": [
    "import numpy as np\n",
    "from quant_rotor.core.dense.t_amplitudes_periodic import t_periodic as tpreiodic_dense\n",
    "from quant_rotor.core.sparse.t_amplitudes_periodic import t_periodic as tperiodic_sparse\n",
    "from quant_rotor.core.dense.t_amplitudes_periodic_new import t_periodic as tperiodic_sparse_check"
   ]
  },
  {
   "cell_type": "markdown",
   "id": "f0277aea",
   "metadata": {},
   "source": [
    "# Testing the unique element step."
   ]
  },
  {
   "cell_type": "code",
   "execution_count": 2,
   "id": "1fa62d94",
   "metadata": {},
   "outputs": [],
   "source": [
    "site = 5\n",
    "state = 11\n",
    "g = 0.1"
   ]
  },
  {
   "cell_type": "code",
   "execution_count": 3,
   "id": "d6f9ef7c",
   "metadata": {},
   "outputs": [],
   "source": [
    "# for z in range(site):\n",
    "#     for w in range(site):\n",
    "#         if z not in {0, 1} and w not in {0, 1} and z != w:\n",
    "#             if abs(z - w) == 1 or abs(z - w) == (site - 1):\n",
    "#                 print(z, w)"
   ]
  },
  {
   "cell_type": "code",
   "execution_count": 4,
   "id": "53553c97",
   "metadata": {},
   "outputs": [],
   "source": [
    "one_max_s, two_max_s, energy_s, t_a_i_tensor_s, t_ab_ij_tensor_s = tperiodic_sparse_check(site, state, g)"
   ]
  },
  {
   "cell_type": "code",
   "execution_count": 5,
   "id": "343e48cc",
   "metadata": {},
   "outputs": [],
   "source": [
    "one_max_d, two_max_d, energy_d, t_a_i_tensor_d, t_ab_ij_tensor_d = tpreiodic_dense(site, state, g)"
   ]
  },
  {
   "cell_type": "code",
   "execution_count": 6,
   "id": "f471aefb",
   "metadata": {},
   "outputs": [
    {
     "name": "stdout",
     "output_type": "stream",
     "text": [
      "Delta One Max: 1.4399560103323106e-20\n",
      "Delta Two Max: 2.9116757561866574e-22\n",
      "DeltaEnergy: 2.7755575615628914e-17\n",
      "t_1: True\n",
      "t_2: True\n"
     ]
    }
   ],
   "source": [
    "if np.array_equal(one_max_d, one_max_s):\n",
    "    print(f\"One Max: {np.array_equal(one_max_d, one_max_s)}\")\n",
    "else:\n",
    "    print(f\"Delta One Max: {np.abs(one_max_d - one_max_s)}\")\n",
    "\n",
    "if np.array_equal(two_max_d, two_max_s):\n",
    "    print(f\"Two Max: {np.array_equal(two_max_d, two_max_s)}\")\n",
    "else:\n",
    "    print(f\"Delta Two Max: {np.abs(two_max_d - two_max_s)}\")\n",
    "\n",
    "if np.array_equal(energy_d, energy_s):\n",
    "    print(f\"Energy: {np.array_equal(energy_d, energy_s)}\")\n",
    "else:\n",
    "    print(f\"DeltaEnergy: {np.abs(energy_d - energy_s)}\")\n",
    "\n",
    "print(f\"t_1: {np.allclose(t_a_i_tensor_d, t_a_i_tensor_s, 1e-20)}\")\n",
    "print(f\"t_2: {np.allclose(t_a_i_tensor_d, t_a_i_tensor_s, 1e-20)}\")"
   ]
  }
 ],
 "metadata": {
  "kernelspec": {
   "display_name": ".venv",
   "language": "python",
   "name": "python3"
  },
  "language_info": {
   "codemirror_mode": {
    "name": "ipython",
    "version": 3
   },
   "file_extension": ".py",
   "mimetype": "text/x-python",
   "name": "python",
   "nbconvert_exporter": "python",
   "pygments_lexer": "ipython3",
   "version": "3.13.4"
  }
 },
 "nbformat": 4,
 "nbformat_minor": 5
}
