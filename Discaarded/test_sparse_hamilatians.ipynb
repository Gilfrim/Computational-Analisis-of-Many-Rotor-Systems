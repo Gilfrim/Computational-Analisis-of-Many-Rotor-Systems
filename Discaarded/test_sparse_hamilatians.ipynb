{
 "cells": [
  {
   "cell_type": "code",
   "execution_count": 1,
   "id": "d71c20ec",
   "metadata": {},
   "outputs": [],
   "source": [
    "from quant_rotor.core.dense.hamiltonian_big import hamiltonian_general_dense, hamiltonian_big_dense\n",
    "from quant_rotor.core.sparse.hamiltonian_big import hamiltonian_general_sparse, hamiltonian_big_sparse\n",
    "from quant_rotor.core.dense.hamiltonian import hamiltonian_dense\n",
    "from quant_rotor.core.sparse.hamiltonian import hamiltonian_sparse\n",
    "from quant_rotor.models.sparse.support_ham import build_V_in_p, m_to_p, vector_in_p\n",
    "from quant_rotor.models.dense.support_ham import write_matrix_elements, basis_m_to_p_matrix_conversion\n",
    "import quant_rotor.models.dense.support_ham as dn\n",
    "import opt_einsum as oe\n",
    "import numpy as np\n",
    "import thermofield_boltz_funcs as bz\n",
    "import scipy.sparse as sp\n",
    "import traceback\n",
    "import time\n",
    "from datetime import datetime\n",
    "import itertools"
   ]
  },
  {
   "cell_type": "markdown",
   "id": "9ccd3c50",
   "metadata": {},
   "source": [
    "Stress testing the hamiltonian generator."
   ]
  },
  {
   "cell_type": "code",
   "execution_count": 2,
   "id": "8c0dbd4b",
   "metadata": {},
   "outputs": [],
   "source": [
    "# # ---------- CONFIG ----------\n",
    "# max_state = 11   # must be odd; try increasing this cautiously\n",
    "# max_site = 61     # must be odd; try up to your system's memory\n",
    "# g = 1            # coupling strength\n",
    "\n",
    "# log_file = \"hamiltonian_stress_test_log.txt\"\n",
    "\n",
    "# # ---------- Logging ----------\n",
    "# def log(msg):\n",
    "#     timestamp = datetime.now().strftime(\"[%Y-%m-%d %H:%M:%S]\")\n",
    "#     with open(log_file, \"a\") as f:\n",
    "#         f.write(f\"{timestamp} {msg}\\n\")\n",
    "\n",
    "# # ---------- Header ----------\n",
    "# log(\"\\n===================== NEW STRESS TEST =====================\")\n",
    "# log(f\"Testing odd state/site values up to state={max_state}, site={max_site}\\n\")\n",
    "\n",
    "# last_success = None\n",
    "# start_time = time.time()\n",
    "\n",
    "# try:\n",
    "#     for site in range(3, max_site + 1, 2):  # only odd sites\n",
    "#         for state in range(3, max_state + 1, 2):  # only odd states\n",
    "#             try:\n",
    "#                 log(f\"Trying state={state}, site={site}...\")\n",
    "#                 t0 = time.time()\n",
    "#                 H, _, _ = hamiltonian_sparse(state, site, g)\n",
    "#                 t1 = time.time()\n",
    "#                 dim = H.shape[0]\n",
    "#                 nnz = H.nnz if sp.issparse(H) else np.count_nonzero(H)\n",
    "#                 log(f\"✓ Success: dim={dim}, nnz={nnz}, time={t1 - t0:.2f}s\")\n",
    "#                 last_success = (state, site, dim, nnz)\n",
    "#             except MemoryError:\n",
    "#                 log(f\"🧨 MemoryError at state={state}, site={site}. Halting test.\")\n",
    "#                 raise\n",
    "#             except Exception as e:\n",
    "#                 log(f\"⚠️ Exception at state={state}, site={site}\")\n",
    "#                 log(traceback.format_exc())\n",
    "#                 raise\n",
    "# except Exception:\n",
    "#     pass\n",
    "\n",
    "# end_time = time.time()\n",
    "# log(f\"\\n⏱️ Test completed in {end_time - start_time:.2f} seconds.\")\n",
    "\n",
    "# if last_success:\n",
    "#     s, L, d, n = last_success\n",
    "#     log(f\"\\n✅ Last successful configuration:\")\n",
    "#     log(f\"  state = {s}\")\n",
    "#     log(f\"  site  = {L}\")\n",
    "#     log(f\"  dim   = {d}\")\n",
    "#     log(f\"  nnz   = {n}\")\n",
    "# else:\n",
    "#     log(\"\\n❌ No successful Hamiltonians generated.\")"
   ]
  },
  {
   "cell_type": "markdown",
   "id": "c19b2c31",
   "metadata": {},
   "source": [
    "# Testing the hamiltonian big and general by comparing sparse to dense."
   ]
  },
  {
   "cell_type": "code",
   "execution_count": 3,
   "id": "d956e9eb",
   "metadata": {},
   "outputs": [],
   "source": [
    "from scipy.sparse.linalg import norm\n",
    "\n",
    "def sparse_allclose(A, B, atol=1e-8, rtol=1e-5):\n",
    "    if A.shape != B.shape:\n",
    "        return False\n",
    "    diff = A - B\n",
    "    return norm(diff, ord='fro') <= atol + rtol * max(norm(A, ord='fro'), norm(B, ord='fro'))"
   ]
  },
  {
   "cell_type": "code",
   "execution_count": 4,
   "id": "636131ef",
   "metadata": {},
   "outputs": [],
   "source": [
    "def compare_ground_states(H_dense, H_sparse, atol=1e-6):\n",
    "    from scipy.sparse.linalg import eigsh\n",
    "    eigval_d, eigvec_d = np.linalg.eigh(H_dense)\n",
    "    eigval_s, eigvec_s = eigsh(H_sparse, k=1, which='SA')\n",
    "    \n",
    "    vec_d = eigvec_d[:, 0]\n",
    "    vec_s = eigvec_s[:, 0]\n",
    "\n",
    "    vec_d /= np.linalg.norm(vec_d)\n",
    "    vec_s /= np.linalg.norm(vec_s)\n",
    "    \n",
    "    overlap = np.vdot(vec_d, vec_s)\n",
    "    fidelity = np.abs(overlap)**2\n",
    "    energy_match = np.abs(eigval_d[0] - eigval_s[0]) < atol\n",
    "\n",
    "    return fidelity, energy_match"
   ]
  },
  {
   "cell_type": "code",
   "execution_count": 5,
   "id": "6b3ebb49",
   "metadata": {},
   "outputs": [
    {
     "name": "stdout",
     "output_type": "stream",
     "text": [
      "True\n",
      "True\n",
      "True\n"
     ]
    }
   ],
   "source": [
    "state = 11\n",
    "site = 3\n",
    "g = 0.1\n",
    "\n",
    "H_K_V_s = hamiltonian_sparse(state, site, g)\n",
    "H_K_V_d = hamiltonian_dense(state, site, g)\n",
    "\n",
    "print(sparse_allclose(sp.csr_matrix(H_K_V_d[0]), H_K_V_s[0]))\n",
    "print(sparse_allclose(sp.csr_matrix(H_K_V_d[1]), H_K_V_s[1]))\n",
    "print(sparse_allclose(sp.csr_matrix(H_K_V_d[2]), H_K_V_s[2]))"
   ]
  },
  {
   "cell_type": "code",
   "execution_count": null,
   "id": "be338727",
   "metadata": {},
   "outputs": [],
   "source": [
    "state = 5\n",
    "site = 5\n",
    "\n",
    "H_K_V_sp = hamiltonian_big_sparse(state, site, g, H_K_V_s)\n",
    "\n",
    "H_K_V_de = hamiltonian_big_dense(state, site, g, H_K_V_d)\n",
    "\n",
    "print(sparse_allclose(sp.csr_matrix(H_K_V_de[0]), H_K_V_sp[0]))\n",
    "print(sparse_allclose(sp.csr_matrix(H_K_V_de[1]), H_K_V_sp[1]))\n",
    "print(sparse_allclose(sp.csr_matrix(H_K_V_de[2]), H_K_V_sp[2]))\n",
    "print(np.allclose(H_K_V_de[3], H_K_V_sp[3], atol=1e-7))"
   ]
  },
  {
   "cell_type": "markdown",
   "id": "839ffc76",
   "metadata": {},
   "source": [
    "This gives us the idea wether the eigenvalues and eigenvalues match for the ground states bewteen the sparse and dense."
   ]
  },
  {
   "cell_type": "code",
   "execution_count": null,
   "id": "7e5c8448",
   "metadata": {},
   "outputs": [],
   "source": [
    "print(compare_ground_states(H_K_V_de[0], H_K_V_sp[0]))"
   ]
  },
  {
   "cell_type": "markdown",
   "id": "f8688d50",
   "metadata": {},
   "source": [
    "## Testing the degenaret eigenvectors."
   ]
  },
  {
   "cell_type": "markdown",
   "id": "2521e1ff",
   "metadata": {},
   "source": [
    "The sparse smallest eigenvalue diagonalization does not give consistent eigenvalues but eigenvectors in the same degenerate space as dense."
   ]
  },
  {
   "cell_type": "code",
   "execution_count": null,
   "id": "b3cbea8b",
   "metadata": {},
   "outputs": [],
   "source": [
    "def check_eigenvec(H_dense: np.ndarray, H_sparse: sp.csr_matrix):\n",
    "\n",
    "    eigval_dense, eigvecs_dense = np.linalg.eigh(H_dense)\n",
    "    eigval_sparse, eigvecs_sparse = sp.linalg.eigsh(H_sparse, k=1, which='SA')\n",
    "\n",
    "    psi_sparse = eigvecs_sparse[:, 0]\n",
    "\n",
    "    # Identify degeneracy threshold\n",
    "    ground_energy = eigval_dense[0]\n",
    "    degeneracy_tol = 1e-10  # you can adjust this\n",
    "    degenerate_indices = np.where(np.abs(eigval_dense - ground_energy) < degeneracy_tol)[0]\n",
    "\n",
    "    # Extract dense ground subspace\n",
    "    ground_subspace = eigvecs_dense[:, degenerate_indices]  # shape: (dim, d)\n",
    "\n",
    "    # Project sparse vector into dense ground subspace\n",
    "    projection_coeffs = ground_subspace.conj().T @ psi_sparse  # shape: (d,)\n",
    "    psi_projected = ground_subspace @ projection_coeffs        # back to shape (dim,)\n",
    "\n",
    "    # Compute fidelity between original and projected\n",
    "    fidelity_to_subspace = np.linalg.norm(projection_coeffs)**2\n",
    "    print(\"Fidelity to dense ground state subspace:\", fidelity_to_subspace)"
   ]
  },
  {
   "cell_type": "markdown",
   "id": "1a945793",
   "metadata": {},
   "source": [
    "##"
   ]
  },
  {
   "cell_type": "code",
   "execution_count": null,
   "id": "0ae12cd4",
   "metadata": {},
   "outputs": [
    {
     "name": "stdout",
     "output_type": "stream",
     "text": [
      "False\n",
      "True\n",
      "False\n"
     ]
    }
   ],
   "source": [
    "state = 5\n",
    "site = 5\n",
    "\n",
    "H_K_V_sparse = hamiltonian_general_sparse(state, site, g)\n",
    "H_K_V_dense = hamiltonian_general_dense(state, site, g)\n",
    "\n",
    "print(sparse_allclose(sp.csr_matrix(H_K_V_dense[0]), H_K_V_sparse[0]))\n",
    "print(sparse_allclose(sp.csr_matrix(H_K_V_dense[1]), H_K_V_sparse[1]))\n",
    "print(sparse_allclose(sp.csr_matrix(H_K_V_dense[2]), H_K_V_sparse[2]))"
   ]
  },
  {
   "cell_type": "code",
   "execution_count": null,
   "id": "c2de82be",
   "metadata": {},
   "outputs": [
    {
     "name": "stdout",
     "output_type": "stream",
     "text": [
      "Fidelity to dense ground state subspace: 0.8508381599953562\n",
      "Fidelity to dense ground state subspace: 0.9568448395709543\n"
     ]
    }
   ],
   "source": [
    "check_eigenvec(H_K_V_de[0], H_K_V_sp[0])\n",
    "check_eigenvec(H_K_V_dense[0], H_K_V_sparse[0])"
   ]
  },
  {
   "cell_type": "code",
   "execution_count": null,
   "id": "39554e29",
   "metadata": {},
   "outputs": [],
   "source": [
    "state = 7\n",
    "site = 5\n",
    "g = 0.1"
   ]
  },
  {
   "cell_type": "code",
   "execution_count": null,
   "id": "74087b3f",
   "metadata": {},
   "outputs": [],
   "source": [
    "H_K_V_sparse = hamiltonian_general_sparse(state, site, g)"
   ]
  },
  {
   "cell_type": "code",
   "execution_count": null,
   "id": "1a542cc0",
   "metadata": {},
   "outputs": [],
   "source": [
    "H_K_V_s = hamiltonian_sparse(state, site, g)"
   ]
  },
  {
   "cell_type": "code",
   "execution_count": null,
   "id": "09ce084b",
   "metadata": {},
   "outputs": [],
   "source": [
    "H_K_V_dense = hamiltonian_general_dense(state, site, g)"
   ]
  },
  {
   "cell_type": "code",
   "execution_count": null,
   "id": "4911b467",
   "metadata": {},
   "outputs": [],
   "source": [
    "H_K_V_d = hamiltonian_dense(state, site, g)"
   ]
  },
  {
   "cell_type": "markdown",
   "id": "f2a90da1",
   "metadata": {},
   "source": [
    "Stress testing hamiltonian_genreal sparse."
   ]
  },
  {
   "cell_type": "code",
   "execution_count": null,
   "id": "7ce2d454",
   "metadata": {},
   "outputs": [],
   "source": [
    "# ---------- CONFIG ----------\n",
    "max_state = 11   # must be odd; try increasing this cautiously\n",
    "max_site = 61     # must be odd; try up to your system's memory\n",
    "g = 1            # coupling strength\n",
    "\n",
    "log_file = \"hamiltonian_general_stress_test_log.txt\"\n",
    "\n",
    "# ---------- Logging ----------\n",
    "def log(msg):\n",
    "    timestamp = datetime.now().strftime(\"[%Y-%m-%d %H:%M:%S]\")\n",
    "    with open(log_file, \"a\") as f:\n",
    "        f.write(f\"{timestamp} {msg}\\n\")\n",
    "\n",
    "# ---------- Header ----------\n",
    "log(\"\\n===================== NEW STRESS TEST =====================\")\n",
    "log(f\"Testing odd state/site values up to state={max_state}, site={max_site}\\n\")\n",
    "\n",
    "last_success = None\n",
    "start_time = time.time()\n",
    "\n",
    "try:\n",
    "    for site in range(3, max_site + 1, 2):  # only odd sites\n",
    "        state = 11\n",
    "        try:\n",
    "            log(f\"Trying state={state}, site={site}...\")\n",
    "            t0 = time.time()\n",
    "            H, _, _ = hamiltonian_general_sparse(state, site, g)\n",
    "            t1 = time.time()\n",
    "            dim = H.shape[0]\n",
    "            nnz = H.nnz if sp.issparse(H) else np.count_nonzero(H)\n",
    "            log(f\"✓ Success: dim={dim}, nnz={nnz}, time={t1 - t0:.2f}s\")\n",
    "            last_success = (state, site, dim, nnz)\n",
    "        except MemoryError:\n",
    "            log(f\"🧨 MemoryError at state={state}, site={site}. Halting test.\")\n",
    "            raise\n",
    "        except Exception as e:\n",
    "            log(f\"⚠️ Exception at state={state}, site={site}\")\n",
    "            log(traceback.format_exc())\n",
    "            raise\n",
    "except Exception:\n",
    "    pass\n",
    "\n",
    "end_time = time.time()\n",
    "log(f\"\\n⏱️ Test completed in {end_time - start_time:.2f} seconds.\")\n",
    "\n",
    "if last_success:\n",
    "    s, L, d, n = last_success\n",
    "    log(f\"\\n✅ Last successful configuration:\")\n",
    "    log(f\"  state = {s}\")\n",
    "    log(f\"  site  = {L}\")\n",
    "    log(f\"  dim   = {d}\")\n",
    "    log(f\"  nnz   = {n}\")\n",
    "else:\n",
    "    log(\"\\n❌ No successful Hamiltonians generated.\")"
   ]
  },
  {
   "cell_type": "markdown",
   "id": "7bf09ec6",
   "metadata": {},
   "source": [
    "# Creating direct sparse kinetic and potential hamiltonian."
   ]
  },
  {
   "cell_type": "code",
   "execution_count": null,
   "id": "e6182bde",
   "metadata": {},
   "outputs": [],
   "source": [
    "state = 3\n",
    "\n",
    "K, V = build_V_in_p(state)"
   ]
  },
  {
   "cell_type": "code",
   "execution_count": null,
   "id": "cbebcfcd",
   "metadata": {},
   "outputs": [],
   "source": [
    "def grouped_pairs_permutations(n: int) -> np.ndarray:\n",
    "    \"\"\"\n",
    "    Produce all sequences of length 4 built from adjacent pairs (i, i+1),\n",
    "    allowing repeats, and including internal pair swaps.\n",
    "    Each output row is (u1, u2, l1, l2).\n",
    "    \"\"\"\n",
    "\n",
    "    pairs = [(i, i+1) for i in range(n-1)]\n",
    "    seqs = set()\n",
    "\n",
    "    # choose two pairs with replacement (order matters): (Prow, Pcol)\n",
    "    for prow, pcol in itertools.product(pairs, repeat=2):\n",
    "        \n",
    "        # internal permutations of each pair\n",
    "        seqs.add((prow[0], prow[1], pcol[0], pcol[1], 0.75))\n",
    "\n",
    "        seqs.add((prow[1], prow[0], pcol[1], pcol[0], 0.75))\n",
    "\n",
    "        seqs.add((prow[0], prow[1], pcol[1], pcol[0], -0.25))\n",
    "\n",
    "        seqs.add((prow[1], prow[0], pcol[0], pcol[1], -0.25))\n",
    "\n",
    "    return sorted(seqs)"
   ]
  },
  {
   "cell_type": "code",
   "execution_count": null,
   "id": "814ff3ed",
   "metadata": {},
   "outputs": [],
   "source": [
    "seqs = grouped_pairs_permutations(n=3)  # array of shape (N, 4)\n",
    "# Each row is (u1, u2, l1, l2)"
   ]
  },
  {
   "cell_type": "code",
   "execution_count": null,
   "id": "d0b72b8b",
   "metadata": {},
   "outputs": [
    {
     "data": {
      "text/plain": [
       "(0, 1, 0, 1, 0.75)"
      ]
     },
     "execution_count": 42,
     "metadata": {},
     "output_type": "execute_result"
    }
   ],
   "source": [
    "seqs[0]"
   ]
  },
  {
   "cell_type": "code",
   "execution_count": null,
   "id": "ce094cc2",
   "metadata": {},
   "outputs": [
    {
     "name": "stdout",
     "output_type": "stream",
     "text": [
      "0, 1, 0, 1 --> 0.75\n",
      "0, 1, 1, 0 --> -0.25\n",
      "0, 1, 1, 2 --> 0.75\n",
      "0, 1, 2, 1 --> -0.25\n",
      "1, 0, 0, 1 --> -0.25\n",
      "1, 2, 0, 1 --> 0.75\n",
      "1, 0, 1, 0 --> 0.75\n",
      "1, 0, 1, 2 --> -0.25\n",
      "1, 2, 1, 0 --> -0.25\n",
      "1, 2, 1, 2 --> 0.75\n",
      "1, 0, 2, 1 --> 0.75\n",
      "1, 2, 2, 1 --> -0.25\n",
      "2, 1, 0, 1 --> -0.25\n",
      "2, 1, 1, 0 --> 0.75\n",
      "2, 1, 1, 2 --> -0.25\n",
      "2, 1, 2, 1 --> 0.75\n"
     ]
    }
   ],
   "source": [
    "_, V_old = write_matrix_elements((state-1)//2)"
   ]
  },
  {
   "cell_type": "code",
   "execution_count": null,
   "id": "bd9e1b2c",
   "metadata": {},
   "outputs": [
    {
     "name": "stdout",
     "output_type": "stream",
     "text": [
      "0.75 -> 0.75\n",
      "-0.25 -> -0.25\n",
      "0.75 -> 0.75\n",
      "-0.25 -> -0.25\n",
      "-0.25 -> -0.25\n",
      "0.75 -> 0.75\n",
      "-0.25 -> -0.25\n",
      "0.75 -> 0.75\n",
      "0.75 -> 0.75\n",
      "-0.25 -> -0.25\n",
      "0.75 -> 0.75\n",
      "-0.25 -> -0.25\n",
      "-0.25 -> -0.25\n",
      "0.75 -> 0.75\n",
      "-0.25 -> -0.25\n",
      "0.75 -> 0.75\n"
     ]
    }
   ],
   "source": [
    "for i in seqs:\n",
    "    print(V_old.reshape(state, state, state, state)[i[0], i[2], i[1], i[3]],\"->\", i[4])"
   ]
  },
  {
   "cell_type": "code",
   "execution_count": null,
   "id": "38e71580",
   "metadata": {},
   "outputs": [],
   "source": [
    "def build_V_in_p_new(state: int) -> tuple[sp.csr_matrix, sp.csr_matrix]:\n",
    "    \"\"\"\n",
    "    Constructs:\n",
    "    - K: a diagonal kinetic energy operator in the 'p' basis\n",
    "    - V: a sparse potential energy operator directly in the 'p' basis\n",
    "\n",
    "    Avoids constructing in the m basis and transforming later.\n",
    "    \"\"\"\n",
    "\n",
    "    dim_V = state * state\n",
    "\n",
    "    # Construct a diagonal of Kinetic energy matrix in m basis.\n",
    "    m_vals = np.arange(-(state - 1) // 2, (state - 1) // 2 + 1)\n",
    "\n",
    "    # Construct index map m -> p.\n",
    "    perm = np.vectorize(m_to_p)(m_vals)  # Maps m-index → p-index\n",
    "\n",
    "    data_V = []\n",
    "    rows = []\n",
    "    cols = []\n",
    "\n",
    "    def index(p1: int, p2: int) -> int:\n",
    "        return p1 * state + p2\n",
    "    \n",
    "    indecies = grouped_pairs_permutations(n=state)\n",
    "\n",
    "    # Loop over (m1, m2) — this preserves physics\n",
    "    for indx in indecies:\n",
    "            p1 = perm[indx[0]]\n",
    "            p2 = perm[indx[2]]\n",
    "            p1p = perm[indx[1]]\n",
    "            p2p = perm[indx[3]]\n",
    "\n",
    "            i = index(p1, p2)\n",
    "            j = index(p1p, p2p)\n",
    "            \n",
    "            rows.append(i)\n",
    "            cols.append(j)\n",
    "            data_V.append(indx[4])\n",
    "\n",
    "    V = sp.csr_matrix((data_V, (rows, cols)), shape=(dim_V, dim_V), dtype=np.float64)\n",
    "\n",
    "    # Diagonal kinetic operator in p basis\n",
    "    p = vector_in_p(state)\n",
    "    K = sp.diags(p**2, offsets=0, format='csr')\n",
    "\n",
    "    return K, V*2"
   ]
  },
  {
   "cell_type": "code",
   "execution_count": null,
   "id": "e4ca7f31",
   "metadata": {},
   "outputs": [],
   "source": [
    "K_new, V_new = build_V_in_p_new(state)"
   ]
  },
  {
   "cell_type": "code",
   "execution_count": null,
   "id": "0500b4ad",
   "metadata": {},
   "outputs": [
    {
     "name": "stdout",
     "output_type": "stream",
     "text": [
      "True\n",
      "True\n",
      "True\n",
      "True\n",
      "True\n",
      "True\n",
      "True\n",
      "True\n",
      "True\n",
      "True\n",
      "True\n",
      "True\n",
      "True\n",
      "True\n",
      "True\n",
      "True\n",
      "True\n",
      "True\n",
      "True\n",
      "True\n",
      "True\n",
      "True\n",
      "True\n",
      "True\n",
      "True\n",
      "True\n",
      "True\n",
      "True\n",
      "True\n",
      "True\n",
      "True\n",
      "True\n",
      "True\n",
      "True\n",
      "True\n",
      "True\n",
      "True\n",
      "True\n",
      "True\n",
      "True\n",
      "True\n",
      "True\n",
      "True\n",
      "True\n",
      "True\n",
      "True\n",
      "True\n",
      "True\n",
      "True\n",
      "True\n",
      "True\n",
      "True\n",
      "True\n",
      "True\n",
      "True\n",
      "True\n",
      "True\n",
      "True\n",
      "True\n",
      "True\n",
      "True\n",
      "True\n",
      "True\n",
      "True\n",
      "True\n",
      "True\n",
      "True\n",
      "True\n",
      "True\n",
      "True\n",
      "True\n",
      "True\n",
      "True\n",
      "True\n",
      "True\n",
      "True\n",
      "True\n",
      "True\n",
      "True\n",
      "True\n",
      "True\n",
      "True\n",
      "True\n",
      "True\n",
      "True\n",
      "True\n",
      "True\n",
      "True\n",
      "True\n",
      "True\n",
      "True\n",
      "True\n",
      "True\n",
      "True\n",
      "True\n",
      "True\n",
      "True\n",
      "True\n",
      "True\n",
      "True\n",
      "True\n",
      "True\n",
      "True\n",
      "True\n",
      "True\n",
      "True\n",
      "True\n",
      "True\n"
     ]
    }
   ],
   "source": [
    "for st in range(3, 111, 2):\n",
    "    K_new, V_new = build_V_in_p_new(st)\n",
    "    K, V = build_V_in_p(st)\n",
    "    print(np.array_equal(K_new.toarray(), K.toarray()))\n",
    "    print(np.array_equal(V_new.toarray(), V.toarray()))\n",
    "    "
   ]
  },
  {
   "cell_type": "code",
   "execution_count": null,
   "id": "cb0677b7",
   "metadata": {},
   "outputs": [],
   "source": [
    "st = 10001"
   ]
  },
  {
   "cell_type": "code",
   "execution_count": null,
   "id": "ad9cdfe7",
   "metadata": {},
   "outputs": [],
   "source": [
    "K, V = build_V_in_p(st)"
   ]
  },
  {
   "cell_type": "markdown",
   "id": "507e8913",
   "metadata": {},
   "source": [
    "# Hamiltonian thermofield sparse."
   ]
  },
  {
   "cell_type": "code",
   "execution_count": null,
   "id": "c31bfbe3",
   "metadata": {},
   "outputs": [],
   "source": [
    "state = 3"
   ]
  },
  {
   "cell_type": "code",
   "execution_count": null,
   "id": "6d4197bc",
   "metadata": {},
   "outputs": [],
   "source": [
    "K, V = build_V_in_p(state)\n",
    "K_old, V = K.toarray(), V.toarray()\n",
    "\n",
    "U, _ = bz.thermofield_change_of_basis(K_old)\n",
    "\n",
    "K_tilda_old = bz.H_tilde_maker(K_old)\n",
    "\n",
    "V_tensor = V.reshape(state, state, state, state)\n",
    "\n",
    "I = np.eye(state)\n",
    "V_prim = oe.contract('pqrs,mw,nv->pmqnrwsv', V_tensor, I, I,  optimize='optimal')\n",
    "\n",
    "V_grouped = V_prim.reshape(state**2, state**2, state**2, state**2)\n",
    "\n",
    "V_tilda_old = oe.contract('Mi,Wj,ijab,aN,bV->MWNV', U, U, V_grouped, U, U, optimize='optimal')"
   ]
  },
  {
   "cell_type": "code",
   "execution_count": null,
   "id": "3d46f8ae",
   "metadata": {},
   "outputs": [
    {
     "data": {
      "text/plain": [
       "(9, 9)"
      ]
     },
     "execution_count": 53,
     "metadata": {},
     "output_type": "execute_result"
    }
   ],
   "source": [
    "U.shape"
   ]
  },
  {
   "cell_type": "code",
   "execution_count": null,
   "id": "c5882eec",
   "metadata": {},
   "outputs": [],
   "source": [
    "def build_V_prime_in_p(state: int) -> tuple[sp.csr_matrix, sp.csr_matrix]:\n",
    "    \"\"\"\n",
    "    Constructs:\n",
    "    - K: a diagonal kinetic energy operator in the 'p' basis\n",
    "    - V: a sparse potential energy operator directly in the 'p' basis\n",
    "\n",
    "    Avoids constructing in the m basis and transforming later.\n",
    "    \"\"\"\n",
    "\n",
    "    dim_V = state **4\n",
    "\n",
    "    # Construct a diagonal of Kinetic energy matrix in m basis.\n",
    "    m_vals = np.arange(-(state - 1) // 2, (state - 1) // 2 + 1)\n",
    "\n",
    "    # Construct index map m -> p.\n",
    "    perm = np.vectorize(m_to_p)(m_vals)  # Maps m-index → p-index\n",
    "\n",
    "    data_V = []\n",
    "    rows = []\n",
    "    cols = []\n",
    "\n",
    "    def index(p1: int, p2: int) -> int:\n",
    "        return p1 * state**3 + p2 * state\n",
    "\n",
    "    # Loop over (m1, m2) — this preserves physics\n",
    "    for m1 in range(state):\n",
    "        for m2 in range(state):\n",
    "            p1 = perm[m1]\n",
    "            p2 = perm[m2]\n",
    "            i = index(p1, p2)\n",
    "            for dm1, dm2, coef in [\n",
    "                (1, 1, 1.5),\n",
    "                (-1, -1, 1.5),\n",
    "                (1, -1, -0.5),\n",
    "                (-1, 1, -0.5),]:\n",
    "\n",
    "                m1p = m1 + dm1\n",
    "                m2p = m2 + dm2\n",
    "                if 0 <= m1p < state and 0 <= m2p < state:\n",
    "                    p1p = perm[m1p]\n",
    "                    p2p = perm[m2p]\n",
    "                    j = index(p1p, p2p)\n",
    "\n",
    "                    for shift_state in range(0, state):\n",
    "                        for shift_index in range(0, state):\n",
    "                            rows.append(i + shift_index + state**2 * shift_state)\n",
    "                            cols.append(j + shift_index + state**2 * shift_state)\n",
    "                            data_V.append(coef)\n",
    "\n",
    "    V = sp.csr_matrix((data_V, (rows, cols)), shape=(dim_V, dim_V), dtype=np.float64)\n",
    "\n",
    "    # Diagonal kinetic operator in p basis\n",
    "    p = vector_in_p(state)\n",
    "    p_prime = np.array([[i]*state for i in p]).flatten()\n",
    "    K = sp.diags(p_prime**2, offsets=0, format='csr')\n",
    "\n",
    "    return K, V"
   ]
  },
  {
   "cell_type": "code",
   "execution_count": null,
   "id": "9cb4bb33",
   "metadata": {},
   "outputs": [],
   "source": [
    "K, V = build_V_prime_in_p(state)\n",
    "I = np.eye(state)\n",
    "\n",
    "U, _ = bz.thermofield_change_of_basis(I)\n",
    "\n",
    "U_sparse = sp.csr_matrix(U)\n",
    "\n",
    "K_tilda = U_sparse.T @ K @ U_sparse\n",
    "\n",
    "V_tilda = oe.contract('Mi,Wj,ijab,aN,bV->MWNV', U, U, V.toarray().reshape(state**2, state**2, state**2, state**2), U, U, optimize='optimal')"
   ]
  },
  {
   "cell_type": "code",
   "execution_count": null,
   "id": "a1bf4fdc",
   "metadata": {},
   "outputs": [
    {
     "data": {
      "text/plain": [
       "True"
      ]
     },
     "execution_count": 80,
     "metadata": {},
     "output_type": "execute_result"
    }
   ],
   "source": [
    "np.array_equal(K_tilda_old, K_tilda.toarray())"
   ]
  },
  {
   "cell_type": "code",
   "execution_count": null,
   "id": "d32742d8",
   "metadata": {},
   "outputs": [
    {
     "data": {
      "text/plain": [
       "True"
      ]
     },
     "execution_count": 81,
     "metadata": {},
     "output_type": "execute_result"
    }
   ],
   "source": [
    "np.array_equal(V_prim.reshape(state**4, state**4), V.toarray())"
   ]
  },
  {
   "cell_type": "code",
   "execution_count": null,
   "id": "aa1a341f",
   "metadata": {},
   "outputs": [
    {
     "data": {
      "text/plain": [
       "True"
      ]
     },
     "execution_count": 82,
     "metadata": {},
     "output_type": "execute_result"
    }
   ],
   "source": [
    "np.array_equal(V_tilda_old, V_tilda)"
   ]
  },
  {
   "cell_type": "code",
   "execution_count": null,
   "id": "418a3a88",
   "metadata": {},
   "outputs": [
    {
     "name": "stdout",
     "output_type": "stream",
     "text": [
      "\n",
      "Einsum result:\n",
      " [[[[22.15035832 -3.29218103]\n",
      "   [18.50356323  4.97777493]]\n",
      "\n",
      "  [[22.76305421 14.0373807 ]\n",
      "   [24.24031076 27.2889174 ]]]\n",
      "\n",
      "\n",
      " [[[28.58531808  3.80767682]\n",
      "   [21.4779879   7.77583267]]\n",
      "\n",
      "  [[38.04571936  4.77211149]\n",
      "   [21.04993689  1.81086932]]]]\n",
      "\n",
      "Kronecker result:\n",
      " [[20.88998566  2.50917078 24.30491504 11.11354333]\n",
      " [16.37716441 12.2923606  22.49529066 34.03695821]\n",
      " [25.34377535 10.37853398 28.04884506 17.02979526]\n",
      " [35.42055723 16.39264346 32.67046885 14.2289836 ]]\n"
     ]
    }
   ],
   "source": [
    "# Small state size so we can see numbers\n",
    "S = 2\n",
    "\n",
    "# Random U and V4\n",
    "np.random.seed(0)\n",
    "U = np.random.randn(S, S)     # (i->M)\n",
    "V4 = np.random.randn(S, S, S, S)  # (i, j, a, b)\n",
    "\n",
    "# ---- Method 1: einsum ----\n",
    "V4_tilda = np.einsum('Mi,Wj,ijab,aN,bV->MWNV', U, U, V4, U, U)\n",
    "\n",
    "# ---- Method 2: kron sandwich ----\n",
    "# Flatten V4 to (ij, ab) in C-order: i*S + j, a*S + b\n",
    "V_flat = V4.reshape(S*S, S*S, order='C')\n",
    "\n",
    "UU = np.kron(U, U)     # (S*S, S*S)\n",
    "V_flat_tilda = UU @ V_flat @ UU.T\n",
    "V4_tilda_from_kron = V_flat_tilda#.reshape(S, S, S, S, order='C')\n",
    "\n",
    "# ---- Compare ----\n",
    "# print(\"Are they equal?\", np.allclose(V4_tilda, V4_tilda_from_kron))\n",
    "\n",
    "# Show both\n",
    "print(\"\\nEinsum result:\\n\", V4_tilda)\n",
    "print(\"\\nKronecker result:\\n\", V4_tilda_from_kron)"
   ]
  },
  {
   "cell_type": "code",
   "execution_count": null,
   "id": "238dd4a5",
   "metadata": {},
   "outputs": [
    {
     "data": {
      "text/plain": [
       "array([[3.11188068, 0.70589826, 0.70589826, 0.16012579],\n",
       "       [1.72654504, 3.95305291, 0.39164906, 0.89670957],\n",
       "       [1.72654504, 0.39164906, 3.95305291, 0.89670957],\n",
       "       [0.95792804, 2.19324729, 2.19324729, 5.02160233]])"
      ]
     },
     "execution_count": 90,
     "metadata": {},
     "output_type": "execute_result"
    }
   ],
   "source": [
    "UU"
   ]
  },
  {
   "cell_type": "code",
   "execution_count": null,
   "id": "c0f58709",
   "metadata": {},
   "outputs": [
    {
     "data": {
      "text/plain": [
       "array([[1.76405235, 0.40015721],\n",
       "       [0.97873798, 2.2408932 ]])"
      ]
     },
     "execution_count": 91,
     "metadata": {},
     "output_type": "execute_result"
    }
   ],
   "source": [
    "U"
   ]
  },
  {
   "cell_type": "code",
   "execution_count": null,
   "id": "448e79d6",
   "metadata": {},
   "outputs": [
    {
     "data": {
      "text/plain": [
       "3.95305291555902"
      ]
     },
     "execution_count": 93,
     "metadata": {},
     "output_type": "execute_result"
    }
   ],
   "source": [
    "2.2408932*1.76405235"
   ]
  },
  {
   "cell_type": "code",
   "execution_count": null,
   "id": "16018a0e",
   "metadata": {},
   "outputs": [],
   "source": []
  }
 ],
 "metadata": {
  "kernelspec": {
   "display_name": ".venv",
   "language": "python",
   "name": "python3"
  },
  "language_info": {
   "codemirror_mode": {
    "name": "ipython",
    "version": 3
   },
   "file_extension": ".py",
   "mimetype": "text/x-python",
   "name": "python",
   "nbconvert_exporter": "python",
   "pygments_lexer": "ipython3",
   "version": "3.13.4"
  }
 },
 "nbformat": 4,
 "nbformat_minor": 5
}
