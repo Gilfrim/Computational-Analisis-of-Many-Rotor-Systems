{
 "cells": [
  {
   "cell_type": "code",
   "execution_count": 133,
   "id": "6355f888",
   "metadata": {},
   "outputs": [],
   "source": [
    "import numpy as np\n",
    "import quant_rotor.core.hamiltonian as h\n",
    "import quant_rotor.core.hamiltonian_big as hb\n",
    "from itertools import product"
   ]
  },
  {
   "cell_type": "markdown",
   "id": "41a4ecdc",
   "metadata": {},
   "source": [
    "# t_1 amplitutdes. (work)"
   ]
  },
  {
   "cell_type": "code",
   "execution_count": 302,
   "id": "ccc3b99a",
   "metadata": {},
   "outputs": [],
   "source": [
    "sites_old = 3\n",
    "states_old = 11\n",
    "\n",
    "g = 0.1\n",
    "\n",
    "H_K_V = h.hamiltonian(states_old, sites_old, g, clean=True)\n",
    "\n",
    "sites = 3\n",
    "states = 11\n",
    "\n",
    "H_5 =  h.hamiltonian(states, sites, g, H_K_V)\n",
    "\n",
    "eig_val, eig_vec = np.linalg.eig(H_5[0])"
   ]
  },
  {
   "cell_type": "code",
   "execution_count": 317,
   "id": "9d6884d4",
   "metadata": {},
   "outputs": [],
   "source": [
    "num_sites=5\n",
    "num_states=5"
   ]
  },
  {
   "cell_type": "code",
   "execution_count": 318,
   "id": "e030b0df",
   "metadata": {},
   "outputs": [],
   "source": [
    "def generate_quantum_rotor_configurations(num_sites: int, num_states: int) -> np.ndarray:\n",
    "    \"\"\"\n",
    "    Generate all possible configurations for a quantum rotor system.\n",
    "    \n",
    "    Args:\n",
    "        num_sites (int): Number of rotor sites.\n",
    "        num_states (int): Number of discrete states per rotor.\n",
    "                          Typically, this is 2*m_max + 1 for m in [-m_max, ..., m_max].\n",
    "    \n",
    "    Returns:\n",
    "        np.ndarray: Array of shape (num_states ** num_sites, num_sites) containing all configurations.\n",
    "    \"\"\"\n",
    "    return np.array(list(product(range(num_states), repeat=num_sites)))\n",
    "\n",
    "# Example usage:\n",
    "configs = generate_quantum_rotor_configurations(num_sites, num_states)\n",
    "# print(configs)"
   ]
  },
  {
   "cell_type": "code",
   "execution_count": 319,
   "id": "642bcb0e",
   "metadata": {},
   "outputs": [
    {
     "name": "stdout",
     "output_type": "stream",
     "text": [
      "site: 0 state: 1\n",
      "state [0 0 0 0 1]\n",
      "site: 0 state: 2\n",
      "state [0 0 0 0 2]\n",
      "site: 0 state: 3\n",
      "state [0 0 0 0 3]\n",
      "site: 0 state: 4\n",
      "state [0 0 0 0 4]\n",
      "site: 1 state: 1\n",
      "state [0 0 0 1 0]\n",
      "site: 1 state: 2\n",
      "state [0 0 0 2 0]\n",
      "site: 1 state: 3\n",
      "state [0 0 0 3 0]\n",
      "site: 1 state: 4\n",
      "state [0 0 0 4 0]\n",
      "site: 2 state: 1\n",
      "state [0 0 1 0 0]\n",
      "site: 2 state: 2\n",
      "state [0 0 2 0 0]\n",
      "site: 2 state: 3\n",
      "state [0 0 3 0 0]\n",
      "site: 2 state: 4\n",
      "state [0 0 4 0 0]\n",
      "site: 3 state: 1\n",
      "state [0 1 0 0 0]\n",
      "site: 3 state: 2\n",
      "state [0 2 0 0 0]\n",
      "site: 3 state: 3\n",
      "state [0 3 0 0 0]\n",
      "site: 3 state: 4\n",
      "state [0 4 0 0 0]\n",
      "site: 4 state: 1\n",
      "state [1 0 0 0 0]\n",
      "site: 4 state: 2\n",
      "state [2 0 0 0 0]\n",
      "site: 4 state: 3\n",
      "state [3 0 0 0 0]\n",
      "site: 4 state: 4\n",
      "state [4 0 0 0 0]\n"
     ]
    }
   ],
   "source": [
    "for site in range(num_sites):\n",
    "    for state in range(1,num_states):\n",
    "\n",
    "        print(\"site:\", site, \"state:\", state)\n",
    "\n",
    "        index = state*num_states**site\n",
    "        print(\"state\", configs[index])"
   ]
  },
  {
   "cell_type": "code",
   "execution_count": 320,
   "id": "edb5bc04",
   "metadata": {},
   "outputs": [
    {
     "name": "stdout",
     "output_type": "stream",
     "text": [
      "state [0 0 0 1 1]\n",
      "state [0 0 0 2 1]\n",
      "state [0 0 0 3 1]\n",
      "state [0 0 0 4 1]\n",
      "state [0 0 1 0 1]\n",
      "state [0 0 2 0 1]\n",
      "state [0 0 3 0 1]\n",
      "state [0 0 4 0 1]\n",
      "state [0 1 0 0 1]\n",
      "state [0 2 0 0 1]\n",
      "state [0 3 0 0 1]\n",
      "state [0 4 0 0 1]\n",
      "state [1 0 0 0 1]\n",
      "state [2 0 0 0 1]\n",
      "state [3 0 0 0 1]\n",
      "state [4 0 0 0 1]\n",
      "state [0 0 0 1 2]\n",
      "state [0 0 0 2 2]\n",
      "state [0 0 0 3 2]\n",
      "state [0 0 0 4 2]\n",
      "state [0 0 1 0 2]\n",
      "state [0 0 2 0 2]\n",
      "state [0 0 3 0 2]\n",
      "state [0 0 4 0 2]\n",
      "state [0 1 0 0 2]\n",
      "state [0 2 0 0 2]\n",
      "state [0 3 0 0 2]\n",
      "state [0 4 0 0 2]\n",
      "state [1 0 0 0 2]\n",
      "state [2 0 0 0 2]\n",
      "state [3 0 0 0 2]\n",
      "state [4 0 0 0 2]\n",
      "state [0 0 0 1 3]\n",
      "state [0 0 0 2 3]\n",
      "state [0 0 0 3 3]\n",
      "state [0 0 0 4 3]\n",
      "state [0 0 1 0 3]\n",
      "state [0 0 2 0 3]\n",
      "state [0 0 3 0 3]\n",
      "state [0 0 4 0 3]\n",
      "state [0 1 0 0 3]\n",
      "state [0 2 0 0 3]\n",
      "state [0 3 0 0 3]\n",
      "state [0 4 0 0 3]\n",
      "state [1 0 0 0 3]\n",
      "state [2 0 0 0 3]\n",
      "state [3 0 0 0 3]\n",
      "state [4 0 0 0 3]\n",
      "state [0 0 0 1 4]\n",
      "state [0 0 0 2 4]\n",
      "state [0 0 0 3 4]\n",
      "state [0 0 0 4 4]\n",
      "state [0 0 1 0 4]\n",
      "state [0 0 2 0 4]\n",
      "state [0 0 3 0 4]\n",
      "state [0 0 4 0 4]\n",
      "state [0 1 0 0 4]\n",
      "state [0 2 0 0 4]\n",
      "state [0 3 0 0 4]\n",
      "state [0 4 0 0 4]\n",
      "state [1 0 0 0 4]\n",
      "state [2 0 0 0 4]\n",
      "state [3 0 0 0 4]\n",
      "state [4 0 0 0 4]\n",
      "state [0 0 1 1 0]\n",
      "state [0 0 2 1 0]\n",
      "state [0 0 3 1 0]\n",
      "state [0 0 4 1 0]\n",
      "state [0 1 0 1 0]\n",
      "state [0 2 0 1 0]\n",
      "state [0 3 0 1 0]\n",
      "state [0 4 0 1 0]\n",
      "state [1 0 0 1 0]\n",
      "state [2 0 0 1 0]\n",
      "state [3 0 0 1 0]\n",
      "state [4 0 0 1 0]\n",
      "state [0 0 1 2 0]\n",
      "state [0 0 2 2 0]\n",
      "state [0 0 3 2 0]\n",
      "state [0 0 4 2 0]\n",
      "state [0 1 0 2 0]\n",
      "state [0 2 0 2 0]\n",
      "state [0 3 0 2 0]\n",
      "state [0 4 0 2 0]\n",
      "state [1 0 0 2 0]\n",
      "state [2 0 0 2 0]\n",
      "state [3 0 0 2 0]\n",
      "state [4 0 0 2 0]\n",
      "state [0 0 1 3 0]\n",
      "state [0 0 2 3 0]\n",
      "state [0 0 3 3 0]\n",
      "state [0 0 4 3 0]\n",
      "state [0 1 0 3 0]\n",
      "state [0 2 0 3 0]\n",
      "state [0 3 0 3 0]\n",
      "state [0 4 0 3 0]\n",
      "state [1 0 0 3 0]\n",
      "state [2 0 0 3 0]\n",
      "state [3 0 0 3 0]\n",
      "state [4 0 0 3 0]\n",
      "state [0 0 1 4 0]\n",
      "state [0 0 2 4 0]\n",
      "state [0 0 3 4 0]\n",
      "state [0 0 4 4 0]\n",
      "state [0 1 0 4 0]\n",
      "state [0 2 0 4 0]\n",
      "state [0 3 0 4 0]\n",
      "state [0 4 0 4 0]\n",
      "state [1 0 0 4 0]\n",
      "state [2 0 0 4 0]\n",
      "state [3 0 0 4 0]\n",
      "state [4 0 0 4 0]\n",
      "state [0 1 1 0 0]\n",
      "state [0 2 1 0 0]\n",
      "state [0 3 1 0 0]\n",
      "state [0 4 1 0 0]\n",
      "state [1 0 1 0 0]\n",
      "state [2 0 1 0 0]\n",
      "state [3 0 1 0 0]\n",
      "state [4 0 1 0 0]\n",
      "state [0 1 2 0 0]\n",
      "state [0 2 2 0 0]\n",
      "state [0 3 2 0 0]\n",
      "state [0 4 2 0 0]\n",
      "state [1 0 2 0 0]\n",
      "state [2 0 2 0 0]\n",
      "state [3 0 2 0 0]\n",
      "state [4 0 2 0 0]\n",
      "state [0 1 3 0 0]\n",
      "state [0 2 3 0 0]\n",
      "state [0 3 3 0 0]\n",
      "state [0 4 3 0 0]\n",
      "state [1 0 3 0 0]\n",
      "state [2 0 3 0 0]\n",
      "state [3 0 3 0 0]\n",
      "state [4 0 3 0 0]\n",
      "state [0 1 4 0 0]\n",
      "state [0 2 4 0 0]\n",
      "state [0 3 4 0 0]\n",
      "state [0 4 4 0 0]\n",
      "state [1 0 4 0 0]\n",
      "state [2 0 4 0 0]\n",
      "state [3 0 4 0 0]\n",
      "state [4 0 4 0 0]\n",
      "state [1 1 0 0 0]\n",
      "state [2 1 0 0 0]\n",
      "state [3 1 0 0 0]\n",
      "state [4 1 0 0 0]\n",
      "state [1 2 0 0 0]\n",
      "state [2 2 0 0 0]\n",
      "state [3 2 0 0 0]\n",
      "state [4 2 0 0 0]\n",
      "state [1 3 0 0 0]\n",
      "state [2 3 0 0 0]\n",
      "state [3 3 0 0 0]\n",
      "state [4 3 0 0 0]\n",
      "state [1 4 0 0 0]\n",
      "state [2 4 0 0 0]\n",
      "state [3 4 0 0 0]\n",
      "state [4 4 0 0 0]\n"
     ]
    }
   ],
   "source": [
    "for i in range(num_sites):\n",
    "    for j in range(1,num_states):\n",
    "        for x in range(num_sites):\n",
    "            for y in range(1,num_states):\n",
    "\n",
    "                if i < x:\n",
    "                    index = j*num_states**i + y*num_states**x\n",
    "                    print(\"state\", configs[index])"
   ]
  },
  {
   "cell_type": "code",
   "execution_count": 275,
   "id": "c12ff389",
   "metadata": {},
   "outputs": [],
   "source": [
    "def intermediate_normalisation(eig_val: np.ndarray, eig_vec: np.ndarray)->np.ndarray:\n",
    "\n",
    "    min_index = np.argmin(eig_val)\n",
    "\n",
    "    reference_ground_state = eig_vec[:, min_index]\n",
    "\n",
    "    d = reference_ground_state / reference_ground_state[0]\n",
    "\n",
    "    return d\n",
    "\n",
    "def t_1_amplitutde(site_a: int, state_a: int, states: int, d: np.ndarray)-> int:\n",
    "    index = state_a*states**site_a\n",
    "    return d[index]\n",
    "\n",
    "def t_2_amplitutde(site_a: int, state_a: int, site_b: int, state_b: int, states: int, d: np.ndarray)-> int:\n",
    "    t_1_a = t_1_amplitutde(site_a, state_a, states, d)\n",
    "    t_1_b = t_1_amplitutde(site_b, state_b, states, d)\n",
    "\n",
    "    C_ab = d[state_a*states**site_a + state_b*states**site_b]\n",
    "\n",
    "    t_2_ab = C_ab - t_1_a*t_1_b\n",
    "\n",
    "    return t_2_ab, C_ab"
   ]
  },
  {
   "cell_type": "code",
   "execution_count": 304,
   "id": "da0a070b",
   "metadata": {},
   "outputs": [
    {
     "name": "stdout",
     "output_type": "stream",
     "text": [
      "(-5.425056681426581e-18+0j)\n",
      "(-0.0394014771952756+0j)\n"
     ]
    }
   ],
   "source": [
    "d = intermediate_normalisation(eig_val, eig_vec)\n",
    "site_a = 0\n",
    "state_a = 1\n",
    "site_b = 1\n",
    "state_b = 1\n",
    "t_1_a = t_1_amplitutde(site_b, state_b, states, d)\n",
    "t_2_ab = t_2_amplitutde(site_a, state_a, site_b, state_b, states, d)\n",
    "print(t_1_a)\n",
    "print(t_2_ab[0])"
   ]
  },
  {
   "cell_type": "code",
   "execution_count": 277,
   "id": "adb31d0e",
   "metadata": {},
   "outputs": [
    {
     "name": "stdout",
     "output_type": "stream",
     "text": [
      "(-1.6540065711986537e-16+0j)\n",
      "(-0.03926454595099672+0j)\n"
     ]
    }
   ],
   "source": [
    "site_c = 2\n",
    "state_c = 1\n",
    "site_d = 0\n",
    "state_d = 1\n",
    "t_1_c = t_1_amplitutde(site_c, state_c, states, d)\n",
    "t_2_cd = t_2_amplitutde(site_c, state_c, site_d, state_d, states, d)\n",
    "\n",
    "print(t_1_c)\n",
    "print(t_2_cd[0])"
   ]
  },
  {
   "cell_type": "markdown",
   "id": "98c63ff6",
   "metadata": {},
   "source": [
    "# t_amplitudes. (final)"
   ]
  },
  {
   "cell_type": "code",
   "execution_count": null,
   "id": "f749afd3",
   "metadata": {},
   "outputs": [],
   "source": [
    "def intermediate_normalisation(eig_val: np.ndarray, eig_vec: np.ndarray)->np.ndarray:\n",
    "\n",
    "    min_index = np.argmin(eig_val)\n",
    "\n",
    "    reference_ground_state = eig_vec[:, min_index]\n",
    "\n",
    "    d = reference_ground_state / reference_ground_state[0]\n",
    "\n",
    "    return d\n",
    "\n",
    "def t_1_amplitutde(site_a: int, state_a: int, states: int, d: np.ndarray)-> int:\n",
    "    index = state_a*states**site_a\n",
    "    return d[index]\n",
    "\n",
    "def t_2_amplitutde(site_a: int, state_a: int, site_b: int, state_b: int, states: int, d: np.ndarray)-> int:\n",
    "    t_1_a = t_1_amplitutde(site_a, state_a, states, d)\n",
    "    t_1_b = t_1_amplitutde(site_b, state_b, states, d)\n",
    "\n",
    "    C_ab = d[state_a*states**site_a + state_b*states**site_b]\n",
    "\n",
    "    t_2_ab = C_ab - t_1_a*t_1_b\n",
    "\n",
    "    return t_2_ab, C_ab"
   ]
  },
  {
   "cell_type": "markdown",
   "id": "b7f2cada",
   "metadata": {},
   "source": [
    "# t_amplitudes energy. (work)"
   ]
  },
  {
   "cell_type": "code",
   "execution_count": 327,
   "id": "32a1946a",
   "metadata": {},
   "outputs": [],
   "source": [
    "def amplitute_energy(sites: int, states: int, g: float, d: np.ndarray):\n",
    "\n",
    "    K, V = h.write_matrix_elements((states-1) // 2)\n",
    "\n",
    "    V = V + V.T - np.diag(np.diag(V))\n",
    "    V = V.reshape(states,states,states,states)\n",
    "    V *= g \n",
    "\n",
    "    K = h.basis_m_to_p_matrix_conversion(K)\n",
    "    V = h.basis_m_to_p_matrix_conversion(V)\n",
    "\n",
    "    E_0 = K[0,0]*sites + np.einsum(\"ijij->\", V) * states**sites\n",
    "\n",
    "    sum_t_1 = 0\n",
    "    sum_t_2 = 0\n",
    "\n",
    "    for site_a in range(sites):\n",
    "        for state_a in range(1, states):\n",
    "\n",
    "            t1 = t_1_amplitutde(site_a, state_a, states, d)\n",
    "            sum_t_1 += K[state_a, 0] * t1\n",
    "\n",
    "            for site_b in range(site_a + 1, sites):\n",
    "                for state_b in range(1, states):\n",
    "                    \n",
    "                    C2 = t_2_amplitutde(site_a, state_a, site_b, state_b, states, d)[1]\n",
    "                    sum_t_2 += V[state_a, state_b, 0, 0] * C2\n",
    "\n",
    "    print(E_0)\n",
    "    print(sum_t_1)\n",
    "    print(sum_t_2)\n",
    "\n",
    "    return E_0 + sum_t_1 + sum_t_2\n",
    "        "
   ]
  },
  {
   "cell_type": "code",
   "execution_count": 328,
   "id": "290d092a",
   "metadata": {},
   "outputs": [
    {
     "name": "stdout",
     "output_type": "stream",
     "text": [
      "0.0\n",
      "0j\n",
      "(-0.020101729050886804+0j)\n"
     ]
    },
    {
     "data": {
      "text/plain": [
       "(-0.020101729050886804+0j)"
      ]
     },
     "execution_count": 328,
     "metadata": {},
     "output_type": "execute_result"
    }
   ],
   "source": [
    "amplitute_energy(sites, states, g, d)"
   ]
  },
  {
   "cell_type": "code",
   "execution_count": 326,
   "id": "767c81d5",
   "metadata": {},
   "outputs": [
    {
     "data": {
      "text/plain": [
       "(-0.02010172905076164+0j)"
      ]
     },
     "execution_count": 326,
     "metadata": {},
     "output_type": "execute_result"
    }
   ],
   "source": [
    "min_index = np.argmin(eig_val)\n",
    "eig_val[min_index]"
   ]
  },
  {
   "cell_type": "markdown",
   "id": "9ff90dae",
   "metadata": {},
   "source": [
    "# t_amplitudes energy. (final)"
   ]
  },
  {
   "cell_type": "code",
   "execution_count": 331,
   "id": "ffb6a0ab",
   "metadata": {},
   "outputs": [],
   "source": [
    "def amplitute_energy(sites: int, states: int, g: float, d: np.ndarray):\n",
    "\n",
    "    K, V = h.write_matrix_elements((states-1) // 2)\n",
    "\n",
    "    V = V + V.T - np.diag(np.diag(V))\n",
    "    V = V.reshape(states,states,states,states)\n",
    "    V *= g \n",
    "\n",
    "    K = h.basis_m_to_p_matrix_conversion(K)\n",
    "    V = h.basis_m_to_p_matrix_conversion(V)\n",
    "\n",
    "    E_0 = K[0,0]*sites + np.einsum(\"ijij->\", V) * states**sites\n",
    "\n",
    "    sum_t_1 = 0\n",
    "    sum_t_2 = 0\n",
    "\n",
    "    for site_a in range(sites):\n",
    "        for state_a in range(1, states):\n",
    "\n",
    "            t1 = t_1_amplitutde(site_a, state_a, states, d)\n",
    "            sum_t_1 += K[state_a, 0] * t1\n",
    "\n",
    "            for site_b in range(site_a + 1, sites):\n",
    "                for state_b in range(1, states):\n",
    "                    \n",
    "                    C2 = t_2_amplitutde(site_a, state_a, site_b, state_b, states, d)[1]\n",
    "                    sum_t_2 += V[state_a, state_b, 0, 0] * C2\n",
    "\n",
    "    print(E_0)\n",
    "    print(sum_t_1)\n",
    "    print(sum_t_2)\n",
    "\n",
    "    return E_0 + sum_t_1 + sum_t_2\n",
    "        "
   ]
  }
 ],
 "metadata": {
  "kernelspec": {
   "display_name": "3.12",
   "language": "python",
   "name": "python3"
  },
  "language_info": {
   "codemirror_mode": {
    "name": "ipython",
    "version": 3
   },
   "file_extension": ".py",
   "mimetype": "text/x-python",
   "name": "python",
   "nbconvert_exporter": "python",
   "pygments_lexer": "ipython3",
   "version": "3.12.2"
  }
 },
 "nbformat": 4,
 "nbformat_minor": 5
}
